{
  "nbformat": 4,
  "nbformat_minor": 0,
  "metadata": {
    "colab": {
      "name": "python101.ipynb",
      "provenance": [],
      "authorship_tag": "ABX9TyMIRUgmZyg6eWq84zW6y4ia",
      "include_colab_link": true
    },
    "kernelspec": {
      "name": "python3",
      "display_name": "Python 3"
    }
  },
  "cells": [
    {
      "cell_type": "markdown",
      "metadata": {
        "id": "view-in-github",
        "colab_type": "text"
      },
      "source": [
        "<a href=\"https://colab.research.google.com/github/proditor002/Multivariate/blob/main/python101.ipynb\" target=\"_parent\"><img src=\"https://colab.research.google.com/assets/colab-badge.svg\" alt=\"Open In Colab\"/></a>"
      ]
    },
    {
      "cell_type": "markdown",
      "metadata": {
        "id": "3UTTSUOZLi_S"
      },
      "source": [
        "ตัวแปร Variable"
      ]
    },
    {
      "cell_type": "markdown",
      "metadata": {
        "id": "I0CInSZ1L-pe"
      },
      "source": [
        "หลักการตั้งชื่อตัวแปรเบื้องต้น\r\n",
        "1.   ตั้งให้สื่อ\r\n",
        "2.   ภาษาอังกฤษ\r\n",
        "3.  ใช้ตัวเลขได้แต่ห้ามขึ้นต้นด้วยตัวเลข\r\n",
        "4.  ห้ามเว้นวรรค"
      ]
    },
    {
      "cell_type": "markdown",
      "metadata": {
        "id": "ZZyE0VeXMqiA"
      },
      "source": [
        "มี output 2 mode : ออกหน้าจอ กับ เข้าไปเก็บในตัวแปร"
      ]
    },
    {
      "cell_type": "code",
      "metadata": {
        "colab": {
          "base_uri": "https://localhost:8080/"
        },
        "id": "6dqEPH0JLpQw",
        "outputId": "08ea0b8d-5262-4fb5-df4d-255ac0dbdbc2"
      },
      "source": [
        "3.14159     # hashtag หรือ sharp คือการ comment >> จะแสดงผล output ที่หน้าจอ  (เอาไว้โน๊ตเผื่อลืมไรงี้ จบ ปิ้งง !!!)"
      ],
      "execution_count": 8,
      "outputs": [
        {
          "output_type": "execute_result",
          "data": {
            "text/plain": [
              "3.14159"
            ]
          },
          "metadata": {
            "tags": []
          },
          "execution_count": 8
        }
      ]
    },
    {
      "cell_type": "code",
      "metadata": {
        "colab": {
          "base_uri": "https://localhost:8080/"
        },
        "id": "-OY5wQ-dM1Oi",
        "outputId": "10f355dc-05c1-4dfd-b6bb-c82b13c23689"
      },
      "source": [
        "Pi = 3.14159"
      ],
      "execution_count": 4,
      "outputs": [
        {
          "output_type": "execute_result",
          "data": {
            "text/plain": [
              "0.0"
            ]
          },
          "metadata": {
            "tags": []
          },
          "execution_count": 4
        }
      ]
    },
    {
      "cell_type": "code",
      "metadata": {
        "colab": {
          "base_uri": "https://localhost:8080/"
        },
        "id": "BJYw68AMM5gQ",
        "outputId": "cad27412-d014-401e-9915-946f4ce9584d"
      },
      "source": [
        "Pi"
      ],
      "execution_count": 7,
      "outputs": [
        {
          "output_type": "execute_result",
          "data": {
            "text/plain": [
              "3.14159"
            ]
          },
          "metadata": {
            "tags": []
          },
          "execution_count": 7
        }
      ]
    },
    {
      "cell_type": "code",
      "metadata": {
        "colab": {
          "base_uri": "https://localhost:8080/"
        },
        "id": "_KXdMa3xM9sg",
        "outputId": "88ca6e85-5ee6-49e5-e44f-1262ccb47fea"
      },
      "source": [
        "a = 1234567\r\n",
        "print (a)"
      ],
      "execution_count": 9,
      "outputs": [
        {
          "output_type": "stream",
          "text": [
            "1234567\n"
          ],
          "name": "stdout"
        }
      ]
    },
    {
      "cell_type": "markdown",
      "metadata": {
        "id": "KNN_4HF9NnNT"
      },
      "source": [
        "##ชนิดของตัวแปรที่เห็นบ่อยๆ มี 3 ชนิด \r\n"
      ]
    },
    {
      "cell_type": "markdown",
      "metadata": {
        "id": "vb-fzCS-OqS6"
      },
      "source": [
        "##จำนวนเต็ม (integer หรือ int)"
      ]
    },
    {
      "cell_type": "code",
      "metadata": {
        "colab": {
          "base_uri": "https://localhost:8080/"
        },
        "id": "9jJJ7xdWOx1J",
        "outputId": "811aa03a-062a-4009-bcd4-ae2a32b05cb8"
      },
      "source": [
        "aaa = 1092\r\n",
        "print (aaa)"
      ],
      "execution_count": 10,
      "outputs": [
        {
          "output_type": "stream",
          "text": [
            "1092\n"
          ],
          "name": "stdout"
        }
      ]
    },
    {
      "cell_type": "markdown",
      "metadata": {
        "id": "kyOtneHGO5OK"
      },
      "source": [
        "##จำนวนจริง (Float)"
      ]
    },
    {
      "cell_type": "code",
      "metadata": {
        "colab": {
          "base_uri": "https://localhost:8080/"
        },
        "id": "LPbyNX4GNRdH",
        "outputId": "89707a8f-2c9d-465f-8abb-ccb44697ca36"
      },
      "source": [
        "bbb = 11.\r\n",
        "print(bbb)"
      ],
      "execution_count": 16,
      "outputs": [
        {
          "output_type": "stream",
          "text": [
            "11.0\n"
          ],
          "name": "stdout"
        }
      ]
    },
    {
      "cell_type": "markdown",
      "metadata": {
        "id": "GNL63p94POJb"
      },
      "source": [
        "##ตัวอักษร-ข้อความ (Character , text , string)"
      ]
    },
    {
      "cell_type": "code",
      "metadata": {
        "colab": {
          "base_uri": "https://localhost:8080/"
        },
        "id": "UgiC0stCPED4",
        "outputId": "8a205c9b-d7e5-441b-9903-35415044a097"
      },
      "source": [
        "ccc = '123456' ##จะใช้ single quolr  ' หรือ double quolr ' ' ล้อมรอบข้อความหรือตัวหนังสือเพื่อระบุว่าเป็น Character , text , string (จะไม่สามารถเอาไปคำนวนได้ เพราะมันคือตัวหนังสือ)\r\n",
        "print(ccc)"
      ],
      "execution_count": 14,
      "outputs": [
        {
          "output_type": "stream",
          "text": [
            "123456\n"
          ],
          "name": "stdout"
        }
      ]
    },
    {
      "cell_type": "markdown",
      "metadata": {
        "id": "Ysue_kySQL5T"
      },
      "source": [
        "ตัวอย่าง\r\n"
      ]
    },
    {
      "cell_type": "code",
      "metadata": {
        "colab": {
          "base_uri": "https://localhost:8080/"
        },
        "id": "fl5o2JOxP3uo",
        "outputId": "1ce17b47-a08e-421f-9991-dd983f0a9ca8"
      },
      "source": [
        "aaa+bbb #float + int = float น่ะ"
      ],
      "execution_count": 21,
      "outputs": [
        {
          "output_type": "execute_result",
          "data": {
            "text/plain": [
              "1103.0"
            ]
          },
          "metadata": {
            "tags": []
          },
          "execution_count": 21
        }
      ]
    },
    {
      "cell_type": "code",
      "metadata": {
        "colab": {
          "base_uri": "https://localhost:8080/",
          "height": 188
        },
        "id": "pr6LEualQB9w",
        "outputId": "a2c21e28-58d9-415a-f214-7473e020b7ca"
      },
      "source": [
        "bbb + ccc ## อันนี้คือตัวอย่าง error จารย์บอกไม่ต้องสนใจ แต่ถ้าเขียนโค้ดอยู่แล้ว error ก็เอาไปเสริชในgoogle เพื่อหาว่ามันคือไร เวลาอ่าน error ให้อ่านบรรทัดสุดท้าย"
      ],
      "execution_count": 28,
      "outputs": [
        {
          "output_type": "error",
          "ename": "TypeError",
          "evalue": "ignored",
          "traceback": [
            "\u001b[0;31m---------------------------------------------------------------------------\u001b[0m",
            "\u001b[0;31mTypeError\u001b[0m                                 Traceback (most recent call last)",
            "\u001b[0;32m<ipython-input-28-dbe5adf48022>\u001b[0m in \u001b[0;36m<module>\u001b[0;34m()\u001b[0m\n\u001b[0;32m----> 1\u001b[0;31m \u001b[0mbbb\u001b[0m \u001b[0;34m+\u001b[0m \u001b[0mccc\u001b[0m \u001b[0;31m## อันนี้คือตัวอย่าง error จารย์บอกไม่ต้องสนใจ แต่ถ้าเขียนโค้ดอยู่แล้ว error ก็เอาไปเสริชในgoogle เพื่อหาว่ามันคือไร เวลาอ่าน error ให้อ่านบรรทัดสุดท้าย\u001b[0m\u001b[0;34m\u001b[0m\u001b[0;34m\u001b[0m\u001b[0m\n\u001b[0m",
            "\u001b[0;31mTypeError\u001b[0m: unsupported operand type(s) for +: 'float' and 'str'"
          ]
        }
      ]
    },
    {
      "cell_type": "code",
      "metadata": {
        "colab": {
          "base_uri": "https://localhost:8080/"
        },
        "id": "QcSIEnSeQJtg",
        "outputId": "1cb68e43-40f9-42ba-8918-3a1aa528e38e"
      },
      "source": [
        "ddd = 'อยากกินจอลลี่แบร์จังเลย'\r\n",
        "print(ddd)"
      ],
      "execution_count": 22,
      "outputs": [
        {
          "output_type": "stream",
          "text": [
            "อยากกินจอลลี่แบร์จังเลย\n"
          ],
          "name": "stdout"
        }
      ]
    },
    {
      "cell_type": "markdown",
      "metadata": {
        "id": "Lxl5gET0QygV"
      },
      "source": [
        "### การเปลี่ยนชนิดของตัวแปร (Variable casting)สามารถทำได้โดย"
      ]
    },
    {
      "cell_type": "code",
      "metadata": {
        "colab": {
          "base_uri": "https://localhost:8080/"
        },
        "id": "-qlcj-8zQxQQ",
        "outputId": "f3efbf7f-0105-4155-a043-7fe88a39666c"
      },
      "source": [
        "bbb + int(ccc)  ###  ก็คือใส่ int"
      ],
      "execution_count": 23,
      "outputs": [
        {
          "output_type": "execute_result",
          "data": {
            "text/plain": [
              "123467.0"
            ]
          },
          "metadata": {
            "tags": []
          },
          "execution_count": 23
        }
      ]
    },
    {
      "cell_type": "code",
      "metadata": {
        "colab": {
          "base_uri": "https://localhost:8080/"
        },
        "id": "3gwP8V_2RlFw",
        "outputId": "bfdedf3e-f05c-4d3b-be20-c55ad02f7cff"
      },
      "source": [
        "aaa + float(ccc) ### ใส่ float"
      ],
      "execution_count": 24,
      "outputs": [
        {
          "output_type": "execute_result",
          "data": {
            "text/plain": [
              "124548.0"
            ]
          },
          "metadata": {
            "tags": []
          },
          "execution_count": 24
        }
      ]
    },
    {
      "cell_type": "code",
      "metadata": {
        "colab": {
          "base_uri": "https://localhost:8080/",
          "height": 35
        },
        "id": "fgfiwHmMRo2A",
        "outputId": "a0d7aed6-02ad-444b-f3c6-45a38461ff4a"
      },
      "source": [
        "str(aaa) ### ใส่ str คือ string นาจาาา"
      ],
      "execution_count": 26,
      "outputs": [
        {
          "output_type": "execute_result",
          "data": {
            "application/vnd.google.colaboratory.intrinsic+json": {
              "type": "string"
            },
            "text/plain": [
              "'1092'"
            ]
          },
          "metadata": {
            "tags": []
          },
          "execution_count": 26
        }
      ]
    },
    {
      "cell_type": "markdown",
      "metadata": {
        "id": "EYE-0njQSJRN"
      },
      "source": [
        "###การดำเนินการ Operation ( Operators +  -  *  /  %)"
      ]
    },
    {
      "cell_type": "code",
      "metadata": {
        "colab": {
          "base_uri": "https://localhost:8080/",
          "height": 170
        },
        "id": "CA7ETrXzRydv",
        "outputId": "7b0432e4-1305-4ca5-9948-8a81eb5f6b67"
      },
      "source": [
        "a+b ## เวลาอ่าน error อ่านบรรทัด สุดท้าย เช่น NameError: name 'b' is not defined"
      ],
      "execution_count": 31,
      "outputs": [
        {
          "output_type": "error",
          "ename": "NameError",
          "evalue": "ignored",
          "traceback": [
            "\u001b[0;31m---------------------------------------------------------------------------\u001b[0m",
            "\u001b[0;31mNameError\u001b[0m                                 Traceback (most recent call last)",
            "\u001b[0;32m<ipython-input-31-37f69f2f64ca>\u001b[0m in \u001b[0;36m<module>\u001b[0;34m()\u001b[0m\n\u001b[0;32m----> 1\u001b[0;31m \u001b[0ma\u001b[0m\u001b[0;34m+\u001b[0m\u001b[0mb\u001b[0m \u001b[0;31m## เวลาอ่าน error อ่านบรรทัด สุดท้าย เช่น NameError: name 'b' is not defined\u001b[0m\u001b[0;34m\u001b[0m\u001b[0;34m\u001b[0m\u001b[0m\n\u001b[0m",
            "\u001b[0;31mNameError\u001b[0m: name 'b' is not defined"
          ]
        }
      ]
    },
    {
      "cell_type": "code",
      "metadata": {
        "colab": {
          "base_uri": "https://localhost:8080/"
        },
        "id": "Zizn8lHfSbKO",
        "outputId": "10fce31f-59ad-4cdd-822d-54f691c025fe"
      },
      "source": [
        "aaa + bbb"
      ],
      "execution_count": 29,
      "outputs": [
        {
          "output_type": "execute_result",
          "data": {
            "text/plain": [
              "1103.0"
            ]
          },
          "metadata": {
            "tags": []
          },
          "execution_count": 29
        }
      ]
    },
    {
      "cell_type": "code",
      "metadata": {
        "colab": {
          "base_uri": "https://localhost:8080/"
        },
        "id": "_U8-xzqfSxNQ",
        "outputId": "5ba6056e-692e-493b-942c-c5ed396aff03"
      },
      "source": [
        "aaa - bbb"
      ],
      "execution_count": 30,
      "outputs": [
        {
          "output_type": "execute_result",
          "data": {
            "text/plain": [
              "1081.0"
            ]
          },
          "metadata": {
            "tags": []
          },
          "execution_count": 30
        }
      ]
    },
    {
      "cell_type": "code",
      "metadata": {
        "colab": {
          "base_uri": "https://localhost:8080/"
        },
        "id": "Cl3kQED9SyS_",
        "outputId": "338ee08c-a5af-46ab-eedd-6c7abde2acd4"
      },
      "source": [
        "ab = aaa*bbb\r\n",
        "print(ab)"
      ],
      "execution_count": 34,
      "outputs": [
        {
          "output_type": "stream",
          "text": [
            "12012.0\n"
          ],
          "name": "stdout"
        }
      ]
    },
    {
      "cell_type": "code",
      "metadata": {
        "colab": {
          "base_uri": "https://localhost:8080/"
        },
        "id": "E0AGqUSbS-2X",
        "outputId": "df035e00-4dd4-48f0-a7a3-18b22060b5bf"
      },
      "source": [
        "ab + int(ccc)"
      ],
      "execution_count": 35,
      "outputs": [
        {
          "output_type": "execute_result",
          "data": {
            "text/plain": [
              "135468.0"
            ]
          },
          "metadata": {
            "tags": []
          },
          "execution_count": 35
        }
      ]
    },
    {
      "cell_type": "markdown",
      "metadata": {
        "id": "ifvx9kaVTLEB"
      },
      "source": [
        "% คือ Modulo ## มันคือการหารเอาเศษ"
      ]
    },
    {
      "cell_type": "code",
      "metadata": {
        "colab": {
          "base_uri": "https://localhost:8080/"
        },
        "id": "64u36HgjTKDn",
        "outputId": "8591db95-4efd-4cae-b340-7f30f18bfa93"
      },
      "source": [
        "5%3"
      ],
      "execution_count": 36,
      "outputs": [
        {
          "output_type": "execute_result",
          "data": {
            "text/plain": [
              "2"
            ]
          },
          "metadata": {
            "tags": []
          },
          "execution_count": 36
        }
      ]
    },
    {
      "cell_type": "code",
      "metadata": {
        "colab": {
          "base_uri": "https://localhost:8080/"
        },
        "id": "_rXl1Kg1TnWo",
        "outputId": "ea9bf63b-ff6c-4cae-b1c0-0dd2e1fea371"
      },
      "source": [
        "7%3"
      ],
      "execution_count": 37,
      "outputs": [
        {
          "output_type": "execute_result",
          "data": {
            "text/plain": [
              "1"
            ]
          },
          "metadata": {
            "tags": []
          },
          "execution_count": 37
        }
      ]
    },
    {
      "cell_type": "markdown",
      "metadata": {
        "id": "XKmGhTUfTpnA"
      },
      "source": [
        "###คำสั่ง print แบบพิเศษ (การ format string)"
      ]
    },
    {
      "cell_type": "code",
      "metadata": {
        "colab": {
          "base_uri": "https://localhost:8080/"
        },
        "id": "cHFQqiDZToZv",
        "outputId": "a4035860-3472-4119-ce7c-086a9cd4592d"
      },
      "source": [
        "print('ตัวแปร') #สิ่งที่อยู่ในวงเล็ปคือตัวแปร หรือ string"
      ],
      "execution_count": 38,
      "outputs": [
        {
          "output_type": "stream",
          "text": [
            "ตัวแปร\n"
          ],
          "name": "stdout"
        }
      ]
    },
    {
      "cell_type": "code",
      "metadata": {
        "colab": {
          "base_uri": "https://localhost:8080/",
          "height": 134
        },
        "id": "AtR2Q523UUM3",
        "outputId": "9da65717-b9ba-483f-bd7b-1d5b7641af4b"
      },
      "source": [
        "print(f '% คือการการเอาเศษ เช่น 7%3 = {7%3} ') # เพิ่ม f หน้า string และ ใช้ {} ใส่ code"
      ],
      "execution_count": 40,
      "outputs": [
        {
          "output_type": "error",
          "ename": "SyntaxError",
          "evalue": "ignored",
          "traceback": [
            "\u001b[0;36m  File \u001b[0;32m\"<ipython-input-40-e28c703d9314>\"\u001b[0;36m, line \u001b[0;32m1\u001b[0m\n\u001b[0;31m    print(f '% คือการการเอาเศษ เช่น 7%3 = {7%3} ') # เพิ่ม f หน้า string และ ใช้ {} ใส่ code\u001b[0m\n\u001b[0m                                                ^\u001b[0m\n\u001b[0;31mSyntaxError\u001b[0m\u001b[0;31m:\u001b[0m invalid syntax\n"
          ]
        }
      ]
    },
    {
      "cell_type": "code",
      "metadata": {
        "colab": {
          "base_uri": "https://localhost:8080/",
          "height": 134
        },
        "id": "AOiB572eUmLP",
        "outputId": "85ac1994-e68b-487b-a4c4-8f3bbd2bc422"
      },
      "source": [
        "print(f '% คือการหารเอาเศษ เช่น 7%3 = {7%3}')  \\\\ \r\n",
        "แต่ \\n/ คือการหารปกติ เช่น 7/3 = {7/3} \\\r\n",
        "และ \\n// คือ การหารเอาส่วน เช่น 7//3 = {7//3} \\\r\n",
        "หรือ \\nใช้ int() เพื่อหารเอาส่วน เช่น int(7/3) = {int(7/3)}') # \\n คือการขึ้นบรรทัดใหม่ \\ ใช้ในการตัด code ให้เราเห็นแต่คอมไม่เห็น"
      ],
      "execution_count": 43,
      "outputs": [
        {
          "output_type": "error",
          "ename": "SyntaxError",
          "evalue": "ignored",
          "traceback": [
            "\u001b[0;36m  File \u001b[0;32m\"<ipython-input-43-d5a2e62a2b38>\"\u001b[0;36m, line \u001b[0;32m1\u001b[0m\n\u001b[0;31m    print(f '% คือการหารเอาเศษ เช่น 7%3 = {7%3}')  \\\\\u001b[0m\n\u001b[0m                                               ^\u001b[0m\n\u001b[0;31mSyntaxError\u001b[0m\u001b[0;31m:\u001b[0m invalid syntax\n"
          ]
        }
      ]
    },
    {
      "cell_type": "markdown",
      "metadata": {
        "id": "yTQu4vVnW2g8"
      },
      "source": [
        "##DATA structure (โครงสร้างข้อมูล) "
      ]
    },
    {
      "cell_type": "markdown",
      "metadata": {
        "id": "_1QluCtsXD3d"
      },
      "source": [
        "###List คือ การเอาตัวแปรหลายๆตัวมาเรียงกัน \r\n",
        "####มีอยู่ 2 แบบ คือ"
      ]
    },
    {
      "cell_type": "code",
      "metadata": {
        "colab": {
          "base_uri": "https://localhost:8080/"
        },
        "id": "4e_7iRv9XQiV",
        "outputId": "797a5d41-fc3b-4fec-e21e-42dc55b55a8a"
      },
      "source": [
        "[111,'c','หวัดดี',aaa] ##สามารถใส่ ตัวเลข ตัวอักษร ข้อความ และ code ได้ ใน 1 list [] ก็คือ list"
      ],
      "execution_count": 44,
      "outputs": [
        {
          "output_type": "execute_result",
          "data": {
            "text/plain": [
              "[111, 'c', 'หวัดดี', 1092]"
            ]
          },
          "metadata": {
            "tags": []
          },
          "execution_count": 44
        }
      ]
    },
    {
      "cell_type": "markdown",
      "metadata": {
        "id": "sl3GtZwCXO5k"
      },
      "source": [
        "###แบบที่ 1 > square brackets"
      ]
    },
    {
      "cell_type": "code",
      "metadata": {
        "colab": {
          "base_uri": "https://localhost:8080/"
        },
        "id": "-0HatnwOVGeP",
        "outputId": "cd2f8ddb-8c39-4d6c-b4f2-ee036f26e354"
      },
      "source": [
        "list_a = []\r\n",
        "print(list_a)"
      ],
      "execution_count": 45,
      "outputs": [
        {
          "output_type": "stream",
          "text": [
            "[]\n"
          ],
          "name": "stdout"
        }
      ]
    },
    {
      "cell_type": "code",
      "metadata": {
        "colab": {
          "base_uri": "https://localhost:8080/"
        },
        "id": "d7QSEQDIX2XG",
        "outputId": "1dc50310-b9d9-4aae-9c6e-28ae2b950f5c"
      },
      "source": [
        "list_b = [111,'c','หวัดดี',aaa]\r\n",
        "print(list_b)"
      ],
      "execution_count": 46,
      "outputs": [
        {
          "output_type": "stream",
          "text": [
            "[111, 'c', 'หวัดดี', 1092]\n"
          ],
          "name": "stdout"
        }
      ]
    },
    {
      "cell_type": "markdown",
      "metadata": {
        "id": "3N6aP9dhYDht"
      },
      "source": [
        "ลำดับที่อยู่ใน list มีความสำคัญ (ลำดับใน list เริ่มจาก 0,1,2,3)"
      ]
    },
    {
      "cell_type": "code",
      "metadata": {
        "id": "NV3zqIAXYZ62"
      },
      "source": [
        ""
      ],
      "execution_count": null,
      "outputs": []
    },
    {
      "cell_type": "markdown",
      "metadata": {
        "id": "IweVaWscYMyw"
      },
      "source": [
        "###แบบที่ 2"
      ]
    },
    {
      "cell_type": "code",
      "metadata": {
        "colab": {
          "base_uri": "https://localhost:8080/"
        },
        "id": "X2tiyvagYCI1",
        "outputId": "25b22216-67ea-4c1e-e747-2b60b6764610"
      },
      "source": [
        "list_c = list()\r\n",
        "print(list_c)"
      ],
      "execution_count": 47,
      "outputs": [
        {
          "output_type": "stream",
          "text": [
            "[]\n"
          ],
          "name": "stdout"
        }
      ]
    },
    {
      "cell_type": "markdown",
      "metadata": {
        "id": "ISlovuC6YciR"
      },
      "source": [
        "##append() เพิ่มสมาชิกใน list"
      ]
    },
    {
      "cell_type": "code",
      "metadata": {
        "colab": {
          "base_uri": "https://localhost:8080/"
        },
        "id": "jWNj-7y-YYD2",
        "outputId": "d164f742-76c8-4d79-8b4c-30c8038e874f"
      },
      "source": [
        "list_b.append('u')\r\n",
        "print(list_b)"
      ],
      "execution_count": 48,
      "outputs": [
        {
          "output_type": "stream",
          "text": [
            "[111, 'c', 'หวัดดี', 1092, 'u']\n"
          ],
          "name": "stdout"
        }
      ]
    },
    {
      "cell_type": "code",
      "metadata": {
        "colab": {
          "base_uri": "https://localhost:8080/",
          "height": 35
        },
        "id": "MHo67ITbYrR9",
        "outputId": "bddaf326-df7b-4bf0-b732-e30e3895be00"
      },
      "source": [
        "list_b [-1] #ตัวที่อยู่ในวงเล็ปหลังจากตัวแปร list เรียกว่า index ใช้สำหรับชี้ข้อมูลใน list (ชี้จากข้างหน้า , ชี้จากข้างหลัง) 0 คือสมาชิกตัวแรกและใช้ - เพื่อชี้จากข้างหลัง"
      ],
      "execution_count": 52,
      "outputs": [
        {
          "output_type": "execute_result",
          "data": {
            "application/vnd.google.colaboratory.intrinsic+json": {
              "type": "string"
            },
            "text/plain": [
              "'u'"
            ]
          },
          "metadata": {
            "tags": []
          },
          "execution_count": 52
        }
      ]
    },
    {
      "cell_type": "markdown",
      "metadata": {
        "id": "XlIjpmfGZQAP"
      },
      "source": [
        "##String > list of characters"
      ]
    },
    {
      "cell_type": "code",
      "metadata": {
        "colab": {
          "base_uri": "https://localhost:8080/"
        },
        "id": "lvl9_SxDY5W1",
        "outputId": "0c63acd0-e81d-43f5-de44-2d44d816f830"
      },
      "source": [
        "t = 'python not EZ'\r\n",
        "print(t)"
      ],
      "execution_count": 54,
      "outputs": [
        {
          "output_type": "stream",
          "text": [
            "python not EZ\n"
          ],
          "name": "stdout"
        }
      ]
    },
    {
      "cell_type": "code",
      "metadata": {
        "colab": {
          "base_uri": "https://localhost:8080/",
          "height": 35
        },
        "id": "RIVsqN_2ZvaP",
        "outputId": "8f228a5e-9fe4-4cb7-a47f-d17ed488643e"
      },
      "source": [
        "t[1] #เพื่อชี้ตัวอักษรตัวที่ 1"
      ],
      "execution_count": 55,
      "outputs": [
        {
          "output_type": "execute_result",
          "data": {
            "application/vnd.google.colaboratory.intrinsic+json": {
              "type": "string"
            },
            "text/plain": [
              "'y'"
            ]
          },
          "metadata": {
            "tags": []
          },
          "execution_count": 55
        }
      ]
    },
    {
      "cell_type": "code",
      "metadata": {
        "colab": {
          "base_uri": "https://localhost:8080/",
          "height": 35
        },
        "id": "LZSJ9GreZ5FO",
        "outputId": "f2861fd4-15b7-4a80-de11-4ae9186aba85"
      },
      "source": [
        "t[-4] #เพื่อชี้จากหลังไปหน้า "
      ],
      "execution_count": 58,
      "outputs": [
        {
          "output_type": "execute_result",
          "data": {
            "application/vnd.google.colaboratory.intrinsic+json": {
              "type": "string"
            },
            "text/plain": [
              "'t'"
            ]
          },
          "metadata": {
            "tags": []
          },
          "execution_count": 58
        }
      ]
    },
    {
      "cell_type": "code",
      "metadata": {
        "colab": {
          "base_uri": "https://localhost:8080/",
          "height": 35
        },
        "id": "CMfTmtruaBHH",
        "outputId": "b30fd0f0-ba8b-4ed1-db8c-5f064453164e"
      },
      "source": [
        "t[6]"
      ],
      "execution_count": 57,
      "outputs": [
        {
          "output_type": "execute_result",
          "data": {
            "application/vnd.google.colaboratory.intrinsic+json": {
              "type": "string"
            },
            "text/plain": [
              "' '"
            ]
          },
          "metadata": {
            "tags": []
          },
          "execution_count": 57
        }
      ]
    },
    {
      "cell_type": "markdown",
      "metadata": {
        "id": "6cJNqq1kaiHs"
      },
      "source": [
        "จบ 5/1/64"
      ]
    },
    {
      "cell_type": "code",
      "metadata": {
        "id": "LESLA9xCaLe1"
      },
      "source": [
        ""
      ],
      "execution_count": null,
      "outputs": []
    }
  ]
}