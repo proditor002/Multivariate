{
  "nbformat": 4,
  "nbformat_minor": 0,
  "metadata": {
    "colab": {
      "name": "python101.ipynb",
      "provenance": [],
      "authorship_tag": "ABX9TyN6eVYmEn+xSA0p9jxJ94O5",
      "include_colab_link": true
    },
    "kernelspec": {
      "name": "python3",
      "display_name": "Python 3"
    }
  },
  "cells": [
    {
      "cell_type": "markdown",
      "metadata": {
        "id": "view-in-github",
        "colab_type": "text"
      },
      "source": [
        "<a href=\"https://colab.research.google.com/github/proditor002/Multivariate/blob/main/python101.ipynb\" target=\"_parent\"><img src=\"https://colab.research.google.com/assets/colab-badge.svg\" alt=\"Open In Colab\"/></a>"
      ]
    },
    {
      "cell_type": "markdown",
      "metadata": {
        "id": "3UTTSUOZLi_S"
      },
      "source": [
        "ตัวแปร Variable"
      ]
    },
    {
      "cell_type": "markdown",
      "metadata": {
        "id": "I0CInSZ1L-pe"
      },
      "source": [
        "หลักการตั้งชื่อตัวแปรเบื้องต้น\r\n",
        "1.   ตั้งให้สื่อ\r\n",
        "2.   ภาษาอังกฤษ\r\n",
        "3.  ใช้ตัวเลขได้แต่ห้ามขึ้นต้นด้วยตัวเลข\r\n",
        "4.  ห้ามเว้นวรรค"
      ]
    },
    {
      "cell_type": "markdown",
      "metadata": {
        "id": "ZZyE0VeXMqiA"
      },
      "source": [
        "มี output 2 mode : ออกหน้าจอ กับ เข้าไปเก็บในตัวแปร"
      ]
    },
    {
      "cell_type": "code",
      "metadata": {
        "colab": {
          "base_uri": "https://localhost:8080/"
        },
        "id": "6dqEPH0JLpQw",
        "outputId": "b9908236-3e31-4466-da67-37cc2bd5eb74"
      },
      "source": [
        "3.14159     # hashtag หรือ sharp คือการ comment >> จะแสดงผล output ที่หน้าจอ  (เอาไว้โน๊ตเผื่อลืมไรงี้ จบ ปิ้งง !!!)"
      ],
      "execution_count": null,
      "outputs": [
        {
          "output_type": "execute_result",
          "data": {
            "text/plain": [
              "3.14159"
            ]
          },
          "metadata": {
            "tags": []
          },
          "execution_count": 24
        }
      ]
    },
    {
      "cell_type": "code",
      "metadata": {
        "id": "-OY5wQ-dM1Oi"
      },
      "source": [
        "Pi = 3.14159"
      ],
      "execution_count": null,
      "outputs": []
    },
    {
      "cell_type": "code",
      "metadata": {
        "colab": {
          "base_uri": "https://localhost:8080/"
        },
        "id": "BJYw68AMM5gQ",
        "outputId": "9c24e9f5-1fd5-40e3-eece-ee2f27e78740"
      },
      "source": [
        "Pi"
      ],
      "execution_count": null,
      "outputs": [
        {
          "output_type": "execute_result",
          "data": {
            "text/plain": [
              "3.14159"
            ]
          },
          "metadata": {
            "tags": []
          },
          "execution_count": 26
        }
      ]
    },
    {
      "cell_type": "code",
      "metadata": {
        "colab": {
          "base_uri": "https://localhost:8080/"
        },
        "id": "_KXdMa3xM9sg",
        "outputId": "c2270787-9548-49f4-9ade-7fd23f06290d"
      },
      "source": [
        "a = 1234567\r\n",
        "print (a)"
      ],
      "execution_count": null,
      "outputs": [
        {
          "output_type": "stream",
          "text": [
            "1234567\n"
          ],
          "name": "stdout"
        }
      ]
    },
    {
      "cell_type": "markdown",
      "metadata": {
        "id": "KNN_4HF9NnNT"
      },
      "source": [
        "##ชนิดของตัวแปรที่เห็นบ่อยๆ มี 3 ชนิด \r\n"
      ]
    },
    {
      "cell_type": "markdown",
      "metadata": {
        "id": "vb-fzCS-OqS6"
      },
      "source": [
        "##จำนวนเต็ม (integer หรือ int)"
      ]
    },
    {
      "cell_type": "code",
      "metadata": {
        "colab": {
          "base_uri": "https://localhost:8080/"
        },
        "id": "9jJJ7xdWOx1J",
        "outputId": "48a83564-689c-48e7-add0-ba44a93ee562"
      },
      "source": [
        "aaa = 1092\r\n",
        "print (aaa)"
      ],
      "execution_count": null,
      "outputs": [
        {
          "output_type": "stream",
          "text": [
            "1092\n"
          ],
          "name": "stdout"
        }
      ]
    },
    {
      "cell_type": "markdown",
      "metadata": {
        "id": "kyOtneHGO5OK"
      },
      "source": [
        "##จำนวนจริง (Float)"
      ]
    },
    {
      "cell_type": "code",
      "metadata": {
        "colab": {
          "base_uri": "https://localhost:8080/"
        },
        "id": "LPbyNX4GNRdH",
        "outputId": "0bb6c2b4-76ee-4c5e-8d19-a8d924b0dd5c"
      },
      "source": [
        "bbb = 11.\r\n",
        "print(bbb)"
      ],
      "execution_count": null,
      "outputs": [
        {
          "output_type": "stream",
          "text": [
            "11.0\n"
          ],
          "name": "stdout"
        }
      ]
    },
    {
      "cell_type": "markdown",
      "metadata": {
        "id": "GNL63p94POJb"
      },
      "source": [
        "##ตัวอักษร-ข้อความ (Character , text , string)"
      ]
    },
    {
      "cell_type": "code",
      "metadata": {
        "colab": {
          "base_uri": "https://localhost:8080/"
        },
        "id": "UgiC0stCPED4",
        "outputId": "c6358a94-4f27-4309-850a-a7d715430520"
      },
      "source": [
        "ccc = '123456' ##จะใช้ single quolr  ' หรือ double quolr ' ' ล้อมรอบข้อความหรือตัวหนังสือเพื่อระบุว่าเป็น Character , text , string (จะไม่สามารถเอาไปคำนวนได้ เพราะมันคือตัวหนังสือ)\r\n",
        "print(ccc)"
      ],
      "execution_count": null,
      "outputs": [
        {
          "output_type": "stream",
          "text": [
            "123456\n"
          ],
          "name": "stdout"
        }
      ]
    },
    {
      "cell_type": "markdown",
      "metadata": {
        "id": "Ysue_kySQL5T"
      },
      "source": [
        "ตัวอย่าง\r\n"
      ]
    },
    {
      "cell_type": "code",
      "metadata": {
        "colab": {
          "base_uri": "https://localhost:8080/"
        },
        "id": "fl5o2JOxP3uo",
        "outputId": "10cc05d5-7999-4861-8837-fae1cf011c60"
      },
      "source": [
        "aaa+bbb #float + int = float น่ะ"
      ],
      "execution_count": null,
      "outputs": [
        {
          "output_type": "execute_result",
          "data": {
            "text/plain": [
              "1103.0"
            ]
          },
          "metadata": {
            "tags": []
          },
          "execution_count": 31
        }
      ]
    },
    {
      "cell_type": "code",
      "metadata": {
        "colab": {
          "base_uri": "https://localhost:8080/",
          "height": 180
        },
        "id": "pr6LEualQB9w",
        "outputId": "f1c52d97-e851-4009-f9e2-f1b277a2a7fd"
      },
      "source": [
        "bbb+ccc## อันนี้คือตัวอย่าง error จารย์บอกไม่ต้องสนใจ แต่ถ้าเขียนโค้ดอยู่แล้ว error ก็เอาไปเสริชในgoogle เพื่อหาว่ามันคือไร เวลาอ่าน error ให้อ่านบรรทัดสุดท้าย"
      ],
      "execution_count": null,
      "outputs": [
        {
          "output_type": "error",
          "ename": "TypeError",
          "evalue": "ignored",
          "traceback": [
            "\u001b[0;31m---------------------------------------------------------------------------\u001b[0m",
            "\u001b[0;31mTypeError\u001b[0m                                 Traceback (most recent call last)",
            "\u001b[0;32m<ipython-input-34-a38e0e35a326>\u001b[0m in \u001b[0;36m<module>\u001b[0;34m()\u001b[0m\n\u001b[0;32m----> 1\u001b[0;31m \u001b[0mbbb\u001b[0m\u001b[0;34m+\u001b[0m\u001b[0mccc\u001b[0m\u001b[0;31m## อันนี้คือตัวอย่าง error จารย์บอกไม่ต้องสนใจ แต่ถ้าเขียนโค้ดอยู่แล้ว error ก็เอาไปเสริชในgoogle เพื่อหาว่ามันคือไร เวลาอ่าน error ให้อ่านบรรทัดสุดท้าย\u001b[0m\u001b[0;34m\u001b[0m\u001b[0;34m\u001b[0m\u001b[0m\n\u001b[0m",
            "\u001b[0;31mTypeError\u001b[0m: unsupported operand type(s) for +: 'float' and 'str'"
          ]
        }
      ]
    },
    {
      "cell_type": "code",
      "metadata": {
        "id": "QcSIEnSeQJtg"
      },
      "source": [
        "ddd = 'อยากกินจอลลี่แบร์จังเลย'\r\n",
        "print(ddd)"
      ],
      "execution_count": null,
      "outputs": []
    },
    {
      "cell_type": "markdown",
      "metadata": {
        "id": "Lxl5gET0QygV"
      },
      "source": [
        "### การเปลี่ยนชนิดของตัวแปร (Variable casting)สามารถทำได้โดย"
      ]
    },
    {
      "cell_type": "code",
      "metadata": {
        "id": "-qlcj-8zQxQQ"
      },
      "source": [
        "bbb + int(ccc)  ###  ก็คือใส่ int"
      ],
      "execution_count": null,
      "outputs": []
    },
    {
      "cell_type": "code",
      "metadata": {
        "id": "3gwP8V_2RlFw"
      },
      "source": [
        "aaa + float(ccc) ### ใส่ float"
      ],
      "execution_count": null,
      "outputs": []
    },
    {
      "cell_type": "code",
      "metadata": {
        "id": "fgfiwHmMRo2A"
      },
      "source": [
        "str(aaa) ### ใส่ str คือ string นาจาาา"
      ],
      "execution_count": null,
      "outputs": []
    },
    {
      "cell_type": "markdown",
      "metadata": {
        "id": "EYE-0njQSJRN"
      },
      "source": [
        "###การดำเนินการ Operation ( Operators +  -  *  /  %)"
      ]
    },
    {
      "cell_type": "code",
      "metadata": {
        "id": "CA7ETrXzRydv"
      },
      "source": [
        "a+b ## เวลาอ่าน error อ่านบรรทัด สุดท้าย เช่น NameError: name 'b' is not defined"
      ],
      "execution_count": null,
      "outputs": []
    },
    {
      "cell_type": "code",
      "metadata": {
        "id": "Zizn8lHfSbKO"
      },
      "source": [
        "aaa + bbb"
      ],
      "execution_count": null,
      "outputs": []
    },
    {
      "cell_type": "code",
      "metadata": {
        "id": "_U8-xzqfSxNQ"
      },
      "source": [
        "aaa - bbb"
      ],
      "execution_count": null,
      "outputs": []
    },
    {
      "cell_type": "code",
      "metadata": {
        "id": "Cl3kQED9SyS_"
      },
      "source": [
        "ab = aaa*bbb\r\n",
        "print(ab)"
      ],
      "execution_count": null,
      "outputs": []
    },
    {
      "cell_type": "code",
      "metadata": {
        "id": "E0AGqUSbS-2X"
      },
      "source": [
        "ab + int(ccc)"
      ],
      "execution_count": null,
      "outputs": []
    },
    {
      "cell_type": "markdown",
      "metadata": {
        "id": "ifvx9kaVTLEB"
      },
      "source": [
        "% คือ Modulo ## มันคือการหารเอาเศษ"
      ]
    },
    {
      "cell_type": "code",
      "metadata": {
        "id": "64u36HgjTKDn"
      },
      "source": [
        "5%3"
      ],
      "execution_count": null,
      "outputs": []
    },
    {
      "cell_type": "code",
      "metadata": {
        "id": "_rXl1Kg1TnWo"
      },
      "source": [
        "7%3"
      ],
      "execution_count": null,
      "outputs": []
    },
    {
      "cell_type": "markdown",
      "metadata": {
        "id": "XKmGhTUfTpnA"
      },
      "source": [
        "###คำสั่ง print แบบพิเศษ (การ format string)"
      ]
    },
    {
      "cell_type": "code",
      "metadata": {
        "id": "cHFQqiDZToZv"
      },
      "source": [
        "print('ตัวแปร') #สิ่งที่อยู่ในวงเล็ปคือตัวแปร หรือ string"
      ],
      "execution_count": null,
      "outputs": []
    },
    {
      "cell_type": "code",
      "metadata": {
        "id": "AtR2Q523UUM3"
      },
      "source": [
        "print(f'% คือการการเอาเศษ เช่น 7%3 = {7%3} ') # เพิ่ม f หน้า string และ ใช้ {} ใส่ code"
      ],
      "execution_count": null,
      "outputs": []
    },
    {
      "cell_type": "code",
      "metadata": {
        "id": "AOiB572eUmLP"
      },
      "source": [
        "print(f'% คือการหารเอาเศษ เช่น 7%3 = {7%3}')  \\\\ \r\n",
        "แต่ \\n/ คือการหารปกติ เช่น 7/3 = {7/3} \\\r\n",
        "และ \\n// คือ การหารเอาส่วน เช่น 7//3 = {7//3} \\\r\n",
        "หรือ \\nใช้ int() เพื่อหารเอาส่วน เช่น int(7/3) = {int(7/3)}') # \\n คือการขึ้นบรรทัดใหม่ \\ ใช้ในการตัด code ให้เราเห็นแต่คอมไม่เห็น"
      ],
      "execution_count": null,
      "outputs": []
    },
    {
      "cell_type": "markdown",
      "metadata": {
        "id": "yTQu4vVnW2g8"
      },
      "source": [
        "##DATA structure (โครงสร้างข้อมูล) "
      ]
    },
    {
      "cell_type": "markdown",
      "metadata": {
        "id": "_1QluCtsXD3d"
      },
      "source": [
        "###List คือ การเอาตัวแปรหลายๆตัวมาเรียงกัน \r\n",
        "####มีอยู่ 2 แบบ คือ"
      ]
    },
    {
      "cell_type": "code",
      "metadata": {
        "id": "4e_7iRv9XQiV"
      },
      "source": [
        "[111,'c','หวัดดี',aaa] ##สามารถใส่ ตัวเลข ตัวอักษร ข้อความ และ code ได้ ใน 1 list [] ก็คือ list"
      ],
      "execution_count": null,
      "outputs": []
    },
    {
      "cell_type": "markdown",
      "metadata": {
        "id": "sl3GtZwCXO5k"
      },
      "source": [
        "###แบบที่ 1 > square brackets"
      ]
    },
    {
      "cell_type": "code",
      "metadata": {
        "id": "-0HatnwOVGeP"
      },
      "source": [
        "list_a = []\r\n",
        "print(list_a)"
      ],
      "execution_count": null,
      "outputs": []
    },
    {
      "cell_type": "code",
      "metadata": {
        "id": "d7QSEQDIX2XG"
      },
      "source": [
        "list_b = [111,'c','หวัดดี',aaa]\r\n",
        "print(list_b)"
      ],
      "execution_count": null,
      "outputs": []
    },
    {
      "cell_type": "markdown",
      "metadata": {
        "id": "3N6aP9dhYDht"
      },
      "source": [
        "ลำดับที่อยู่ใน list มีความสำคัญ (ลำดับใน list เริ่มจาก 0,1,2,3)"
      ]
    },
    {
      "cell_type": "code",
      "metadata": {
        "id": "NV3zqIAXYZ62"
      },
      "source": [
        ""
      ],
      "execution_count": null,
      "outputs": []
    },
    {
      "cell_type": "markdown",
      "metadata": {
        "id": "IweVaWscYMyw"
      },
      "source": [
        "###แบบที่ 2"
      ]
    },
    {
      "cell_type": "code",
      "metadata": {
        "id": "X2tiyvagYCI1"
      },
      "source": [
        "list_c = list()\r\n",
        "print(list_c)"
      ],
      "execution_count": null,
      "outputs": []
    },
    {
      "cell_type": "markdown",
      "metadata": {
        "id": "ISlovuC6YciR"
      },
      "source": [
        "##append() เพิ่มสมาชิกใน list"
      ]
    },
    {
      "cell_type": "code",
      "metadata": {
        "id": "jWNj-7y-YYD2"
      },
      "source": [
        "list_b.append('u')\r\n",
        "print(list_b)"
      ],
      "execution_count": null,
      "outputs": []
    },
    {
      "cell_type": "code",
      "metadata": {
        "id": "MHo67ITbYrR9"
      },
      "source": [
        "list_b [-1] #ตัวที่อยู่ในวงเล็ปหลังจากตัวแปร list เรียกว่า index ใช้สำหรับชี้ข้อมูลใน list (ชี้จากข้างหน้า , ชี้จากข้างหลัง) 0 คือสมาชิกตัวแรกและใช้ - เพื่อชี้จากข้างหลัง"
      ],
      "execution_count": null,
      "outputs": []
    },
    {
      "cell_type": "markdown",
      "metadata": {
        "id": "XlIjpmfGZQAP"
      },
      "source": [
        "##String > list of characters"
      ]
    },
    {
      "cell_type": "code",
      "metadata": {
        "colab": {
          "base_uri": "https://localhost:8080/"
        },
        "id": "lvl9_SxDY5W1",
        "outputId": "ac8d781e-4032-45e1-dac7-331022bf63f7"
      },
      "source": [
        "t = 'python is easy'\r\n",
        "print(t)"
      ],
      "execution_count": null,
      "outputs": [
        {
          "output_type": "stream",
          "text": [
            "python is easy\n"
          ],
          "name": "stdout"
        }
      ]
    },
    {
      "cell_type": "code",
      "metadata": {
        "colab": {
          "base_uri": "https://localhost:8080/",
          "height": 35
        },
        "id": "RIVsqN_2ZvaP",
        "outputId": "db9fcd74-1036-4e04-a048-dd9e7a0acc62"
      },
      "source": [
        "t[1] #เพื่อชี้ตัวอักษรตัวที่ 1"
      ],
      "execution_count": null,
      "outputs": [
        {
          "output_type": "execute_result",
          "data": {
            "application/vnd.google.colaboratory.intrinsic+json": {
              "type": "string"
            },
            "text/plain": [
              "'y'"
            ]
          },
          "metadata": {
            "tags": []
          },
          "execution_count": 39
        }
      ]
    },
    {
      "cell_type": "code",
      "metadata": {
        "colab": {
          "base_uri": "https://localhost:8080/",
          "height": 35
        },
        "id": "LZSJ9GreZ5FO",
        "outputId": "3d3f167b-c680-4afe-dd92-46d2f46c79f8"
      },
      "source": [
        "t[-4] #เพื่อชี้จากหลังไปหน้า "
      ],
      "execution_count": null,
      "outputs": [
        {
          "output_type": "execute_result",
          "data": {
            "application/vnd.google.colaboratory.intrinsic+json": {
              "type": "string"
            },
            "text/plain": [
              "'e'"
            ]
          },
          "metadata": {
            "tags": []
          },
          "execution_count": 40
        }
      ]
    },
    {
      "cell_type": "code",
      "metadata": {
        "colab": {
          "base_uri": "https://localhost:8080/",
          "height": 35
        },
        "id": "CMfTmtruaBHH",
        "outputId": "3115840e-fce2-4334-dd1b-38e1c8f89205"
      },
      "source": [
        "t[6]"
      ],
      "execution_count": null,
      "outputs": [
        {
          "output_type": "execute_result",
          "data": {
            "application/vnd.google.colaboratory.intrinsic+json": {
              "type": "string"
            },
            "text/plain": [
              "' '"
            ]
          },
          "metadata": {
            "tags": []
          },
          "execution_count": 41
        }
      ]
    },
    {
      "cell_type": "markdown",
      "metadata": {
        "id": "6cJNqq1kaiHs"
      },
      "source": [
        "จบ 5/1/64"
      ]
    },
    {
      "cell_type": "markdown",
      "metadata": {
        "id": "t5AIYJ5hhfrk"
      },
      "source": [
        "##คาบ 3 11/01/2021"
      ]
    },
    {
      "cell_type": "code",
      "metadata": {
        "id": "LESLA9xCaLe1",
        "colab": {
          "base_uri": "https://localhost:8080/"
        },
        "outputId": "3148206c-a508-443d-954d-55a94515deb7"
      },
      "source": [
        "len(t)"
      ],
      "execution_count": null,
      "outputs": [
        {
          "output_type": "execute_result",
          "data": {
            "text/plain": [
              "14"
            ]
          },
          "metadata": {
            "tags": []
          },
          "execution_count": 42
        }
      ]
    },
    {
      "cell_type": "code",
      "metadata": {
        "colab": {
          "base_uri": "https://localhost:8080/"
        },
        "id": "O3UesKftihgt",
        "outputId": "a87adb8f-75cb-4ee5-8577-c924898c8a33"
      },
      "source": [
        "len(list_b) # len คือค่าสั่งตรวจสอบความยาวของ list (ว่ามีจำนวนสมาชิกเท่าไหร่)"
      ],
      "execution_count": null,
      "outputs": [
        {
          "output_type": "execute_result",
          "data": {
            "text/plain": [
              "5"
            ]
          },
          "metadata": {
            "tags": []
          },
          "execution_count": 43
        }
      ]
    },
    {
      "cell_type": "code",
      "metadata": {
        "colab": {
          "base_uri": "https://localhost:8080/"
        },
        "id": "IizhjVwnlMZP",
        "outputId": "7d7d9863-7e59-4c9a-82d1-84c8c884c62e"
      },
      "source": [
        "list_b.append(t)\r\n",
        "print(list_b)"
      ],
      "execution_count": null,
      "outputs": [
        {
          "output_type": "stream",
          "text": [
            "[111, 'c', 'หวัดดี', 1092, 'u', 'python is easy']\n"
          ],
          "name": "stdout"
        }
      ]
    },
    {
      "cell_type": "code",
      "metadata": {
        "colab": {
          "base_uri": "https://localhost:8080/",
          "height": 35
        },
        "id": "yKMe-Il1i1Pc",
        "outputId": "735d2cf6-037e-4af0-e87d-7f749dc181b1"
      },
      "source": [
        "t[-4]"
      ],
      "execution_count": null,
      "outputs": [
        {
          "output_type": "execute_result",
          "data": {
            "application/vnd.google.colaboratory.intrinsic+json": {
              "type": "string"
            },
            "text/plain": [
              "'e'"
            ]
          },
          "metadata": {
            "tags": []
          },
          "execution_count": 44
        }
      ]
    },
    {
      "cell_type": "markdown",
      "metadata": {
        "id": "GndvZhJ8ja9g"
      },
      "source": [
        "##ตัวที่อยู่ข้างใน [] เรียกว่า index (ตัวชี้)"
      ]
    },
    {
      "cell_type": "markdown",
      "metadata": {
        "id": "nykQVVPMnUWg"
      },
      "source": [
        "##List slicing สามารถทำได้โดยใช้ colon : <<(อันนี้ได้ใช้บ่อยในการเรียนวิชาอื่นๆต่อไปที่เกี่ยวกับpython)\r\n",
        "![11.JPG](data:image/jpeg;base64,/9j/4AAQSkZJRgABAQEAYABgAAD/4RCsRXhpZgAATU0AKgAAAAgABAE7AAIAAAATAAAISodpAAQAAAABAAAIXpydAAEAAAAmAAAQfuocAAcAAAgMAAAAPgAAAAAc6gAAAAgAAAAAAAAAAAAAAAAAAAAAAAAAAAAAAAAAAAAAAAAAAAAAAAAAAAAAAAAAAAAAAAAAAAAAAAAAAAAAAAAAAAAAAAAAAAAAAAAAAAAAAAAAAAAAAAAAAAAAAAAAAAAAAAAAAAAAAAAAAAAAAAAAAAAAAAAAAAAAAAAAAAAAAAAAAAAAAAAAAAAAAAAAAAAAAAAAAAAAAAAAAAAAAAAAAAAAAAAAAAAAAAAAAAAAAAAAAAAAAAAAAAAAAAAAAAAAAAAAAAAAAAAAAAAAAAAAAAAAAAAAAAAAAAAAAAAAAAAAAAAAAAAAAAAAAAAAAAAAAAAAAAAAAAAAAAAAAAAAAAAAAAAAAAAAAAAAAAAAAAAAAAAAAAAAAAAAAAAAAAAAAAAAAAAAAAAAAAAAAAAAAAAAAAAAAAAAAAAAAAAAAAAAAAAAAAAAAAAAAAAAAAAAAAAAAAAAAAAAAAAAAAAAAAAAAAAAAAAAAAAAAAAAAAAAAAAAAAAAAAAAAAAAAAAAAAAAAAAAAAAAAAAAAAAAAAAAAAAAAAAAAAAAAAAAAAAAAAAAAAAAAAAAAAAAAAAAAAAAAAAAAAAAAAAAAAAAAAAAAAAAAAAAAAAAAAAAAAAAAAAAAAAAAAAAAAAAAAAAAAAAAAAAAAAAAAAAAAAAAAAAAAAAAAAAAAAAAAAAAAAAAAAAAAAAAAAAAAAAAAAAAAAAAAAAAAAAAAAAAAAAAAAAAAAAAAAAAAAAAAAAAAAAAAAAAAAAAAAAAAAAAAAAAAAAAAAAAAAAAAAAAAAAAAAAAAAAAAAAAAAAAAAAAAAAAAAAAAAAAAAAAAAAAAAAAAAAAAAAAAAAAAAAAAAAAAAAAAAAAAAAAAAAAAAAAAAAAAAAAAAAAAAAAAAAAAAAAAAAAAAAAAAAAAAAAAAAAAAAAAAAAAAAAAAAAAAAAAAAAAAAAAAAAAAAAAAAAAAAAAAAAAAAAAAAAAAAAAAAAAAAAAAAAAAAAAAAAAAAAAAAAAAAAAAAAAAAAAAAAAAAAAAAAAAAAAAAAAAAAAAAAAAAAAAAAAAAAAAAAAAAAAAAAAAAAAAAAAAAAAAAAAAAAAAAAAAAAAAAAAAAAAAAAAAAAAAAAAAAAAAAAAAAAAAAAAAAAAAAAAAAAAAAAAAAAAAAAAAAAAAAAAAAAAAAAAAAAAAAAAAAAAAAAAAAAAAAAAAAAAAAAAAAAAAAAAAAAAAAAAAAAAAAAAAAAAAAAAAAAAAAAAAAAAAAAAAAAAAAAAAAAAAAAAAAAAAAAAAAAAAAAAAAAAAAAAAAAAAAAAAAAAAAAAAAAAAAAAAAAAAAAAAAAAAAAAAAAAAAAAAAAAAAAAAAAAAAAAAAAAAAAAAAAAAAAAAAAAAAAAAAAAAAAAAAAAAAAAAAAAAAAAAAAAAAAAAAAAAAAAAAAAAAAAAAAAAAAAAAAAAAAAAAAAAAAAAAAAAAAAAAAAAAAAAAAAAAAAAAAAAAAAAAAAAAAAAAAAAAAAAAAAAAAAAAAAAAAAAAAAAAAAAAAAAAAAAAAAAAAAAAAAAAAAAAAAAAAAAAAAAAAAAAAAAAAAAAAAAAAAAAAAAAAAAAAAAAAAAAAAAAAAAAAAAAAAAAAAAAAAAAAAAAAAAAAAAAAAAAAAAAAAAAAAAAAAAAAAAAAAAAAAAAAAAAAAAAAAAAAAAAAAAAAAAAAAAAAAAAAAAAAAAAAAAAAAAAAAAAAAAAAAAAAAAAAAAAAAAAAAAAAAAAAAAAAAAAAAAAAAAAAAAAAAAAAAAAAAAAAAAAAAAAAAAAAAAAAAAAAAAAAAAAAAAAAAAAAAAAAAAAAAAAAAAAAAAAAAAAAAAAAAAAAAAAAAAAAAAAAAAAAAAAAAAAAAAAAAAAAAAAAAAAAAAAAAAAAAAAAAAAAAAAAAAAAAAAAAAAAAAAAAAAAAAAAAAAAAAAAAAAAAAAAAAAAAAAAAAAAAAAAAAAAAAAAAAAAAAAAAAAAAAAAAAAAAAAAAAAAAAAAAAAAAAAAAAAAAAAAAAAAAAAAAAAAAAAAAAAAAAAAAAAAAAAAAAAAAAAAAAAAAAAAAAAAAAAAAAAAAAAAAAAAAAAAAAAAAAAAAAAAAAAAAAAAAAAAAAAAAAAAAAAAAAAAAAAAAAAAAAAAAAAAAAAAAAAAAAAAAAAAAAAAAAAAAAAAAAAAAAAAAAAAAAAAAAAAAAAAAAAAAAAAAAAAAAAAAAAAAAAAAAAAAAAAAAAAAAAAAAAAAAAAAAAAAAAAAAAAAAAAAAAAAAAAAAAAAAAAAAAAAAAAAAAAAAAAAAAAAAAAAAAAAAAAAAAAAAAAAAAAAAAAAAAAAAAAAAAAAAAAAAAAAAAAAAAAAAAAAAAAAAAAAAAAAAAAAAAAAAAAAAAAAAAAAAAAAAAAAAAAAAAAAAAAAAAAAAAAAAAAAAAAAAAAAAAAAAAAAAAAAAAAAAAAAAAAAAAAAAAAAAAAAAAAAAAAAAAAAAAAAAAAAAAAAAAAAAAAAAAAAAAAAAAAAAAAAAAAAAAAAAAAAAAAAAAAAAAAAAAAAAAAAAAAAAAAAAAAAAAAAAAAAAAAAAAAAAAAAAAAAAAAAAAAAAAAAAAAAAAAAAAAAAAAAAAAAAAAAAAAAAAAAAAAAAAAAAAAAAAAAAAAAAAAAAAAAAAAAAAAAAAAAAAAAAAAAAAAAAAAAAAAAAAAAAAAAAAAAAAAAAAAAAAAAAAAAAAAAAAAAAAAAAAAAAAAAAAAFRvcmZ1biBQaG9uZ3BoaWRldAAAAAHqHAAHAAAIDAAACHAAAAAAHOoAAAAIAAAAAAAAAAAAAAAAAAAAAAAAAAAAAAAAAAAAAAAAAAAAAAAAAAAAAAAAAAAAAAAAAAAAAAAAAAAAAAAAAAAAAAAAAAAAAAAAAAAAAAAAAAAAAAAAAAAAAAAAAAAAAAAAAAAAAAAAAAAAAAAAAAAAAAAAAAAAAAAAAAAAAAAAAAAAAAAAAAAAAAAAAAAAAAAAAAAAAAAAAAAAAAAAAAAAAAAAAAAAAAAAAAAAAAAAAAAAAAAAAAAAAAAAAAAAAAAAAAAAAAAAAAAAAAAAAAAAAAAAAAAAAAAAAAAAAAAAAAAAAAAAAAAAAAAAAAAAAAAAAAAAAAAAAAAAAAAAAAAAAAAAAAAAAAAAAAAAAAAAAAAAAAAAAAAAAAAAAAAAAAAAAAAAAAAAAAAAAAAAAAAAAAAAAAAAAAAAAAAAAAAAAAAAAAAAAAAAAAAAAAAAAAAAAAAAAAAAAAAAAAAAAAAAAAAAAAAAAAAAAAAAAAAAAAAAAAAAAAAAAAAAAAAAAAAAAAAAAAAAAAAAAAAAAAAAAAAAAAAAAAAAAAAAAAAAAAAAAAAAAAAAAAAAAAAAAAAAAAAAAAAAAAAAAAAAAAAAAAAAAAAAAAAAAAAAAAAAAAAAAAAAAAAAAAAAAAAAAAAAAAAAAAAAAAAAAAAAAAAAAAAAAAAAAAAAAAAAAAAAAAAAAAAAAAAAAAAAAAAAAAAAAAAAAAAAAAAAAAAAAAAAAAAAAAAAAAAAAAAAAAAAAAAAAAAAAAAAAAAAAAAAAAAAAAAAAAAAAAAAAAAAAAAAAAAAAAAAAAAAAAAAAAAAAAAAAAAAAAAAAAAAAAAAAAAAAAAAAAAAAAAAAAAAAAAAAAAAAAAAAAAAAAAAAAAAAAAAAAAAAAAAAAAAAAAAAAAAAAAAAAAAAAAAAAAAAAAAAAAAAAAAAAAAAAAAAAAAAAAAAAAAAAAAAAAAAAAAAAAAAAAAAAAAAAAAAAAAAAAAAAAAAAAAAAAAAAAAAAAAAAAAAAAAAAAAAAAAAAAAAAAAAAAAAAAAAAAAAAAAAAAAAAAAAAAAAAAAAAAAAAAAAAAAAAAAAAAAAAAAAAAAAAAAAAAAAAAAAAAAAAAAAAAAAAAAAAAAAAAAAAAAAAAAAAAAAAAAAAAAAAAAAAAAAAAAAAAAAAAAAAAAAAAAAAAAAAAAAAAAAAAAAAAAAAAAAAAAAAAAAAAAAAAAAAAAAAAAAAAAAAAAAAAAAAAAAAAAAAAAAAAAAAAAAAAAAAAAAAAAAAAAAAAAAAAAAAAAAAAAAAAAAAAAAAAAAAAAAAAAAAAAAAAAAAAAAAAAAAAAAAAAAAAAAAAAAAAAAAAAAAAAAAAAAAAAAAAAAAAAAAAAAAAAAAAAAAAAAAAAAAAAAAAAAAAAAAAAAAAAAAAAAAAAAAAAAAAAAAAAAAAAAAAAAAAAAAAAAAAAAAAAAAAAAAAAAAAAAAAAAAAAAAAAAAAAAAAAAAAAAAAAAAAAAAAAAAAAAAAAAAAAAAAAAAAAAAAAAAAAAAAAAAAAAAAAAAAAAAAAAAAAAAAAAAAAAAAAAAAAAAAAAAAAAAAAAAAAAAAAAAAAAAAAAAAAAAAAAAAAAAAAAAAAAAAAAAAAAAAAAAAAAAAAAAAAAAAAAAAAAAAAAAAAAAAAAAAAAAAAAAAAAAAAAAAAAAAAAAAAAAAAAAAAAAAAAAAAAAAAAAAAAAAAAAAAAAAAAAAAAAAAAAAAAAAAAAAAAAAAAAAAAAAAAAAAAAAAAAAAAAAAAAAAAAAAAAAAAAAAAAAAAAAAAAAAAAAAAAAAAAAAAAAAAAAAAAAAAAAAAAAAAAAAAAAAAAAAAAAAAAAAAAAAAAAAAAAAAAAAAAAAAAAAAAAAAAAAAAAAAAAAAAAAAAAAAAAAAAAAAAAAAAAAAAAAAAAAAAAAAAAAAAAAAAAAAAAAAAAAAAAAAAAAAAAAAAAAAAAAAAAAAAAAAAAAAAAAAAAAAAAAAAAAAAAAAAAAAAAAAAAAAAAAAAAAAAAAAAAAAAAAAAAAAAAAAAAAAAAAAAAAAAAAAAAAAAAAAAAAAAAAAAAAAAAAAAAAAAAAAAAAAAAAAAAAAAAAAAAAAAAAAAAAAAAAAAAAAAAAAAAAAAAAAAAAAAAAAAAAAAAAAAAAAAAAAAAAAAAAAAAAAAAAAAAAAAAAAAAAAAAAAAAAAAAAAAAAAAAAAAAAAAAAAAAAAAAAAAAAAAAAAAAAAAAAAAAAAAAAAAAAAAAAAAAAAAAAAAAAAAAAAAAAAAAAAAAAAAAAAAAAAAAAAAAAAAAAAAAAAAAAAAAAAAAAAAAAAAAAAAAAAAAAAAAAAAAAAAAAAAAAAAAAAAAAAAAAAAAAAAAAAAAAAAAAAAAAAAAAAAAAAAAAAAAAAAAAAAAAAAAAAAAAAAAAAAAAAAAAAAAAAAAAAAAAAAAAAAAAAAAAAAAAAAAAAAAAAAAAAAAAAAAAAAAAAAAAAAAAAAAAAAAAAAAAAAAAAAAAAAAAAAAAAAAAAAAAAAAAAAAAAAAAAAAAAAAAAAAAAAAAAAAAAAAAAAAAAAAAAAAAAAAAAAAAAAAAAAAAAAAAAAAAAAAAAAAAAAAAAAAAAAAAAAAAAAAAAAAAAAAAAAAAAAAAAAAAAAAAAAAAAAAAAAAAAAAAAAAAAAAAAAAAAAAAAAAAAAAAAAAAAAAAAAAAAAAAAAAAAAAAAAAAAAAAAAAAAAAAAAAAAAAAAAAAAAAAAAAAAFQAbwByAGYAdQBuACAAUABoAG8AbgBnAHAAaABpAGQAZQB0AAAA/+EKa2h0dHA6Ly9ucy5hZG9iZS5jb20veGFwLzEuMC8APD94cGFja2V0IGJlZ2luPSfvu78nIGlkPSdXNU0wTXBDZWhpSHpyZVN6TlRjemtjOWQnPz4NCjx4OnhtcG1ldGEgeG1sbnM6eD0iYWRvYmU6bnM6bWV0YS8iPjxyZGY6UkRGIHhtbG5zOnJkZj0iaHR0cDovL3d3dy53My5vcmcvMTk5OS8wMi8yMi1yZGYtc3ludGF4LW5zIyI+PHJkZjpEZXNjcmlwdGlvbiByZGY6YWJvdXQ9InV1aWQ6ZmFmNWJkZDUtYmEzZC0xMWRhLWFkMzEtZDMzZDc1MTgyZjFiIiB4bWxuczpkYz0iaHR0cDovL3B1cmwub3JnL2RjL2VsZW1lbnRzLzEuMS8iLz48cmRmOkRlc2NyaXB0aW9uIHJkZjphYm91dD0idXVpZDpmYWY1YmRkNS1iYTNkLTExZGEtYWQzMS1kMzNkNzUxODJmMWIiIHhtbG5zOmRjPSJodHRwOi8vcHVybC5vcmcvZGMvZWxlbWVudHMvMS4xLyI+PGRjOmNyZWF0b3I+PHJkZjpTZXEgeG1sbnM6cmRmPSJodHRwOi8vd3d3LnczLm9yZy8xOTk5LzAyLzIyLXJkZi1zeW50YXgtbnMjIj48cmRmOmxpPlRvcmZ1biBQaG9uZ3BoaWRldDwvcmRmOmxpPjwvcmRmOlNlcT4NCgkJCTwvZGM6Y3JlYXRvcj48L3JkZjpEZXNjcmlwdGlvbj48L3JkZjpSREY+PC94OnhtcG1ldGE+DQogICAgICAgICAgICAgICAgICAgICAgICAgICAgICAgICAgICAgICAgICAgICAgICAgICAgICAgICAgICAgICAgICAgICAgICAgICAgICAgICAgICAgICAgICAgICAgICAgICAgCiAgICAgICAgICAgICAgICAgICAgICAgICAgICAgICAgICAgICAgICAgICAgICAgICAgICAgICAgICAgICAgICAgICAgICAgICAgICAgICAgICAgICAgICAgICAgICAgICAgICAKICAgICAgICAgICAgICAgICAgICAgICAgICAgICAgICAgICAgICAgICAgICAgICAgICAgICAgICAgICAgICAgICAgICAgICAgICAgICAgICAgICAgICAgICAgICAgICAgICAgIAogICAgICAgICAgICAgICAgICAgICAgICAgICAgICAgICAgICAgICAgICAgICAgICAgICAgICAgICAgICAgICAgICAgICAgICAgICAgICAgICAgICAgICAgICAgICAgICAgICAgCiAgICAgICAgICAgICAgICAgICAgICAgICAgICAgICAgICAgICAgICAgICAgICAgICAgICAgICAgICAgICAgICAgICAgICAgICAgICAgICAgICAgICAgICAgICAgICAgICAgICAKICAgICAgICAgICAgICAgICAgICAgICAgICAgICAgICAgICAgICAgICAgICAgICAgICAgICAgICAgICAgICAgICAgICAgICAgICAgICAgICAgICAgICAgICAgICAgICAgICAgIAogICAgICAgICAgICAgICAgICAgICAgICAgICAgICAgICAgICAgICAgICAgICAgICAgICAgICAgICAgICAgICAgICAgICAgICAgICAgICAgICAgICAgICAgICAgICAgICAgICAgCiAgICAgICAgICAgICAgICAgICAgICAgICAgICAgICAgICAgICAgICAgICAgICAgICAgICAgICAgICAgICAgICAgICAgICAgICAgICAgICAgICAgICAgICAgICAgICAgICAgICAKICAgICAgICAgICAgICAgICAgICAgICAgICAgICAgICAgICAgICAgICAgICAgICAgICAgICAgICAgICAgICAgICAgICAgICAgICAgICAgICAgICAgICAgICAgICAgICAgICAgIAogICAgICAgICAgICAgICAgICAgICAgICAgICAgICAgICAgICAgICAgICAgICAgICAgICAgICAgICAgICAgICAgICAgICAgICAgICAgICAgICAgICAgICAgICAgICAgICAgICAgCiAgICAgICAgICAgICAgICAgICAgICAgICAgICAgICAgICAgICAgICAgICAgICAgICAgICAgICAgICAgICAgICAgICAgICAgICAgICAgICAgICAgICAgICAgICAgICAgICAgICAKICAgICAgICAgICAgICAgICAgICAgICAgICAgICAgICAgICAgICAgICAgICAgICAgICAgICAgICAgICAgICAgICAgICAgICAgICAgICAgICAgICAgICAgICAgICAgICAgICAgIAogICAgICAgICAgICAgICAgICAgICAgICAgICAgICAgICAgICAgICAgICAgICAgICAgICAgICAgICAgICAgICAgICAgICAgICAgICAgICAgICAgICAgICAgICAgICAgICAgICAgCiAgICAgICAgICAgICAgICAgICAgICAgICAgICAgICAgICAgICAgICAgICAgICAgICAgICAgICAgICAgICAgICAgICAgICAgICAgICAgICAgICAgICAgICAgICAgICAgICAgICAKICAgICAgICAgICAgICAgICAgICAgICAgICAgICAgICAgICAgICAgICAgICAgICAgICAgICAgICAgICAgICAgICAgICAgICAgICAgICAgICAgICAgICAgICAgICAgICAgICAgIAogICAgICAgICAgICAgICAgICAgICAgICAgICAgICAgICAgICAgICAgICAgICAgICAgICAgICAgICAgICAgICAgICAgICAgICAgICAgICAgICAgICAgICAgICAgICAgICAgICAgCiAgICAgICAgICAgICAgICAgICAgICAgICAgICAgICAgICAgICAgICAgICAgICAgICAgICAgICAgICAgICAgICAgICAgICAgICAgICAgICAgICAgICAgICAgICAgICAgICAgICAKICAgICAgICAgICAgICAgICAgICAgICAgICAgICAgICAgICAgICAgICAgICAgICAgICAgICAgICAgICAgICAgICAgICAgICAgICAgICAgICAgICAgICAgICAgICAgICAgICAgIAogICAgICAgICAgICAgICAgICAgICAgICAgICAgICAgICAgICAgICAgICAgICAgICAgICAgICAgICAgICAgICAgICAgICAgICAgICAgICAgICAgICAgICAgICAgICAgICAgICAgCiAgICAgICAgICAgICAgICAgICAgICAgICAgICAgICAgICAgICAgICAgICAgICAgICAgICAgICAgICAgICAgICAgICAgICAgICAgICAgICAgICAgICAgICAgICAgICAgICAgICAKICAgICAgICAgICAgICAgICAgICAgICAgICAgIDw/eHBhY2tldCBlbmQ9J3cnPz7/2wBDAAcFBQYFBAcGBQYIBwcIChELCgkJChUPEAwRGBUaGRgVGBcbHichGx0lHRcYIi4iJSgpKywrGiAvMy8qMicqKyr/2wBDAQcICAoJChQLCxQqHBgcKioqKioqKioqKioqKioqKioqKioqKioqKioqKioqKioqKioqKioqKioqKioqKioqKir/wAARCADJAXoDASIAAhEBAxEB/8QAHwAAAQUBAQEBAQEAAAAAAAAAAAECAwQFBgcICQoL/8QAtRAAAgEDAwIEAwUFBAQAAAF9AQIDAAQRBRIhMUEGE1FhByJxFDKBkaEII0KxwRVS0fAkM2JyggkKFhcYGRolJicoKSo0NTY3ODk6Q0RFRkdISUpTVFVWV1hZWmNkZWZnaGlqc3R1dnd4eXqDhIWGh4iJipKTlJWWl5iZmqKjpKWmp6ipqrKztLW2t7i5usLDxMXGx8jJytLT1NXW19jZ2uHi4+Tl5ufo6erx8vP09fb3+Pn6/8QAHwEAAwEBAQEBAQEBAQAAAAAAAAECAwQFBgcICQoL/8QAtREAAgECBAQDBAcFBAQAAQJ3AAECAxEEBSExBhJBUQdhcRMiMoEIFEKRobHBCSMzUvAVYnLRChYkNOEl8RcYGRomJygpKjU2Nzg5OkNERUZHSElKU1RVVldYWVpjZGVmZ2hpanN0dXZ3eHl6goOEhYaHiImKkpOUlZaXmJmaoqOkpaanqKmqsrO0tba3uLm6wsPExcbHyMnK0tPU1dbX2Nna4uPk5ebn6Onq8vP09fb3+Pn6/9oADAMBAAIRAxEAPwD6Pd1jjZ3O1VGST2FUBrtiygqZyD0ItZSD/wCO1Y1H/kF3X/XF/wCRp9of9Ch/65r/ACpa3si0la7Kv9uWX/Tx/wCAsv8A8TR/bll/08f+Asv/AMTWhmjNK0u4Xj2/r7jP/tyy/wCnj/wFl/8AiaP7csv+nj/wFl/+JrQzRmi0u4Xj2/r7jP8A7csv+nj/AMBZf/iaP7csv+nj/wABZf8A4mtDNGaLS7hePb+vuM/+3LL/AKeP/AWX/wCJo/tyy/6eP/AWX/4mrwkQyFAyl1AJXPIBzg4/A/lS5otLuF49v6+4of25Zf8ATx/4Cy//ABNH9uWX/Tx/4Cy//E1bkuYYpoopZo0kmJEaM4BcgZOB34qXNFpdwvHt/X3Gf/bll/08f+Asv/xNH9uWX/Tx/wCAsv8A8TWhmjNFpdwvHt/X3Gf/AG5Zf9PH/gLL/wDE0f25Zf8ATx/4Cy//ABNX8+lLmi0u4Xj2/r7jP/tyy/6eP/AWX/4mj+3LL/p4/wDAWX/4mtDNGaLS7hePb+vuM/8Atyy/6eP/AAFl/wDiaP7csv8Ap4/8BZf/AImtDNGaLS7hePb+vuM/+3LL/p4/8BZf/iaP7csv+nj/AMBZf/iavlgqksQABkknpTIZ4riFZbeRJY26OjBge3UUWl3C8e39fcU/7csv+nj/AMBZf/iaP7csv+nj/wABZf8A4mrzSIhUOyqXO1QTjccZwPwB/KnZotLuF49v6+4z/wC3LL/p4/8AAWX/AOJo/tyy/wCnj/wFl/8Aiav5pkFxDdQLNbSxzRPyskbBlb6EUWl3C8e39fcU/wC3LL/p4/8AAWX/AOJo/tyy/wCnj/wFl/8Aia0M0ZotLuF49v6+4z/7csv+nj/wFl/+Jo/tyy/6eP8AwFl/+JrQzRmi0u4Xj2/r7jP/ALcsv+nj/wABZf8A4mj+3LL/AKeP/AWX/wCJrQzRmi0u4Xj2/r7jP/tyy/6eP/AWX/4mj+3LL/p4/wDAWX/4mtDNGaLS7hePb+vuM/8Atyy/6eP/AAFl/wDiaP7csv8Ap4/8BZf/AImtDNGaLS7hePb+vuM/+3LL/p4/8BZf/iaP7csv+nj/AMBZf/ia0M0ZotLuF49v6+4z/wC3LL/p4/8AAWX/AOJo/tyy/wCnj/wFl/8Aia0M0ZotLuF49v6+4z/7csv+nj/wFl/+Jo/tyy/6eP8AwFl/+JrQzRmi0u4Xj2/r7jP/ALcsv+nj/wABZf8A4mj+3LL/AKeP/AWX/wCJrQzRmi0u4Xj2/r7jP/tyy/6eP/AWX/4mkbXrFFLMZ1AGSTaygD/x2tHNVtQ/5Bd1/wBcX/8AQTSfNbca5G9vx/4BYVg6hlOQRkH1paitP+PKD/rmv8qlqlsQ9GVtR/5Bd1/1xf8Akada/wDHlD/1zX+VN1H/AJBd1/1xf+Rp9p/x5w/9c1/lS+0V9gglvH3PEba4hHI+0EJtX/a+9/Ssq01S8bQr260sprEiTH7MhmVSU44Zumep9cYrfkjSWNo5UV0YYZWGQR9KrNpOnPZtZvYWzWzHLQGFdhPqVxilaXNfoac8PZuNtdClpmoXUujXF1cOstzGSWhkjNusRAHyZO4477uQc8cVW/4S0L4ej1Z9PmaOZlCRQneyZGcycYQDuSfT6VrQaTp1rbG3tbC1hgLbzFHCqqW9cAYzwOfarENvFbqVt40iUsWIRQASep471Wt7nPrc53XNQvW8GvqdpLiZIjMPsEyOpHqGYYcAc44z0qz4h1Q2Wk2zKyxreSrblpCUK70bGCPunOOe1akmnWUwjEtpA4jcyJuiB2MTncPQ55zUk9vDcxiO4hjlQMGCyKGAIOQcHuDW0pRdNQts3+mgdbnk3hKXXfD12LVbayN3PeQQXpZnYKgExO0biARtPOe5POa6BfFEuot/ZGtvZIdReFIo4GZZGglQ7j1yCG4yOOR3rrn0HSJI5Ek0qxZJX8yRWt0Id/7xGOTyeal/suwLRN9itsw7fKPlLmPbwuOOMAnGOlZjPMTq8Gq6zoWlqhuo7BlDum5mDMQjb5A2V+8owQdxz06106ahrTa3qkMc2npdQW0cjZR3WGPMpVCofDMcKd2V4bocCupg02xtd/2azt4fMbc/lxKu45zk4HJySfrUi2lus0sywRiWYBZHCDc4HQE98ZNLoHUw9f1a5h8CS6lasLe4ktkZZOCsJbHzHPYZznB6dKml1p4dcGjCFHbyBKJnnAyudpyMfeyRgd/UVoX+m2upaXNp11GDbTR+WyL8uB7Y6UqadartbyIzKpJEpQbtxGC2cdSByaOpLvbQx/DN658I6RELW4T/AECEedhNq/ux833s4/Ciy1O6bStQuNMdNYaObFtGZ1QsMDIZgMDncRx0xWtp2mx2OiWumuRPHb26QEsv3wqhcke+OlIdI042b2hsLU20hy8PkrsY+64wai0ua50qpD2bjbXQzrHVrv8AsO8vboiS5hyzWzxm3WLAzsyc5/3skHtgUN4nWPw3Hq7WM8qTbTHDbfvHAYAgv2TrzzgetaVvo+m2kPlWmn2sEe8SbI4FVdw6NgDr71Ygt4baLy7eJIkyTtRQBknJ4FVre5z63Oe1jULyfwTNqdnKFnWF5UFhOjg4Bx8zDDY6npkjFO8LahdXl7q8VzO1xFDcIYGZQDGrwo/lt0+YEk47Bhya2ZtOsp1Cz2dvIqv5ih4gcP8A3vr70yw0u306S6kg3GS7nM8zu2SzYC/gAqqAB2FbOcXTUba6/p/kFtTgfEup6rq2rTeHbtbIQpcS+ZIruiKggMkIkbnrhtwwfu1W8OeIdc0az0rTo7KyOmi2SRpUd2JEsrKpyzZHOTjB6HkZ49Oe0t5GYyQRsWOWJQHJxtyfw4+nFRNpOnPJBI1hal7ZQsDGFcxAdApx8o+lZLQq55hZPeX3xG0nWXFvNb3qNNbMJn4kFuwYfe4UHcNpHHJ5PNbVn4y1tNO0u81kaXawv5b375ZQiSNIAVJP+yp5967SPR9Nimili0+1SWFSsTrAoaMHOQpxwOT09TTYNE0u1V1ttNs4VkYM4jt1UMR0JwOSKOgjib3xHbadDD4jEsYutRtHRUZ28p3EkaD5CcZAyT0JxjNVdFnuNO8L2axxx21qb2FJFnV0lldpY2RFXefLwGJI+YcHjk16F/ZGmmKGI6fa+Xb/AOpTyVxH/ujHH4VLLZW02POt4pMSCUb0Bw46N9R69aezDfcoaRd6g95eWeqG3eWARuGt0ZQA4Py8k5wR14z6Csrwbqt7ceELO7vRd6hcXBkd5AE+XDkAdRgYFdTsVXZgqhmxuYDk46VQ0TRoNB0tbCykleBGZkErBigJzgHA4yT19aT20Ki0t1cqxX27xMkC345hZprSRl3ITjYABznG7PX+VReK7i6tLW2uLWW6RRcxRyfZynCs6gkhuW64wPXNaF1oWl3u83NjA7SMGdwgVmIIIyw56gVPPY21xMk0sETTxgiOYxgvHn+6SOKqhL2cuaauXWlGduRW0KHhrUZ9Q02YXWWltbqa1aUjHm+W5UP+IAz75rXqCysoNOs0trRNkSZwCSSSTkkk9SSSSe5NTmpMgooooAKKKKACiiigAooooAKKKKACiiigAqtqP/ILuv8Ari//AKCas1W1H/kF3X/XF/8A0E0pbDjuiSz/AOPGD/rmv8qmqGz/AOPGD/rmv8qmoWwS3ZW1H/kF3X/XFv5Gn2n/AB5Qf9c1/lTNR/5Bd1/1xb+Rp9p/x5Qf9c1/lR1K+wTUUUUyAooooAKKKKACiiigAooooAKKKKACiiigAooooAKKKKACiiigAooooAKKKKACiiigAooooAKKKKACiiigAopGdUxvYLngZOM0tABRRRQAUUUUAFFFFABRRRQAVW1H/kF3X/XFv5GrNVtR/wCQXdf9cW/kaT2HHdD7T/jyg/65r/KpqhtP+PKD/rmv8qmoWwS3ZW1H/kF3X/XFv5Gn2n/HlB/1zX+VM1H/AJBd1/1xb+Rp9p/x5Qf9c1/lR1K+wTUUUUyAooooAKKKKACiiigAooooA5T4mXur6f8AD3Urnw95gvURcNGMsi7huYe4Ga8o+DGveN9Q1S+ghnN/aLFvc6nNIUR8jG1sE5PPFfQVUtLvYb63me3h8pYriWAjA5KOVJ49SM1jKm3NSuYTouVRT5rWMvzPGH/Pton/AIEy/wDxFHmeMP8An20T/wACZv8A4iuhoq+XzNOXzOe8zxh/z7aJ/wCBM3/xFHmeMP8An20T/wACZv8A4iuhoo5fMOXzOe8zxh/z7aJ/4Ezf/EUeZ4w/59tE/wDAmb/4iuhoo5fMOXzOe8zxh/z7aJ/4Ezf/ABFHmeMP+fbRP/Amb/4iuhoo5fMOXzOe8zxh/wA+2if+BM3/AMRR5njD/n20T/wJm/8AiK6Gijl8w5fM57zPGH/Pton/AIEzf/EUeZ4w/wCfbRP/AAJm/wDiK6Gijl8w5fM57zPGH/Pton/gTN/8RR5njD/n20T/AMCZv/iK6Gijl8w5fM57zPGH/Pton/gTN/8AEUeZ4w/59tE/8CZv/iK6Gijl8w5fM57zPGH/AD7aJ/4Ezf8AxFHmeMP+fbRP/Amb/wCIroaKOXzDl8znvM8Yf8+2if8AgTN/8RR5njD/AJ9tD/8AAib/AOIroaKOXzDk8zzgLpFzr2rf8LGNkt5Ht+zxzSnyUg2LzFuxk7t2SPmzXT+CJJ5PClu1w0rrvkEDTEmRod7eUWzznZt68+taGrT2tutq13bLP5lwkKblB2MxxnmtAcdKIws7ijT5XcKKKKs0CiiigAooooAKKKKACq2o/wDILuv+uLfyNWaraj/yC7r/AK4t/I0nsOO6H2n/AB5Qf9c1/lU1Q2n/AB5Qf9c1/lU1C2CW7K2o/wDILuv+uLfyNPtP+PKD/rmv8qZqP/ILuv8Ari38jT7T/jyg/wCua/yo6lfYJJN/lN5QUvg7QxwM9s1514bu/ilJ4u1lfEdjpaWKpH9iEcpEJ5bJVgpYnpndjtgV6PRTIMPzvFP/AD56T/4FSf8AxFHneKf+fPSf/AqT/wCIrcooAw/O8U/8+ek/+BUn/wARR53in/nz0n/wKk/+IrcooAw/O8U/8+ek/wDgVJ/8RR53in/nz0n/AMCpP/iK3KKAMPzvFP8Az56T/wCBUn/xFHneKf8Anz0n/wACpP8A4ityigDD87xT/wA+ek/+BUn/AMRWR4Zk8SixvPKtNKx/aN1ndcyDnznz/B612dUNIs47K3nSKcTCS6mmJHYu5Yr+GcUAU/N8Uf8APppH/gVL/wDG6PN8Uf8APppH/gVL/wDG626KAMTzfFH/AD6aR/4FS/8AxujzfFH/AD6aR/4FS/8AxutuigDE83xR/wA+mkf+BUv/AMbo83xR/wA+mkf+BUv/AMbrbooAxPN8Uf8APppH/gVL/wDG6PN8Uf8APppH/gVL/wDG626KAMTzfFH/AD6aR/4FS/8AxujzfFH/AD6aR/4FS/8AxutuigDE83xR/wA+mkf+BUv/AMbo83xR/wA+mkf+BUv/AMbrbooAxPN8Uf8APppH/gVL/wDG6PN8Uf8APppH/gVL/wDG626KAMTzfFH/AD6aR/4FS/8AxujzfFH/AD6aR/4FS/8AxutuigDE83xR/wA+mkf+BUv/AMbo83xR/wA+mkf+BUv/AMbrbooAxPN8Uf8APppH/gVL/wDG6PN8Uf8APppH/gVL/wDG626KAON8RSeJTDp/m2ulAf2hBjbcyHJ3cfwdK1/N8U/8+mkf+BUv/wAbq3q9rFdpaCa4WARXUcylsfOVOdvPrWhQBieb4p/59NI/8Cpf/jdHm+Kf+fTSP/AqX/43W3RQBieb4p/59NI/8Cpf/jdHm+Kf+fTSP/AqX/43W3RQBieb4p/59NI/8Cpf/jdHm+Kf+fTSP/AqX/43W3RQBieb4p/59NI/8Cpf/jdcl4sv/ihb+IdGHhnTdNngcyC8VpWMO35cF2KhlPXG3PfivSKKAI7cytbxm5VFmKjeIySoPfBPaotR/wCQXdf9cW/kas1W1H/kF3X/AFxb+RpPYcd0PtP+PKD/AK5r/KpqhtP+PKD/AK5r/KpqFsEt2VtR/wCQXdf9cW/kafaf8eUH/XNf5Ul7G0thPHGMu8bKoz1JFUre/uo7aJG0i93KgBw0Pp/10pN2ZaV46GpRWf8A2lcf9Ai9/wC+of8A45R/aVx/0CL3/vqH/wCOUcyFyP8Apo0KKz/7SuP+gRe/99Q//HKP7SuP+gRe/wDfUP8A8co5kHI/6aNCis/+0rj/AKBF7/31D/8AHKP7SuP+gRe/99Q//HKOZByP+mjQorP/ALSuP+gRe/8AfUP/AMco/tK4/wCgRe/99Q//AByjmQcj/po0KKz/AO0rj/oEXv8A31D/APHKP7SuP+gRe/8AfUP/AMco5kHI/wCmiS4S9Mjss1v9n7x+QxcjuMh+v4VneG/nkv5/7PubDzpQRHMgQYChRgAnsMk+/tV3+0rj/oEXv/fUP/xyj+0rj/oEXv8A31D/APHKiy5r6m6nJU3Cy1t1X9P5mhRWf/aVx/0CL3/vqH/45R/aVx/0CL3/AL6h/wDjlXzIw5H/AE0aFFZ/9pXH/QIvf++of/jlH9pXH/QIvf8AvqH/AOOUcyDkf9NGhRWf/aVx/wBAi9/76h/+OUf2lcf9Ai9/76h/+OUcyDkf9NGhRWf/AGlcf9Ai9/76h/8AjlH9pXH/AECL3/vqH/45RzIOR/00aFFZ/wDaVx/0CL3/AL6h/wDjlH9pXH/QIvf++of/AI5RzIOR/wBNGhRWf/aVx/0CL3/vqH/45R/aVx/0CL3/AL6h/wDjlHMg5H/TRoUVn/2lcf8AQIvf++of/jlH9pXH/QIvf++of/jlHMg5H/TRoUVn/wBpXH/QIvf++of/AI5R/aVx/wBAi9/76h/+OUcyDkf9NGhRWf8A2lcf9Ai9/wC+of8A45R/aVx/0CL3/vqH/wCOUcyDkf8ATRoUVn/2lcf9Ai9/76h/+OUf2lcf9Ai9/wC+of8A45RzIOR/00Z3jK0kvtFe2tYfMu5OIc2/mLnI+Vm/gB4G7Ix1HSugTOwbgAccgVQ/tK4/6BF7/wB9Q/8Axyj+0rj/AKBF7/31D/8AHK1lWvBQttf8f+GF7N3v+qNCis/+0rj/AKBF7/31D/8AHKP7SuP+gRe/99Q//HKy5kPkf9NGhRWf/aVx/wBAi9/76h/+OUf2lcf9Ai9/76h/+OUcyDkf9NGhRWf/AGlcf9Ai9/76h/8AjlH9pXH/AECL3/vqH/45RzIOR/00aFFZ/wDaVx/0CL3/AL6h/wDjlH9pXH/QIvf++of/AI5RzIOR/wBNGhVbUf8AkF3X/XFv5GoP7SuP+gRe/wDfUP8A8cqG8vbqeyniTR73c8bKMtD1I/66UOSt/wAAag0/+CjQtP8Ajyg/65r/ACqao7ZSlrEjDDKgBHvipKa2Ie4UVBfMyafcOhwyxMQR2OKpWulQSWsTvLeFmQE/6dN1x/v0Nu+g0la7NSiqH9jW3/PW9/8AA6b/AOLpP7Gtv+et7/4HTf8AxdL3uw7R7/195oUVn/2Nbf8APW9/8Dpv/i6P7Gtv+et7/wCB03/xdHvdgtHv/X3mhRWf/Y1t/wA9b3/wOm/+Lo/sa2/563v/AIHTf/F0e92C0e/9feaFFZ/9jW3/AD1vf/A6b/4uj+xrb/nre/8AgdN/8XR73YLR7/195oUVn/2Nbf8APW9/8Dpv/i6P7Gtv+et7/wCB03/xdHvdgtHv/X3mhRWf/Y1t/wA9b3/wOm/+Lo/sa2/563v/AIHTf/F0e92C0e/9feaFFZ/9jW3/AD1vf/A6b/4uj+xrb/nre/8AgdN/8XR73YLR7/195oUVn/2Nbf8APW9/8Dpv/i6P7Gtv+et7/wCB03/xdHvdgtHv/X3mhRWf/Y1t/wA9b3/wOm/+Lo/sa2/563v/AIHTf/F0e92C0e/9feaFFZ/9jW3/AD1vf/A6b/4uj+xrb/nre/8AgdN/8XR73YLR7/195oUVn/2Nbf8APW9/8Dpv/i6P7Gtv+et7/wCB03/xdHvdgtHv/X3mhRWf/Y1t/wA9b3/wOm/+Lo/sa2/563v/AIHTf/F0e92C0e/9feaFFZ/9jW3/AD1vf/A6b/4uj+xrb/nre/8AgdN/8XR73YLR7/195oUVn/2Nbf8APW9/8Dpv/i6P7Gtv+et7/wCB03/xdHvdgtHv/X3mhRWf/Y1t/wA9b3/wOm/+Lo/sa2/563v/AIHTf/F0e92C0e/9feaFFZ/9jW3/AD1vf/A6b/4uj+xrb/nre/8AgdN/8XR73YLR7/195oUVn/2Nbf8APW9/8Dpv/i6P7Gtv+et7/wCB03/xdHvdgtHv/X3mhRWf/Y1t/wA9b3/wOm/+Lo/sa2/563v/AIHTf/F0e92C0e/9feaFFZ/9jW3/AD1vf/A6b/4uj+xrb/nre/8AgdN/8XR73YLR7/195oUVn/2Nbf8APW9/8Dpv/i6P7Gtv+et7/wCB03/xdHvdgtHv/X3mhRWf/Y1t/wA9b3/wOm/+Lo/sa2/563v/AIHTf/F0e92C0e/9feaFFZ/9jW3/AD1vf/A6b/4uobzSoIrGeRJr0MkbMD9um4IH+/Q3JdASi3v/AF95rUVFasXs4WY5Zo1JPrxUtUS9GVtR/wCQXdf9cX/9BNPs/wDjxg/65r/Kmaj/AMgu6/64v/6CafZ/8eMH/XNf5UupX2CNtSskujbNdwCcMFMRkG7J5Ax15pX1C0jvo7N54xcyAlYQctgDOcdh7niqn9in/hIBq32p/N8swlNi4MechfXg85pLXw/b2GqTXunySW/2lzJcwg7kmY/xc5KnPoR9KF5mepozyPHCzRR+a/8ACmcZ/HsKoDXLdPD0mr3KSQwQo7SqRuK7SQenXp1p1xotsbeQWCRWE7qVFxBCm9c9ccVJaWDW+lCymuGnIQoZWRVJB9lAAx9Km8r7HQ1S9no9b/O35fqcL4l8fXcepwJot5ZQWMVxAtxLMr+Y4cB2UDaQB5ZBGMk57V1+ieKdK8Qy3EelXHnG3I3/ACkDnPIz9P5eorNtfAlpZ28UNve3IVZ4Z5iSMztH03H0Jxx/sgVc0TwxDomqXt5DMG+1MzFBEqYLSM5yR94/NjJ7AVpoc5qvqVlHdfZnu4FnyB5RkAbJ6cdearR67ZHUxp9wzWt25YRRXA2eeB1KHo/HOAcgdQKa2jFtfTVTdN5qxmHZsXBjJB2+vUdagsvD7WesSX/2lJTI7M2+DdJg5wockkAZ6Dj2qVfqNdblmw1c3uqXlk9v5TWoU7hKHyGzgHH3TxnHoRWlWbZaQttq1xqUsgluZ41iLLGEwgJIBx1OT1NaXUVtV5Ob3NtP+CJX6nn/AIm8d3dp4ksdK0iWyjS5fa0k6Sl8rKUkAwpUcK2M5z7da3oPHWhXFvDNFcyGOef7PGxhYAtuCenTJxmoLjwWkrDGoTBft73oDIrFdxyYwT0XJJ/GnR+DVSC4iW/dElJZGihRWQmUSFicEMcqByOlZDJH8RPb6pcyXDQjS0ikKSBWMgkjdY2XHf5iQO5/nl6D4rvU0O2TVriK41CSdYy4hcBVMqqTJhQFJ3ADjHTkg5qWf4erc6bb2cmt3xWKSR3f5S0weQSENkEH5lz+PatAeD7SHS4tPsppba3ju4rjCnJYR7SEJPJBKAnvTA0rDWrXUbq4t7fzBJBgt5kZUMMkblJHIypGR6VFba/bTz3yzFbaK0uvsglmkCiSTaGIH/fQA9atLYqurS3+9t8kCQlewCsxz/49+lYa+GZp7XV9OupxHZXl288XlAEhWVTtwR8uHBPfOanWwnfoXodegbWbqKS6txZpBbvFJvGGd3lUjdnB+4OPrWg2oWa2JvGuoRbAZ84yDZ1x97p1rBufD0+o6hqNteTyC2uLG3heZY1HmlWmJA7DG5T+NaN74fttSgtBfvI9xaHdDcxnY0bYxuAHy/gQRQr31DU0oZ47i3SeE7o5FDKcEZB6daqpqLf2uLGW2aPfG0kcm4EMFIByO33hj1pTpdtPFGNQihvJUQL5s0Kkn36cfhUNppM1tq0l4b+R4mXYlt5SKkYHQAgZwPTNJ819Dopqnytyetvx8rfroZeveMrbT/tFnYPE2ppPFbpHcBxHvk5XJAJxgH6kYyOtY3hT4h2smmQx+ItThnv57h0U28Z2hcjb2HY574554NdHqXhS01PXI9UuJpfNi8kxoMbUaOQuG+pyVz2BOOpqhL4Eglt7VJL6SWWFpmaeaJXd/NYM2CfunjGR2Jql5mJ09xdW9nGHupo4ULBQ0jBQSegye9U7rW7S1tkuj5k1o27dcW6+akeOu7bkgdecYGDnFO1nS11nTZbGaZo4JlKShVBLKR056VT1Dw82o2tpFLdhvs4O4Swhkl6Y3JkKcY4yDSV7i6j9Q8Qw2tjaXtosd7a3ToEljnUBg5AUr/eznPHYHmpdI1uPVdLmvPJeHyJpoJYz82Gicq2MdRlTj1qLUdB/tPTIbG8mRrddplRYFG8ggjH93p2pfDmm3OnWNw1+Ua6urqW4co27AZyVXdgZ2rhfwraXJyLl31v+Fv1BeZx3i34hTvpg/wCERvLOJ2tkuGnulbKh2wgUbSOSrAk56YxmuksfHWg380kFve+ZJEqliI2AOWVeOP7zAVXPgGzW1u44b25je8G2aUEbmTzC+zpwuDtx6Z9TRfeBILzUL+6jvZLZ7wE7oYlV0b93ht3U4MQIHuaz6B1MPQ/iNPc32p3euT2cOm2EbKUtYpWbf5iqPvL8w5ABGM7uneusHi/RzcSwee4khtmunBiYYjXGT09xxVSfwZHcz6k8t6xF9AISvkrhR8uT/tZ2jP1NR6h4H/tCw8h9WuIGIlV2to1jDrJtyuOwwgHBH1qdbDdiDWtf1Sz0nWIHlht79ZCmnvEhfO4Fk3DB/hHPGKs2vi5PLsxcOkjspNw8UMhUny94RDjl8FTjA4J6dKTVfAttrWrrd6hf3Ulvtj8y0BASQp0JPUZ4zjHStKPw9HFdaXKt1Ls05GVYsDbISu3c3uBTEXLfVbW40t9QDNHBGH8wyqVKbCQ2QemCD+VP0+8N/YRXXktCsy70VyN209CfQkYOO1VZNDgm0O+0uV3aC98/eehAlZicfTcahtvD9ndWFuNe0zT7u8hjETStAr7gvAILDIz1x2zQAqeLNEfUxp63ym6Y4Eflv67Qc4wATwDnBPAJNbFc5H4MtbfUJL23vbwO6onks6+XsRi0aY25CqxJ4OecEkcVpxaZHc2sDaxbWlzeCMCR/KBGe+MjOM0ne2hStfXYNQ1OSxuIY1tGlWZxGrBwPnIJAx6ccntS2es2t3p8V3uaJZJfJ2SD5kkDbChx3DAiob7S7ibUILuC9kRLcfLaqibXP+8QSM9MjtUFh4dWHQZLO6kKz3Fw93JLCfuTNJ5mVz/dOMZHOORzUxcru5pUUOWPLv13/X9DXa5hS5jt2cCaRWdE9QuMn8Nw/Oud03xi2oafpl6dOMUOpS+XEDcKW5JAO3AyeCSB0HPPONWy0qWG8N5fXj3lyI/KRjGEVFyCcAdyQMk+g6VgaH4VvE8K6Zpur+Sj6e4dUTDh3R96MHxlRnGRjtXRR5Ob95sYSvbQ6bUdTtNKthPfzeVGTjO0t2JPAB4ABJPQAEms+DxZpl3Fb3FlKbi0mlWEzqpARnx5ZIIBKsSAGHByOxzUl5o0mr6LDbapcyRXIQiSazbbyVKtjIPBBI6Z7jBqhJ4TVNPtdMglkktFlhaWSdwXWOFg0ca4AzyoGTzjOSTWQzpqrah/yDbr/ri/8jVmq2of8g26/wCuL/yNJ7Djuh9n/wAeMH/XNf5VNUNn/wAeMH/XNf5VNQtgluytqP8AyC7r/ri//oJp9n/x4wf9c1/lTNR/5Bd1/wBcX/8AQTT7P/jxg/65r/KjqV9gmooopkBRRRQAUUUUAFFFFABRRRQAUUUUAFFFFABRRRQAUUUUAFFFFABRRRQAUUUUAFFFFABRRRQAUUUUAFFFFABRRRQAUUUUAFFFFABRRRQAUUUUAFVtQ/5Bt1/1xf8Akas1W1D/AJBt1/1xf+RpPYcd0Ps/+PGD/rmv8qmqGz/48YP+ua/yqahbBLdlbUf+QXdf9cX/APQTT7P/AI8YP+ua/wAqZqP/ACC7r/ri/wD6CafZ/wDHjB/1zX+VHUr7BNUc88dtbyTzuEijUs7HoAOpqSimQcVpvxa8JapdXcUN+yJbMq+bJEwWQnP3eM8Y7gda0f8AhYPhf/oLR/8Aft//AImte10jT7K5uLi0s4IJbogzPHGFMhGcE469TVvy1/uj8qhKfV/h/wAEySqdWvu/4Jzv/CwfC/8A0Fo/+/b/APxNH/CwfC//AEFo/wDv2/8A8TXReWv90flR5a/3R+VO0u/9feVafdfd/wAE53/hYPhf/oLR/wDft/8A4mj/AIWD4X/6C0f/AH7f/wCJrovLX+6Pyo8tf7o/Ki0u/wDX3hafdfd/wTnf+Fg+F/8AoLR/9+3/APiaP+Fg+F/+gtH/AN+3/wDia6Ly1/uj8qPLX+6PyotLv/X3hafdfd/wTlL34g6S6RW+hTx3+o3Mqw28BDIpY92JHAAyT9KtWWq6xZa9bab4hSzkF6jm3uLNXUB1AJRlYntkg57dK0dZ0SDWtP8As0jvA6ussM8PDwyKcqw/+vwRkVS0vQZF1VdT1PV31W4gRoYf3aRpDk4bCr/EcYJJ9uKVpXItPm1N+iiirNgooooAKKKKACiiigAooooAKKKKACiiigAooooAKKKKACiiigDyj4jfGSXwb4nGj6fpkd28SK87yuV+8MhRj2xzXUaV8TfDeo6Ta3k18LWSaMO0LoxKE9sgYNM8X/DTwz4u1KDUNZSSK5XEZkhl2eaOyn1/nXUWOmWmmafBZWMCQ29ugSNFHCgVilU5nroc8Y1udttW6GL/AMLB8L/9BaP/AL9v/hR/wsHwv/0Fo/8Av2/+FdD5Sf3V/Kjyk/ur+VV7/f8Ar7zS0+6/r5nPf8LB8L/9BaP/AL9v/hR/wsHwv/0Fo/8Av2/+FdD5Sf3V/Kjyk/ur+VHv9/6+8LT7r+vmc9/wsHwv/wBBaP8A79v/AIUf8LB8L/8AQWj/AO/b/wCFdD5Sf3V/Kjyk/ur+VHv9/wCvvC0+6/r5nHap8V/CulNbGa+aWOeTYZIomIj4zkgjp9M111pdQ31nFdWsglhmUOjjowPQ1Bd6RYX8kEl7aQztbPvh8xA2xumQPWroGBgVS5r6jip395hVbUP+Qbdf9cX/AJGrNVtQ/wCQbdf9cX/kab2NI7ofZ/8AHjB/1zX+VTVDZ/8AHjB/1zX+VTULYJbsraj/AMgu6/64v/6CafZ/8eMH/XNf5UzUf+QXdf8AXFv5Gn2n/HlB/wBc1/lR1K+wSSSJDE8kjbURSzE9gK4fRPjD4R8Qa1qGn2F5IBYBd9xLEypISSML3OMdwK7qqVvo+nWmp3Go2tlBDeXSqs88aBWlC5xuI64yetMgof8ACZ+H/wDoJxfk3+FH/CZ+H/8AoJxfk3+FblFAGH/wmfh//oJxfk3+FH/CZ+H/APoJxfk3+FblFAGH/wAJn4f/AOgnF+Tf4Uf8Jn4f/wCgnF+Tf4VuUUAYf/CZ+H/+gnF+Tf4Uf8Jn4f8A+gnF+Tf4VuUUAYf/AAmfh/8A6CcX5N/hWR4a8W6HFY3gl1GNSdRumGVboZmI7eldnWR4cglt7K7WeNo2a/uXAYYyrTMQfoQc0AR/8Jl4f/6CcX/fLf4Uf8Jl4f8A+gnF/wB8t/hW3RQBif8ACZeH/wDoJxf98t/hR/wmXh//AKCcX/fLf4Vt0UAYn/CZeH/+gnF/3y3+FH/CZeH/APoJxf8AfLf4Vt0UAYn/AAmXh/8A6CcX/fLf4Uf8Jl4f/wCgnF/3y3+FbdFAGJ/wmXh//oJxf98t/hR/wmXh/wD6CcX/AHy3+FbdFAGJ/wAJl4f/AOgnF/3y3+FH/CZeH/8AoJxf98t/hW3RQBif8Jl4f/6CcX/fLf4Uf8Jl4f8A+gnF/wB8t/hW3RQBif8ACZeH/wDoJxf98t/hR/wmXh//AKCcX/fLf4Vt0UAYn/CZeH/+gnF/3y3+FH/CZeH/APoJxf8AfLf4Vt0UAYn/AAmXh/8A6CcX/fLf4Uf8Jl4f/wCgnF/3y3+FbdFAHG+IfFuhSxaf5eoxtt1CBj8rcAN16Vr/APCZeH/+gnD+Tf4VJ4ht5biLT/IjaTy9QgdtoztUNyfpWuKAMT/hMvD/AP0E4fyb/Cj/AITLw/8A9BOH8m/wrbooAxP+Ey8P/wDQTh/Jv8KP+Ey8P/8AQTh/Jv8ACtuigDE/4TLw/wD9BOH8m/wo/wCEy8P/APQTh/Jv8K26KAMT/hMvD/8A0E4fyb/CsDX/AIw+EfDep6faaheSFL4sFniiLJERj73fnPYHpXdVRvNE0zUNQtb2+sYLm5tN32eWVAxizjJXPQ8DmgC1bzx3VvHPAweKVQ6MO4PINRah/wAg26/64v8AyNWaraj/AMgu6/64t/I0nsOO6H2f/HjB/wBc1/lU1Q2n/HlB/wBc1/lU1C2CW7K2o/8AILuv+uLfyNPtP+PKD/rmv8qZqP8AyC7r/ri38jT7T/jyg/65r/KjqV9gmooopkBRRRQAUUUUAFFFFABRRRQBVlv41mMASfzM4BFtIVz/ALwXGPxqtpMtzJNdrcTrPGkoEMm0KSNo3cDsGyAfatJlDqVYZDDBFU9O0jT9JWRdNs4bUSHc4iQLuPqai0uY3UqaptW107P8en4l2iiirMAooooAKKKKACiiigAooooAKKKKACiiigAooooAKKKKACiiigDE8WX13pmhyX1nJIn2fDP5cIk4yMlgedoGSdvzenvtIdyAjoeRUF1Y217s+1wrL5ZyoYZAP0/CrFaSlF04xS1V/wBBdbhRRRWYwooooAKKKKACiiigAqtqP/ILuv8Ari38jVmq2o/8gu6/64t/I0nsOO6H2n/HlB/1zX+VTVDaf8eUH/XNf5VNQtgluxGUOpVgCCMEHvVH+wdI/wCgXZf+A6f4VfooaT3BNrYof2DpP/QLsv8AwHT/AAo/sHSf+gXZf+A6f4Vfopcsew+eXcof2DpP/QLsv/AdP8KP7B0n/oF2X/gOn+FX6KOWPYOeXcof2DpP/QLsv/AdP8KP7B0n/oF2X/gOn+FX6KOWPYOeXcof2DpP/QLsv/AdP8KP7B0n/oF2X/gOn+FX6KOWPYOeXcof2DpP/QLsv/AdP8KP7B0n/oF2X/gOn+FX6KOWPYOeXcof2DpP/QLsv/AdP8KP7B0n/oF2X/gOn+FX6KOWPYOeXcof2DpP/QLsv/AdP8KP7B0n/oF2X/gOn+FX6KOWPYOeXcof2DpP/QLsv/AdP8KP7B0n/oF2X/gOn+FX6KOWPYOeXcof2DpP/QLsv/AdP8KP7B0n/oF2X/gOn+FX6KOWPYOeXcof2DpP/QLsv/AdP8KP7B0n/oF2X/gOn+FX6KOWPYOeXcof2DpP/QLsv/AdP8KP7B0n/oF2X/gOn+FX6KOWPYOeXcof2DpP/QLsv/AdP8KP7B0n/oF2X/gOn+FX6KOWPYOeXcof2DpP/QLsv/AdP8KP7B0n/oF2X/gOn+FX6KOWPYOeXcof2DpP/QLsv/AdP8KP7B0n/oF2X/gOn+FX6KOWPYOeXcof2DpP/QLsv/AdP8KP7B0n/oF2X/gOn+FX6KOWPYOeXcof2DpP/QLsv/AdP8KP7B0n/oF2X/gOn+FX6KOWPYOeXcof2DpP/QLsv/AdP8KP7B0n/oF2X/gOn+FX6KOWPYOeXcof2DpP/QLsv/AdP8KP7B0n/oF2X/gOn+FX6KOWPYOeXcof2DpP/QLsv/AdP8KP7B0n/oF2X/gOn+FX6KOWPYOeXcof2DpP/QLsv/AdP8KP7B0n/oF2X/gOn+FX6KOWPYOeXcof2DpP/QLsv/AdP8KP7B0n/oF2X/gOn+FX6KOWPYOeXcof2DpP/QLsv/AdP8KP7B0j/oF2X/gMn+FX6KOWPYOeXcQAKoAGAOgFLRRVEn//2Q==)\r\n",
        "\r\n",
        "\r\n",
        "[a:b]->[a,b)"
      ]
    },
    {
      "cell_type": "code",
      "metadata": {
        "colab": {
          "base_uri": "https://localhost:8080/"
        },
        "id": "s1qaK86fjZoc",
        "outputId": "38f28b1b-f620-4eb8-fb06-4ad01c7ef5e9"
      },
      "source": [
        "print(t)\r\n",
        "print(t[7:9])  ##ข้างหน้า : คือจุดเริ่มต้น(ทุกตัวที่อยู่หลังตัวนี้) ข้างหลัง : คือจุดสิ้นสุด(เอาทุกตัวที่อยู่หน้าตรงนี้) ผลลัพธ์คือระหว่างหน้าและหลังของ :\r\n",
        "print(len(t[7:9])) "
      ],
      "execution_count": null,
      "outputs": [
        {
          "output_type": "stream",
          "text": [
            "python is easy\n",
            "is\n",
            "2\n"
          ],
          "name": "stdout"
        }
      ]
    },
    {
      "cell_type": "code",
      "metadata": {
        "colab": {
          "base_uri": "https://localhost:8080/",
          "height": 35
        },
        "id": "dFDvUDHUl6u-",
        "outputId": "4fa1b351-2660-478a-ec5d-b9571adfd89b"
      },
      "source": [
        "t[0:14:2]"
      ],
      "execution_count": null,
      "outputs": [
        {
          "output_type": "execute_result",
          "data": {
            "application/vnd.google.colaboratory.intrinsic+json": {
              "type": "string"
            },
            "text/plain": [
              "'pto ses'"
            ]
          },
          "metadata": {
            "tags": []
          },
          "execution_count": 51
        }
      ]
    },
    {
      "cell_type": "code",
      "metadata": {
        "colab": {
          "base_uri": "https://localhost:8080/"
        },
        "id": "SWmKMovroMvL",
        "outputId": "c2b078d1-740b-4f76-e9e5-a6654ec5b2ff"
      },
      "source": [
        "z = [1,2,3,4,5,6,7,8,9,10]\r\n",
        "print(z[1:10:2]) ##หน้า : คือเอาตัวแรก หลัง : คือเอาตัวที่ 2"
      ],
      "execution_count": null,
      "outputs": [
        {
          "output_type": "stream",
          "text": [
            "[2, 4, 6, 8, 10]\n"
          ],
          "name": "stdout"
        }
      ]
    },
    {
      "cell_type": "markdown",
      "metadata": {
        "id": "guj0Ha-QoTiB"
      },
      "source": [
        "##quiz\r\n",
        "ให้ใช้ list slicing เลือกมาเฉพาะเลขคู่"
      ]
    },
    {
      "cell_type": "markdown",
      "metadata": {
        "id": "2o9dbmpYn7Wo"
      },
      "source": [
        "ถ้าเว้นว่างหน้า : แปลว่า เริ่มตั้งแต่ตัวแรก (ตัวที่ 0)\r\n",
        "\r\n",
        "ถ้าเว้นว่างหลัง : แปลว่า ไปจนถึงตัวสุดท้าย (len(list))"
      ]
    },
    {
      "cell_type": "code",
      "metadata": {
        "colab": {
          "base_uri": "https://localhost:8080/"
        },
        "id": "BecNVQ5Un4Y2",
        "outputId": "19d276ce-e477-46e1-b994-edc41cab1d82"
      },
      "source": [
        "print(t)\r\n",
        "print(t[:6]) ##ไม่ใส่ตัวเลขหน้า : หมายความว่าหน้า : คือตัวที่ 0\r\n",
        "print(t[10:]) ##นับจากข้างหน้าเพราะเป็นตัวเต็มบวก\r\n",
        "print(t[-4:]) ##นับจากข้างหลังเพราะใช้ -\r\n",
        "print(t[:])"
      ],
      "execution_count": null,
      "outputs": [
        {
          "output_type": "stream",
          "text": [
            "python is easy\n",
            "python\n",
            "easy\n",
            "easy\n",
            "python is easy\n"
          ],
          "name": "stdout"
        }
      ]
    },
    {
      "cell_type": "code",
      "metadata": {
        "colab": {
          "base_uri": "https://localhost:8080/"
        },
        "id": "X8TH1Lu4qO8n",
        "outputId": "a31d753e-b0c9-468a-b993-eb85fad1bfff"
      },
      "source": [
        "print(z[::2])"
      ],
      "execution_count": null,
      "outputs": [
        {
          "output_type": "stream",
          "text": [
            "[1, 3, 5, 7, 9]\n"
          ],
          "name": "stdout"
        }
      ]
    },
    {
      "cell_type": "markdown",
      "metadata": {
        "id": "y7D_Lpbspkf6"
      },
      "source": [
        "##เราสามารถเอา list มาต่อกันได้ด้วย +"
      ]
    },
    {
      "cell_type": "code",
      "metadata": {
        "colab": {
          "base_uri": "https://localhost:8080/",
          "height": 35
        },
        "id": "7R3dxzWGpi-u",
        "outputId": "1c86d8cb-97c9-43c9-c305-20c2ae5df814"
      },
      "source": [
        "t + '??'"
      ],
      "execution_count": null,
      "outputs": [
        {
          "output_type": "execute_result",
          "data": {
            "application/vnd.google.colaboratory.intrinsic+json": {
              "type": "string"
            },
            "text/plain": [
              "'python is easy??'"
            ]
          },
          "metadata": {
            "tags": []
          },
          "execution_count": 60
        }
      ]
    },
    {
      "cell_type": "code",
      "metadata": {
        "colab": {
          "base_uri": "https://localhost:8080/",
          "height": 163
        },
        "id": "p6kFOe6or8FA",
        "outputId": "dfda25ca-a96e-43f5-bfa6-d7ee4444fb89"
      },
      "source": [
        "t + list_b ##ไม่สามารถเอา list ปกติมาต่อกับ string ได้ เพราะจะ error"
      ],
      "execution_count": null,
      "outputs": [
        {
          "output_type": "error",
          "ename": "TypeError",
          "evalue": "ignored",
          "traceback": [
            "\u001b[0;31m---------------------------------------------------------------------------\u001b[0m",
            "\u001b[0;31mTypeError\u001b[0m                                 Traceback (most recent call last)",
            "\u001b[0;32m<ipython-input-62-738f21f7efee>\u001b[0m in \u001b[0;36m<module>\u001b[0;34m()\u001b[0m\n\u001b[0;32m----> 1\u001b[0;31m \u001b[0mt\u001b[0m \u001b[0;34m+\u001b[0m \u001b[0mlist_b\u001b[0m \u001b[0;31m##ไม่สามารถเอา list ปกติมาต่อกับ string ได้ เพราะจะ error\u001b[0m\u001b[0;34m\u001b[0m\u001b[0;34m\u001b[0m\u001b[0m\n\u001b[0m",
            "\u001b[0;31mTypeError\u001b[0m: must be str, not list"
          ]
        }
      ]
    },
    {
      "cell_type": "code",
      "metadata": {
        "colab": {
          "base_uri": "https://localhost:8080/"
        },
        "id": "jdhNKfJdsERk",
        "outputId": "589a15ee-2f88-4585-d1d3-cdf787953170"
      },
      "source": [
        "list_b + list_a"
      ],
      "execution_count": null,
      "outputs": [
        {
          "output_type": "execute_result",
          "data": {
            "text/plain": [
              "[111, 'c', 'หวัดดี', 1092, 'u', 'python is easy']"
            ]
          },
          "metadata": {
            "tags": []
          },
          "execution_count": 63
        }
      ]
    },
    {
      "cell_type": "code",
      "metadata": {
        "colab": {
          "base_uri": "https://localhost:8080/"
        },
        "id": "ka-h0AuNsWWf",
        "outputId": "31d5909b-db35-4712-a8bb-de7f40b4d109"
      },
      "source": [
        "print(list_a)\r\n",
        "print(list_b)\r\n",
        "print(list_b + list_a) ##  + เอาสมาชิกมารวมกัน\r\n"
      ],
      "execution_count": null,
      "outputs": [
        {
          "output_type": "stream",
          "text": [
            "[]\n",
            "[111, 'c', 'หวัดดี', 1092, 'u', 'python is easy', []]\n",
            "[111, 'c', 'หวัดดี', 1092, 'u', 'python is easy', []]\n"
          ],
          "name": "stdout"
        }
      ]
    },
    {
      "cell_type": "code",
      "metadata": {
        "colab": {
          "base_uri": "https://localhost:8080/"
        },
        "id": "VaQI7iRLtFQp",
        "outputId": "fe3adc5f-07fe-450d-926c-8673954d01b1"
      },
      "source": [
        "list_b.append(list_a) ##หมายความว่านี้คือ list b ที่อัพเดทเพิ่ม list a (เอามาเพิ่มใส่กัน)\r\n",
        "print(list_b)"
      ],
      "execution_count": null,
      "outputs": [
        {
          "output_type": "stream",
          "text": [
            "[111, 'c', 'หวัดดี', 1092, 'u', 'python is easy', [], []]\n"
          ],
          "name": "stdout"
        }
      ]
    },
    {
      "cell_type": "markdown",
      "metadata": {
        "id": "pCSoc1X8sMgs"
      },
      "source": [
        "##การแบ่ง string ตามสัญลักษณ์ที่กำหนด -> split string"
      ]
    },
    {
      "cell_type": "code",
      "metadata": {
        "colab": {
          "base_uri": "https://localhost:8080/"
        },
        "id": "SnyoTuFut4gZ",
        "outputId": "a99ac7f1-e042-45d7-a9fb-10a0c9efe027"
      },
      "source": [
        "print(t)"
      ],
      "execution_count": null,
      "outputs": [
        {
          "output_type": "stream",
          "text": [
            "python is easy\n"
          ],
          "name": "stdout"
        }
      ]
    },
    {
      "cell_type": "code",
      "metadata": {
        "colab": {
          "base_uri": "https://localhost:8080/"
        },
        "id": "hwXkWRrysLsM",
        "outputId": "5dbf4399-d417-4a09-851d-1866dd7667fc"
      },
      "source": [
        "t.split(' ') ##แบ่งสมาชิกด้วยช่องว่าง ' '"
      ],
      "execution_count": null,
      "outputs": [
        {
          "output_type": "execute_result",
          "data": {
            "text/plain": [
              "['python', 'is', 'easy']"
            ]
          },
          "metadata": {
            "tags": []
          },
          "execution_count": 76
        }
      ]
    },
    {
      "cell_type": "code",
      "metadata": {
        "colab": {
          "base_uri": "https://localhost:8080/"
        },
        "id": "DY_0irXVtw0N",
        "outputId": "52874824-c69b-4c69-cfc0-1946b3e92480"
      },
      "source": [
        "time = '12:30:15'\r\n",
        "time.split(':')"
      ],
      "execution_count": null,
      "outputs": [
        {
          "output_type": "execute_result",
          "data": {
            "text/plain": [
              "['12', '30', '15']"
            ]
          },
          "metadata": {
            "tags": []
          },
          "execution_count": 77
        }
      ]
    },
    {
      "cell_type": "code",
      "metadata": {
        "colab": {
          "base_uri": "https://localhost:8080/"
        },
        "id": "r3uUNJqVt3Fs",
        "outputId": "72e4b01d-bc5e-443b-e000-395aa32a28ae"
      },
      "source": [
        "t_sp = t.split(':')\r\n",
        "print(t_sp)"
      ],
      "execution_count": null,
      "outputs": [
        {
          "output_type": "stream",
          "text": [
            "['python is easy']\n"
          ],
          "name": "stdout"
        }
      ]
    },
    {
      "cell_type": "code",
      "metadata": {
        "colab": {
          "base_uri": "https://localhost:8080/"
        },
        "id": "yMH0ayxju8D4",
        "outputId": "4569d93c-0f89-4a8d-bf1d-5e702f972f90"
      },
      "source": [
        "##วิธีรวมกลับเป็นเหมือนเดิม\r\n",
        "print(':'.join(t_sp))"
      ],
      "execution_count": null,
      "outputs": [
        {
          "output_type": "stream",
          "text": [
            "python is easy\n"
          ],
          "name": "stdout"
        }
      ]
    },
    {
      "cell_type": "markdown",
      "metadata": {
        "id": "EmoCT_pyvvm8"
      },
      "source": [
        "### Homework คำนวนเวลาเป็นวินาทีของเวลาต่อไปนี้โดยใช้คำสั่ง split() ช่วย (print ออกมาให้สวยงาม)\r\n",
        "\r\n",
        "12:30:15\r\n",
        "\r\n",
        "13:14:07\r\n",
        "\r\n",
        "12:53:15\r\n",
        "\r\n",
        "00:59:25\r\n",
        "\r\n",
        "11:11:11\r\n",
        "\r\n",
        "16:06:09\r\n",
        "\r\n",
        "21:12:30\r\n",
        "\r\n",
        "10:06:15\r\n",
        "\r\n",
        "00:01:10\r\n",
        "\r\n",
        "ตัวอย่าง > 00:01:10 = 70 วินาที\r\n",
        "\r\n",
        "ตัวอย่าง > 01:00:01 = 3601 วินาที"
      ]
    },
    {
      "cell_type": "code",
      "metadata": {
        "id": "-gF3zbhrv3Ng",
        "colab": {
          "base_uri": "https://localhost:8080/",
          "height": 231
        },
        "outputId": "fed71698-40bd-45bb-89ca-70ea4ea8a3d1"
      },
      "source": [
        "q1 = '12:30:15'\r\n",
        "sdgkopfdkh ##อธิบายว่าทำอะไร\r\n",
        "\r\n",
        "plshdgkofpskah\r\n",
        "dslgh,zlpg\r\n",
        "\r\n",
        "print()  ## ต้องทำการบ้านแปปนี้"
      ],
      "execution_count": 83,
      "outputs": [
        {
          "output_type": "error",
          "ename": "NameError",
          "evalue": "ignored",
          "traceback": [
            "\u001b[0;31m---------------------------------------------------------------------------\u001b[0m",
            "\u001b[0;31mNameError\u001b[0m                                 Traceback (most recent call last)",
            "\u001b[0;32m<ipython-input-83-af741c780a11>\u001b[0m in \u001b[0;36m<module>\u001b[0;34m()\u001b[0m\n\u001b[1;32m      1\u001b[0m \u001b[0mq1\u001b[0m \u001b[0;34m=\u001b[0m \u001b[0;34m'12:30:15'\u001b[0m\u001b[0;34m\u001b[0m\u001b[0;34m\u001b[0m\u001b[0m\n\u001b[0;32m----> 2\u001b[0;31m \u001b[0msdgkopfdkh\u001b[0m \u001b[0;31m##อธิบายว่าทำอะไร\u001b[0m\u001b[0;34m\u001b[0m\u001b[0;34m\u001b[0m\u001b[0m\n\u001b[0m\u001b[1;32m      3\u001b[0m \u001b[0;34m\u001b[0m\u001b[0m\n\u001b[1;32m      4\u001b[0m \u001b[0mplshdgkofpskah\u001b[0m\u001b[0;34m\u001b[0m\u001b[0;34m\u001b[0m\u001b[0m\n\u001b[1;32m      5\u001b[0m \u001b[0mdslgh\u001b[0m\u001b[0;34m,\u001b[0m\u001b[0mzlpg\u001b[0m\u001b[0;34m\u001b[0m\u001b[0;34m\u001b[0m\u001b[0m\n",
            "\u001b[0;31mNameError\u001b[0m: name 'sdgkopfdkh' is not defined"
          ]
        }
      ]
    },
    {
      "cell_type": "code",
      "metadata": {
        "id": "KOtDwp09xOgT"
      },
      "source": [
        ""
      ],
      "execution_count": null,
      "outputs": []
    }
  ]
}