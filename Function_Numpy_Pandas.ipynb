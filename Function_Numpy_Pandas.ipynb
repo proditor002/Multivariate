{
  "nbformat": 4,
  "nbformat_minor": 0,
  "metadata": {
    "colab": {
      "name": "Function_Numpy_Pandas.ipynb",
      "provenance": [],
      "authorship_tag": "ABX9TyPmp0fxjmosyxCwRe745MQV",
      "include_colab_link": true
    },
    "kernelspec": {
      "name": "python3",
      "display_name": "Python 3"
    }
  },
  "cells": [
    {
      "cell_type": "markdown",
      "metadata": {
        "id": "view-in-github",
        "colab_type": "text"
      },
      "source": [
        "<a href=\"https://colab.research.google.com/github/proditor002/Multivariate/blob/main/Function_Numpy_Pandas.ipynb\" target=\"_parent\"><img src=\"https://colab.research.google.com/assets/colab-badge.svg\" alt=\"Open In Colab\"/></a>"
      ]
    },
    {
      "cell_type": "markdown",
      "metadata": {
        "id": "pZm-vz8_0NBy"
      },
      "source": [
        "## Function"
      ]
    },
    {
      "cell_type": "markdown",
      "metadata": {
        "id": "1SywEg_B0VWv"
      },
      "source": [
        "![1111111.PNG](data:image/png;base64,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)"
      ]
    },
    {
      "cell_type": "markdown",
      "metadata": {
        "id": "t7_I00Ss0rUJ"
      },
      "source": [
        "ตัวอย่าง Code\r\n",
        "\r\n",
        "        def function name(_input_) :\r\n",
        "\r\n",
        "           do_something with  _Input_ to produce _Output_\r\n",
        "\r\n",
        "      return _Output_\r\n",
        "\r\n",
        "Function มีส่วนสำคัญทั้งหมด 4 ส่วน\r\n",
        "\r\n",
        "        1. บอกว่า Python ว่าเราจะเขียนฟังก์ชัน ชื่ออะไร def function_name(): (ขาดไม่ได้)\r\n",
        "\r\n",
        "        2. กำหนดตัวแปรที่จะเป็น input Input (ขาดได้)\r\n",
        "\r\n",
        "        3. ส่วนประมวลผล do_someting with input to get output (ขาดไม่ได้)\r\n",
        "\r\n",
        "        4. ส่วน Output return Output (ขาดได้)"
      ]
    },
    {
      "cell_type": "markdown",
      "metadata": {
        "id": "LbfUHPfd1I8F"
      },
      "source": [
        "# Create Function"
      ]
    },
    {
      "cell_type": "code",
      "metadata": {
        "colab": {
          "base_uri": "https://localhost:8080/"
        },
        "id": "fR7Nc3et00Je",
        "outputId": "29e8730c-8b16-4b16-ff73-5c01f7f76788"
      },
      "source": [
        "def print_name(name,surname,ID) :\r\n",
        "  st = f'ชื่อ {name} นามสกุล {surname}  ID {ID}'\r\n",
        "  return st\r\n",
        "print(f'outside function')"
      ],
      "execution_count": 1,
      "outputs": [
        {
          "output_type": "stream",
          "text": [
            "outside function\n"
          ],
          "name": "stdout"
        }
      ]
    },
    {
      "cell_type": "markdown",
      "metadata": {
        "id": "mo6Gi4kP1V1_"
      },
      "source": [
        "# Call Function"
      ]
    },
    {
      "cell_type": "code",
      "metadata": {
        "colab": {
          "base_uri": "https://localhost:8080/",
          "height": 35
        },
        "id": "RS0TZMjx1XhC",
        "outputId": "2ded25a4-fcfc-47a8-8ea7-7b0c5fd54281"
      },
      "source": [
        "print_name('ทอฝัน' ,'พงษ์พิเดช','623021048-3' )"
      ],
      "execution_count": 33,
      "outputs": [
        {
          "output_type": "execute_result",
          "data": {
            "application/vnd.google.colaboratory.intrinsic+json": {
              "type": "string"
            },
            "text/plain": [
              "'ชื่อ ทอฝัน นามสกุล พงษ์พิเดช  ID 623021048-3'"
            ]
          },
          "metadata": {
            "tags": []
          },
          "execution_count": 33
        }
      ]
    },
    {
      "cell_type": "code",
      "metadata": {
        "colab": {
          "base_uri": "https://localhost:8080/"
        },
        "id": "qftZAc2S1jcO",
        "outputId": "8afe6fa6-d763-4b4f-c916-8c1a5477fc1f"
      },
      "source": [
        "output_string = print_name('ทอฝัน' ,'พงษ์พิเดช','623021048-3')\r\n",
        "print(output_string)"
      ],
      "execution_count": 25,
      "outputs": [
        {
          "output_type": "stream",
          "text": [
            "ชื่อ ทอฝัน นามสกุล พงษ์พิเดช  ID 623021048-3\n"
          ],
          "name": "stdout"
        }
      ]
    },
    {
      "cell_type": "markdown",
      "metadata": {
        "id": "jHyCcB2V1oII"
      },
      "source": [
        "\r\n",
        "# ฟังก์ชันไม่จำเป็นต้องมี Output"
      ]
    },
    {
      "cell_type": "code",
      "metadata": {
        "id": "zgXDpXTK1tTJ"
      },
      "source": [
        "def print_name2(surname,ID,name):\r\n",
        "  st = f'ชื่อ {name} นามสกุล {surname}  ID {ID}'\r\n",
        "  print(st)"
      ],
      "execution_count": 5,
      "outputs": []
    },
    {
      "cell_type": "code",
      "metadata": {
        "colab": {
          "base_uri": "https://localhost:8080/"
        },
        "id": "-EsGt2nE1vrx",
        "outputId": "5e4801a7-faa2-4f8e-a289-7d09badc1bf2"
      },
      "source": [
        "print_name2('ทอฝัน' ,'พงษ์พิเดช','6230' )"
      ],
      "execution_count": 6,
      "outputs": [
        {
          "output_type": "stream",
          "text": [
            "ชื่อ 6230 นามสกุล ทอฝัน  ID พงษ์พิเดช\n"
          ],
          "name": "stdout"
        }
      ]
    },
    {
      "cell_type": "code",
      "metadata": {
        "colab": {
          "base_uri": "https://localhost:8080/"
        },
        "id": "UqC5Grsm11VS",
        "outputId": "fa533747-586b-4939-d1e9-1ab9e454ec30"
      },
      "source": [
        "output_string2 = print_name2('ทอฝัน' ,'พงษ์พิเดช','623021048-3')"
      ],
      "execution_count": 34,
      "outputs": [
        {
          "output_type": "stream",
          "text": [
            "ชื่อ 623021048-3 นามสกุล ทอฝัน  ID พงษ์พิเดช\n"
          ],
          "name": "stdout"
        }
      ]
    },
    {
      "cell_type": "code",
      "metadata": {
        "colab": {
          "base_uri": "https://localhost:8080/"
        },
        "id": "A-HOoLaZ2Ae6",
        "outputId": "978fc792-05db-40ba-abbe-593c7cb56e9a"
      },
      "source": [
        "print(output_string2)"
      ],
      "execution_count": 9,
      "outputs": [
        {
          "output_type": "stream",
          "text": [
            "None\n"
          ],
          "name": "stdout"
        }
      ]
    },
    {
      "cell_type": "markdown",
      "metadata": {
        "id": "NTFMv8iB2Bfr"
      },
      "source": [
        "\r\n",
        "# ฟังก์ชันไม่จำเป็นต้องมี input"
      ]
    },
    {
      "cell_type": "code",
      "metadata": {
        "id": "FlNhpjmQ2GtD"
      },
      "source": [
        "def Pi():\r\n",
        "  return 3.14159265359"
      ],
      "execution_count": 10,
      "outputs": []
    },
    {
      "cell_type": "code",
      "metadata": {
        "colab": {
          "base_uri": "https://localhost:8080/"
        },
        "id": "iV1JOPOf2JvZ",
        "outputId": "7b332eab-3759-4348-d5f6-f3488f856f72"
      },
      "source": [
        "\r\n",
        "#คำนวนพื้นที่วงกลมที่มีขนาดเส้นผ่านศุนย์กลางเท่ากับ 3\r\n",
        "Pi()*(1.5**2)"
      ],
      "execution_count": 11,
      "outputs": [
        {
          "output_type": "execute_result",
          "data": {
            "text/plain": [
              "7.0685834705775"
            ]
          },
          "metadata": {
            "tags": []
          },
          "execution_count": 11
        }
      ]
    },
    {
      "cell_type": "code",
      "metadata": {
        "id": "vA_6q5DY2OUq"
      },
      "source": [
        "def print_my_name():\r\n",
        "    print('ทอฝัน' ,'พงษ์พิเดช','623021048-3')"
      ],
      "execution_count": 28,
      "outputs": []
    },
    {
      "cell_type": "code",
      "metadata": {
        "colab": {
          "base_uri": "https://localhost:8080/"
        },
        "id": "pw2YPoEZ2SPd",
        "outputId": "42f9143d-6bdf-449c-ffc0-169d197a8b2d"
      },
      "source": [
        "print_my_name()"
      ],
      "execution_count": 29,
      "outputs": [
        {
          "output_type": "stream",
          "text": [
            "ทอฝัน พงษ์พิเดช 623021048-3\n"
          ],
          "name": "stdout"
        }
      ]
    },
    {
      "cell_type": "markdown",
      "metadata": {
        "id": "1MEJDWWI2Ten"
      },
      "source": [
        "Input ของ Function ใน python มี 2 แบบ\r\n",
        "\r\n",
        "*   Input จำเป็นต้องใส่\r\n",
        "*   Input ที่ไม่จำเป็นต้องใส่ (มีค่า default)\r\n"
      ]
    },
    {
      "cell_type": "code",
      "metadata": {
        "id": "nuuceE6V2qqX"
      },
      "source": [
        "def print_2lines_default(name,surname,ID,grade='B+'):\r\n",
        "  st =f'=ชื่อ {name} นามสกุล {surname} รหัส {ID}'\r\n",
        "  print(st)\r\n",
        "  st2 =f'เกรดวิชา Multivariate >>> {grade}'\r\n",
        "  print(st2)"
      ],
      "execution_count": 14,
      "outputs": []
    },
    {
      "cell_type": "code",
      "metadata": {
        "colab": {
          "base_uri": "https://localhost:8080/"
        },
        "id": "mNXTXgs32t4L",
        "outputId": "c802a5ce-7fe6-48c0-da32-7d88f645ee28"
      },
      "source": [
        "print_2lines_default('ทอฝัน' ,'พงษ์พิเดช','623021048-3')"
      ],
      "execution_count": 30,
      "outputs": [
        {
          "output_type": "stream",
          "text": [
            "=ชื่อ ทอฝัน นามสกุล พงษ์พิเดช รหัส 623021048-3\n",
            "เกรดวิชา Multivariate >>> B+\n"
          ],
          "name": "stdout"
        }
      ]
    },
    {
      "cell_type": "code",
      "metadata": {
        "colab": {
          "base_uri": "https://localhost:8080/"
        },
        "id": "GsEYaLx02w7G",
        "outputId": "7bfc3710-0069-45d3-bb67-8217594a4010"
      },
      "source": [
        "print_2lines_default('ทอฝัน' ,'พงษ์พิเดช','623021048-3','A')"
      ],
      "execution_count": 31,
      "outputs": [
        {
          "output_type": "stream",
          "text": [
            "=ชื่อ ทอฝัน นามสกุล พงษ์พิเดช รหัส 623021048-3\n",
            "เกรดวิชา Multivariate >>> A\n"
          ],
          "name": "stdout"
        }
      ]
    },
    {
      "cell_type": "markdown",
      "metadata": {
        "id": "xCNdzJJ12_c8"
      },
      "source": [
        "# ตัวอย่าง ERROR"
      ]
    },
    {
      "cell_type": "code",
      "metadata": {
        "colab": {
          "base_uri": "https://localhost:8080/",
          "height": 134
        },
        "id": "xs3r7A3E3A5o",
        "outputId": "ff6a4a9f-e24f-4296-b0eb-429cde1088af"
      },
      "source": [
        "def print_2lines_default(grade='B+',surname,ID): # เอา Input ที่จำเป็นต้องใส่มาก่อน\r\n",
        "  st =f'=ชื่อ {name} นามสกุล {surname} รหัส {ID}' # ไม่ควรเอา Input ที่ไม่เอาจำเป็นต้องใส่ก่อน\r\n",
        "  print(st)\r\n",
        "  st2 =f'เกรดวิชา Multivariate >>> {grade}'\r\n",
        "  print(st2)"
      ],
      "execution_count": 18,
      "outputs": [
        {
          "output_type": "error",
          "ename": "SyntaxError",
          "evalue": "ignored",
          "traceback": [
            "\u001b[0;36m  File \u001b[0;32m\"<ipython-input-18-94deeb7f2ed0>\"\u001b[0;36m, line \u001b[0;32m1\u001b[0m\n\u001b[0;31m    def print_2lines_default(grade='B+',surname,ID): # เอา Input ที่จำเป็นต้องใส่มาก่อน\u001b[0m\n\u001b[0m                            ^\u001b[0m\n\u001b[0;31mSyntaxError\u001b[0m\u001b[0;31m:\u001b[0m non-default argument follows default argument\n"
          ]
        }
      ]
    },
    {
      "cell_type": "markdown",
      "metadata": {
        "id": "39dJr5VM3FCp"
      },
      "source": [
        "# เราสามาเรียกฟังก์ชันโดยใช้ชื่อตัวแปรของฟังก์ชันช่วยได้"
      ]
    },
    {
      "cell_type": "code",
      "metadata": {
        "colab": {
          "base_uri": "https://localhost:8080/"
        },
        "id": "IGPRrKc93Ifd",
        "outputId": "70590cbe-9e95-4fc0-bf24-099d89a782a3"
      },
      "source": [
        "print_name2(name='ทอฝัน' ,surname='พงษ์พิเดช',ID='623021048-3')"
      ],
      "execution_count": 32,
      "outputs": [
        {
          "output_type": "stream",
          "text": [
            "ชื่อ ทอฝัน นามสกุล พงษ์พิเดช  ID 623021048-3\n"
          ],
          "name": "stdout"
        }
      ]
    },
    {
      "cell_type": "markdown",
      "metadata": {
        "id": "fFIHYgzu3Wnq"
      },
      "source": [
        "# HW3 ให้เขียน Funtion คำนวณจำนวนวินาทีจากเวลาต่อไปนี้และ print ให้สวยงาม"
      ]
    },
    {
      "cell_type": "markdown",
      "metadata": {
        "id": "nJetu6kO3cRd"
      },
      "source": [
        "'14-15-13'\r\n",
        "\r\n",
        "'13-00-01'\r\n",
        "\r\n",
        "'05-49-44'\r\n",
        "\r\n",
        "'00-00-16'"
      ]
    },
    {
      "cell_type": "code",
      "metadata": {
        "id": "775qWWX33WWv"
      },
      "source": [
        "def function_q(times):\r\n",
        "  q = f'เวลาทั้งหมด = {times}'\r\n",
        "  print(q)\r\n",
        "  times_sp = times.split('-')\r\n",
        "  h = int(times_sp[0])*3600\r\n",
        "  m = int(times_sp[1])*60\r\n",
        "  s = int(times_sp[2])\r\n",
        "  aq = h+m+s\r\n",
        "  print(f'คำนวณเป็นจำนวนวินาทีได้เท่ากับ {aq} วินาที')"
      ],
      "execution_count": 20,
      "outputs": []
    },
    {
      "cell_type": "code",
      "metadata": {
        "colab": {
          "base_uri": "https://localhost:8080/"
        },
        "id": "r2PwnKUW3gmZ",
        "outputId": "630033f1-c77a-42b9-a302-1c2005111bf3"
      },
      "source": [
        "function_q('14-15-13')"
      ],
      "execution_count": 21,
      "outputs": [
        {
          "output_type": "stream",
          "text": [
            "เวลาทั้งหมด = 14-15-13\n",
            "คำนวณเป็นจำนวนวินาทีได้เท่ากับ 51313 วินาที\n"
          ],
          "name": "stdout"
        }
      ]
    },
    {
      "cell_type": "code",
      "metadata": {
        "colab": {
          "base_uri": "https://localhost:8080/"
        },
        "id": "qtOFyojw3iBM",
        "outputId": "312744d5-0ae6-4271-b31c-3bcbf39758ea"
      },
      "source": [
        "function_q('13-00-01')"
      ],
      "execution_count": 22,
      "outputs": [
        {
          "output_type": "stream",
          "text": [
            "เวลาทั้งหมด = 13-00-01\n",
            "คำนวณเป็นจำนวนวินาทีได้เท่ากับ 46801 วินาที\n"
          ],
          "name": "stdout"
        }
      ]
    },
    {
      "cell_type": "code",
      "metadata": {
        "colab": {
          "base_uri": "https://localhost:8080/"
        },
        "id": "4Rm-juJC3jy9",
        "outputId": "6957e14e-6ab4-4504-a3f9-79e2f2a8d767"
      },
      "source": [
        "function_q('05-49-44')"
      ],
      "execution_count": 23,
      "outputs": [
        {
          "output_type": "stream",
          "text": [
            "เวลาทั้งหมด = 05-49-44\n",
            "คำนวณเป็นจำนวนวินาทีได้เท่ากับ 20984 วินาที\n"
          ],
          "name": "stdout"
        }
      ]
    },
    {
      "cell_type": "code",
      "metadata": {
        "colab": {
          "base_uri": "https://localhost:8080/"
        },
        "id": "BHi-wUAy3lpU",
        "outputId": "3699c610-6f31-4505-d55c-31228abdf575"
      },
      "source": [
        "function_q('00-00-16')"
      ],
      "execution_count": 24,
      "outputs": [
        {
          "output_type": "stream",
          "text": [
            "เวลาทั้งหมด = 00-00-16\n",
            "คำนวณเป็นจำนวนวินาทีได้เท่ากับ 16 วินาที\n"
          ],
          "name": "stdout"
        }
      ]
    }
  ]
}