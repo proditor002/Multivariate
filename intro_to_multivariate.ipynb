{
  "nbformat": 4,
  "nbformat_minor": 0,
  "metadata": {
    "colab": {
      "name": "intro to multivariate.ipynb",
      "provenance": [],
      "authorship_tag": "ABX9TyOV3uSohktIJTK9i8SpDvHq",
      "include_colab_link": true
    },
    "kernelspec": {
      "name": "python3",
      "display_name": "Python 3"
    }
  },
  "cells": [
    {
      "cell_type": "markdown",
      "metadata": {
        "id": "view-in-github",
        "colab_type": "text"
      },
      "source": [
        "<a href=\"https://colab.research.google.com/github/proditor002/Multivariate/blob/main/intro_to_multivariate.ipynb\" target=\"_parent\"><img src=\"https://colab.research.google.com/assets/colab-badge.svg\" alt=\"Open In Colab\"/></a>"
      ]
    },
    {
      "cell_type": "markdown",
      "metadata": {
        "id": "Pactz_P-iRak"
      },
      "source": [
        "ทอฝัน พงษ์พิเดช 623021048-3"
      ]
    },
    {
      "cell_type": "code",
      "metadata": {
        "id": "6nWgbep8htH5"
      },
      "source": [
        "print (' ทอฝัน ') #single quote (') ใช้ล้อมกรอบข้อความ"
      ],
      "execution_count": null,
      "outputs": []
    }
  ]
}