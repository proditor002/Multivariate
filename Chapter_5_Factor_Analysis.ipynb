{
  "nbformat": 4,
  "nbformat_minor": 0,
  "metadata": {
    "colab": {
      "name": "Chapter_5_Factor_Analysis.ipynb",
      "provenance": [],
      "toc_visible": true,
      "authorship_tag": "ABX9TyPmVNgdwiNtQoxgMKd2IuyH",
      "include_colab_link": true
    },
    "kernelspec": {
      "name": "python3",
      "display_name": "Python 3"
    },
    "language_info": {
      "name": "python"
    }
  },
  "cells": [
    {
      "cell_type": "markdown",
      "metadata": {
        "id": "view-in-github",
        "colab_type": "text"
      },
      "source": [
        "<a href=\"https://colab.research.google.com/github/proditor002/Multivariate/blob/main/Chapter_5_Factor_Analysis.ipynb\" target=\"_parent\"><img src=\"https://colab.research.google.com/assets/colab-badge.svg\" alt=\"Open In Colab\"/></a>"
      ]
    },
    {
      "cell_type": "markdown",
      "metadata": {
        "id": "LC8RZ4n11Dcc"
      },
      "source": [
        "https://www.datacamp.com/community/tutorials/introduction-factor-analysis"
      ]
    },
    {
      "cell_type": "code",
      "metadata": {
        "id": "pekdo7Aw0_ZQ"
      },
      "source": [
        "import pandas as pd"
      ],
      "execution_count": 1,
      "outputs": []
    },
    {
      "cell_type": "code",
      "metadata": {
        "id": "XC-GmitJ1Fbp"
      },
      "source": [
        "BFI_data = pd.read_csv('https://vincentarelbundock.github.io/Rdatasets/csv/psych/bfi.csv')"
      ],
      "execution_count": 2,
      "outputs": []
    },
    {
      "cell_type": "code",
      "metadata": {
        "colab": {
          "base_uri": "https://localhost:8080/",
          "height": 241
        },
        "id": "gLSInI6j1IN_",
        "outputId": "2155984e-9d12-4c00-aec0-8dd2e26e6a0c"
      },
      "source": [
        "BFI_data.head()"
      ],
      "execution_count": 4,
      "outputs": [
        {
          "output_type": "execute_result",
          "data": {
            "text/html": [
              "<div>\n",
              "<style scoped>\n",
              "    .dataframe tbody tr th:only-of-type {\n",
              "        vertical-align: middle;\n",
              "    }\n",
              "\n",
              "    .dataframe tbody tr th {\n",
              "        vertical-align: top;\n",
              "    }\n",
              "\n",
              "    .dataframe thead th {\n",
              "        text-align: right;\n",
              "    }\n",
              "</style>\n",
              "<table border=\"1\" class=\"dataframe\">\n",
              "  <thead>\n",
              "    <tr style=\"text-align: right;\">\n",
              "      <th></th>\n",
              "      <th>Unnamed: 0</th>\n",
              "      <th>A1</th>\n",
              "      <th>A2</th>\n",
              "      <th>A3</th>\n",
              "      <th>A4</th>\n",
              "      <th>A5</th>\n",
              "      <th>C1</th>\n",
              "      <th>C2</th>\n",
              "      <th>C3</th>\n",
              "      <th>C4</th>\n",
              "      <th>C5</th>\n",
              "      <th>E1</th>\n",
              "      <th>E2</th>\n",
              "      <th>E3</th>\n",
              "      <th>E4</th>\n",
              "      <th>E5</th>\n",
              "      <th>N1</th>\n",
              "      <th>N2</th>\n",
              "      <th>N3</th>\n",
              "      <th>N4</th>\n",
              "      <th>N5</th>\n",
              "      <th>O1</th>\n",
              "      <th>O2</th>\n",
              "      <th>O3</th>\n",
              "      <th>O4</th>\n",
              "      <th>O5</th>\n",
              "      <th>gender</th>\n",
              "      <th>education</th>\n",
              "      <th>age</th>\n",
              "    </tr>\n",
              "  </thead>\n",
              "  <tbody>\n",
              "    <tr>\n",
              "      <th>0</th>\n",
              "      <td>61617</td>\n",
              "      <td>2.0</td>\n",
              "      <td>4.0</td>\n",
              "      <td>3.0</td>\n",
              "      <td>4.0</td>\n",
              "      <td>4.0</td>\n",
              "      <td>2.0</td>\n",
              "      <td>3.0</td>\n",
              "      <td>3.0</td>\n",
              "      <td>4.0</td>\n",
              "      <td>4.0</td>\n",
              "      <td>3.0</td>\n",
              "      <td>3.0</td>\n",
              "      <td>3.0</td>\n",
              "      <td>4.0</td>\n",
              "      <td>4.0</td>\n",
              "      <td>3.0</td>\n",
              "      <td>4.0</td>\n",
              "      <td>2.0</td>\n",
              "      <td>2.0</td>\n",
              "      <td>3.0</td>\n",
              "      <td>3.0</td>\n",
              "      <td>6</td>\n",
              "      <td>3.0</td>\n",
              "      <td>4.0</td>\n",
              "      <td>3.0</td>\n",
              "      <td>1</td>\n",
              "      <td>NaN</td>\n",
              "      <td>16</td>\n",
              "    </tr>\n",
              "    <tr>\n",
              "      <th>1</th>\n",
              "      <td>61618</td>\n",
              "      <td>2.0</td>\n",
              "      <td>4.0</td>\n",
              "      <td>5.0</td>\n",
              "      <td>2.0</td>\n",
              "      <td>5.0</td>\n",
              "      <td>5.0</td>\n",
              "      <td>4.0</td>\n",
              "      <td>4.0</td>\n",
              "      <td>3.0</td>\n",
              "      <td>4.0</td>\n",
              "      <td>1.0</td>\n",
              "      <td>1.0</td>\n",
              "      <td>6.0</td>\n",
              "      <td>4.0</td>\n",
              "      <td>3.0</td>\n",
              "      <td>3.0</td>\n",
              "      <td>3.0</td>\n",
              "      <td>3.0</td>\n",
              "      <td>5.0</td>\n",
              "      <td>5.0</td>\n",
              "      <td>4.0</td>\n",
              "      <td>2</td>\n",
              "      <td>4.0</td>\n",
              "      <td>3.0</td>\n",
              "      <td>3.0</td>\n",
              "      <td>2</td>\n",
              "      <td>NaN</td>\n",
              "      <td>18</td>\n",
              "    </tr>\n",
              "    <tr>\n",
              "      <th>2</th>\n",
              "      <td>61620</td>\n",
              "      <td>5.0</td>\n",
              "      <td>4.0</td>\n",
              "      <td>5.0</td>\n",
              "      <td>4.0</td>\n",
              "      <td>4.0</td>\n",
              "      <td>4.0</td>\n",
              "      <td>5.0</td>\n",
              "      <td>4.0</td>\n",
              "      <td>2.0</td>\n",
              "      <td>5.0</td>\n",
              "      <td>2.0</td>\n",
              "      <td>4.0</td>\n",
              "      <td>4.0</td>\n",
              "      <td>4.0</td>\n",
              "      <td>5.0</td>\n",
              "      <td>4.0</td>\n",
              "      <td>5.0</td>\n",
              "      <td>4.0</td>\n",
              "      <td>2.0</td>\n",
              "      <td>3.0</td>\n",
              "      <td>4.0</td>\n",
              "      <td>2</td>\n",
              "      <td>5.0</td>\n",
              "      <td>5.0</td>\n",
              "      <td>2.0</td>\n",
              "      <td>2</td>\n",
              "      <td>NaN</td>\n",
              "      <td>17</td>\n",
              "    </tr>\n",
              "    <tr>\n",
              "      <th>3</th>\n",
              "      <td>61621</td>\n",
              "      <td>4.0</td>\n",
              "      <td>4.0</td>\n",
              "      <td>6.0</td>\n",
              "      <td>5.0</td>\n",
              "      <td>5.0</td>\n",
              "      <td>4.0</td>\n",
              "      <td>4.0</td>\n",
              "      <td>3.0</td>\n",
              "      <td>5.0</td>\n",
              "      <td>5.0</td>\n",
              "      <td>5.0</td>\n",
              "      <td>3.0</td>\n",
              "      <td>4.0</td>\n",
              "      <td>4.0</td>\n",
              "      <td>4.0</td>\n",
              "      <td>2.0</td>\n",
              "      <td>5.0</td>\n",
              "      <td>2.0</td>\n",
              "      <td>4.0</td>\n",
              "      <td>1.0</td>\n",
              "      <td>3.0</td>\n",
              "      <td>3</td>\n",
              "      <td>4.0</td>\n",
              "      <td>3.0</td>\n",
              "      <td>5.0</td>\n",
              "      <td>2</td>\n",
              "      <td>NaN</td>\n",
              "      <td>17</td>\n",
              "    </tr>\n",
              "    <tr>\n",
              "      <th>4</th>\n",
              "      <td>61622</td>\n",
              "      <td>2.0</td>\n",
              "      <td>3.0</td>\n",
              "      <td>3.0</td>\n",
              "      <td>4.0</td>\n",
              "      <td>5.0</td>\n",
              "      <td>4.0</td>\n",
              "      <td>4.0</td>\n",
              "      <td>5.0</td>\n",
              "      <td>3.0</td>\n",
              "      <td>2.0</td>\n",
              "      <td>2.0</td>\n",
              "      <td>2.0</td>\n",
              "      <td>5.0</td>\n",
              "      <td>4.0</td>\n",
              "      <td>5.0</td>\n",
              "      <td>2.0</td>\n",
              "      <td>3.0</td>\n",
              "      <td>4.0</td>\n",
              "      <td>4.0</td>\n",
              "      <td>3.0</td>\n",
              "      <td>3.0</td>\n",
              "      <td>3</td>\n",
              "      <td>4.0</td>\n",
              "      <td>3.0</td>\n",
              "      <td>3.0</td>\n",
              "      <td>1</td>\n",
              "      <td>NaN</td>\n",
              "      <td>17</td>\n",
              "    </tr>\n",
              "  </tbody>\n",
              "</table>\n",
              "</div>"
            ],
            "text/plain": [
              "   Unnamed: 0   A1   A2   A3   A4   A5  ...   O3   O4   O5  gender  education  age\n",
              "0       61617  2.0  4.0  3.0  4.0  4.0  ...  3.0  4.0  3.0       1        NaN   16\n",
              "1       61618  2.0  4.0  5.0  2.0  5.0  ...  4.0  3.0  3.0       2        NaN   18\n",
              "2       61620  5.0  4.0  5.0  4.0  4.0  ...  5.0  5.0  2.0       2        NaN   17\n",
              "3       61621  4.0  4.0  6.0  5.0  5.0  ...  4.0  3.0  5.0       2        NaN   17\n",
              "4       61622  2.0  3.0  3.0  4.0  5.0  ...  4.0  3.0  3.0       1        NaN   17\n",
              "\n",
              "[5 rows x 29 columns]"
            ]
          },
          "metadata": {
            "tags": []
          },
          "execution_count": 4
        }
      ]
    },
    {
      "cell_type": "markdown",
      "metadata": {
        "id": "cB3MPMvu1Mz-"
      },
      "source": [
        "###Factor Analysis\n",
        "Assumptions :\n",
        "\n",
        "ในข้อมูล multivariale ที่มีตัวแปร observe variable จำนวน n ตัว\n",
        "\n",
        "มีตัวแปร Factor (Latent Variables) จำนวน k ตัวที่สามารถอธิบายข้อมูลทั้งหมดได้\n",
        "\n",
        "โดย k < n\n",
        "![c5.PNG](data:image/png;base64,iVBORw0KGgoAAAANSUhEUgAAAYAAAAE1CAYAAADuwDd5AAAAAXNSR0IArs4c6QAAAARnQU1BAACxjwv8YQUAAAAJcEhZcwAAEnQAABJ0Ad5mH3gAAKhXSURBVHhe7H0HQBVX2rZUQeyppuxuNtn99/u2fXW/Ldlkk91setkkNuy9V1DE3hFQURG7CIgiKKgU6b13ERS7Yu+9lzz/+54zc++AV2PBeI3ngffOzJnT5pT3OW3ONICCgoKCwjMJRQAKCgoKzygUASgoKCg8o1AEoKCgoPCMQhGAgoKCwjMKRQAKCgoKzygUASgoKCg8o1AEoKCgoPCMQhGAgoKCwjMKRQAKCgoKzygUASgoKCg8o1AEoKCgoPCMQhGAgoKCwjMKRQAKCgoKzygUASgoKCg8o1AEoKCgoPCMQhGAgoKCwjMKRQAKCgoKzygUASgoKCg8o1AEoKCgoPCMQhGAgoKCwjMKRQAKCgoKzygUASgoKCg8o1AEoKCgoPCMQhGAgoKCwjMKRQAKCgoKzygUASgoKCg8o1AEoKCgoPCMQhGAgoKCwjMKRQAKCgoKzygUASgoKCg8o1AEoKCgoPCMwkoJ4BbJbXxHf7fFmcR3JPq1NGN7ul3NjE+EaLb4XP5oRza/JX5r+864RWb8dz8QgUgxOZB+m/2k8+/IP5MV/UQPly/Yvjxje5pFgh4Xfrbbmo98U14La+LHGAYb8DWbG8Ng6PHShIzNd/mM75vTRQ+TxRL0e7rvCs8C7iyTsgwYyiRBN+MzaVuC78src1kz2q19poPP2D4dhQf6NUMYGESi9pXCvWClBCBVmSwMehHSr6SJKAeiIOjFpbY9QQDCkn5fhzQzhmCGVtAMMF/xmS7GM4Z+ppuSCCMZijEsaayby3N5psVX/mtm8sh/Mpb8K5+Z70obdeKs+aG70061M7N7hjm9dD/pT7Or3zG7k2f6tZ4PCs8S9DIgSwdfyZJhLA98lDblH59LmM/Zld7YYJPaZVqayTAkpCt50G0p1AeskgD0LJYFSC8ILFxQNBEKngoNWbzDrjCXJtK+7iPfN55zi8Zc8MzhyCtG7TOzTXnGv7obHWY7jFrxIpHn0pT/+F/+kLl4Jv4325dCNtmKeCbdD/NRONKF7einmqk85zPdvl7h5Ln0U14xpDv5J69ky0+GJK+l8LnCswRZIvRyZC4T+p+5bOl2Jfgo7epXulv+NZcvs03pjwnCiXR3N8g7up2721Mww2oJQILPZDHRz82Fj4SMdBu6LfGjmcsCKe1JG1qhEtd6QTX7KG+YryxDONbA9qQCFTAVUF0YfE87Fwfdf02EGf8YzfXCz0cWiiVZYWFT03NpV2ZIc91UFxkv6Y8U6Vbak2mg32GRMPqvCEBBQpYRLgky/82lhO/oV9JEQrrQf+WZ0VTa53M+M7vV7zHoXDMy+iFgMJcu2cDoh8K9YMWTwHoGkhgOnLWCBm7fxJUrl3H58mVcvXYNN27RHbbz3U2cO3sG5y9cIDOjkmKXfM32dJ/MxYVFWtWvdHeMOud8qdnlYlfbrRaGyZKUWzdv4OKF87hw4SJu0jnb+46e4cb1axT/67h1Ww/3Jj3bdXq2q7h56wa5rB1H3Wf5w6DwyZ/z58/h5KlT5MbYtdaF43QLVy5foPAv4MrV63St+0Vxo3AuX7qIU6fP4ibFQ3rNv2yDYa6g0l/pH59LuwrPCji/jWXAVIZuXse1q5ep3F4RdfLK1WuiLNYtR6IskZEsZXSt1UVTPWJzNtJF/JA/ZI/PpA+asSbSPylsJGE+U7g7rJgAZJZytuuZq2fwrVvXcPb0fkSuW4vQ0FCkZmbjwLETVBBu4trF3RgzvBdm+s7E/sMnNRey8BiLkPBZlBHhozSXlupAhlrrlunEUHCFmfRbj7PZ7Bb2792GhXMmwHv2IuzaUyPML5w/gYqyTCRnF+IYKV+2fvvWVZw5XYO1G+Ox4/AxXCUzc7wZfNQioB3OnDqMiRNG4+vWbbCz5pBW8TR7bEezFxkagNmzfBGTnCcNtLgdrqnEyhX+aNt5CE5QPNjUFIrBPUN/tlp2FJ4RmMu2LJM6AQA1+3cgPSUGGzduxOrVqxGdmI5d+w+Je+JHnMj6YirPmvKX9U+WWb4Sfgo3/CPvmcO9F8x3dVL4PhfPOqycAOTwisx4WQQuXTiOxE3h+PrrLzA3YCnWRqyCp6c7evUdhJz8cpw7WYlvv/on+g5zR9XB48InBhcDU8HTzqQhX0szy7BkrrsxKHsB4aH4FWbCqbS3Y2sZJozogV7u3ijfuke4OnF0L9aumoP3//EBkrJzwO3yk0drsCE8AK59hiOvvFIUfwk9HnrYZly/fhnZWRlYFxmJ85ev4PZ37KpuvL/D0lljMGbUSKyNzTaZsRzYUw4/38n4xX/8C7uPnaQ+SG3X8px/ZdjSVW07Cs8CZLmSec+/5h5Ackw4RgzqgVGTZiBi7TqkZhdQA+wY3TWC3ejlVy890rejh/dh7eqFmDHTHzt37dXMdXvSrvmXzY2400w3kW50WHL7bMNKCUDPKNkqkJkor7cUp2LKmMH44NO2SMnIw/btW7HQ3xv/+vwzdO85BocPVODbj9/Hv77tCP+QKCxavARpOSU4dZaHX06jvDQfCxcswZIlS7Bz507qtl7E4UN7sH79eixcuBAJCQk4ePAgLpw7jYriHKSmJGPNmjWIiYlBWloGNsQkim4ut7rz8/OQlVOAq9euIiczFUErArFqVRiKS8pJCX+HmzcuIi8nBWtWh5CCnY6+nf6F7sNmoJAIgAd3zp87jtSEVXjhheewMDgUpy5cxrbN+RjZ83MMHuOF5IwMik8sAgICEBQcjIptO3GRutd7d++k1lYS0tPTKbxwVG7bjqSUFKxduxYXL13EsSP0PFGRWLRoCcIj1qKiajtu3LiBhV7uGNCrK8ZM9kNwcAjCwtdj35Fj2EsE4OM9GS//+itUHz2JsxdOICc7VaRRcEgItu89QF36qzhYs5vINxpLFi/Dhg0bcPTYsToVTOHHDalS9T8zAdzG2uAF6NL6M4zxmo+KyiocOHwUNQf2oyAvE/Pnz8fixYuRW1iCk2fOUr24hhPHDiIych2WLl2OpMR4bNoQhm8/+gt++7u/YOK0ediydSf1hI8jKz0JixctQlBQEPIKi3Dm3FlcpEZgXFwsNm3ahJhNicgpKKLe9HEqk+uxbGkg+ZeMo0ePihjK+EmRUCXWCCsnAF1kIeMCtyF0Pnq7fo5Js0OEwuSCuG1zFjyH9sHLL/8vtm8rQaeP/o5P3/8MbmNmoFfv7ujSZxgVvjLkZiZj2jgPtHXthh79ByM7Lx/7dlciZkMoBgwahj5kt1fPHlhDSrN62xYEzpsE1/Yd0bFjZ0ybOhleXjPw6ZftcPjIKRTlJsLbezqme8/F9qpyDBs+DL3JfdcunTFl8nTUHDxC5jmYON4D/fv3w5D+vdH20/fRj3oARdV7cY2f5vZ1HDywDX/5v99j3FTuGWxHRtIG/P2/3sDGlBxkZafAf643unXrStIFoyb4oWrnPiTERWFo/+7o0Xcw+pDEUYGfPmMG+g0chAPHT6CiNB1eU6egd8+e9Pw94Tl+Kk6dO48ArxHo1PoLdOrWHyNHjkSb1u2wOjoRBSVZ8PGZgpd/97UggLj4dRhP6dStew+RJlN952Br9VZErQ1F7+6dMYDSbso0L2zbtVtQtMKzAqlKzQSg985vIyp0IXq2+xzjpvljc8UWHKSGRdXWCqxauQzdu3dH506uGO4xBamZRdRI24eQRfMweNgIDBw4FEsXL8DKZXPxzz/8Gj/7+e+pbo5BbHwysjOSMHjgEPTr1w99enXDhElTEZuYgkMHKtHhG2pMde8F97FTsDAwGEX5yejWsze69+6PgIWLUVVVxRHWYimPCnfCeoeAZFmTP/SvF7RVi7zQ6fN3MWd5FI5cusJTpqjZXQrvySPw0kv/hrKSHLT7x3tUQNohPi2TWsvlaNXqJfhRq3/CSA98/f7fsXpjIjKra7D/6AnErA3CqCE9McnLH3t2V+CLLz5GXyKDRGphz502hEjll5g4cTpKinOxMngRfvr66ygo3YMFs6dgnKc7Zs6ah0WzJ+Gdz9ojetNGzPGZgPbffIPQsBjMnDoc3fu5Yc36RJQVZqLLl++ir9sMasnv1Z7nO1w8fwpzpw5G1179sCI0FOFhy/HTn7+FHUeOoLIyHxVluSgvK0JwYABatvwfhEWnYV34Mnzz8dv4/btfYUN0LHZUb8bwoQPwtw8/QdWxMygqSEJV5Wbq7eTBe/o4vPzK69h28BDmUQ+ga7t/YcasBTh7+gQGd/oEg0ZMxfLglfDxmoSXf/EZth06io8++xSduvdGWnYOYtYH46c/eV1U5LGj3fHZp5+gkipXweZKHDx/QcxRKDxLkA0xvWGm18vY8CXo8tV7+Opfrpg+3QsRGzchNSsXxUVFqK7ehoTYMPzfHz6nujQXSdFR+PfnXkDQ2kQcPXUGFy9eQGVZPpb6eaLbQHeUVmxF1eZsTJnggb/9sxeOnziDvNRodOnQFa3b9cb+XaX4H6rTX37VDktCI5GelY35ftPRrf9wbEzPRtWuPdi7b7+IH8OoSrQfBQ1WTQA8kaNnl17QQpfORruvPoK3fyTOXbwi7myvysWYkUNI0f8Ju3aU47OP/4Eugz1QfuQCDh06iFdeeQWjp87GpsREKijT8Kc/v42vvu6AtPQshC6ZA9cv/o72nftj3PjxGDZsKJaRQkzJSIH3pMFoS63l3IISXL50Ctkpa9Hmwz/Ce14wunX4CjOmjkXU+iiMGdwBH338FYYMGYZRHiPhTa3xtLQ0DOnXCe7TfZBaXIFd2yswZewAdBnmg5IqngNgfIdrVy8gN2Ul/vaP9ujUsR8RyHQKcwROnj6L8KA5GNS7CzpQL6Sr69dwafRbEwEM6tMWk5eFiS71iWP7BQH844MPsGvPHgQumo2OXfqhfafe+PKLdkRif0TVth2YO3kIRgwdiLD1ydSNPo35viMxZJQvAhYvh4/vFLz0u69QVl6MDz54H++8+65Ij7FjR2PAgAEo31yOwpwUDOvXBT//+ZsYNGQkiqt3KAJ45sAlVxcdt7EuZAG6t/kU46bMQXZOLtW7nUjctA4jhg9B27ad0Ld7W/z6t3/F1GkzqScZTGWyFZI278T5azepnn+Hmj1baxFARmIUxo3ojwnTA3D+/EUc3r8Zgwf0w6effmsigOmzA6hhcwyXL5/Hnl0lGNy/C373uz+g98BRKKqoFjpDj6aMMf+qPqsRTwcB0I9OAPlZsaRYXfHHv/wDJVu24vyFE1i93Bdtv/gHtWZ9cPTITnzy8Qf4uH1XRGUXoWpLMRW2l+A9ZxGy8gqRlhKHyIgV+Jpa0DwXMHPGdHTt2BaDPWeisLgUKampqKjcgkpyN4MIoAu1KrhA8pLN3dVlmDaqH/77f/+It37xe0zxmYvSLSWYOXEg/u9P/8JKao3k5eUhJydHzE34TB6KPkM9EREdj5y09fj03d+gbb/JKK40E8DNW9dx4kgV/kmt91atXscXX36NxavicObMEfTq3h69+/RGSGgwxWUYmjX7DxMBDOvfAbPWROPC5Ss4deKAIIAPiAC2btmCtu/+CSPcx2BZUBDGjBpFz/976hJXCwJwbfcNxvv44/iRHRjU7VO4eU5DcCj1AGZQD+CXn1K8y/HRR3/Hl9+0wfrYROrOVyB07QZsp1bV7p3bkU7pF7jcH7///X8geE0UTp6/JJ5E4RmALLTioIv8lXMAvVz/hdmLwnD02AlcvngMs2ZOxmeff47Va9cjJHAe/ud/PsakSXOwYcNaNG/5PGYHrsf2vYdw7ORplJbmY8lsT7TvPhzZZVUoKkrD6NHD8Zcv+tP9M8hIXouevXuKVv5eIoA3mAAWLMeek2fFsu+Sknwxv+fvNxU9BwzDhHkh4JJpjiOJOEgTBQkrJQBW93KFjZ5d8vgdTh6vwYbIlejQoSN8Z89FYOASeE8fDy+vqcgvrcL5cwcweFBfKgSDsZBa8v7zZqN9h+5ISs0WynlVyDIsXzoffXt2RcSGODJPwtLFczFq7FSErAxFaNg6bK7chv17qrFwNrWAp85E9c49IvTzZ44ifVMI3vnrX/DxFx2wOnITTpw+Sq2VNejVYxDmzJmP0NDVSEhKxfFz1G3N2kBd3onw9vHBkgWzMKhXR3hMmY+tu2o0QqO/727j5o3zmD7JE++982e4du2J3OoDuHTlDFWgqRjlORIBC+dj/hwvvPdea6RmFyIpfh2mTfJASFwaLl+9hgvnj2KO3wz079+fWkI74eU+ABPGjkPAggB4TZ+KTz5pg5oDhxC80AdDhw6C52RvhAQtRt9eXREUvgHZeZkIXOqPT77qjSNHDlCaecNj1EjMmb8Q4eFrEZmQjT3796KkKAerQ1dg2dIAdO3Zl3pJubh4WfUBnjUIPUoiWtjaWWJMOCaOdsOqDSm4fOUqbt28gvXrgjFsSG/4L1yEUKp37dr1xpKlq1FZWYahg3thmMdEzPVfiISUNJRXbhb1qGsvrrcRyC3Mw/r1a9CR6tWKoGD4eE3GtBneiIyJxYH9W/Dhhx/Af/U6QQCnT59AVnoC1kasgT/Vk8nePgiKShLzbFJvSH0ilb80UZCwUgLgbppcAnpndn1HGX4SqakpYq3/tGnTEBYRJVaq3CZlev3aGURHr8e6devEmmRf31lITMnHqVPnsH3bFoQGL8WMGT5YsTISuw4dwxUqqHv3VCJo2ULM8PLC4uWhRADbqVV9FJmJG6hwZuI4tVA43Nu3LuPMie1YtCgAEVExYj3/bWrBnz93GImx6+A/1w9+fvMQm5CCSxSXaxSX1MRoMckVEhKCrOxsJBARcYtHEgCDz26hqiwXa1Yux+p1UTh46YZ4MWwfdYvXhq/CvHnzEBW1HkuXBWN/TQ09RwUS4mNRWrUT12/cEASSl5chVuZwa2jf7i0IClyKRVTxeFXSytBwUtSXUJCbgdjYWBF3vzlzERQaRWlwFMdPHUFhfoa0d+kyjh7eg7iYKPj6+GLmzNlIy6+gNDiCsuJsLFnoT2azkFlQhjPUNVd4lmCujXxmJoBbVCY3G8okLyQGTh7bi/TEdfAhhcz1MSg4VKyQu3r1ApXRUixYMJ/q3AxEx8Xj6MnjOHP6ANWthVi2YjXVwWqcPnEYKbERmOnjDX8iity8Aly6eE7YCwxcjrTizThKPdBLl86hqiIfs2fNoobQHCSmpuH46TMybiLKemzNsVaQsHICMPcAakEwuaWxPKYMLc/rwoKhXhws2reIOi7owFGpW6R0W3f3WD6ZfDr5rLrl+3FbG7r7urGoC3MYtcHuDG7Zii7fg/u0pvCjgTm3+UyWmtrlV0KWbItl46436oIt1S3TuhmHJ2HZOzbR4kUV1GyHfu+0/EzDaucAzJnG4DOZobraZDNddYlr/UccNVM+JzHbYwM608y1K5O52R7/8G+dgs2nwpxtycKlX0t3mmvdDp8KE/6Tdoxm0h9xUduMD+KeNBGX+o9uYDKUvptSg4ykS/7l+MsrISY3ZhsiqrXsEoR13Z5mW5jJo2aLIO7IU4VnAHpe85HyXlxaeEuXTvhcXssLvi/siBv8I91rZ3TkM62+aeYs/GNyK0z4jOuevCd/5F0BOshb/Mv+aX7yLx3YpoIZ1jsJfAc4E+vOCxiUmC7iQH+Ga0PxIJjPGPKKf/UhJ/2+NDPZ54N+S7uQf3yqVwCjJS1UaUH8icKnGUlb8lc3M/vBkG70K3liuhKobcSuRQgGfzQxnopLeSHsiVP+qR260T+jX/wnTRm6ucKzBWO+m0vHndBM6VDbjvmKf80lT9Y3810CndS6Jkgburksp6b7tSzzPQMBkJjLrgLjKSIAxp2FzXRtMLRk5/shC1JtGHyy4InhroXbxrsSRrt17etmRnNL9oyofc9s+w43+i0S/ZShHyXkldnMaJOhX+vVT0FBom5JeRCYS5X5ynxtGfo9o23L9uU9KRKW7T27eMoIQEFBQUGhvqAIQEFBQeEZhSIABQUFhWcUigAUFBQUnlEoAlBQUFB4RqEIQKFecOd6CwUFBWuHIgCFRwYrfX0RLcv3L+RTUFCwBlgpAdRRIHQqFYtZxSixFuGXcMxvUcvckeYKCgrWDaskALN60RWJ/oauLgrWA3NO8a+RpFVOKShYN6ySAKT6YOGzW7h9+xZOnDmHotJKpGaWIDWrQomVSEr2FqTmVaGwXO5MKslavprPuaegoGC9sNoegPyVrUneXrZ0605MnrUSfUcuwoAxK5VYifQbG4p+41ZirO8anLtwWeSb3g9QPQAFBeuGdc4BCM0hlT9fXL12HQlZRWg3aAn+2m4BPuq5UokVyXsdFuIDVx+cOHWBM05kn8hCxQAKClYNKx4CYu0hSUAngE7DA/Fhj5VoPSIZrd1T0cYtScmTFMqD1sPj8XGPYAMByPkamX+G3VQVFBSsDlY8BMTgM3MPgAng456r0G5kKtqNSCPho5I7ZGSKFEv36lXS0NYtEZ9SL8BMAFL1KwJQULB+WO8QkEFv1CaA1ULxWFZI9yOktEakS3FPIkkWZqb7BsXZloim7UiyJ4TPU0xiUrKCjFjSSaQ/0o7uVr9P4WrX7em8vbsWpn7fZM8YjnTTjo7yHofBdvX7MgzdzBQfst9e2OXw2A/dnvE5teMjShu3eHzSM8TCEBD/qpkABQVrxlNIAGGkvFgpkrKzoJC+X1ghZkpxTxQE0HZkhrzHStVDKlZWolJxst0MMqdrvudBZpqdtiPJ7QizH1LZmpWwcMv2RVz5WvrT3j1dEIBQ4uSXDNssMhwWtiMJSJiLI5uxHc2eUOzaffaL/SSz9u78TFqcTPZ0gpLuzWnykEJhCQLoUZcApPpXyl9BwbphnQRQB3cMAVlSRvctrEA1AqijYKUSZQXJZqxA+T4dWYF7sJLX3Op2SPG3GRaLNsPj5DW7J7vcwnd1M4ahkQKFL/3jsHQlrxGALiIO5ntG0d3L+HOcpbmrW4YgFWnP6F7Gp90I7uXo/rO5fA6T2UMK+93GnXsA5iEgyd11GFxBQcEq8RQQgIU5AAvK6GFEKlPZMpbnuhjMSIl2co9CR/do0WpnxS6UNCt8stNuBCtYVvCkWN02kSQIv3WikUcmB6mga8VBV/YiTPaX/GOFrQvZYcXOCp7P2R77V9etq1uWsGeKn7DLYZK/fE4E5To8Ax2GZwp75rgZ4vIwwgRAPYCP6/QApPJXJKCgYO14BnsAqegwKg3D5+ahyzhSoO5J6OSZgf5T8jBhTj56js8WirP96HR0mZqG3pNz0NmTW/WskM1DN10mZmDgzBwM8sk1K+jhTACJ6DohC27+eeg1PQudRkmlqw/FmBW8JAY+ly11vqb4kXQYkYneE3Mw0i8LkwNyMW1BHsYFZMJrYQEGe2eLcIfMyUX3KRQuPYsgBc2tcW7BRDwjkoQZ90ykOaeDZu8RpY1YBVSXABiKABQUrB3PHAHwsE2XMSkITt+DsXNJyY+MRa/JGfALr0JS5k6MJOXKreYBvgVYEF+N4TOL0GV0NilWVuRy6IUVeW+vbExcXozJi4rgOjgV01ZtIxJJIjub0HtaHmasqsCEBUQo47LRTmt1y1Y6K32phFnp83wGT9jq91g6jiBymZaPWeGbsSa5CvGZ25CUtw0bk7Zg1opCTA8pxZTVm9HfNxcdPPTeAT0f+8X+i8lfXSTxiLkHNndLRhv3RLKrEZEhbR5GBAF0D8I/2k0jAjiv1L6CwlOEZ48ASAF2G5OKpK0nsCSiCIMnbsJg30xEVxzBoePnqLWdTUo1AZMDt6DswEUM983HEO9CePoVY7RfIQZ55aG9RxL6zsjFzNDNmL+yHIOotZ617yKWR5XA0zcNI/yKMHftdsxfUYx+k7PQk3oLw31z4D67BGPnFKP/pDR09EhEB89UIotcMivCeDIfN7cMw2cUUTyTqQeQjWkrK7EqZSeyy/dgx96DCI8nAlhShNlhdNxQjcGzC9F9TA4GTs2BG7n3mF8GD4pvz7GpcKfrkXOL0XdKJtpQD4DJoB+RyohZufCYnYlBM7LhOspyGj2IMAF81D0Q77eZYCYAxQIKCk8FnjkC4CGS7qNzsShhB8JSdmBCQC7c5+Uh8+AV7Dl2A76Ls0hpb8LsNZWo2n0BvSYkw299JeJL9yK9eBdC47ahi2cC+nvnwG91BVbGViNgw04cuHQDNUdPIi55K+YElWJ+1A4EBJGyn5KBqctysT67ChFF+5GzeQ8WBlELf3wM9TxSMCdqM7JKt6N4614UVx/H6oT9aD00jkgmBa7uGRjsk4eA9WVIyKlCL1L2HYZnYeySCsyN2QG3uUVETgVYFrUVcaVHkFp9AqkF2+AzPxFxBXuRUn4I81eXov3wGHQek05hVSGuaCfSCrdjVWwVkUwmXLkXYiGd7leYAD7sthzvfD0Gh+n5b92W+wApAlBQsH48BQRQ35PAaXD1zMJw/2KsytwBr+ACQQDJ+y5hVd5B6hWUwzeoELPDixGeWIK+s1MwMTALE5fnYva6SuTuOSta+J6LCrEqaSu1yiuplZ2GwoPnEZW8A+PmEKH4F2J1Xg2WrynDwGmZCIrfhdL9J+AXlou5a3KxKasKs1fkw3N+HrJ3nxIKe13GFsQV7sH8VVvQkRR/r+mZ6DgmEwNn3kkAvmt2IaroKGYtLRQkkLP9FDLKDmFN7A6U7LyAoppzWBSWj3CKX2zBPnhOj8GcjVuxMnEzfJcmw3thEnJKKawVRehLPQ3T+wUPKiNTBAG83XYeWv1na6SkZ+P8+fNavikoKFg7nrkegBBq9XYen4G1+QcQlLoT00MKsTZzGyaHbMba1ANYl12DJdRCDlhZgD5EACEZO5G14wQqD5/HoTOXMcUvFeMX55JC3YKQ9aXoODQRidvPwicwF92GR2Pg1GyEFx5AYLgkgOC4PcgsOY7uIxIwbHYmojOrMW9lITzm5yN111lMnhmH8OzdWJe1F14LCuBKJNWZSKq9x50EwBPOvmGV2EAt/DnLCom8ihCTuwuBkZXUmymjZzqE2Pz98JydjoVrqcWfU4OJvnGILD+GbYfOomrfcZTtPIxdew9jWWgJ9XaywS/FWUyn+xAmgH90XoLfvNcXs+cEwM3NDT4+PsjOzsbZs2dxm3oEd4fqJigoPEk8owQgJ0CD0vYhdstRhKXvxOKwAvSdmo71eYeRs+MkViVshYdvBqZSK35t5lYihipE5+7B7hOXMHFOJsYtzsPS+CpSspvRvn8iYqrOYvriTHQZGiWUvpEAVkTvQXLOUXzTLxa9p2dgfbokgFEB+cituYA10SXYkL0d8yPI/iRtsng4v2SWbiKAeCKAnuNy6B4RwJqt2FhYYyKAqLRtmBtShsHeRViWuhthCdUYPC0Vc1ZVITZjPxFALKLKjyK36hhiUoksorZg1aYqTJiVhO5jOE0efhhInwN4+ytPxMQlITAwEIsWLRLHxYsXIzQ0FCUlJThz5rSWmzrURIGCwpPGs0sAdPSOqEQqKfuMrccxdiav8klAaOZ+FO05hYjE7dQKT8ac6G2ISK/AvLAczA4vQeHBCxg1txRjlhQhIL4as9duRbu+CViddwwrY7dgckAWRi8qRBi1wpkAhs3IRlDsXsTnHyFlSQTgRQSQsRvzQksxdkE+Kk9exmZqledU7sHCiEL0nZhMrXxerRMvViMNnJmLeZGl2Ji+Gd3GZ4l1/t5hOxBZeNhEABFEYH4rt9QigCHTMjBv1TZBAGO9ouEXVUWktgPzgooxdk4OphJhdPeIhKt7/J3p8wDCBMCrgP7edoqYBGYcOkS9kNhYTJw4EaNHj8bSpUsRExOD3Nxc7NmzB+fOncPNmzeFXQUFhSeHZ3AOQBMiAX4XICq/BnFFB8XEa9sR1Lpetw0bi44iJLYGHd0zxVr+dZuPouDoJeTtP4e06pMYMbsYoxYUwG9DFbxXbUHr3vGYFrQFeTtPI67kKOZEVmNp0nYsCCF7swqwOGYXQtP2krKMQ0/qAaxOPoCZIVswdlEBtpy6gpLD57DvwhWU7jqEBWsKKX68bJN7Kano752NGdRbWLo2D13H8IteGRi/dDP1PrbDZ2E+hvkVwj+2GhPIbKBXIeZv2o4VGysxdFo+ZgdvR0TCbrhN2ADXUclYlVmDymOXsP3UZSRvPYHu43gvJPmOwMOKIAB+D6C9d533ACCGf06cOIG1a9eiR8+e+PLLLzF37lxkZWWhpqZGzBdcu3bte4aJFBQUHheezR6AJp1GZqLb6DRSrKwE5Vu1HanV33VMoljpwy92tffIQLcJ2egxIQ09x8VhwPj16DgqBa4jE+gYT5IolpZ28IhHt7GJ6Do6AZ3IvLMn3RsRB1ePZHQanUz+Uct+eAbaj0pF97E56DElE1PCSoTyX7A6CWGb8lBUdQjxOYeIjGLF8A+/IMZLNTlOHUfGESEkC+JyHZUkwug4Ih6dRhBJeUaj6yiOaxo6Ubid6Z4Il5+FnqO9G/k3Mh2dKR7dxyWiByl+fkZ+uc24TcXDiBwCWoG/t5lU+z0AbXSHlfuVK1dw+vRpVO+gnktkJIYOHQpXV1dMmTIFOTk5okdQmwTU0JCCwg+BZ5oAxB46bqTERugbwqWR4iUlSwqdzcU2CuIFKzq6syTBdcQmMUTTjt8IFu54jT0pUn7bdjgpUxKxyyhvEufGRx7L52OS9iauVLjtPdMwbG4RVlOrfG32FqxNKcbC8FKMpN4F77Mv4sLhsn26bj9cxlmGxXvwyDB5ewdXd1LmIyk8QzzFS2YUR/Nz8PsAaeSO4kP223D82C9+SYzD0NLkQUWfA9DfAxAwsUBtXLt+HUePHkVFRQXS09Oxbt06zJo1C3379oWfnx+KiooEGSgoKPwweIYJQHvrdnQ6Oo3T9uIhc6kM5USs/tavnDNghSzN5Nu2/Faw/pYti/6mr5xQFcqV3WlS61wo3VR0HZ8Nj/kl8ArdjKnL8jHQS3vTmJU33Te7420cjG/4clxk2MJcmHGYUtHr8ZTPyBvFmf1lOyb/2L6IC4VRK23uX+oSgND9dyEAI3joh4eBkpOTMX/+fDFxvGzZMjFfEB4eLkiCh4hu3eJvCigoKDwOPIUE8KjfAyARilK2+DuNSxf7+kiFKRWkUJJaGLqylgqZ77M9PteULNsXdvjcEC9N0Qt3pjA1RaufayKVszQTrXWDO1MvQ+wXxHHmTeM4LOl/rbCFH/wsZI/ds//kB/d0RC+Et69mv+nZ9E3jZBxkWA8jdSeB70P3E2rb4Anhffv2CcXPE8djxoxBcHCwmDjmISKeOL506ZJmW0FBob5g5QQg1YmRAD7qGaYpQssK6b5EU5RCyfO5pnDNilNT9LqSNSlYtqeJ8EsnAWmm+6OHY75me3XirIXLil1e07l7glj9Y4oLE5JbothxUycAVtxiTx/h951hmuIm/JDC8xtiy2omAREmP5/2rLo7S6L7dQ9pMzxB2wzOV5sEll8DkCr++6mgLni+YPfu3VizZg2+/fZbtG/fHvPmzkNZWRmOHz+OCxcu4MaNG9TLMPr94OEoKCg8qwRwh2gKUWv1G+Vu5vUjerjymreX5uvaYUol/KDxk70KvWfDZro/FsjoIYX9aTM8UQzL/bOjP06cvkj5pX8TWM+/BwMrdu4RXL58GadOnRJkEBERIeYJ/va3v2HOnDnYvHkzLl7ksCxBkYGCwv3CSgmg9qcE7xgC+r6W60PJ3ZT841L+uhj953NdjHb0e3XNvs/ckl+WzB5OBAG4JeGTnqHUA5hl6AHouffoyphb+0eOHEFZaRmSkpKwPmo9vL29xfsFPHdQVVWFG9dvaLYVFBQeBNZJAN8RARh0h04A7QfNx9utZ+MfnZcrsQoJxPsdF+Htb31M20EzzARQv+Cewf79+7Fp0ybTm8Z8nDtnrlheumXLFrWKSEHhAWCVBGAe3pWq5Dq1AgvKt2Ks7yp0Gb4AXd2WKLES4fzoPHQehkxYjrPneaJWDgCJLHwcLKCBVxHx8FBISAj69++P8ePHY/ny5YiPj0dhYSEOHDgghonUKiIFhbvDKglADgCx9uCz2+IlIW7Z7Tl4GNv21iixQtlZcwg3hbKVefZYtb8F8FDQwoUL0atXL3To0AFBQUHivQLeloKJwDxx/MPGS0HBmvFUEABfMQmwgrlxU4k1ilT+uvzwBMAKnhX9sWPHBBlwz4BXELHw9hPbtm0TdhQUFMywcgLQRP5rMJ8pPGlwXhiVvRz8MeXdE8gqbihcvXoVBw8eFENBPF/A7xRMnjwZAwcOFD2DyspKsZxUQeFZh3XOARha/gKsS0zKhE9q0YOSJyTyV88rKZx3Bgp44mBFz63/qKgozJ49W7xpzENFAQEBYuK4urpaLDm1dtROcxatfkhDAf2OkicrtVHH9E4LTxRWSQBmhaKllikN+Uea60ZKnpxI6Fd6nhkJwGzrSYPH/3mIiLeYYBIYMWIEJk+aLHoHcXFxKC4uFr0Gnlyu/ZKZdUBPZflrGGYz3VB1wlpEQr/S6wWhtgWrgHUSwF0TSSv0DD0xlVifCPAJKyprgClSJrCi5y0meDO6zz//HF27dhVksH37drGFNW89Ib9ZUOuhrAB6ulqIkx5VJU9WxI8+H6aTtXXiKSAAc2LqLUsFa4TMGf6VZ1zoOd+sDTKG+hvHPER08sRJsdXEkiVLxAqiTp06YcWKFdize4/+MFYCc8rWFQUrg14RdBHgE84tk8ETx1MwBMSiM6kx4fR7Sp6UWDI15pz++zTg8qXL4iWzgoICpKamik9Z8rsF7u7uWLVqFXbu3Cn2KXpy0FPXnNayQSTnXWrXFyVPVjhPzFe1oeeVdcBKCUDrNvFYrEhBTjDNTIgxeZU8KTEqILPwn7TxNIJ7Bqzot27dKr5kxttN8MohfuuYhV8027t3r7DzQ84V6KktElYEyz96w0jVC6sSKhdCdWkijE24w+CJwioJQLRoROqJCyFGJSMN9d/a0J0YoZvdzX5d3M2+JTPGvezezdyIu9llWDJjWLKvm92PuSUzxt3MGXeasUrSlQ+LroyEqrJg/+kDzwXwslFeNTRy5EixDxFvW83fPOaJY96niJedPm6Y0tN0ItNb0AJdC6O7wNI93Zu69yyZWzJjfJ+5JVgyv5fduvd0s7uZ18W97N7Nfl3czb4lMwEyNCl+IbqB9cEqCUCoEGMCEtjs3MUrOH76Ao6dPI/jJEe1o1HYjEW3YzSra87ndzPTxZK5bqaLJXPdjMXo/73M6prrYRrNjOYslsyM5ixGc90vS2b3Mtf9t2R2/NQFnDl3Ebdv86QpK6XbIr9YfkzgVUT8bsG0adPw/vvvo2fPnggLCxO9Bd65lJeT8rzC4+kZaJXBVCdkb+vGrVtULy7jGOWBnif3m2+63Mv8bnZZjOZG/y2Zseh+Gc0tmRnNWSyZGc1ZLJkZzY3+62Z1zXX/LZnpYslcNzOKMD91HhcvXaZ6wS8gytpgyj4rgfUOAZlYU7YqOfl8Ajbg046++OvXM5RYkXzQzgf9PZYIEtCVk7k38LTizmrKiv369eviS2Xc8ucegK+vL7755hvx7QJ++5jnEXiFUf2D48N1QjvVTvYeOArvBRH4oL2qF9Ym77WejIAVMThz9oxB/fOZyECrgBVPAutHViRyoGHwuFC8/Y0fPuoe8ljlw27B+GfXYHxIYvE+3+t2p3l9CPvLYYvwH1MY9SmcVu+7LsSnnWfiJPXONL2k/VhPQa9vMBlwj2DXrl3IyMgQ8wX8SUv+4D1vVc0ftOFlpvUFY2rKo1QkW3fsp3qxEO93CMA/ugRazKP6ksdZ7o1iqn90tHT/aZH/+2I6psyLxMGjx035J4bsOPusBFZKAHoScSGXZMC/fUaF4J22C9BmeKz4ctbjEv4CF3/pive614W/zCW/zkXXdM+SuwcTzS9LMpzu1UsYj1nc49F6WJz2RTAf+T0AvaQ/Q+A9hngIqLy83DRhrH/fmCeReVURb0r3KD0DY7JK1S/rxpbqvejj4Y9Peq7A14M3WM6nehGuD3cvs7J+PGqZZfcynNZcB0x+ssiwZTiW3FqJUJ1oo8nbrf0wcU4k9h0+JvJNz0Nrqh5PJQG0ddskPwrDnyx8TCI/oC6/zsWif0hFfgLy0cOW/stPSloS8dEVC+6sTZgsn3UCqAt+t4CHh1j59+3TV3zFjLeiSE9PFyTBG9Y96DbVxmS9GwF8MzTWYh7Vj+hfk7ubaB8Zsuj2QaTO1+xEXTN8yU6YWXJnPSK+7e2RQgQwpxYBWGPleEp7AMS0QilT4XgMomeg+N6u8R4XRN2cC6bx3oOKIQyj1CpMltxZk1AcxUfh7yAAvaBbV2H/YVD7ma9fu478/HxMGD8Brq6uGDBggCCDAzUHcPr0aTFxfD9kYEzNuxLAECIAS/lUX6KVS0vlluuMRTcPKOyXqfzXqm+aWHBjjcJxvpMAOJ+ta27s6ewBDKcegIVEry8xEoAsfIb72r36IACjGMOT/pNYcmdNQnFUBHBvmCaOz51HTU2NmC+YMWMG3n33XXTv3l2sIuLhoe+DOTWl6n8SBFC3jN4hj1pmLdQDFt1c1IlHDeOHEoqnIoCHhq44ZCHXz2oRgF4YHoPcOTxjHgrSzQQBWHB7X2IqJN8zDPQoYfxAogjg/sFLRM+ePSveKubhoOjoaLEz6dixY+Hp6YmNGzdaWEUk09CYmvJogQAe5xAQlVdXd+5163UgTbvHDSZjma3j7kGEwpD+yHLPR6Pf9TfM9BjFVLfvRgDWo/wZT3EPgBP7MYgoZFzQM6nAsVDBc09GW7pnJoZMzZ4F9/clspAIP92TNH+NZCCvZS/DknsrESrkigAeHjwExO8V8FYT8+bNExPIvGU1TyKnpaXVmivQU5O/d8ATztev88tn391JAJby6VFFKOR0dBieBVe3LDJjEuAySuWXJ2i5LIvy+uh1ot0Irm882csTqkki3PbuVN9EfSSCsejWmkR7DosEQFqM64YVVYtncwhIKFYLQuY9JuViqG8RPOcWw2NOATqNikfvKSkY6JuNPl7Zwo6upKU77Xg3P3URlYjPpf22I5LRfUIaRs3PQ9cJVLnGpqDXtEz0nZZNBT+R7BoKkzYB3d5dD9MoZKb7bYqDJXtGkf5ZvvcAYokABHR1ZUUl3apQO124Z8BkwPsQTZw4EcOGDRNEsH79eiQlJYk3kXmH0hvXb+Da1Wui98C7lvJk8+MZAjKUDSpTHUano/e0XIzxK8L4OcUY7pODnpPS0IXKLZdfLsdtRyaL8qC7qV0eWbRyarq2JLJB1GtyGgZ5paPvJAp7VBpGzC5Ct3FEAKxgtTBq14Xa8b0jHNM12zO6M5tbrluPIBRPy5PA1oVnjwCoMFgaT2xPZp3Hp2N6yBasztiFpPLdSC3YjmETo+AbXooVmXswe12VsMuFXbR+RItETkYLP4VffOTKYK4QsvfAbrgnIYd22ronYOyCQhQcPI8R/nno4Z2KiaFF8A4rQ2tqyXGvg/0RrStuFVE4rm6ZaC8qkhYG+8stIw+qgBS+GINlvzmMWgVdi4cWZ9mzqYdJdPLvTgLgvDPnm8KDg1v4ycnJGDJkCN5++22xBUVMTIwYOuIdSvnrZvyZy9LSUlRs3V0/BKCVVS43smxwOaN64ZmK/j7ZmLd+CzJKdyOvYi8ikiswZXk23Obno6DmLMYsyBflWc4B6GWdjh6yzMlyyuVOK6PGcN35WqsbI6nlPzwO08MqEJK8A3NXlqHb+ExE5O3A8NkZYmkl22vnTsQwnHsFHFf21zj0pJdzLRxxzn6zuRzGNdVRvX5RfXAV/kn75rR4BCE/FAE8NB4jAWgiCgMV0PZUMHlsk5V/wKZqpJbtweoNBZjinwyfsFIEBBdicVw1gpN3UoHcTAWF3FEhbT+cCyF3ialAcSEjBSzGSIclkQKPIcUYR+GQGd1vS2bfkpku3MLnFseEhRUoOnAOk2bHo/vYBAyYFA+3KXFUKNmPWIObWHGtK3J+R4DNWw+NE/GRcwkpwk++ZvO2btR95uekFpUeF/ncXGH42WWcucLoafLAQmFa7gEoPAr0z1ryfMHxY8cFGfA8wccff4x33nkHY8aMEd8w4F5CVl5Z/fYAhKJMFY0NVrIDZ+RiWcJ27DpzWZCAN9WJhVEV8F9TDrd5uciv2oPRc2QZ5zqhl1k+56EbVrBthnFZluWZ7bHfQunSsc3QeJMbLuOuw9PhFVZFBFAF/9ACdCR7/fzS0Wk8lTW3eLLDfsSJuHF5NxIAl2tXDpPrIJVLoezJvDXpC+G/NnRsrFu6PdYpXO/YvsV0eVAhfxQBPDQeJwGYWzii1SLGGVPRfXImkradwMLwfAyflkgKOZW6ohnoNzEZM9duQXDSDvgFlqJd/0R4hZYhuuAQsraexvqMGoz3y6Fucirmb9iJhLKjyNh8CJsydmCodz51Y/PgG1qFyPwD2FBwEPlbjmJZeAWGTEmnHkCRIIAps+Iwkgp5QHgJFoeVUNg5CE3fh4iUasTl7kF84T4sjihEZ88EdJmQihmrKhBTfAhpFccQmXYUQ2bkYPCsHCyK24WMLaewNvUgBntlY/TiUoTnH0Fy2WHMXl6MPhO05zZVGkvp8wDClY4q5Sc9gvB+m0nYu/+wGJZQUo9y/oJpm2reotrNzQ09uvfAL37xC/zpj39Bj77u6DB0Dj7qGVhPBCAbBtzTZAU9JWgbIgsPYQ01ggZPz0fPidQjmJqOgd5ZGDw/C/l7T2C0fw56TUrFzDDqJVQdExK0sRojZuajn1cuFpDblM1HhHlINJl7ZaHz6GSsTj+AtSnbzWU8vBCuAxIxdeUWIoDtVN+K0HFICiKo/I6YV0pSjMUJO7CB4pNReQppJScxK7AEHd2j0WVsOhbGVCG+9IiogwFRW9DVYwOGz81BROZeMj8M/6it6DAqARODSxGVV4PY/MPwC92K1sPiBWExOTxyo0gXRQCPgsdNAKwAuXXM3ckUdByVgcE+1J09cIFa5dlo70YtaG5Vc4Gg1sR0KthMAPNCqLU1NgvRZUeQXXUUhduOIZeOEam70WVMMhauq8Km4gPI2HYYpbsOwX81KXrvPIQk7UVJzWksi96MDVn7sClzOybPT8cIajnpBDBhURbCUrYiIn4reo7LQN7+80go3o2wpK2IziX3Ow+h77hozFhRhsjsvUjbsh/plQdRduASvBbnwo9aZps2H0R0RgWWhJdRuBnwj96O9B2nEBpXAe/Fxeg1XvYIZBrwRLal9Hkw4UnAj7oswf++1wfLlgeLnTKV1L+ErgzF9OnTRcufewIvvvgiGrs0wZu//G+88/lwfNB1aT0QAJcLFm5Nyx7l3MhdiCPlOWVWCrqMoDLjxsMmyXAdm4aB8zOQv+sIRs/LxoSlhdQo2YeCyt3UMNmP0u1HsSisDP2mJsF3wxbElB5E3vbjSCvaB//gfHQYuRG5+88imRT/2sSdiM07hOIdh9GFytNU6mnLBlcxhZmEwtNXMHZ+GSYsKceG8oNILt+LwNgKZFWfRmhiNUbOTMa4RWVIJfP0yv3I33EESUV7MX1hBmZFbkFS+T5EZm3H2IU56DomEZHUeIot3IlVcZsxZWE+9WK5R643jpgA6qEXoAjgUfA4CUCKLOQ8Vp6BzqMyMXxWkSCA8QtziQDIf57kJQXJXU2vsK2iQC4M34LR80ux+eBZRKdXY9XGckRn70TKlmPoMykNC1aXI3BjFZZvqqKCSAU7iVo7s/OwKnkfsioOo7P7WvTxSsfGzG2YtSILbn5pdxDAmk0V6DQqlgjgLBatL0H/yQmYvLgEO05dwpCJUYhK30s9jANYk1SCRdFlyNp+BDNXZGMO9RxWpe3ArKAUjJ8Xj/7TkzF7XSUisndTIU/HxAXF6DFOEoAkwPojgA87LcR//rkzvH1mi7dfldS/+Hj7oHfv3vjNb36DP/zhD2jevDmaNWuGX/7bf+NP/+iLD4iE64MAxJu2dC6GCKmszI/cjqSSQ5jok4DOYkhF2ukwhhpN/tRQ2bILo6n36h9Vhfzd1BiKzsLCtTko3XYAK6OKMGDyRkwLL6X7ZVhJyjqlaA9WxZTi26HhyN13BsvWlWMI1Z2pSzZj+6nL6Ek93GlhFaK+zQkpRY/xVEfOXIXHzEIigWKE5+5G4FpS2kMisSB+J1am7cTcNSVYsmkXCqnOrY4voR7wFiTk70IQ9QJmhG3GipgyzArJoTqRiJ6TqEeRdwAL1+dh6qJ4DJ/Byl/rEYu5M0vp8hCiCOBR8PgJgEWQgDYW3mNyJrL2nIUvKdNe4xLQaTQRw+g0dPfMhvcajQDWEgEsKsGeg8eRkl+JNfEFCNtUQt3dSlL0hSjYeRqF1UexMW0birfWIJIIYMKCEkQkHUBS/lFqacSit1cGNhB5zF1ZiNEB+XcQwGqqHG2GRYjKMWVhGjoPj6FeyRbkEyEMHL8ekdRdLth1GAlF2xGcuRPhyaXwIHtdp6bAc0kpEnacplb/IXjMpS66bwaWJFSjsOYshbkTw3xyqPXGrZwMIaLCW0iXBxGeA/io+wr8vc0knDh1XuSVQv1Af4ns3Llz4mWx7OxsTJkyBX/84x/RokUL/PWvf8Vwj/H1vwpIqxc8Zj4rpBIphccQGF6OXhPS0XF0JrqMziZFnYPh83JMBDAvsgolB04jtXArwhOLEZFQBK8FiaRkM1Bx/CLSirdhPfUQUioO3FHGOwxbR3WhAHk150lBZ2H6mkpR3+aGlKPP+HyUnLmGURoBrM7cgwVBxejmkYXZkdsQHLcVS9dVYHnaLhRv24u4zHKEpVYikMq976J8dBuTAL+QYiRvPkQ998MYOIvqxZxcBKVUIalqL4KStmvzaHK+jsnAYpo8qCgCeBQ8TgKQwx9CtFUK3NLp5JmAoIzd1A1lZbkL0wOz4B2UjUBqRSxYvx3LY7Zj7qpy9J6WTQr1HEKTt2D2qmwhs0JzMSmoCPlb9mFjchECIrJQdvgCIlN2ULezACuS9yAq/6CJADZmbcO80AKLBBAev4W6qfHUAyBzAwHwdc/xiZizfgviindhQ2YlZoSXCRIYMTMeExZnwn9DKWYsjceOAxcxN6Ia3sFlWBFdQT2JIuSW74GnHz0zz3vQc3Prvz5IwDQJ3N7bsApIh/UV+KcJ169fE9tI8KRvu3bt0LlzZzEZzN8r/uSTT6jH5YO8ksr6nwTmcXA655U7Q/3ysSp9N/acvkS9zHxMCMzHrMhK+FK9GOSfbiIAn3BSqNWnqFG0Fd6rSxAYvQW+gaVi/qvk8DnMXxmP4LQqQQB1yziP4Y9dvFlc9xifLFYBMQHMXlaCLkOSsYd6AONnGQmgiHoj8ZizcSv1KrYjYFUJfCPKkV+xF2EbqMW/bjMWUxw9qNc7J7oafhFFWJ1eiaiCHfChurqM6qXXimSEpVVgXV4N6RMe8uVVQXoaqCGgJ4zHSQAs3I1l4ZUK6Wjvlob2VAAG+uRhARWeiIxtiMyvRlhmFUbMysCEZbw8sxzjFxWhC/UIZoRtRSi14tfnVCIoupRa/7noOTEZi2OqsC63GqvSNiMovgJLw0oxxDsLXmFbsDBuuwij94xMBG7cAq/FxXCnXsPagn0YOjEKg7xTMI9aWYvCN6PL2DSszN6P4bM4bgkY5leCELruMjoBfaZnYPZaKrjUxY3I24k1VJjdZmRj8sJCavlsQ1g6tYCSKN5UcaeGbKb47EJkajlVxBL0mZiFdmLlBAlX8noYArpzFZCeZyRK/z8weOLXtJFc3z5iI7nIyEjxYhibs4wYMUKYl2/eXH/vAXBZYMWnNQykZKLzuEx4UOt8JfUg1+VVY23+DgQmbcHUlXnoPzcN66jRMmxGGnpNycD0VZVUJvchIn8nVqyvwHi/AgyfWYRl1BOOyKpABNcZ8mfhmlJ09oxHeP5+qgPpaDssBsOoDvF1F2qxey4ugC/VhXELCtGdWvqxFUcxclYxRpKdWWtKMHp+oXg/YNrKSmrdF2GMTxL6e2WR0i/C2oytiMzbTY2hKnQbn4LRS0upAbYVUTnbsSiyHP2nJWNh4g6EZlRSPSH31EiSC0HqQekbRRHAo+BxE4BZeKLL2O3rPy0d4xfnw2d1GaYFl6CjZwp6T83EQN8c9JmajQ4jMtBjEk96FcN3ZQkmLshHd35JxS0Rg2cXUE+gHFMCi6jgZ2Ckdza6kTIf4J0Lt7mFRACp6DI+HR5+eRg0LYdIIwdjiAi6joolpZ+MoRSG+8w8dPBMx4gFpehGXW6eqO4+MRsjqTXj6pEkJuDYv8lBZfAOLcMkIqVe47OFf1MoTjNWlsKdWvpdeZLON5+eoQwzAguogmaigwc9pxjvZPLjyv6IhZ7c3/09AKX97wfGraT5jeAlS5bccytp/hYxbybHXyHjz1U+FgLgNfuacGOp89h0DKEGhdfKMlEvxpGCHuCdga5TUjFufoFpbqnnFGqIBG8me6SU5+ai7/hMUuiZGEKK24vKJZfPiaTU3amcu45Mwmgq+z0mplEZShAvk/F1ByrjvadmmOobz8+NW1aOXpNy0WtiOjWUMtFjcjbaU1ke6F2AIdQg6kkNow7Uqx3iky7q3tSQUqpvuRT3RKqrWaKuTgssMYU7IoCuQ8owkRpNg6heyOevRwLQ6pYigIfGD0cA3ydycug+h0kexO73yAOF+6TkrgSgi4Il8Dp//qoYv9iVmZmJdevWYfny5fDw8MC4ceO+92MyMmXlb72+CawprjvNudfI5VE34wYEXVuyy+vsh22Sreo77v0wIr4dQKRi6d5d5W7P/jBC/nAPWxHAQ0NPqLsQgFilo2XY45A6mVnr/G526ppZMtevjfIg5nXNLPlrNNPP69qpD9H8vDcBWF+Bf1Iwfk7y8OHDyM3NFbuCtm3bVmwTbflzknr6ya9I6VdcFyzvBsov/D2GvNbFWJ7uFo6le3ezb8me8fp+zHV5WDP9uj6F/FUE8EgwFvU7CYDfCJQTmIaMVfJEpC4BSEWlqyvrK/BPCnU/KN+jRw+sXr36Pj4oL6+NqXk3Avh6aDzlibGlruSJCRGBRQKom71PGE8pAVAXU1/Bo+SJCRfyexPAs4baz8xj9LyRW0BAgNjPh5dwBgcHIzY2Vkzm8oflecuH+4ExRe9OAHGqXjxhMfYE7koAtYvJE8XTSwBiXFLJkxSeMOTe2Cc9axOAVFDPHrj1zpO03Krnj8TzJK7+jWAW3tBtx44dws6dLf17g20ba8VdCcBCPin5oUWSgSKAh4axqLPIXxMBDNuENu7U+lTyRKWtW7LYUOvDbiueaQK4fOmyGL/nNfu8ffPKlSsxfvx4uLu7i5U9PNnLSv9RYNQbMn1l3TASwL+GxFrMJyU/pCSjzYhEtCWp+1F4kYPGjLQCPFUE0HdUMCXqPHw1YK0SK5FPeq3EO+3m4cMOvs8MAXDrncfrec3+yRMnUVZWJpZv8mRu69atxTJO3ra5PhOBvTLWCp0AKokA+hIBfNR9CT7rE2Yxj5T8kLKOJBJfD1yHP3/tg0lzI7H/iJoDeAhwSslCzuDfAWOW4fcfjMB/fjhKiZXIf3zogT984om2vWfj1Bl9DoCh59/TirvXVF6pw8s0Z82aJTZn69q1qxjb54+0HD9+XIz9M0HUJ8zpqkPWjeodezFs9Gz832ecHx535I+SH1b+6+Mx+O9PJ+E/P/IkXTUE3vPX4OSpUzLL7lGmnhSskgBkMnEBN39Dk3+3VNcgI69KiZVJVsE2lFbswbUbN+vknfyc4dMObvHzKp6KigrxghYP7fAQDyv9uLg4MaF78OBBQQwPOrZ/v2BfzT7LK/67cOkytlbvoTzYajFvlPzAkr8VmQXbxTEjrxK79h3G9Rs3ZLZp+WZNsEoCYPUhV5LwmRTu8urJJ5LQeKHkiYl+yr935pm887SCh3i2bdsm3rzlj6/wB9wXLFggjjzJW11dLZZv/hAwpzNDprOe4iZz/UKJdUjtU+3cumqFFROADj4zKxT9j/+VPHmRB/7VFb/stbEZXz1N0L/Exa15XrO/adMm0crnTzAOHDhQtP65F/CoE7oPAz3JJYzpLVPfZEGJFQj9iJ6gUeSvzDHrgfUTQK0TvmMeFlKwFnDe6EM+Tx8B8H48PMRz7NgxsW6fl27y7pvt27cX397lXgDbeZLgFDZVBXFWty6Y7yo8SdStC3oeyfzhX2vKKSudBOZEMySTnmrWlHIKAndmi9Hk6ciwqqoqMazTrVs3fPXVV5g3b57YqoE3YWNiYOX/uMb27xfGVDVfGUXBuvB05JGVEoCZMRWsF5xDnFN6bt2ZY9aZhzyEwy9k8f47/fv3FxO6vBkbT+iy4t+7d68Y/791ixsiCgoPDr0+GMUaYaUEYEw2XcXUJQWjHSVPQuRfnbmZWjasB7wsk1/W4nF9XqfPk7k8pq/vt79lyxbx5a2nAcb0NYqEpTtKfli5m6n1wUoJQAcnm1T+ckTZmIzGpFXyZITzRI5xGilAijx/kuCWPg/j8DLNjRs3ipU7vAPn6NGjxTAP78F/4/r9jO0/6SepDXMa1xYJS3eU/PDydMDKCUADpWdd9V8rrZU8GRFgRX9b5I8ukqxZfljob+jy0kzeYZNX7PAwD7+o9ctf/lLsxMlv7fK4voKCgpUSgFQirGH4TJ9JrzMxrGAlMLKBMc9kLv6Q4Bb/7t27xQdVvv32WyG8fr+0tFTsvMl78fOe/E96QldBwVrw1BAAXx8+fhI79x1SYmWya/9h7D98ErducX7J4TrOrx9CzXKLf9++fQgPD8fEiRPFB9R57T7vvJmdnS0IgbdmUFBQuBNWSQCygaYTwG3cvHWTlMwhBAQnYYzPOoybtUGJ1Ugkxs2MgO+ijbhwkV+Qkqpfz73HAd5yoaamRuy8yZO4ixYtMn1Hl4mAh364tW95FQ/H7IegJgUF64d1zgGYCEDK1WvXkZBVhG/7zsf/fjETb7dbpMQK5K9t6djaH//35XT8ve0UnDh1vla+PVwfQHdfGzx0c/ToUaHc09PTxXd0fX190b17dzHMU1RU9NSs4lFQsBZY8SQwKwHZA9AJoNPwQHzca5X43qaSJy/8QZi2bgn4tOdKwzeBZZ7J/LPUAr8fSALgrRl4XP/MmTNi3T4v1xw6dKjYdpm/rpWTkyOUPttTUFB4cDwFcwB3EoD45Jql73Aq+cHlTgKQLX+pwuXvw4CV+okTJxAdHY2+ffviyy+/FNsyZGVlieEfHuLhoSCl/BUUHh7WOwcgRJ7UIoCeYUQA6ZIE7iVGRWUyr3tttlf3e5515Y77wh+zX+K+5ted15ro1wa5W7jfFx+THxaua7nVzQ33LaaDLiZ7d7lvFLLXZngCPjF8E5ghc41/H1w587p9/mYuT+jyen3+0AqTAL+hy3vwc4u/9l77psKiiYKCwv3CeucADPW5NgGsJsWTRsIK6C4ilFMa2rulo727JAtWim2F4uNv2Uo78vudxo9o07X4qDaL/m1PzUwMedQWcd8wJNKew9T8l35Q2HQt7XHYfC0VqzlMFj1c9lcLWw9Pfx5NRFjCPNX0bHfc193qotvVwq5rJuPA97T00s3Yn7ppW0fqfhSeYc4+LQPvAR7bP3z4sBjX54lcntANDAwU39ANDQ0Vu3Lymv67wxyaFAUFhfuFFc8BMGSlrk0Aq0jxsDK9u0gFmQ5Xt0ySDLQdkUTX0syklIUi5Wtd2bKiJruaImw3gs51O6y8yVwodw5DKFEOh0RT3GzX1T3DrGhFPMitu1SU0n+6J9xoytXkD8eDj+y3tCfvS39kmDq58H26dqf4DGdzsz/SL46z+Vr3Q8TNGH82o/SRaaKHnSHM2J7JTA/fkpA/lgiA84xzzlL7n9fg8+ZqJ0+eFJuwpaamirF9fjOXx/d9fHzE8s2zZ8+q4R0FhccMKycAxsMRgGzBZ9A1K6k4oSylcjYrYlZ4UtmyG7bL7qklTz0HVphSUUqF2l4QCilRctd5bAY6jCbl6UEEMyoDXcZQy9lTU7IGAhAKefgmtBueJNyKuGnKv65y7TAqDR08yb2H2Z6uvGWcmcxYYWfKOBOp8XO1G5ms+cfhas/ApGNKA0kmtf3T4iGeX5KAMBdu2A8mCoN/dxOyf3cCkO8D6+AlmbzX/unTp8Xa/Pj4eIwaNQrffPMNPDw8xAfVeVxfQUHhh8NTQAB1h4C+nwDMyk9XYMnCTChk9yShlF2HkxIfniUUu1E5tiWF1taNlKpQjslCybIb4ZbsdRqXjlkbquG5pAzdp2Rj0IxsLF23BQNnZqPjGKmcWYF2GJ4ppM3QePIjQfrN4fCRlTIpXl05c9yGz8uD+9wC9JqUS+bm3odQxCJsfi4tjsK9Tl5SuUuCIj/p2HpoLNoQCXAayOfWFDu5Z4ISZMTmIm0Mwva0cNu7y97THXbqyN0IQIoZvNc+b8Q2bNgwfPbZZ+IjK8nJyWKDNh7X56Eg1eJXUPhh8eMkAJPoilIqv97TMjFzTQUyq44ja+spLAmvwrBpuegzJQ+TVlagE7Xk27kTWWjDRawAXYeTEiWlyX708crDvI1bkVy2B3MjN8M/cjs2Zh1AcsEuTAoqQvdJpPDdkjDMLw8xlaconNMirNC47fCclVNLqbcXvQUmAQqDzpcn7kFA9E70m56vtfQ5/nLIRrT23agnIeJlfjaTPVLcUrFnouv4LISm78PYhWXoOpaHc3ioR7b09V5He3f2l+LiFi+flwmGwmjLYRDpSaLheN4nAXQPMrwHIMETtTx2n5aWhkmTJolWvr+/v5jgzczMFJ9T5N5A7QldBQWFHxI/XgIQrV5za7s9KbPJgZsRmbsXMRnVWJmwHX4ry+E+Mw9jFpVhQ9kRTAooQH9q1XcalYouo5Mx3CcLQ3zy0Hl0Gjp6pmPcks1IqT6O1KLdmLWmnBTtfhTuOIGNScVw88tA5zFpQiGOWViA8jNXEBRfhaCEHYjJqkHI+mpS4gmkaNOIiLLg7puL4VMz0dE9VpDBuqyjCInfAXefNAzzziIyIWLwYMUfT8dE9JycjqG+6egzOQudRqej89h0DJyRS8+VSH7ysFQWuo3PJgLIQEj6HozyL0AnTzm01GMCPYdvFvp6ZZM9SgsepiIy6jwuGUOmZ2AAEWOncZRWRAaSHOQ5yx3pWkf4eT/qHoj320wQBMAva/GKnbCwMDGhy9sy8PJNntjlsX0mBdXSV1CwDvwoCUBOlpISIyUnjtTK5ta2X8R2bCo7AL/ALPTyjEGvSakYPDsP/hu3o/rUZVLk2zAhoAjDZuVj0rJ8LN1QiMUbN2OMfzaGzMiGX3g1qk9fQULubswJq8CG/EOo2H8CazbkoPf4JLgy6bglYvyiIpQfuYChM2KpN5CNVQm7EJW4E+2IAPqT0vZdXYYg8nd5WAHGzYpHB4pneMphbCTFvXB1LpasL8S8yEr0nZJKrfhEDJ+TA++wzVhM5gHhlXCfVYj+RBL+G6vQlZ6DW/Fuc0swblkZOo1NwfxN1UQOWURcKRhCz+cTXoFF0SWYG1WF8dQz6DcxG90mZ8B3zRasiKrArBVFZD9bEKUc9kkj5U/EQvG1lL5GYYL6qOtS/OmjIVi/MQ4bNmwQip+HeFhSUlLE0k5es38n1KodBYUniR/lJDArMW7l6uPjTACs1EYvLkZEYQ2yd5+Cz4IU9B23Ce5++QjPPIhj124ir2IfJi8rwuwNO5C47RhyyrejdNs+xGfvxMyQMlLK1Thy9SYKt+zFusStdO8Yjp+5iKTc7Rgxs5AULoeTgmnU0zh27QaiMzYjvvIoYvJ2YN7yDPQYnYXFybuRsZl6Dlt2I3/LLuSW70X30ZsQnlyD4n0XkbPjKFIKq3H06g1MX1aIkfPzsCJ9F5Kr9iGL4rP38AUEUW/Cc34usvechtvUaCKBBCyM3oG1OfvRbWwSioikJi6tJCIrwNKkHcjffwax5XuQufsk4vL2Y25QEUYsKMC+89dQuvMwwqIrMM4vT6aTRpzfuwJIEyaJf3YIwFu/+QJ/eftvYmKXV/bwKp57Qyl/BYUnjR9lD0ASgDYhq0128koeHkrp75WGOesrBQlEkmKdOL8YU5dVoejgeQyme53JTY+pmZgRViSU/+Yde1GydR+8A7IxaHIaUnafg/f8JPQdG4clMdWIL6lB/7GR6DCKw0oTwzxTlhYJQtmQRko5aTsRyzEkZe/DgPEbkLX7NMp2HRF+b9t/DHtOX8TgieuxLnkv1sRuwyivOAyYliLi4x+Si/7jYuA2JxsRBXtRSCRw+vxlRMZXws0nAUGZexEcXYkZK0sQFF+BoKgydBychMJTVzB2SRGmr6rEGiKFCb6b0H1sPAbNzEJgTCXWpWyD2/x8FBOZjAng+YhYsQLJvBpKWz0kzi2nsRBKU+4BvN9lGX7ziQeqqneLCV1e7aOGeRQUrB8/PgJghc+tV14FxApNtGalcm7nlooO1ELvMTEJQ3ySkFR6AP5ryjDCLxN5+89R6zmR7CRhWkgFInP3YdX6cgTHFCOjZCf8AvMxzDcb8dvPYtLMOHQZsRH+UVXYVLwfQ4kAxPAPhdNmeCLGLczXhoASMHhKJlYn1VBY+zF61noUHjiLyNRSLApJwYIVGVgQkoMuIzciImEbQiOLMGR8NLpNyELiznOYE5SDaUuysIiIYRXdDyD7hduPIjxhC4ZOjoF7QBFStx5H8uYTRCC7iJhy0XGgJIAxiwvhvaYKEbn7MXLSeriOSEYfrxwERldhfXq1IICCgxcwyj8b3/JKJ5FWkgCEiElgOR9wV9EI4MPuwXinzXQcN0wCW1oJpKCgYF348c4BsBARiGWe3Jp1T4LH3CLMW1dNLeZCzAwrRvzmQ5i1ejNGzMlDds0FLFpbKiZLF2/ahby9pxGevBVR+buRt/Mo5odXYqR/iYkAunnEYf76asQW7ceA0WuJAHjClCeBEzB+UQG2n7qEWcGZ8A4uwvrCQ4gursHg6TGIKj2EDfk7EBpfgqVRRQhYW46OHpuwNn0nVkWXYuj4WPScmI/U3ecxK6QUvqvKEJG3D0l52xG4vhAl+08iMqWK7MWQvVxhr+zwFYTE7cSAcanoPjITRaevYvySMkxcVoG1uQepJ7INs8MrsCRhN8JTdmIphakTwJgF+aLX0tZDI0xBAPeh/Em4V9WaCODuy0AVASgoWDN+nATgLrc0YCKQL3TxZOUmTA0qxUZq9a8v3IG0qqNYlrAdbn6FGDqrFGEFh5FWtBMTFuXBN3yLsBdVsAPRZYcRU34UXsFbMXRmCQIz92OMTzK6jU6B9+oqBFLLvNPwtWg/kt825nAS4cnDK/tPITanEutztyKyYI/oLXQgRc/LTdcWHkRs+X6sy9+J4NTd6DImieKyk8igDP3GxKPnuDxsLDlCCnwzPAJKsIBa7UmF28g+xXvbUSxdR/ZGEwmNzcXS9BoilwOYsaIE7Ycno9e4fMRsOwFP/3IM8iKC2bATOTtPYAM984bSGizesFUsSR0wMwfhBTUYNiub4pwkSdLUW+J0NC45tSyKABQUnm78KAlADgNpK4BIqbEZr3nvPDYZQ2dnwSswG7MWF6D3WF5mmYSOYzIwgFr+cwOL0G9islgeOdQvC1OWZaK/TyZ6z8hE13FZ6OiZgW7eKRgwPQ+dxmTTvVwMm0MKlN/I5ZfNOBwKs/uUDIwPLMS0wCxMD8zE4BnJaDMsVtjjFvawefmYFJiHyQGpcJ+wkYghWbwI1t8nW7TE+S1jzyWFwh9Wsr0npwm/2M9Bs3NE/LjV3o7fQvZKwdApMejnmShebOvskQXPxYXoNSFHzIPwy2n9ffhZsjDQLxUdJ8j0aE/p0mV6ElzHGBQ9p5nx+D2iCEBB4enGU0AAD7kXkBBJAKx02dx1RDo6juR19KTQPbLhSuai9eseL7Zy4PX+7T2oBeyRAVdS9p08qQdBCpmlPbeMeZsGT55M5uGlDHKTDtfRHJ6u/Hm4ieyOSkFH8quTJq4eHC+Oh4yLqycpapIuIzPRmV8II7e8Xt91lByu4ngzCbTnYRly035UqvCnw+gsckthC3Mmh0xBAux/B/EiGPnFbsewgpdDOe0pPp1GZNHzZhHRsFtW7hQWvxzmzsTFPRctXE4/Tjc+3ocoAlBQeLrxo+wBSEWsjWULhSbHs8UeP/z2LCtpYUaKVChmIgFt+ENuIUH+MHmYlKFUkPr2EizyTVlpT4iwJ8PhMKV/+hu6clmqJCT2l+3I8MVktRYOT7xKv6Wfeph8zfF2deOtK2T8THE0+cfxobhxuCJsLS4kIuwR/NYwPTfHR7yFzM8uN8mrHa4iAAWFZwU/ziEgoSQ15ckKjUQqRDkvIMe3pblU2myXJbOWQuUJZKmIpdI1K2VN+Qu3LHq4ZtEVsa50RbjkXvdTxknaEfbYb10Ra3GW5CDjJ/wQilya6c8m3ZvN9GtzXNhcfz6+Zn/qKnu2r7nRwzaa3U3IHq8CujsBKCgoWDOeQgLQvwdgQSEZxaTIWGmTUhQKkNxpZrodVsysEFnxSpEKn1vT3HJnO1JBm/0z+8H+6WRQRzR3tdyS367ucrtlSUAaUWj3TP6Z7LOYzUx+GexJ93zOZoZrEYb0Uzy7Fo5MA74v41grziSmMIz27iYUZ56LqP1BGNX6V1B4WmC1BCBViPw1EsBHPcNIibFilgrovsSgsCxeG83qitGObs94vJvc5b4YtxfKla4t+WXJHZvVNb+Xm7tdf5+9BxTOB55DqftNYLkZNEORgIKCNcPKewB3IwC5i+b9C9u/m9zP/br+1D2vK3e7p5sbxZL53dzUNbuf67udW7p+UJG7n9YmAD3X9DMFBQVrxVM1BNR+4AK8234BPu0bocRK5MPuIXi79exa20GbCEDpfwUFq8ZT0QO4fuMG8jdvw2jvUHR1X4Leo0OUWIn08AhE52EB6D96Ic6cu2jINQUFBWuHVRKAVB78yxuK3catW7dx4NgJJGWVICImQ4kVSkxyHq5c5S2f5QyAIgAFBeuHVRIAq32pQiQBKDwt4Ly6pR05/xQNKChYM55SAtAVi0HBmE75RLswnRrMGKZT3ZzEcFtCM9CtCBguTGYMzVy/bbpnOjGY17JgONXNSfRToxlDO0ho5rXMGAa7uphPJEynBvNaVkwnBnP9RLtnMqubR3XsKSgoWC2sdAjIoFi+o3P5L+7o5nym5MmK/NUJQDfVzxUUFKwdVjoJLEeRBRFoeoV5QF5IUhC8oOSJisweLZ/uEAUFBWuH1fYAarcj6cyscZRYkQgyoFOzoY661woKCtYGq50DMBMA//LEoi50resWJdYjDP0oTvT8UlBQsFZY5xCQUakI6AZGUbAW6D02o8hhIUUACgrWDCudA9DUiD6+YBQT6t5Q8iSkrvLX78gTcaagoGClsNI5AF7lIwXfGUWzIKCrGiVPUu680jaDo1O+UlBQsF5YKQHowm3KW6RMbuHatSs4eOQkdu07osTKZE/NURw5egq3bt2k/DLvBip/FRQUrBXWPQfArX5SKLdu3cLBQ4exPCwBU+eGwmt+sBIrken+IfAOWIMVYYm4dPkq554GSd4KCgrWCyudAyAYCODa9etIzSvF0DF+GDyyB3xnfanESmTMxLZo06s3/txuCo7zbqAm8uYfRQAKCtYMK54EZgUiCYC3g47LLIXHpPEI9P8zdqc8j90JPxZ5ATuTX8GuxBfFNR/5ms3vtGtdsiupFTIjf4NJUz7F2996EgGc0/S/zDs1BKSgYN2wagLQ/65cu4GYjDKMneaJmBW/Bsoa4HaRWb7T5A6zwjvv6dd3mLFdzf4dduuYG+/dYXY3u4a4CCm2xXclduL8Vok9HW00Oza4XUzXd4uLJTMLYd5NjPaNbvRro9ndzE3XxXY4kP46Fs/9AH9vMwonahGA/FVQULBeWO0ksH5kuWwkgOW/lsqHlJhJCkghkVgyu5u5JTNhXufevczvZlfcM5jX8l+zx8rzNit+g5nJDku+djT4Y7pXx8ySeV25pUnduJikjpnJPokl/4UfhbY4mPY6lhABvN/Gw0AAGtQyUAUFq4ZVEoBo/+uahIR7ALEmAvgNEQC1ljWF9bSKrlAtmVtS1o8qJv+IWIQU3jsN7xY/o9wudURN1k+wwP99vNN2BI6fOsvZJ2GaA1AkoKBgrbB+AqAfIwFEr/gP3CLFoyvJp1WEgiVFfIcZidHsUUQofAtyu8gWt8oakh2be9sjqeunUb4rtsGhtNeweM4HBgKQGcd/cgZHy0YFBQWrg/USgDiTv7V6AIG/FePnurJ8ULljLN4gYnjDgpvHIXpLXL/meQAmNh4WEtccFwtx5Pjrbr5Pail0Dk8zv809qBJbSkc61/yrZdcgRv/qCig+B9NfwcJ5f6/dA9CIW77Mp9S/goK1wjrnADSdwQeW2kNAvxaKx5Kyuh+5mWuDCyn2OJrogMMJZjmW5ICbRQ4Wh0Z0hWe8FkTyPcrzbqL7Z3JLyrkyzAmpyxqhbJ2TmARmxXwlww6nKF4cvyNJDXEmuxmuF9J9asHr/lj0r46ZUW6R26u5DjgZ64gDG2xwKdtOmFmyy6L7Z0k4H2oyWiGg7hCQ1n2Tyl/LTAUFBauDVRKArjN09VGfBHApzRbbQx0RPbchQqY2RYhXM6yd0wSJSxvjVE5z3CxkEjC4YSWvia70uXW+f0MDHEskc2pFm+wXkmJmAtGuaylTMheKm+7p/rHcIuV/hvwJHOMIb/cmiFvWVPQE2J+9axyQ7N8Y4bObIW5RY+SteZHi2ET0Evj+LV5JpPujHUW4rNB5NRGlk35Pv889jXMZzti8xAnxfjY4muJA/tlpcTSL0b+7iU4APAfwbtuRhiEg2YdTql9BwbphnQRQBw9KAEKJWTBnOZPUABnzG2DCgAb47O2W+OyDl9C/TwvMntgYlbGv41R6I1zItMHlbFKi+fYirOt5DXAxi8WGCMIOF+n+3IE2WOdNLWhStrfI7FaeDc7nOOJslgMu55DbQntqWcsxdiFFdrhe7ER+2JIClv6xv9dyKD7zbDGujx0CvVviYPqLwj6IWBK87eDRrTl6dHkRXmOcsWyaHfYnOuJmsQOu5pEiz3HGefLvWi6FX8Bh8nNTDyfPCeepZX8pxwbX6Zn1eFyj3s9Fav3v2+SEBD9HLJ5oi31JRFillDbaEJEuOiEYzeqKTgAL/f9uWgYqlT9P/tJRMYCCglXjR0kAdcWkhElu0vU1UrznSOGFjrLFotF2yFxrizN5tqhY1xihRAS+bi5YPa8FLpf9FDeL7LF9TQOsmNAACyc6Y1f8q4gY3xBf/NkJbT9vhODZzXEg9VUcj3bG4rF2GDfEQXP7M9wscxGtdG6JXyNCqVnrhCUjXDChrz2WeDVARXQDnE2yxZhvm6PNpy9jrGcr5K5vIeKsE8DKafbIjLDFeVLil8jsVrENjiU7IG2RC+YMbYzpHo2QG/4ykUEz0Ru4lE7PRUThO9oJIXMdUBEnJ3y/y7dB0XInLJvsghmjX8Lccf+BRVMcsT+F0ogIwDghbe613JmWRtEJ4I4hIBMUAygoWDN+lASgKzD92kgAQsGRe5DSWz++AUImNUApKeJrpCBTA1yQvuwlbJjzPCnKZgid+zz2Jb+EZdT6nj/SEQmkdMsjWiB9YSN0/awRBndriJSVDjie1AjzBjti9exXsGHBmwie+hr8xzbBBeoF8EoZjkN1qA0mtKNWN7Xyw/1cMLmfPUlD7N30Ivz7ucCtRzMsnfUSdqe8JJZXgtwxAXh2bIIe3zTH+H6kvL2dcGCTLaKm2WJUJx4W+n+I9G2IyQOaUNycURPbAEvciKjG2yDCzwl+7i6Y694ch9JeQslie/i4NcWccc0QOKkF3Fq/jgUT7FDDBMAv1hnSyZh29xKdAOb4/BG/+/M3qN6xCzdu3NByzTwUpKCgYJ34cRJAHSWmE4IQXcmV2hMB2AgCKIm2weU8B8T6NsZct2bw7OSC/q0bwW1Qc9QkNcfCkS6YMqA51sx5CdXRL+BAkgvG9nBGwDh7HEixoZa9Pb76LzsM7vQSpg36KUa2fwmdv3TCseyW1GJ3xLVMW2TPt0eXj6jlHtMce5KdEexph/GdHVAQ2QwbqZU/f6wDkoOINAqai3F6vQcwpW8zjBn0AoKnNUL8skaoCrdD0NgGmDHEGYcyX8H+mIYY27kxKfXnkRb0HHp+5oD0FQ7YHeeEDT6NMW9YS2QFv4SVbvaY5emEuEAnlIY2hP8AZyIKW+xPpjRiAtDS5WEIwN/3//Db//kE/vMXYtmyZUhMTMShQ4co59R7AAoK1oxnggDqipiQpVZ25EQHBE+2JQKwxbmshphHSnVY+ybo9klTtPtnc/Tq8TxOp9sia5Ej/Me1gt/kt5Aa9CIuFzjBu68Dwn0a4XJxE2wlpfr2z+zR9uOWGNHtZYzu8iK12J/DsaxXcLO4ES6mkHKf3RDdv6UWf/mLuLqlGdLmUK9isDMyIpoida4tVnk1QHG4thSU4sgEsMnXDsHejZCzoQlul5E5yY41Dlg1lXobfs64WeGCq3nO8OnRHEvG/gxrA95Em783pV7L87hW1gTFwc4IGt8I6+YSsXW3QRj1CraluOBoijNivGyweKIN9iVRmhAB3KIwH5YAFs75K/7vH66YMs0LI0eOhLe3NyIj1yEzMx3V1dU4c+YMbt7kraJ1KFJQULAGPJMEwMJDLBFTnBA4zRElvKInoQE+/c8GCF/wMxSu+zWWTPg5+vRoiZOptjhLrfwt617BCu9fYFhne5xObYCpHW0RMLYV9mb/AjtWuaDjR42wPvAt7M76N+xO+jl2Jb6KawVSoV/McCICcILrp81QnPhr7E77FVZOfBU+/V/B1qR/w6bpjkRENoIAbpc4iglZJoCNs20ROssWpRtlfNns2HonLB3fHJNGvoI9iW9gW0gjjCPSWjbuJSQsfAU9PmiJhBAKI/55rJ3uAK8BNkhaaYMldFzi9TJSw99EYeirWDi4IZZQmPvp2SzNAVhKsztEIwDjHMDFixeRkZGBUaNG4Z///CemTJmCtLQ07N+/H2fPnsX169fxnb7OV0FB4YniR0kAurAiY4V2xz1eQlnWEFET7BAyyUYQwPmUBpjTrQG++l9nfPVnF/T5V0O497TF6bQGmOHqhH/+vyZo+14zRM1pjis5tlg0lOy+0wKDuv4cJ7LfQNRER7T+n+b4w09aoP3fnREx1x4X851wq9iO4mCDmo32WDC8Kf76xgv4rxdeQI+PGyNmgR0uFjog0cvWRAD6W85iCMjHDmt8ZA9FvLlbZIObOTZIneeEAV81wV9+4YJ3f2WLmaNsUBnbEIcTnRFOz/SP3zXGn3/RCO0/csayGc4iHjXhDTG+QzN8+t8u+PbtJpjS+ydYOMkO+xKpZ8Gbz9VZBXQ/wkS7P702AXz33W1cu3YV586ew6GDh5CUlIQhQ4bgm2++wYgRI5Cfny9IQEFB4cnDSgmg9uRhXQLglqdo5X+PmFq0FoRX5xyOIcUcZ4czOfa4mUvKLLIBMpe9gMzA51C2xgHbeHI4rwGqV9khbUELZIe0wtE0F9wqIHdEGtlBLVEQ8VNcK2mOE/G2yFr6EmL9f4qsoJdwIMkRNwrsKCwbEd4VUtxMAqlzHRHr1woFq57HsTQKl57lWBzdi22A0xlETGJZKcWRzI/H2+BQoj3O5DrQNREJkwPdP5lki/JVjbFpwWtIXeSM3bG2uJhrg6t5tji2qQEyFtgiOaAhClc7oibFjsKww9UsW1SH2SN7iSPygpywI7oR9iY0JHf80pmcqK6bRt8nlnoAMt9k3t26fRunTp1CRUUFUlNTERYWhunTp6N3795YvHgxysvLceHCBWFXQUHhh4dVEoDcRUa+ScqqxCIBsMKqDxEvTdnJVi0ptRtFTXGzuDH45SgxNMKKjuRmUSPcKG4mW8ua3VpmFKcbxU1xrfi52vb0cDR/+Mj2RBi8I6h+34Kw/e8M8ZNvCMsXzW4XOeJ6cUsycyQ7mhnb147CDW/3UELndf2jcMWz8bYTTFB8T7PzIMLPfDD9VSya9w8LBFD7RbBr166hpqYGmzZtgr+/PxYtWoSAgAAsXLgQMTExYojo6lXjF8UUFBQeN6yUAPSjZQIQQ0A8ZPE4hFr8Fs8tXT+I2Q8t94oD36uHOHI+HGICmGskAIaWg0YGMILMt27diqVLl4pJ42nTpiE8PBzx8fEoKyvDsWPHxHJSNVegoPB4YZ1DQFzvRd2XJ7UJQNsOWldiSp6YMAEcyHjlLttBa8c7UPsGTxqz0p84cSI++ugj9OnTB5GRkdi9ezdOnz4tegX8TWgFBYX6h3USgLZ+3FIP4MeyHfSPQXgI6HCd7aAlZfOvcSsIaWowIMhzbuXzpPD58+exd+9e8Q7BpEmT8Nlnn2HYsGFiyIh7BPeG0V8FBYX7hZUTgKzalgjA0pi0kh9WuAdgcTtoAZl/DwJ+V4Bb/fzuAC8lXb9+PebOnYsxY8bAx8cHRUVFuH5NrSBSUKgvWCkB8CSw3Eu+LgHEBP0OtzfbywlRJU9WSu1Rk/mahe2g9YNO4Q8OHvbhln9WVhaCg4OxYMECBAcFi4njqKgobNmyBefO8eZzCgoKDwsrJQCGJAHGFWr1xWWWYujY8Zjj/Q4K1v8E+eveVGIFErPyfzB2wld4t+0oIgBSyCadzz9yNdejglcQ8SqhDRs2iGGhqVOnIjAwELGxsSgsLMThw4eFHQUFhQeDdRKA0BlSefDplevXkZpXhm7D5+GTjm5o26e/EiuRdr3c8FWXsfhXT2+cPH3BkHf1o/wtYd++fViyeAk6d+qMDh06YNWqVaYtJ65cuYLbt2XDQUFB4d6w4h6ABKuQm1Shjx0/gaziKsRmFGNTZpESq5FiJOaUIX9zNa7f4P1+OMdYAfM8zuNZvcNzBZcuXcKRI0dQWloq5glat26Nvn37Yu3atThx4oQiAQWF+4D19gB04QOvFLlxA+cuXsbpcxeVWJGc4uP5i7h4+Qq+u61n2uPtAehgJc9EsGfPHuTl52NjdLR4wWz06NFiWSm/V3D06FHNtoKCQl1YPwEIHaJPB/8wikXh/iGzyJg35jz6IXOJwzp56pSYEwgNDRVbTTAZ8FvHQUFBKCkpEUtN1TsFCgpmWOkQkKY6TBpEVzD6sAKfK1gP9PwxiiH7HicsBMI9A955lN8hGD9+PAYPHizeOo6Li0NBQYGYQ+Ceg4LCsw4rJQBdydet3WxmvKfkyYoGcWrB3ArAk8L8VjFvNdG5c2d0795dLCXlt495roCJQPUKFJ5VWDUB6AM/FmHUN0qeiPBBb+/rwmYS+t0nC54/4knjy5cvi5fMKisrxVfLunXrJraeWLJkCQ4cOmSIt4LCswMrnQOoWx35+m5mSp6cmEn67iRgXeAewYEDB8R3CfhNYyYDj1GjxFARryDiT1ne2SOwvudQUKgPWCUBCP1vqnN8oqsVqW7kLd2SkicnZrXPW3ibhe9JG9YKVvI8KczfKuD3CPhNY33imHsFeXl54lsGTwf0/FCwHtTNj7p6yzpglQQg1b2eUCy6UtEVjGas8IQh80QX+R0Haj1/R+d0i6+sB/cuMDw8lJOTI/Yc4i+YMSFER0cjOzsbO3bsEHMF1vNuAT+L8Xn0PLj3Myr8cJB1Qc8PPr+lmVhXPlkxAchEE1eUXmYzeabEGkQSM5/xjzGPrI8A7gX9eSjOpOR5jyH+SA2/WPbpp5+K7xXwMlLecoK/YMbfKnhiENHkenFLpLVMfXmt54CSJy3mnJC/Mm+kmdmONcCKJ4H1Ak4QP+YkVbBSmPLJqIyeFnBcpTAJ8FzBmdNnsH37dkRERKBnz55o06YNfH19UVVVJVz88NDTk4+cvnoa6/XF3ERS8mTETMh0FNnFP+JEuy9/rQVPDQFwwkYm5MPTNxj9xvorsRLpP3YRRk0PxfI16bh0mTdk0wo8dwFE5j3d4G8V8NvE3APgD9zzS2b8XeP+/fuLpaX8DYMfZiM6qWK01DVdm9JbMzVeKfnhRcJ8Js85n/hMP5fX1gDrJIDvOIEMBCDOgDG+q9C67zAM8uyIkWM/U2IFMnS0K7oOGYJ2g2bi1BntA++caSLjTCc/CnCvYOfOnWJ4aO7cOVixYoWYMOYjkwNvX/343inguqAPI8hrriO3bvG+SJdx7NQ5HDlxVomVyOFjp3Dm7DlqHPB3rinHTFXBdGIVsFIC4B9Z4PUuFf/2H70QQz07IyP2H9ia/JaSJyzbSLLj/oIZfu0sfBBGKihrKuz1iRs3rqO8vBzz5s2Dp6cnfLx9BDEkJyeL7x3zpDK/f2AZD5MmnJ56g4jBZ7eFksnMK0NIZCJComIRuj5GyZOUqBisWheD5WEbsTExG3v2HzJnlxVWhaeEAKjw06GXx0yMHf9P1GS9ie8KGih50mLhm8CynOvK/8dLAMbn4uWi6enp4stlf33nHYwbN04QAX/DgJea8jDSo68g0uoBHw1JuqV6L3q5z8TfvmqPzzp8im+6faTkCUqbLh+hfduP8bcvv8VXvcZhXXy+llMarKw6WCUByGLOv0QAlGDyzEwAB7LfFJ8jZCV0u1B+ntComCyZKal/4XQ+mGrpm8BajllZYa9/yAdk5c7zALx66Njx40hOScGoUaPEFtUTJkwQ+w8xETwaZMoKEcHKplH51v3o6zEHM70/RWH0f6Em+9dKnqRk/Rq70v4Doavaw32SFzYkFmv5ps9rynyzFlglAcgEol8+0Q5GAhA9AFbyJPxxcl3ZC8V/F7O6YlRk9xKTm7rmmujn3+UbhM0eIIzHISJ+FuJdr8I9AAvfBJbZpmXeMwZ+Yh7+4ZVCKUQEPFHs7e0tvmTG7xbw8NDDJMudqck14jtsJgLoP8oPIUvfx8H0VrhZ3Bg3ix5ObrAY3PM5mxntPKrcKG2G62XNcZ38ZrlRSOYkfNTNxH2yJ8Lm++zuPuNisqf5a8mOEA6Tjka7putHEQr/YkELxEW8DfeJnoiML5DZJd5u5TyzLljnEBChboG/gwBIAelKWBeh+DWlJ4TOdTK4TYr5lm6Hjncos7sI26/rxuQ/+clH033tWhejPz+0GJ9dxIu/4VtoU69x415YTUarO74JbM47Yw4+e7h69aoYBkpISBDKn4W3nuAtqnmn0l27dt1lV9K6pb+2iTxyjbgtCGCApx/CVryLo+nNRcPIUl7dj3C5MJZ1YwOivsrM7UJb3C6yu7N80lFcs3mxHW4VkT3tnrFeWfLTKOY4U1kvspdmmtQ6N/r5gGHcUyj8q/kOiF/zHxg+3g1rN+WJ3JKonafWgKeaAIxiLFAm4WsWztyHyGDdD2OlYBHXWqERBUe3w4W2iAoenRv9eRJS61nzbXCr1FFUKr2S1bX/MHI3AjDD+gr8kwKvIOLWP68Y6tOnj3ifYPXq1UhMTDTtTHqveQJjfWBb+jDb4yAAvbyLuqPfq6cyI/zjesPnBv/1a92ODJ+VuK3J/v2IyU8mmhJH4YfpeUhMz6eFJdxoYvTnoYX8VQRQDzAWeMZdCYAVMB31jDVlsH5f3KNC8ICKWfdTnN/hX+1r3Uwo2RJuade+Zw2ix1lIPcVPEcDDgd8k3rZtmyABV1dXQQj8rQLepI6/Y8A9h7pkYKwPPwQBmMq41sixZP9BxaSMDXEUdctwbTInuVVMDZayhlKZ38VeXalrz/gslp5PjAwYro1+PZSQP4oA6gHGAs8wEkCtSWASkXkkfF0rc8U1FToqRLfKnB5IOev+Gq/rhiHCMdqxUMCfpOjPwCLMuCLnkXk9FXpFAHeDXnotPz9vUc0kwNtK8O6jvAcRzxO8++67GDlyJFJTUwURGHGnb4+fAB61fNQV0SLnoUg6rxuOLia7uh3utXL9ZTKg6/uqW2RH1w+6v+I5DETG/uj3WExuH1XIL0UA9YC6Bd5IAPokMCc4Z+RtzmwqILe5BU5ym8/JzJT5+rgj9wI4k+6zRXMrzwbnEhxwIrUlLuQ2Nrslv28TmYiw6Pgd+2sYYpFh1vbrSYixool0YjOKvyIA64G+Kym/YJaeli62qOZ3C8aOHStIgbet5tVFOrh3wMNG+hvI9UUAomzwObsvpoaMVpf0Mv6o5ZnLysVUR1zIaolrJc+ZwtPD5DorwtKlmOor3+fySvVKn7/63rpL96+k2+F8amNcLX1Z+MP1VTyXYVhI+msnG4WW/HlYoXAUAdQD7pcA+HhgfQPE+djBb0QjzBnmjKg5DbF7ExWgElmARKERBYCuyY0pwzUzIbqZwfxadgPkz7ZH1soXsD+1KW7k2uB4jD2WjHaAn7sz5ro3hL+7AwI8GyJ9zYs4lduQChz5z+650Bn91P01nt/t2mhulHuZG90ahJ/1OsV7xwZnnMvmwi/HVC2mg35e18zSNYkigPoHbzuRmZmJ4OBgsT01zxnMnz9ffKuAt67mYaI1a9YI8/Ky8nolAHZ7PL4BYnwaYNFIe8wZ4YS1s5ywfaODUJTCrl4O6oZzN3MWrgul9ihfao+CoMZUZppRPdFIhcri4Y02SJpDdUqrvzELn8O+xKZCQet1VzRgjHVZ95vPdaFrdrMtxAkZc17E4dx/w6n4RshZbkvlvwEuUz2oiXXE5cKW1PhhkqE4ENkId0a/dL8fRsi9IoB6wL0I4AARgN7F4wTP9rPDqK8bof1nL6Dnp40w28MJ5VFUYEuplZvbAOeoRXAxxwnXCyjTRWtCZvilLFucy6B7pBhvFrnQPXJDrYMbBQ64mOuEI0QiywbYI9ivBSo3uRAB2KJmnSOGd2qI9h83wmdvN8TnbztggGsjhC1qhQMpjXApm/zL4rkAF+HX9WxbUsANqVA443ymPW4UuojlYpfJfz1ctnctvyFuUMFhkjmXYY9LOc64SfHgezcL7MQ1m1/MpufIJ//z7XA10w6Xyfx8pgOu5lALinosV+mZzvMzkf/8HNeJxA5ssMW8MS1QvLYRLuRRz4XcXsukdODKROnAbjktOE04vpcprS5kNRTPcrtQ2r1AfrLZ1Twek5XuFAE8PvAQ0ZEjR7Bx40bxTgF/sCYwMFB8u4BXEXXs0FF82jItu6zehoC4J7tllT0GfNIQfb9pil7fNMJMd0cUrnYQLWdeWcPl5EJ2Q1wrcBJ1SXfLZYjr0nkqk7eozHArm+Nyg3vRVD4vFjbDmvGNETTZASXRVNa4lU/hHY+1QcJMe0zu1RA9v3ZCr8+cMarXC1g/vzmOpRHxkF/s5/V82QO4mWeHK1SXblNcLIZb4oCkGY0xv9+rqE79HQ5GNsFqr0bIXemAA7ENsGqsA7Ym/RxnM5tQHXTGFaqPHE/uDV+lOnid65z2TA8lwh9FAI+MexGAaRI4TyZ68nQnzOvzKiqSfotz+U1xlRTmDTK/SsrvaIwt8lc2IuXXCvtSXiD2dxLLQc+mNUDZ6obICmyMkvDncTDr57hW1owKgD0OJjVDcUQrpC5ywYRuTbBk1nOoopaEIB3KYGxpgF2xTgj2cUEQtZBQSQWICuShKEeUr3RB6drncSjzDVLuDXE8uiH2x7yI6rjXkR/SFLuo8B3IeAtb1r+EkjUtcTTnZ7hFLZH9iS9gX2xz7FtPPY4VjZEf/hpOZLfAzWJHKqyNULbhJ/QcFFeK1+H0F4kIXLB3TSOUrnsNeaEtsCeG7CXbY3uIMwqCG6Fk7Ss4nNoSxxNssWG6Ld79c3P4THDE1niyl+6CXSudcDWXW2E22LvBERVhRCx5tjgQ3hBb1r2MgrAXUBnlIirInjVOKCF/i6iXszv+ZVHRON11Apg/7z385ZuhOHD4mBii4BUvfNTPlTyacDryCiJW/B9//DE+/PBD/O53vxPfOPaauRC93X0evQfASpBa+WVUfod+8QK25/0O58qb4Sop6hvF1JjIscHJTQ1QvtoJhWtewI5NL+NiAfV4qfxczGiA6kgHZC53QcHKJjiS5kJKkBo7pPyPxNshY3kTbNn4U8x2+znmT2iB0o1UdqinzBIz1Q4+Q5wR5u9M9YiUfHlDBI+2w/T+ttQTsKf66oys5Y1wMoXKKpHAmdRGqIx+Tfh/OZPq4XoH5FCvgsM9QfXkOhFE8jRnQQA70n9LDSJH7El4GUeSWyB3vi2+/h9HBPi9gbI1zbE9siV2bXoR31H9YwLg80Mp3DuQ5fuhRBFA/eB+CQCU4MleTpjQ7mXM9/oFNgY8j5RQB+xNaICSJXbo+CcXjB3sgi5fN4H7gFaID2tFreAG8OndAAPb2GFE5+fg1u01dOjUQpDA1ggXzBrcED2+bCKU/yvPt8QUj4bYGS9bHFxQUEKFZaOZAG6VU9eSlLHvIEeMGfgcxg19HT2+aS5IINmvKdzbu6DDp80wpWcTvPs/TeH6qTP6futI4TtgylB7nKUWdzC1TAaSec+PXdC3vQ1+9qodQn1fxJGE55C2oCk6u74Gv5ENMfDLpgib/ioR0KtYONAR7/53Y/Tr0hhr/BohdhY94xctMNfdAf3btMKyyT9DadiLmNfXAb//pQu6U09l/ZLnET+3FXr+qRkOpb4heiprPB0x1dUFF3Ko8g2xRcePyG67Jlju2wJbY1+DRwcneA+yx8iuz2HSgDdwKP1V3KRehE4Afj5/wC//8DEi1kWJ1Sy8Jw4feYM0PlfyaMLvEcTHx4tlo/xtguHDh+Ott96Ci4sLXvv5b/G3f/VFyNK/1EMPoAE2h9ig/yeOmDvrLQT5NUb2KionyS9jx0pHfPNHGwzq7IS+HRujf/tGiPS3wRWqC6HjG2BYW1sMdm2CSb3fQBcqqyVrqbGz1gFLhjug9QdNhfl//r9WVK6o0aIRAMd1RmdbzHdrgZqUF0W9QrEN9lBjJMCzOXzHt8DxNCf864+2yF7mSETjhBQ/Z3T/VxOczHDGJmrYzBzsgEnDWmJa/59imkcTbI91RpJ3E0EA21J+hz2rm2OW52sInfYSwkc74Q8/t0eXTj9DiL8LxvW1xYgO1BMo+ymRiz3G9nLBsmmtcLXkZcvpcz+iCKB+8H0EIMYPKcFZCTEBjGvzEmZOfAvhXi2QTy2UslWNETerEeZMeoVaz44oWmkH7+GNMXbIi9iZ8AIGtbPHutnU5V3riJjZzuj3rT3S1rhg4Qh7LKKClLL8eZSF2WPIZ45YMK0Jtm5yEuHpY4UHIp2xmrqaTACXCmwRNKApBrm+iGHdX8Lgdi/gH398EUmhTbBmckPMHtkCy2a9jGLqifT62B4BE19BeuBzCJ9ki94f2eJ0th2WjLDBrKGknJe9Rl3uBpjW3Qbh3i0QTYV5zsDG6Oj6U0zpQ8cPXsL0Qa9ik/9zCBjkhGEDXsMm6jEcTLRDFbXUA0a2hHd/F3R6vyUmDX4ZORHPYXOwHb79sgUi5jvhcEpDpM9zQZv/ot5G/q9xvaIlVhIBTGzXEOdynOE/yBmzRlGaLLNHERHp6lGN0cv1ZUwc0AgD2rREz7ZvIiroDVyh3gNXYkEA3v+Lt/77A4SFrxUKa8OGDWLogs/5yNdKHl74y2R85CGg0aNHo3fv3vjJT36CBg0aoOnzb+DPn/dDyJJ6IAByWxHSAP0+sceMaW9ixawXiABeQgX1niMnNoTX6GZIXdmQWs92CJnkQI0qUubhTpg8rAkCJjhh81p7lAS7YEgbZ6SveAHRvk3gN7gx0ta9ia0bm2Jy76bwoUaMqQdAdXdCG0f4D3sBxzJfkmYkezdQj35cC3iNaYlj6c748q9OyA62x01qmWcGOODbD1xwnMy3RT2HMO+mmDaoGUZ1+Tm+/FdTFBDpJPs2MhHAjpAWGD/4Razya4aCJY7o/34zhC/8d2xPboqNMxpgVj8XpEe9gS2h9vAfZY+EJY1xs7SJ5fS5H1EEUD/4XgIwJDgTwIwurRAd9CtsCWuEo8lNULTEGasmNEZU2M9wpZxX6jTAIs+G6N3ueWze+BP0aeuIfOo+3qh0QOVqO3i0tcOm0Jfg4eqMpZ4tcDSburh59gjs3wDBs5uLOQBT5aLj4XXOWOMlCeB8ri2mf9OMCtpPsHjG61jlRUpx1Guo2GCHyCl2CCJSylj/Is5m2GOcawMkLnsdp7JeQPEyG/T+0BHHslpi8QhHaqW8gMO5r1MLxAbxPg0RNbM5lo90hncfF0yf/HNE+r2MZZN+gtiAl6lF5IIlw5yw2P/n2JfRFGfTZStpmscLiJxNz9G2CSYPbY608BY4sN4RXTq+jKJIIrGyBshbYI82/9sce4t/h+tbW2LVeHtM7uggCGDukCbYtKQZDlNra39UAwR0t8cotzewcvbLWOXzCoJ83kTexjdFF1wngHmz/4L//KATCovLxGoW/oSikvqVoqIi8S0C/g7BZ599JnoAPAz00Reu+LrHOKxa/td66AHYYjM1lAZ/4YC4iF+hPOZ5apk3Q9Xa5lg6vCFWL+fy2VDMrWUussf7f2qKlCUuGDWEGjPzm+D2ZurNamU8delLoh5N79cc5/f8Fre3OmDdFAcEUX0wDgHN6GqPOcNdsDOJlG4plaly6oVQD2DxJBes8HHGiVQHfP4ekQiZ3dhsh1zq1esEEEP1Y+G45ljm9QIWjPolEcBzyCNCSvZ1qUUAYwdR/AJcsC2cegtfPY+SmN/jQnEz7F9ri8jJzpg0oiXmDrRF1OzG2BVH9ZxXDllKn/sRRQD1g+8jAGOC8xyAGPPL+C1uFDqIlsX2YBuEeDTCjPGvYEtsE1LyTpjt1hRjqTWwM+4FDGhtj9CFTakwtETc3MZwox5BcczP4Nu3CXwHNkfC0lYoWUlK/QtbLJomCYD95fC44DIBrJ7aCMu9HagHYIMlfUlJj2yF0IC3kLHqLaSseAmnM10QN8ORCKApMqOa41xaA4zXKseZzOYoWW6Dvp81xJGMV7HInVreQ5sicUUrVG5ogZkDiLz8XxKFfMmIxvCe8hOkrv450oLeRHXMK9ge1YQqpRNCl7+BA5ktsG+jPVZMcIRrmxfIj/+HUe0aY8JAF6SuaYm9VCnaf/oS1s9/noinEQqpdd/pr42REPHvKCVi8u3bEGPo+c9mO8O3nzMSlz6H45mNcTTaBhEeDvAY9jrWLfolMkJ+iaKIt3CmiOc3JKkyAahJ4PoHvwjGY/8HDx5EYWGhGAZauXKlWB7atWtX/PWvf8XQoUOxODCi/t4DIMVXGuKAgZ84YHfur3Ctoim+K7fDkXhHrKMewLRR1JBZ3RRbIpyweoozerg2p16yMyYOaoF5459DeWQLFIc2x3BXJ2QGt0TE1CaY2qsZMqL/TfQAZnZviLlutQlg3QQ7+PS3xUrvhlQvX8L26MbUi22EeZ6NkRvmgpOpNvjir42weHYLasA0x+pJjU0EMK2DM7X8X0TwnF8gcNyv0JrKfn5441pDQGYCaIwd1Nuf3q45wub/G6rjmuBUij2yFjiiE/XCu31gQ73y5riY3/jRSFQRQP3gfgmAlXImtcKXD3sFuzN/I1bSsPmlVHvEETG895vGVHDfgmeHVzFlyOvUym+F86SIp3RsgAGdX8SIXm9gTPdW8Oxli3N5DVBOSnl8j0Zo++nLGNv1Tfz5tYbwoa5vdUIjofD4jWJeJ310vRPWTKFwp9niOrWIylY0wMCOTdGvyy+pS/wruHVzwtbYVxHn0wRrZjVD/sYWOJ9OLZ6e1I0NaoWzWS1QutQGgz60x6l0avG426L9P53h+vVPMGPkH/Deb5sjcdWbOJrxGjZMbYzP3muOaaN/jtE9f4EI359TN/wlrPR0QkTQGziU1RwHYu2px2OHdh81h4/nH/DF/zyPoZ2aIp/I5HS8Dfq82wjj+vwbVao3sHWdE8Z0sEP/nq9jWOdfwPX9FzCqgwPFqSGmd7fFmrl22JtMz5Vtix2rnND6n00wesBvMWXQf1JL6y0cIsK6Jd6raID96bUJwJRvYvOrH/N20I8H/A2By5cv4/jx46isrERISAjat2+PLl26iL2EMjIyEBsbKz5czxvN1eeLYOy2NJAaJf9wpEbIq2KVDJf569l22L7SCZ/8lwvce/0E7l1eh3un55Cw9jlSdrZYPrwJBrVrhaG9foaJfX+Kvj1fpF62I3ZH2mDZqEbo0OZ1jO/9M3z825cxsktjVMTamQjgGNWj2Z0d0fb/WsJv3B8xtf+b+MOvXTC428vYmvgGjqbZYvDHdujR9mUM6vIW+n/zUzkHkOmMZW7NMKnnm5gx/D8xtP0v8PlXLZC3xgUZfk1IH7TCjtR/x57VzeA14nmsX8R1pCGWUU+mE8VnmV9j7E52xOZVjuj7Txt0/9qBCMxW9JAtps39iiKA+oFJkWgwEoB4E5gKD0/IcqKf3mSPAxta4nzpW7hZKGf0eaXPuWQ7bFneGOkLfoXiNW+KiaZLhU64SfeYBAqW22LDrMZIDWwmlD+742WTOyIdkbbiZeSE/ze1eH+Go6kuuJ5nA15DL94oLucllnY4TN3jfUkvkDIkd+R+56YXkbyClP7iVkL5X813xLFoRxxJfAnnC1/BjRw7VJP5sdy3cLXoOVwkJbt7VUPcpEq0xK0BFrg7Ip16ALlr/4DidW/gTHYToWjPJdujYkUjRM19HsmLm2MPtV7OU0t+X3gj7Ej4Kc7nuuAGhX8m0RZbVzZBXsR/ozDil2LF0fmiV3CT4r4r1AlpwQ1RmfACLha2wkkihdzgxmIVUfn6n4le0ZVcWxQEO2N/6qu4UtxSFOZrWZIEitb8O4rX/xb7EluJOIm0p+e+swfAOcWKn48KD4p9+/aJlj5/kP5f//qXWO/Pwz/8QfqLFy/i5MmT4gWxtLQ0setofRPAqRQ75AY642I2LxemMk89PX5B61quPTavfw2Zy36FvJBfYFfCS7haRvWBysCFdBtUhtphk7894lfa43B6I7ES71qBPQ4lNUIq1cHoFQ7IDnsJu5PewIUiXkkmw+QwLqTYYA81VLKo3MYEOSNukRO8+zXDiPbPIXlpMxyJsUXS4maiblVsfAOV0TxM6kLh2mPrKntkL6VeSfQbKNv4U5zJa45Tic44HOWEa6SIb1AjZk/8S1SHm+Nmjg3OJDggJeCXKI/6OU5lN8OucBv4diUS83+OGjON5Ythj5iGigDqAfciANEDoITmeQDOLH7R6WqOg1hTz0vFdPObdH4lwx6nkxqTkmyGa0XOYu2yKHwk51Mb4HiiHU5nOOL2Zkcyk26v8NrizIY4l90cl1i5UmEWpEL3eadC8QYhnV8lMuFlknp4vEb+NLXmT6Y2xOW8RlRxGoqKcy23Idl3EnHjVtU1fheg0FEoZl5jzwVnyfAGCJ3chAjl5Vrhcjy5klzJtMOxJAecTrMnRW0nVuFcTZfvAejx4+e9mmVP7pvhYk5jqoTkRxERFseNFPkpqqjncyhcQYI2YsjnIsXzEskVirsgRgrnSoEzpSWlCYdNZtcyKD1yWuBcwfO4It6XkGTJcau5oweg73hOYn3l3SrBipw/IMMTvCyLFi0SQz55eXnixS9W/PJTk99RD+GGmGfhrSLYrF7fBCa3vN6eywCXBbl7LpMAvyMiy+6ZFKpLpCivFTSknrB0w3I5i8mjAbXMqRxyQ0m4syH/7HA2ww7HqcF1Pqch1RlzmRRha8cbedQDpXJ/LJvqUKY99R6o0bPSAUepzPMS6zNU7rluXcptJOrWzTKqy4VU/jN4STe/90LlmITfneF3Ba7zezEcN/Kb1/eLkQGK183ihjiT2gQXsqhRR2bl1OMZ9KEDNsf+VAz/PPJmjuRWEcCjQtMdxuSyNATEmcuZrAtfizcFtXtGMW0xq9vV7Isjv/quvekorjWz79hMuzaGY/Kf/WNC0MxNbklBCjNyz0NG4h7Zv2ucSYpX2KEiggpmfjPRshZ2DXEWfupicCv8s2RPv6/ZFfbrmvHzaQXeZMfgv4g7t4j0MPh5+KjbpfP9Ga9ZGAKqm3sKRvD4Pn9FjD8UE7Y6TAztLF26VGwBwS96FRcX19r+QYLTk2uBTF15Lb8HUC8EoOcpu9eOevliMdnV6pcxHHFfc6ebm9zp9g127vBTFy57xbJMmuzpfhrKNNsVL20SWclzGXeTP5obvZzq16KBJ/ync83uoY0NEDWFetnZLYloqNHD/un+PIxQOPciAGurGVZMAPJPh0UCoMSuK3UzxJKdu4mwr7thhaq9/WgyM9h74DDuYVeYa6+lG/ddEWakZOvav0PYDfVK7vC/TpjivI4drqCWnk+YaWkg9k4x3DcJhVuT+XqdD8LoRVwXBR289/+ePXvEOD7v+cNbPPD3hPktX17nz8M79/6OsPxEqqQB/rWwGRwrSj3/HkB05W/p3iMJly+9jD2IUFxEnLRrXZmbzAz+1jLXxWi/7j2DCGLQyeVh4llHmGSuFDjdSQCiKigCuD+IFKICzhOJWmpZIgAlT1Z4Av5wWu1PQsoM00TLu2cVvOsnK3RW/KzcuWXv5+eHTz75BF27dMWq0FXigzG108mQfnWgK/97EYDeGlbyhKTYFpeKmlggAM7PW/J4Z9Y+MVglAcgCzgmlJ5Ys7iYCyCQCyCMlpOSJChNA3Y/Cm2BFhfxJgXfr5EndJUuWiAldXr7Jq3r4S2BMCLza5+4t/trg5DQnKZ8pArBG4fTnxR+1CYDzS34TWBHAfcA49MPQi7tOALwZHHfdLHXBlPxwwl1n3hZi0dx/WJ4DqJ2Nzwx4mCciIgKTJ00Wwzu8s2dcbJzoAfD+/7zRG/cOJLS0+p7Ekjb4VzaPdPt1CYBXx4kxbiVPRij9Lc8BcO6ZaobVwEqHgPRkkknFyVarB6ATgCKBJypc4A8yAcyzTAAy9378YIV+7NgxsY0z79DJwls589YNTAT8gfhLFy19+5dhLuf3gjlF5Wog3VVZ1T50d/OFl9cXSAz9NUrX/0zJE5a8tW9h3qz30WfkqFqTwHoeWlPNsFIC4B/ZxZVyy0QAnmP/ib0Zb4lJTyVPVr4rsUNN5qu13wPQNZM4WE9Bf3TUfhZeycMfctm+fTuys7NNH3Lp26cvZs6cKZZw8he/6hccB54INteMyp0HMHTKEgwa5Y5pM3pizpwuSp6wzJzVDcM8B2HwuFmITy+lXCKYGrWca7XL0pOEdRIAJZBMLv7lFs9tkWw9PWZhkPsnyI/5DU5kt1RiBVIR/wvMmvkhEcDI2gQgCrxsrf6YwK19Vvz8YhZ/rWvq1KliW+Zhw4aJ3U+vXrmq2XxcME4EA8dOncP6lGJ4L47B1IANSqxEZvhHIXhNErZt36fllFYXrKw6PAUEIBONC3zHEYvwp897oWP3DujUp7USK5AOPbvi03YD8X6b8ThBykhmGf9YV0unfvAdtmypEFsy/+Mf/4CHh4fYqVN/MYv37jGP7dcvRLLKUy1lZRrfun0TV65ex4VLV3D+ohJrkXMkly5fxY2bNyifWPmTUJYZ89EaYKWTwCx6O4eEDPgsLqsCS9ckYEVEDALXRiuxBomIw4q1iQiPy8Glq9colxicW7Ln9rSDP8jCu3EuW7YMI0eOwKRJk+SkblwckcEWsWfP9evXNds/DMwKxNrUiYKO2rlivflklQTAasM8/CO7Tvx35vwlHDx2GvuPnFBiRXLg2CmcOHOOWqMy58wEYJ2F/n5QU1MjNl3jCV3emoEndfmc9+VnQmBieFytfQWFHwpWTAAMXZnoJkZRsAaYc8OYNzLPpPnTAV6Pz3vy8A6cvNGaWMY5ebLYcpkVP5vzC10KCj8mWDcB6PrEdMJ3fhxDCz8ucN7ovTWZP9xjs/Zc4hY8D9/w+D23+HlDthEjRoi99nnf/ZycHLERm2WIgqmg8FTDaieBTQejiB/ZurzzppIfXIyXtS6EgdWDlT+v5GGl7+rqCs9RnmIXzoMHD4jN2PhNXjXMo/BjhpUSgK7gDTDpFe1Ev1byxMSCkQF8ZX19AB67r6ioEGP6vOf+nDlzxHBPenq6eGGLd+nkNf4KCs8CrJwAdCWiqRajhuGWmZInKuY/mUvGXJMwnz1J8PJM3pMnKipKrOYRsnSZ2I0zNTVVbM/ArX0FhWcNVkoAOnTVYmlFia5qlDw5Mav92n8S+vGHBg/b6NszlJWVITExEevWrRP78oz2HC02ZOO1+08sggoKVgIrngMwqhFtclG0PIWhglWAM0MnaIN8d1tkFd/5IcFfyOLWPq/m2b17t2jx9+vXD59//rnYnmHz5s0WJnVVgVJ4dmGdBMB10iT8Y1D+4lq2OpU8aeHVPtpyT/qRuUK/j50A9PBFyCZwi3/Tpk1iW4bPPvsMvr6+4qtbJ0+cFPvyyF04f2haUlCwXlgtAQh9L+o4/zABSHMJ04nCE0XtfBBZJdQ+9wTkUtDHjWtXryEjPUO8octbM/j7+4sXuHhnTt53v/43ZFNQ+PHASglAb1myMuH9Tm7h6InTiNqUj4DgOPgHRyuxEuH8WBaWgti0Ely9ylsisNLnXsDjU/68RJO3YYiMjBSreHhFD39pi7df5p051UoeBYX7g5XOAUjFr8t16roXbK5GDzc/fOzaE217t1FiJdK6Zzd81X04Og6bjdNntdY2634h9UcCvEqHd+AsLCwU389dvny5mNQdMGCA2J6BP62oVvIoKDwYrHcISBzk79Vr15GQVYQRk3zgP+dLFMX/TomVSHL0B5g6q7OFT0Jy3vFQ0P2QgGU73Irndfs8qVtdXY3Vq1ejY8eO6NWrFxYuXCjW7SsoKDw8rHcSWMBMALEZZRgzbQw2LP0PXC9wwLU8JU9aOB/2pP0E/vOMH4XnXhsrfl0eDqz8T5w4gbVr16Jnz574+uuvxbd1eU8enuzl1Tw8qaugoPDwsNIhIF31S1zRCGDsNE/ELP+1+Bj5d/xJwnuI+Gyh9tlI07V27272dLsPKg/rThdL7k1xMlyb7hnu1zLTzi1d1xWj27rmQuqaa2I043y485vA/KcN3z3EENDRo0eRmJCIqVOmYszoMVi6dCliYmLEF7Z4mId7BGp8X0GhfmDdBKCxwJVrN2oRAH+L1qSQ8s3nuoIyXosv9WsKTUihDW4X25sUoG7H9FV/za6u5EzuNNHNjffZXd143M2ubm46J3d148j3b5XY41YRxVUz0+3o4RjjazSrZZ+OxvBN4Rrc6vbZDxGuds/ol8md4ZyPTACP+k1gXrvPX9gqKSlB0IogMbTDk7n8tm5oaKgwP3PmjGZbQUGhPmG1BGCERQKoo6SMykyYs0JjxcjnJLriulVki1uljmRmYzaz4A/f0++bwmJ/NGWr2+GjHt4t7Vw/6n7cobTpXFzzkd1p5qzwOX6CpEoc5bluV3fLfmlu9HvCzGjHeM8gIr7kt0gDzZ7ujyUC0EW418LQ3bBdJoCajFa1vwmsgZX/vdrpvLUyb8/ALXv+qhZP6rq5uWH69OliO2beoVO19BUUHi+eSgLQh4CkgiJlqSkkVmJGpaUrNXmvtsLX7UulRvfy6JrFoOi+K9DM2Uz3k645TD0M3T9juLqC1sNgN7qZyY7uTih9raVPPRMmJ92trmyNYlTE4plITH5p8h0/j2bPaH6vMOTzGuzVcSuemeOqPTvbtUwAeutfDgRJyL4At/Z57J7H9nmLhgULFqBLly5o3bq1+Kg6mysoKPxwsFoCkGpEwiIBsGJmRcUt5RI5pINis3zHSkpTvkKBsdLjoR9yo7sV7tmM/BDXbK4rzmLuKTSspWCFW7q+VdZQ3Odr/Z4u0o4Ucc3+aed17dwupDDKnITwuTSTCraWfRKOn+man7/E7FbEhe2wFMv48X3xfIaw+dwYhiAmtsPnHCctDP25RDw5TdgepzPH05BW9yKA2jkocejgIbFm/7333hM7ca5cuVKs5+d1+3Js3zhpXNutgoJC/cNqCcAIIwFEB/6elJBU5Ky4bhfZ4kqGPXZHOGD9bDuE+DZE2DRnbF7TEteKnzMrM21oRVd0wi2JGGsXQ0KauSbbVtrDq2MTnMh4BTeKWEGb70nlX7vlrbfMdf9ZxD0+FtuRUJzZjmZPCilicc9OnOvuzPelCEKhowiHpGq1A2YNdoHrJ81QEuaCi9l24v7xWBvEe9sjYpoLwqc0QmFwc5zJbm4aMhP+sDKnI/ulh2cUEZ52FOHxNblZOcoJif4v4FrpC2Z7FgnADG7x806bvJJnzJgxGDlyJMLCwsTmbGWlZeIeK36JuxOHgoLC48HTRwAr/kMqbF0JkZyNd0DGXCeM6mkH/+kOWOnVCJsjWuJ6WUuh4IUCZCWrj6+zMmYzYU5m4h6fs7lUxLkL7PHtn5pgX24r3KhwohY1hUUKUShF4ZbcUCv7dql2rceHFSv3QMqk3KJzQTLcei5i/+mc48D2eEiF7zGh6cNAuj9Gv0rNcWbzaN/GGNjuVUwZ+TPs3OiEK/kOuJZtj8LFjhj4jTMWTWiIwGmOyF71As7mtxI9InbP/nDPgONuIgARD04D8p+FrzXCuc29CY4bnU9o1wiBY1/FldJXxT3hnuJjiQBOHD8h3sjlZZv693R562We1OXv6d68cVPYuxNK+Sso/JB4ansAQklpiup4tAM2ejlhYBdHpIe7YGu0C06lO+FMZkOUrHJC4SrqEUQ542BKIxxLdkFpiAsyF9qgfI0tTqTa4lpuAxzcaIv0Zc4oC3fAiRQ75C1zxL/+1gSbQl0Qv9wOhaENyK0NrhfY4WC0LbZENUZeqBOyV9hi87qGuJzvQkrRHqcTqYW+qgEyl9sgP9wJJzNdcK2gEQ4nOCFtcUNkBznjeJoLzqc7YudaOzJzRsX6RjiX7WCaD+BJWn6uvevskRfogDSSwlVspxEObbCDV5/GaPf5a0hY8yYulDTErXJHXEhriJgZjfDBX5sgaVVjFFOa1GQ0w9Wi53Ex3Q4lIY2QvtwROSEO2BHtTL0aFwrDBodj7VAU0hApSxohO4TSiJ7xKqXrxfQGqA63RbR/Q+QEO2PwN00QOFESABOCkQAW+L+Ht78ZiILiMuTm5Io3c1nhDxkyBD4+PuLTivwyl4KCgnXhqSOAmOW/ES1nfWyax6EPbLDBWi97jB7SFNsS3sTxrBa4nGOPkkAbtPt7Q7Rt/To8hrTAuoAXEDP3dfT4+/N479/t0O1bZ2xa7oQDm+ywbIgd3v3vpujftSnSV7qQ4m2Ez/6jKXp86oj//KUN/vV3CmO2I87numDlCAcM6/Ey/vXP5vj4j47o0+0l7E3/OYXpggw/Wwz/3B5/+60TPv/kNSStfAuHEl5C5MSG+POvHPDVe02Qs+p1lIU8h+mdHPDOb5pg9OAmqI5rJHsD1CO5WUqEkm6Def2a4Ks/NcU7/90IHT5pjNyw1xAxvhG+/D8bvNDCAR+/2xR7ihvjxmZ7XEyxR9wMZ3zxThNs3vgGjmW2wKVcR1xMdUDpIif0/GdTvPdfjfHZOw3h7dYEJ/N/hssZ9lg90RmdP3bBX/7TBV/8vQmC5tricJYdtqyyw1hXO/z0NUd882UrfPhOcyye3EoQACt/IwEsnPs2/u/DtpgydTq++uorDBo0CElJSWLPnjtX8qgWvoKCteCpHAK6XSonInUldDLWEaEeLvivn7ugzdevo1e7xqToqUUf0ADv/dYBCaG/xqHsZkia1QhTu76MWV4/R/yCJujy+YuYOZJa0gEvovu7DZEQ8u8oiyECSW+OjAAb/PVXtgj2s0HV2gbw6WOPAV+3wInsn2FxP3uM7dcI6xc2pJ6CA8Z+1RybghyQS4QTMKY5Jox8Eymrf4MJfd7CrKm/xLKpL2LRqKaYOeNNVCe+hYv5TRE+3g6j2jVHbtRvsCX2ZziX31wOt9AzXc6wQeR4eyweQz0E6mHs2GiDqOk2GN3HDsWrG2KBpzMGurZETdobuFbkINxcTLbHujGO+H+NbQUJ9Pi6Idb7P4fSsFYY1doGq+fZYlucDdIC7LDI3QGrfO0R72WLmSOcsGGRI/bFOCDFtwlcP26ErNBXETT9JXh0b4mdCW9g++om6PWvJvAf/wqulLwqel5GAvDz+h/8v99+gJjYTdi7d69Yt8/78kvlrxS+goK14ukkAF6JQkqIhyK4B3Booy2iptpjVBcHpIc4o2iNEw4m2CNnsT2++XNzbMv+Ha5tboZ1E+3R60MXTPJsicDJDTGprzM2+L+MPXGvIXZaQ8zybIp5k1ugcI0zchfZ49s/umD7Jhtco57GipENMbL9izie/SYW9rVHwOSmKIlphL0b7TC/rxNiVtggnsjCZ3hLDB/wEwTPaIGZw6hFPacxckhp81DOTPLfs/dzKI9she0RLbB2sjO8PZshYFoL7ElsLMfp6ZkupNnAr1NjbJj7GmpSW+A6PevuqAak9G1RFmaHlROcMbbri7hU9iYpYjnHwT2AWO/G+ORvzyFhsQMKVzviYJIz8pe5oNNfGmFLDLXeiyhd1hMh+jph4XhbBLnbYyURwWZS/jeKHFET5QBX6lVE+raE/8TnMHlEC9yscMG1HDuM7tAYyya8JgmA0kMQAElNeiv4+72DP3zSG7v27FfbMygoPEV4egmAh4A0Ati/vgFifGywhFrVl+j6dpmdGEfPJyXe/i8tsbfkd7hR0QybvGzg1toZXpNexsYFz2GVdxMUh1OrPv155C5sjECvV9CDWuUhM5ohe2lLdPhzE5zMoLAKbbDSoyHGdjATwIpZzbElqSkRgD0WDrAlAmiAzAUO8BvREm6DXsPGRa8gfMbLyAh9Dls3OKFyjQMi5zyHLp+2QtSCF1Ae0QzJ/s0xl1rVbT5sjNzQ53GzuLF4potEAAE9G2HRuBeQs6YV9sY/h8R5Thg99HlURTpi1VgnjO/ysiCA20wA3AMgAoif1RjtvnwOJ7MdqZdE5sW2KKUeRM+/OyNm2ZvYEdMMWf4uCPZsjNVzqJcx2RYzRjlgw/KW2J/0AtLn2aHX505ICnDEvFFOGNa9GWqyW6Em5kX0/7I5AkZTD8A4B6ARwN1WASkoKFg3fhQ9gCMxNkidZ48QasVfEqtz5Iqa0uV26P9pY+wvews3NjdG9coGCB3njNlTf4qY5W9gnf9z2BLlgkMJztSDaIqoeb/HgI4vIMS7BQpCXsTAT5xxKsOZWth2iJzkAJ8+zXA6+2Ws9rBDGCnSqsQm2LfREcFuNkhf7Yxd65yp9dwYXqNfxoag32Dd7DdRGf0mqiOfQ/6SJkhc8gbGdnudyMEFqUscsc7rOazw/gXavkeEE9IKN0qbQyxrzWqA9Nl28B5CREBktcbvLfi5NcaaZW/hcHJjrJ/miFmDW+JKGSnjQrmi53K6HbJIcfdv54RTWc5ipQ8raCbHRcPJr5GvIsj7Rfh7NMd8DxeUUq+pclUDTBzoiOljXsWa+W8hwK0p5o+xx55oIgcvWwzv2ASrA95C7Lyfovc3zbB06ssmApCrmOQQ0N0JQA3/KChYM55OAqgzB3A5zR47wxshZXkLXC50FhOpfG8fKbKVXvY4WumC62VyeGXPOnvMHtwUw/q/jvmTnLE50h7HEh0RM9kBE7q+gXD/xtibRIqTSCV0mj0u5PESUGpJh9ogYb4truYQsQRSa5+U5x5qdZ9Oc0QxEc2+pFdxJb8RDkY3IBJwxtABr2OyR2NUxr6K44kvIde/JWYOeh2Lxzhi3yZH7IpwQIinLYZ1oZ7B3BY4muYiX+riF9b4ufJtkLzYFjOHPodp/VthHRHcqYKf4WahC0pCKC4BvLS0Idm1EfZZKddQnNfMssPFfPOLZSwXU22wbJQLRg14BQt8WqAijkiDXxYjt2VLbDB/VAt4Dn8DgbN/hvP5LuJ5jyU5IHquE4Z2skXg9AYIot5TYURLXC152dT7Yrl3D0ARgIKCNeOpIwDTKiCNALglyi82Xc+zF8r/JrWgdfObpKguZTfADbG0kuwX2+N6kSMuZNjibAYpymwbXCO3NwtscIXOz2S54GKBM9khewV2Qvnf5Ld1ya9r5P4qCSva6+SvcEdyK89GXN/MJ6Va0hA3CikeWTbC//OZdI/Nya9rubYULoVJ966Tcr+ea4OLmXaitX6xoBG55/X2/H4APRsr9dKGuJpHcci0xblMB7LjhBtljcUz8LJVJiKx5YOmiFlu5NsK5c9x5niyGR/5+c7nOuF0jgvOEUldpTSQ2zrQs5BfF7MoPbIchfLXn1ekSQ49R7pMQ5ZreXxPvnTGYvlNYCMUASgoWDOeQgLQtoIg5asrOSGkDHn4hJWXIACTubwWQkqP7egtYyYJ8RauNvkqtmbgl6SEcmRlLBWp8IvD1MJlPwXxsLl2Ldxz+BwG32OyYPtsRxfdXHMntmTgN4HL+SUxs2Jl4V6M2ItIuJP2xMtnTBJkxmEY7bNI/yjOenxITOlBcRPuhcjnYnMRd75f93nZnO3xS3ci3aS5sMNm3AujnoIiAAWFpxdPJQGwItYVlVFY6ZmUPSs1NmNFy2K4p2/JIK41xWi0ZxSTcq1jZrz+/+3dr29UQRDAcYXgLyD8IVgECCyq0FSAgSAQGHKQYioQNQRFAn8ACDxBEYpAUYfCoSAEURJIKZAsO7M713nL3iU0DWwz3w/MvX1z+35cLp25dwc9zbljaGOxY8n9tl+Xm8zPDUgLsOSbeT70XGQ7aVTSEJr727BzkPDnPDmGLSXfPn45p3xuNq/kpGEdz1c7x/RKjLeAgKNr0AZQCoeVj24DsKLkipMVNp+zYm8F0Apiu51tOx/nkHntem+OznPFU++zuZav6357mzef73J6LBnX0Pn2OORVfP0/A5OQOa/L0tZtrNvVmB/PR83b47Hj21xZ6liucuQKIDcHWX//YlEDkGePBgCMbNAG8CuXjvLrhKWEtJ8BpPzK0wrSspACZsXM3qaR0PU61qJaC+skbLu6boXSz5ns3+UPEu3+u/vsnWcbfs6ix7Yk7PHMz6WzvZ5b/SC4fwUgz1wOegAwtGEbgH4dWC0gvgHYvwKa/NpnKUx5ablJPofP6+cHls/jhbkavZzmO8fVXHMe83yz/15OY8m5/BFubnvc3rnMj7koL8d0eY16jPm5NOfX/wxAGoB9JzAdABhV/ikekH4XZH0VmQuINYD1jY305MHp9OHVyfRx68R+vHTjNt+7r5dfNrfNWSy7r43e/nu5Zfle/M1ciUVzl+2nzbu5289Ppc17q+nMyix9+rwjz17t2/n2AN8JDODfGbQBSEgBKQ1g9/teerb1Jl26cTetXb2Ybq+fIwaJ67ML6fyVa+nsyh3XAMof+asBYEjjXgHYW0DZ3o+fafvtu3Tr/tO0evNhWiOGisuzR2l983Ha+fKtFn27epNxWQAYz5gNwL1/LPXDysnXHLtunRgrSvGXgWWo/sDIBm4AroDkhZaUvNS3lTVtA+J/htxauS+39tyVsdzKHADjGbgBlOJiJcY+Tyw5YoSwQq/r+zcl6rosAIxp0AYghcVKidyWdVFyxAjhR36o/BjAkAZtAC2qCQActiPSAAAAh40GAABB0QAAICgaAAAERQMAgKBoAAAQFA0AAIKiAQBAUDQAAAiKBgAAQdEAACAoGgAABEUDAICgaAAAEBQNAACCogEAQFA0AAAIigYAAEHRAAAgKBoAAARFAwCAoGgAABAUDQAAgqIBAEBQNAAACIoGAABB0QAAICgaAACElNJvmgYKlxsFr8MAAAAASUVORK5CYII=)\n",
        "\n"
      ]
    },
    {
      "cell_type": "markdown",
      "metadata": {
        "id": "pD3u8SXn1XTk"
      },
      "source": [
        "####Assumptions ในการทำ Factor analysis\n",
        "There are no outliers in data.\n",
        "\n",
        "Sample size should be greater than the factor.\n",
        "\n",
        "There should not be perfect multicollinearity.\n",
        "\n",
        "There should not be homoscedastici"
      ]
    },
    {
      "cell_type": "markdown",
      "metadata": {
        "id": "1lmgXGdT1bnr"
      },
      "source": [
        "###การทำ Factor Analysis"
      ]
    },
    {
      "cell_type": "code",
      "metadata": {
        "colab": {
          "base_uri": "https://localhost:8080/"
        },
        "id": "glmT4Oon1JOG",
        "outputId": "1754abc6-aa65-45b2-8fce-37c13720fc4f"
      },
      "source": [
        "!pip install factor_analyzer\n",
        "##แก้ Error ด้วยการ install\n",
        "from factor_analyzer import FactorAnalyzer\n",
        "import matplotlib.pyplot as plt \n",
        "## เหมือนกับ from matplotlib import pyplot as plt"
      ],
      "execution_count": 5,
      "outputs": [
        {
          "output_type": "stream",
          "text": [
            "Collecting factor_analyzer\n",
            "\u001b[?25l  Downloading https://files.pythonhosted.org/packages/44/b5/cbd83484ca6dd4c6562c6d66a6a3a0ecf526e79b2b575b9fb4bf5ad172dd/factor_analyzer-0.3.2.tar.gz (40kB)\n",
            "\r\u001b[K     |████████▏                       | 10kB 16.6MB/s eta 0:00:01\r\u001b[K     |████████████████▍               | 20kB 21.8MB/s eta 0:00:01\r\u001b[K     |████████████████████████▌       | 30kB 8.9MB/s eta 0:00:01\r\u001b[K     |████████████████████████████████| 40kB 3.4MB/s \n",
            "\u001b[?25hRequirement already satisfied: pandas in /usr/local/lib/python3.7/dist-packages (from factor_analyzer) (1.1.5)\n",
            "Requirement already satisfied: scipy in /usr/local/lib/python3.7/dist-packages (from factor_analyzer) (1.4.1)\n",
            "Requirement already satisfied: numpy in /usr/local/lib/python3.7/dist-packages (from factor_analyzer) (1.19.5)\n",
            "Requirement already satisfied: scikit-learn in /usr/local/lib/python3.7/dist-packages (from factor_analyzer) (0.22.2.post1)\n",
            "Requirement already satisfied: python-dateutil>=2.7.3 in /usr/local/lib/python3.7/dist-packages (from pandas->factor_analyzer) (2.8.1)\n",
            "Requirement already satisfied: pytz>=2017.2 in /usr/local/lib/python3.7/dist-packages (from pandas->factor_analyzer) (2018.9)\n",
            "Requirement already satisfied: joblib>=0.11 in /usr/local/lib/python3.7/dist-packages (from scikit-learn->factor_analyzer) (1.0.1)\n",
            "Requirement already satisfied: six>=1.5 in /usr/local/lib/python3.7/dist-packages (from python-dateutil>=2.7.3->pandas->factor_analyzer) (1.15.0)\n",
            "Building wheels for collected packages: factor-analyzer\n",
            "  Building wheel for factor-analyzer (setup.py) ... \u001b[?25l\u001b[?25hdone\n",
            "  Created wheel for factor-analyzer: filename=factor_analyzer-0.3.2-cp37-none-any.whl size=40383 sha256=0d296544654a36c4c9f8684e0b7ceff111e59a2879dfe1fec4a4617e71ebc9f8\n",
            "  Stored in directory: /root/.cache/pip/wheels/4a/d0/57/f1330cb9c80e82d8d05391c74c94ed61ce3f03bf6157f3d6db\n",
            "Successfully built factor-analyzer\n",
            "Installing collected packages: factor-analyzer\n",
            "Successfully installed factor-analyzer-0.3.2\n"
          ],
          "name": "stdout"
        }
      ]
    },
    {
      "cell_type": "markdown",
      "metadata": {
        "id": "2UhKpd5u121F"
      },
      "source": [
        "###Quiz 5 เลือกข้อมูลมาเฉพาะ a1,a2,...,o5,o6"
      ]
    },
    {
      "cell_type": "code",
      "metadata": {
        "colab": {
          "base_uri": "https://localhost:8080/"
        },
        "id": "jpH_EFBm11P_",
        "outputId": "e6b1b5dd-6089-42f3-8cdb-0ff4cefce9fa"
      },
      "source": [
        "BFI_data.shape"
      ],
      "execution_count": 6,
      "outputs": [
        {
          "output_type": "execute_result",
          "data": {
            "text/plain": [
              "(2800, 29)"
            ]
          },
          "metadata": {
            "tags": []
          },
          "execution_count": 6
        }
      ]
    },
    {
      "cell_type": "code",
      "metadata": {
        "colab": {
          "base_uri": "https://localhost:8080/",
          "height": 439
        },
        "id": "nzfx7SB517VH",
        "outputId": "0a449bd0-5b72-4e76-993f-727dbd2dcb51"
      },
      "source": [
        "BFI_data_dropped = BFI_data.iloc[:,1:26]\n",
        "BFI_data_dropped"
      ],
      "execution_count": 7,
      "outputs": [
        {
          "output_type": "execute_result",
          "data": {
            "text/html": [
              "<div>\n",
              "<style scoped>\n",
              "    .dataframe tbody tr th:only-of-type {\n",
              "        vertical-align: middle;\n",
              "    }\n",
              "\n",
              "    .dataframe tbody tr th {\n",
              "        vertical-align: top;\n",
              "    }\n",
              "\n",
              "    .dataframe thead th {\n",
              "        text-align: right;\n",
              "    }\n",
              "</style>\n",
              "<table border=\"1\" class=\"dataframe\">\n",
              "  <thead>\n",
              "    <tr style=\"text-align: right;\">\n",
              "      <th></th>\n",
              "      <th>A1</th>\n",
              "      <th>A2</th>\n",
              "      <th>A3</th>\n",
              "      <th>A4</th>\n",
              "      <th>A5</th>\n",
              "      <th>C1</th>\n",
              "      <th>C2</th>\n",
              "      <th>C3</th>\n",
              "      <th>C4</th>\n",
              "      <th>C5</th>\n",
              "      <th>E1</th>\n",
              "      <th>E2</th>\n",
              "      <th>E3</th>\n",
              "      <th>E4</th>\n",
              "      <th>E5</th>\n",
              "      <th>N1</th>\n",
              "      <th>N2</th>\n",
              "      <th>N3</th>\n",
              "      <th>N4</th>\n",
              "      <th>N5</th>\n",
              "      <th>O1</th>\n",
              "      <th>O2</th>\n",
              "      <th>O3</th>\n",
              "      <th>O4</th>\n",
              "      <th>O5</th>\n",
              "    </tr>\n",
              "  </thead>\n",
              "  <tbody>\n",
              "    <tr>\n",
              "      <th>0</th>\n",
              "      <td>2.0</td>\n",
              "      <td>4.0</td>\n",
              "      <td>3.0</td>\n",
              "      <td>4.0</td>\n",
              "      <td>4.0</td>\n",
              "      <td>2.0</td>\n",
              "      <td>3.0</td>\n",
              "      <td>3.0</td>\n",
              "      <td>4.0</td>\n",
              "      <td>4.0</td>\n",
              "      <td>3.0</td>\n",
              "      <td>3.0</td>\n",
              "      <td>3.0</td>\n",
              "      <td>4.0</td>\n",
              "      <td>4.0</td>\n",
              "      <td>3.0</td>\n",
              "      <td>4.0</td>\n",
              "      <td>2.0</td>\n",
              "      <td>2.0</td>\n",
              "      <td>3.0</td>\n",
              "      <td>3.0</td>\n",
              "      <td>6</td>\n",
              "      <td>3.0</td>\n",
              "      <td>4.0</td>\n",
              "      <td>3.0</td>\n",
              "    </tr>\n",
              "    <tr>\n",
              "      <th>1</th>\n",
              "      <td>2.0</td>\n",
              "      <td>4.0</td>\n",
              "      <td>5.0</td>\n",
              "      <td>2.0</td>\n",
              "      <td>5.0</td>\n",
              "      <td>5.0</td>\n",
              "      <td>4.0</td>\n",
              "      <td>4.0</td>\n",
              "      <td>3.0</td>\n",
              "      <td>4.0</td>\n",
              "      <td>1.0</td>\n",
              "      <td>1.0</td>\n",
              "      <td>6.0</td>\n",
              "      <td>4.0</td>\n",
              "      <td>3.0</td>\n",
              "      <td>3.0</td>\n",
              "      <td>3.0</td>\n",
              "      <td>3.0</td>\n",
              "      <td>5.0</td>\n",
              "      <td>5.0</td>\n",
              "      <td>4.0</td>\n",
              "      <td>2</td>\n",
              "      <td>4.0</td>\n",
              "      <td>3.0</td>\n",
              "      <td>3.0</td>\n",
              "    </tr>\n",
              "    <tr>\n",
              "      <th>2</th>\n",
              "      <td>5.0</td>\n",
              "      <td>4.0</td>\n",
              "      <td>5.0</td>\n",
              "      <td>4.0</td>\n",
              "      <td>4.0</td>\n",
              "      <td>4.0</td>\n",
              "      <td>5.0</td>\n",
              "      <td>4.0</td>\n",
              "      <td>2.0</td>\n",
              "      <td>5.0</td>\n",
              "      <td>2.0</td>\n",
              "      <td>4.0</td>\n",
              "      <td>4.0</td>\n",
              "      <td>4.0</td>\n",
              "      <td>5.0</td>\n",
              "      <td>4.0</td>\n",
              "      <td>5.0</td>\n",
              "      <td>4.0</td>\n",
              "      <td>2.0</td>\n",
              "      <td>3.0</td>\n",
              "      <td>4.0</td>\n",
              "      <td>2</td>\n",
              "      <td>5.0</td>\n",
              "      <td>5.0</td>\n",
              "      <td>2.0</td>\n",
              "    </tr>\n",
              "    <tr>\n",
              "      <th>3</th>\n",
              "      <td>4.0</td>\n",
              "      <td>4.0</td>\n",
              "      <td>6.0</td>\n",
              "      <td>5.0</td>\n",
              "      <td>5.0</td>\n",
              "      <td>4.0</td>\n",
              "      <td>4.0</td>\n",
              "      <td>3.0</td>\n",
              "      <td>5.0</td>\n",
              "      <td>5.0</td>\n",
              "      <td>5.0</td>\n",
              "      <td>3.0</td>\n",
              "      <td>4.0</td>\n",
              "      <td>4.0</td>\n",
              "      <td>4.0</td>\n",
              "      <td>2.0</td>\n",
              "      <td>5.0</td>\n",
              "      <td>2.0</td>\n",
              "      <td>4.0</td>\n",
              "      <td>1.0</td>\n",
              "      <td>3.0</td>\n",
              "      <td>3</td>\n",
              "      <td>4.0</td>\n",
              "      <td>3.0</td>\n",
              "      <td>5.0</td>\n",
              "    </tr>\n",
              "    <tr>\n",
              "      <th>4</th>\n",
              "      <td>2.0</td>\n",
              "      <td>3.0</td>\n",
              "      <td>3.0</td>\n",
              "      <td>4.0</td>\n",
              "      <td>5.0</td>\n",
              "      <td>4.0</td>\n",
              "      <td>4.0</td>\n",
              "      <td>5.0</td>\n",
              "      <td>3.0</td>\n",
              "      <td>2.0</td>\n",
              "      <td>2.0</td>\n",
              "      <td>2.0</td>\n",
              "      <td>5.0</td>\n",
              "      <td>4.0</td>\n",
              "      <td>5.0</td>\n",
              "      <td>2.0</td>\n",
              "      <td>3.0</td>\n",
              "      <td>4.0</td>\n",
              "      <td>4.0</td>\n",
              "      <td>3.0</td>\n",
              "      <td>3.0</td>\n",
              "      <td>3</td>\n",
              "      <td>4.0</td>\n",
              "      <td>3.0</td>\n",
              "      <td>3.0</td>\n",
              "    </tr>\n",
              "    <tr>\n",
              "      <th>...</th>\n",
              "      <td>...</td>\n",
              "      <td>...</td>\n",
              "      <td>...</td>\n",
              "      <td>...</td>\n",
              "      <td>...</td>\n",
              "      <td>...</td>\n",
              "      <td>...</td>\n",
              "      <td>...</td>\n",
              "      <td>...</td>\n",
              "      <td>...</td>\n",
              "      <td>...</td>\n",
              "      <td>...</td>\n",
              "      <td>...</td>\n",
              "      <td>...</td>\n",
              "      <td>...</td>\n",
              "      <td>...</td>\n",
              "      <td>...</td>\n",
              "      <td>...</td>\n",
              "      <td>...</td>\n",
              "      <td>...</td>\n",
              "      <td>...</td>\n",
              "      <td>...</td>\n",
              "      <td>...</td>\n",
              "      <td>...</td>\n",
              "      <td>...</td>\n",
              "    </tr>\n",
              "    <tr>\n",
              "      <th>2795</th>\n",
              "      <td>6.0</td>\n",
              "      <td>1.0</td>\n",
              "      <td>3.0</td>\n",
              "      <td>3.0</td>\n",
              "      <td>3.0</td>\n",
              "      <td>6.0</td>\n",
              "      <td>6.0</td>\n",
              "      <td>6.0</td>\n",
              "      <td>1.0</td>\n",
              "      <td>1.0</td>\n",
              "      <td>1.0</td>\n",
              "      <td>4.0</td>\n",
              "      <td>5.0</td>\n",
              "      <td>5.0</td>\n",
              "      <td>6.0</td>\n",
              "      <td>1.0</td>\n",
              "      <td>1.0</td>\n",
              "      <td>1.0</td>\n",
              "      <td>NaN</td>\n",
              "      <td>1.0</td>\n",
              "      <td>6.0</td>\n",
              "      <td>1</td>\n",
              "      <td>6.0</td>\n",
              "      <td>6.0</td>\n",
              "      <td>1.0</td>\n",
              "    </tr>\n",
              "    <tr>\n",
              "      <th>2796</th>\n",
              "      <td>2.0</td>\n",
              "      <td>4.0</td>\n",
              "      <td>4.0</td>\n",
              "      <td>3.0</td>\n",
              "      <td>5.0</td>\n",
              "      <td>2.0</td>\n",
              "      <td>3.0</td>\n",
              "      <td>4.0</td>\n",
              "      <td>4.0</td>\n",
              "      <td>3.0</td>\n",
              "      <td>2.0</td>\n",
              "      <td>2.0</td>\n",
              "      <td>4.0</td>\n",
              "      <td>4.0</td>\n",
              "      <td>3.0</td>\n",
              "      <td>NaN</td>\n",
              "      <td>3.0</td>\n",
              "      <td>2.0</td>\n",
              "      <td>3.0</td>\n",
              "      <td>3.0</td>\n",
              "      <td>6.0</td>\n",
              "      <td>3</td>\n",
              "      <td>5.0</td>\n",
              "      <td>4.0</td>\n",
              "      <td>2.0</td>\n",
              "    </tr>\n",
              "    <tr>\n",
              "      <th>2797</th>\n",
              "      <td>2.0</td>\n",
              "      <td>3.0</td>\n",
              "      <td>5.0</td>\n",
              "      <td>2.0</td>\n",
              "      <td>5.0</td>\n",
              "      <td>5.0</td>\n",
              "      <td>5.0</td>\n",
              "      <td>5.0</td>\n",
              "      <td>1.0</td>\n",
              "      <td>1.0</td>\n",
              "      <td>2.0</td>\n",
              "      <td>2.0</td>\n",
              "      <td>6.0</td>\n",
              "      <td>3.0</td>\n",
              "      <td>6.0</td>\n",
              "      <td>3.0</td>\n",
              "      <td>4.0</td>\n",
              "      <td>3.0</td>\n",
              "      <td>3.0</td>\n",
              "      <td>1.0</td>\n",
              "      <td>5.0</td>\n",
              "      <td>1</td>\n",
              "      <td>6.0</td>\n",
              "      <td>4.0</td>\n",
              "      <td>3.0</td>\n",
              "    </tr>\n",
              "    <tr>\n",
              "      <th>2798</th>\n",
              "      <td>5.0</td>\n",
              "      <td>2.0</td>\n",
              "      <td>2.0</td>\n",
              "      <td>4.0</td>\n",
              "      <td>4.0</td>\n",
              "      <td>5.0</td>\n",
              "      <td>5.0</td>\n",
              "      <td>5.0</td>\n",
              "      <td>2.0</td>\n",
              "      <td>6.0</td>\n",
              "      <td>2.0</td>\n",
              "      <td>2.0</td>\n",
              "      <td>4.0</td>\n",
              "      <td>5.0</td>\n",
              "      <td>4.0</td>\n",
              "      <td>5.0</td>\n",
              "      <td>5.0</td>\n",
              "      <td>6.0</td>\n",
              "      <td>4.0</td>\n",
              "      <td>1.0</td>\n",
              "      <td>5.0</td>\n",
              "      <td>2</td>\n",
              "      <td>5.0</td>\n",
              "      <td>5.0</td>\n",
              "      <td>1.0</td>\n",
              "    </tr>\n",
              "    <tr>\n",
              "      <th>2799</th>\n",
              "      <td>2.0</td>\n",
              "      <td>3.0</td>\n",
              "      <td>1.0</td>\n",
              "      <td>4.0</td>\n",
              "      <td>2.0</td>\n",
              "      <td>5.0</td>\n",
              "      <td>5.0</td>\n",
              "      <td>3.0</td>\n",
              "      <td>3.0</td>\n",
              "      <td>3.0</td>\n",
              "      <td>3.0</td>\n",
              "      <td>3.0</td>\n",
              "      <td>1.0</td>\n",
              "      <td>2.0</td>\n",
              "      <td>2.0</td>\n",
              "      <td>1.0</td>\n",
              "      <td>2.0</td>\n",
              "      <td>2.0</td>\n",
              "      <td>1.0</td>\n",
              "      <td>1.0</td>\n",
              "      <td>3.0</td>\n",
              "      <td>1</td>\n",
              "      <td>3.0</td>\n",
              "      <td>5.0</td>\n",
              "      <td>1.0</td>\n",
              "    </tr>\n",
              "  </tbody>\n",
              "</table>\n",
              "<p>2800 rows × 25 columns</p>\n",
              "</div>"
            ],
            "text/plain": [
              "       A1   A2   A3   A4   A5   C1   C2  ...   N4   N5   O1  O2   O3   O4   O5\n",
              "0     2.0  4.0  3.0  4.0  4.0  2.0  3.0  ...  2.0  3.0  3.0   6  3.0  4.0  3.0\n",
              "1     2.0  4.0  5.0  2.0  5.0  5.0  4.0  ...  5.0  5.0  4.0   2  4.0  3.0  3.0\n",
              "2     5.0  4.0  5.0  4.0  4.0  4.0  5.0  ...  2.0  3.0  4.0   2  5.0  5.0  2.0\n",
              "3     4.0  4.0  6.0  5.0  5.0  4.0  4.0  ...  4.0  1.0  3.0   3  4.0  3.0  5.0\n",
              "4     2.0  3.0  3.0  4.0  5.0  4.0  4.0  ...  4.0  3.0  3.0   3  4.0  3.0  3.0\n",
              "...   ...  ...  ...  ...  ...  ...  ...  ...  ...  ...  ...  ..  ...  ...  ...\n",
              "2795  6.0  1.0  3.0  3.0  3.0  6.0  6.0  ...  NaN  1.0  6.0   1  6.0  6.0  1.0\n",
              "2796  2.0  4.0  4.0  3.0  5.0  2.0  3.0  ...  3.0  3.0  6.0   3  5.0  4.0  2.0\n",
              "2797  2.0  3.0  5.0  2.0  5.0  5.0  5.0  ...  3.0  1.0  5.0   1  6.0  4.0  3.0\n",
              "2798  5.0  2.0  2.0  4.0  4.0  5.0  5.0  ...  4.0  1.0  5.0   2  5.0  5.0  1.0\n",
              "2799  2.0  3.0  1.0  4.0  2.0  5.0  5.0  ...  1.0  1.0  3.0   1  3.0  5.0  1.0\n",
              "\n",
              "[2800 rows x 25 columns]"
            ]
          },
          "metadata": {
            "tags": []
          },
          "execution_count": 7
        }
      ]
    },
    {
      "cell_type": "code",
      "metadata": {
        "colab": {
          "base_uri": "https://localhost:8080/"
        },
        "id": "xVJwlb2X18ae",
        "outputId": "6c12b5d1-dcbc-4d04-fb89-5b6427e828d2"
      },
      "source": [
        "BFI_data_dropped = BFI_data_dropped.dropna()\n",
        "BFI_data_dropped.shape"
      ],
      "execution_count": 8,
      "outputs": [
        {
          "output_type": "execute_result",
          "data": {
            "text/plain": [
              "(2436, 25)"
            ]
          },
          "metadata": {
            "tags": []
          },
          "execution_count": 8
        }
      ]
    },
    {
      "cell_type": "code",
      "metadata": {
        "colab": {
          "base_uri": "https://localhost:8080/"
        },
        "id": "K8VdiRj_1982",
        "outputId": "6caeae86-0a11-4c80-8df0-fed08149612b"
      },
      "source": [
        "from factor_analyzer.factor_analyzer import calculate_bartlett_sphericity\n",
        "chi_square_value,p_value=calculate_bartlett_sphericity(BFI_data_dropped)\n",
        "chi_square_value, p_value"
      ],
      "execution_count": 9,
      "outputs": [
        {
          "output_type": "execute_result",
          "data": {
            "text/plain": [
              "(18170.966350869243, 0.0)"
            ]
          },
          "metadata": {
            "tags": []
          },
          "execution_count": 9
        }
      ]
    },
    {
      "cell_type": "markdown",
      "metadata": {
        "id": "PR-pAIsS2DE_"
      },
      "source": [
        "In this Bartlett ’s test, the p-value is 0. The test was statistically significant, indicating that the observed correlation matrix is not an identity matrix."
      ]
    },
    {
      "cell_type": "markdown",
      "metadata": {
        "id": "_YYT_kUL2Ea0"
      },
      "source": [
        "###Kaiser-Meyer-Olkin (KMO) **Test**\n",
        "ถ้าค่า KMO model มีค่ามากกว่า 0.6 แปลว่าข้อมูลเหมาะสมที่จะนำไปใช้ใน Factor Analysis"
      ]
    },
    {
      "cell_type": "code",
      "metadata": {
        "colab": {
          "base_uri": "https://localhost:8080/"
        },
        "id": "o_XusJJA1_je",
        "outputId": "9f2fa92b-4830-4e54-826b-3fd97a9acaf0"
      },
      "source": [
        "from factor_analyzer.factor_analyzer import calculate_kmo\n",
        "kmo_all,kmo_model=calculate_kmo(BFI_data_dropped)\n",
        "kmo_model"
      ],
      "execution_count": 10,
      "outputs": [
        {
          "output_type": "execute_result",
          "data": {
            "text/plain": [
              "0.8485397221949221"
            ]
          },
          "metadata": {
            "tags": []
          },
          "execution_count": 10
        }
      ]
    },
    {
      "cell_type": "markdown",
      "metadata": {
        "id": "oXpumDjH2NFo"
      },
      "source": [
        "###Factor Analysis"
      ]
    },
    {
      "cell_type": "markdown",
      "metadata": {
        "id": "QqZGAcXM2QlP"
      },
      "source": [
        "Import"
      ]
    },
    {
      "cell_type": "code",
      "metadata": {
        "id": "CVHSxshT2LKf"
      },
      "source": [
        "from factor_analyzer import FactorAnalyzer"
      ],
      "execution_count": 11,
      "outputs": []
    },
    {
      "cell_type": "markdown",
      "metadata": {
        "id": "7IjhkyJF2TN9"
      },
      "source": [
        "Define"
      ]
    },
    {
      "cell_type": "code",
      "metadata": {
        "id": "1tDrHnPP2SOu"
      },
      "source": [
        "fa = FactorAnalyzer(n_factors=20)"
      ],
      "execution_count": 12,
      "outputs": []
    },
    {
      "cell_type": "markdown",
      "metadata": {
        "id": "Sd-bhnCk2auW"
      },
      "source": [
        "Fit-transform"
      ]
    },
    {
      "cell_type": "code",
      "metadata": {
        "id": "2liyZd9Y2Znm"
      },
      "source": [
        "data_fa = fa.fit_transform(BFI_data_dropped)"
      ],
      "execution_count": 13,
      "outputs": []
    },
    {
      "cell_type": "code",
      "metadata": {
        "colab": {
          "base_uri": "https://localhost:8080/"
        },
        "id": "v8a7QV572cSG",
        "outputId": "245dd2dd-bf92-42b7-831a-4f1b6ed67f1f"
      },
      "source": [
        "data_fa.shape"
      ],
      "execution_count": 14,
      "outputs": [
        {
          "output_type": "execute_result",
          "data": {
            "text/plain": [
              "(2436, 20)"
            ]
          },
          "metadata": {
            "tags": []
          },
          "execution_count": 14
        }
      ]
    },
    {
      "cell_type": "markdown",
      "metadata": {
        "id": "45qatqK32ega"
      },
      "source": [
        "\n",
        "วิธีตัดสินว่าจะลดเหลือกี่ dimension ( มี factors ทั้งหมดกี่ตัว )"
      ]
    },
    {
      "cell_type": "code",
      "metadata": {
        "id": "NkNzJwYi2dU2"
      },
      "source": [
        "ev,v = fa.get_eigenvalues()"
      ],
      "execution_count": 15,
      "outputs": []
    },
    {
      "cell_type": "markdown",
      "metadata": {
        "id": "N98tYl1A2hFd"
      },
      "source": [
        "ใช้ eigen values"
      ]
    },
    {
      "cell_type": "code",
      "metadata": {
        "colab": {
          "base_uri": "https://localhost:8080/"
        },
        "id": "QgNT6_VX2gBk",
        "outputId": "703a1438-07f4-4200-9688-f446d8892e95"
      },
      "source": [
        "ev"
      ],
      "execution_count": 16,
      "outputs": [
        {
          "output_type": "execute_result",
          "data": {
            "text/plain": [
              "array([5.13431118, 2.75188667, 2.14270195, 1.85232761, 1.54816285,\n",
              "       1.07358247, 0.83953893, 0.79920618, 0.71898919, 0.68808879,\n",
              "       0.67637336, 0.65179984, 0.62325295, 0.59656284, 0.56309083,\n",
              "       0.54330533, 0.51451752, 0.49450315, 0.48263952, 0.448921  ,\n",
              "       0.42336611, 0.40067145, 0.38780448, 0.38185679, 0.26253902])"
            ]
          },
          "metadata": {
            "tags": []
          },
          "execution_count": 16
        }
      ]
    },
    {
      "cell_type": "markdown",
      "metadata": {
        "id": "PLafDa2Q2kAO"
      },
      "source": [
        "Scree plot"
      ]
    },
    {
      "cell_type": "code",
      "metadata": {
        "colab": {
          "base_uri": "https://localhost:8080/",
          "height": 295
        },
        "id": "zQcTfX9x2ifP",
        "outputId": "70438fb8-5098-481c-daca-cebb81503ca3"
      },
      "source": [
        "# Create scree plot using matplotlib\n",
        "plt.scatter(range(1,BFI_data_dropped.shape[1]+1),ev)\n",
        "plt.plot(range(1,BFI_data_dropped.shape[1]+1),ev)\n",
        "plt.title('Scree Plot')\n",
        "plt.xlabel('Factors')\n",
        "plt.ylabel('Eigenvalue')\n",
        "plt.grid()\n",
        "plt.show()"
      ],
      "execution_count": 17,
      "outputs": [
        {
          "output_type": "display_data",
          "data": {
            "image/png": "[encoded data removed]",
            "text/plain": [
              "<Figure size 432x288 with 1 Axes>"
            ]
          },
          "metadata": {
            "tags": [],
            "needs_background": "light"
          }
        }
      ]
    },
    {
      "cell_type": "code",
      "metadata": {
        "colab": {
          "base_uri": "https://localhost:8080/",
          "height": 295
        },
        "id": "i_enjkk52mJu",
        "outputId": "ed239a4f-41dd-481f-9215-fd7ecd7734cb"
      },
      "source": [
        "# Create scree plot using matplotlib\n",
        "plt.plot(range(1,BFI_data_dropped.shape[1]+1),ev,'bo-')\n",
        "plt.plot([0,BFI_data_dropped.shape[1]+1],[1,1],'r--')\n",
        "plt.title('Scree Plot')\n",
        "plt.xlabel('Factors')\n",
        "plt.ylabel('Eigenvalue')\n",
        "plt.grid()\n",
        "plt.show()"
      ],
      "execution_count": 18,
      "outputs": [
        {
          "output_type": "display_data",
          "data": {
            "image/png": "[encoded data removed]",
            "text/plain": [
              "<Figure size 432x288 with 1 Axes>"
            ]
          },
          "metadata": {
            "tags": [],
            "needs_background": "light"
          }
        }
      ]
    },
    {
      "cell_type": "code",
      "metadata": {
        "colab": {
          "base_uri": "https://localhost:8080/"
        },
        "id": "LxIdxbrl2oCv",
        "outputId": "0de4ba37-6ffd-402a-93f5-96e599be80a5"
      },
      "source": [
        "data_fa[:,:6]"
      ],
      "execution_count": 19,
      "outputs": [
        {
          "output_type": "execute_result",
          "data": {
            "text/plain": [
              "array([[-0.89749661, -0.12809666, -1.22649076,  1.08665889,  0.42476701,\n",
              "         0.03981611],\n",
              "       [ 0.33679356, -0.15018138, -0.04332274, -0.10339328,  0.29665648,\n",
              "        -1.11019718],\n",
              "       [-0.24521029,  0.80409961,  0.39343377, -0.30106518,  0.82703928,\n",
              "        -0.2982022 ],\n",
              "       ...,\n",
              "       [ 0.38724631, -0.02183587,  1.19616826, -1.19357208,  0.79669501,\n",
              "        -0.95295109],\n",
              "       [-0.75695976,  0.94984758,  1.24363484, -1.15230215,  2.2534133 ,\n",
              "        -1.0218667 ],\n",
              "       [-2.35583952, -1.49829856,  0.49436981, -1.64734311,  0.94742323,\n",
              "         0.43462495]])"
            ]
          },
          "metadata": {
            "tags": []
          },
          "execution_count": 19
        }
      ]
    },
    {
      "cell_type": "markdown",
      "metadata": {
        "id": "0AtXLlEf2q1V"
      },
      "source": [
        "Factor loading"
      ]
    },
    {
      "cell_type": "code",
      "metadata": {
        "colab": {
          "base_uri": "https://localhost:8080/"
        },
        "id": "PeRGLXlM2paO",
        "outputId": "b0524aaa-847e-40e0-a603-f0b961d33e80"
      },
      "source": [
        "fa.loadings_.shape"
      ],
      "execution_count": 20,
      "outputs": [
        {
          "output_type": "execute_result",
          "data": {
            "text/plain": [
              "(25, 20)"
            ]
          },
          "metadata": {
            "tags": []
          },
          "execution_count": 20
        }
      ]
    },
    {
      "cell_type": "code",
      "metadata": {
        "colab": {
          "base_uri": "https://localhost:8080/"
        },
        "id": "CReftyyG2sU-",
        "outputId": "faf21f0f-ca11-486e-cadd-bae6b79357e7"
      },
      "source": [
        "fa.loadings_"
      ],
      "execution_count": 21,
      "outputs": [
        {
          "output_type": "execute_result",
          "data": {
            "text/plain": [
              "array([[ 4.39221644e-02, -7.23791989e-03, -3.54953863e-02,\n",
              "         6.36904232e-02,  1.86674726e-02,  7.56067826e-01,\n",
              "         3.79571050e-02,  6.18021132e-02, -1.21231838e-03,\n",
              "         4.98167814e-02, -2.38173505e-02,  4.66514142e-02,\n",
              "         4.62005355e-02,  3.02085508e-02, -1.17663825e-01,\n",
              "         1.13469789e-02, -6.77496110e-03, -4.75707513e-02,\n",
              "         3.80305889e-02, -1.32410506e-05],\n",
              "       [-3.61660798e-02, -7.05831938e-02,  2.60349595e-02,\n",
              "         3.14887147e-02,  1.39800152e-02, -3.53463277e-01,\n",
              "         4.64083497e-02,  8.38715235e-02,  9.55513114e-02,\n",
              "         8.65737514e-02,  5.62178309e-02,  9.13535039e-02,\n",
              "         3.71647110e-02,  5.18919280e-02, -6.40070765e-02,\n",
              "         2.44624623e-02, -5.05741873e-02, -7.11741066e-02,\n",
              "         3.32392439e-02, -1.03131820e-01],\n",
              "       [ 1.25240910e-01,  6.35958266e-02,  5.74261728e-01,\n",
              "         5.81639394e-02,  4.81248438e-02, -2.30739166e-01,\n",
              "         2.24828463e-02,  4.31813917e-02, -1.31675268e-01,\n",
              "         9.04356027e-02, -8.58365401e-02, -1.05676028e-03,\n",
              "         5.17142791e-02, -9.17643061e-02, -1.23642611e-01,\n",
              "        -1.52886601e-04,  1.25851617e-02,  6.36721639e-04,\n",
              "         9.65768702e-02,  2.56825369e-02],\n",
              "       [-6.98978238e-03,  2.50855387e-02,  1.00524066e-01,\n",
              "        -3.28862347e-02, -2.00133306e-02,  3.02942021e-02,\n",
              "        -5.85016452e-02, -4.59056406e-02,  7.85635765e-03,\n",
              "         7.14037611e-01, -3.01074013e-02, -4.69316124e-02,\n",
              "        -1.25894032e-02,  3.48879948e-02,  5.28996131e-02,\n",
              "        -1.64187010e-02,  1.68011775e-02, -4.37964224e-03,\n",
              "        -6.40957978e-02,  2.54545472e-02],\n",
              "       [-8.18890698e-02, -4.54625132e-02,  7.60359671e-01,\n",
              "         4.35972070e-02, -7.11734560e-02,  4.42803915e-02,\n",
              "         8.86624767e-02, -6.14075740e-02,  8.73155923e-02,\n",
              "         1.06703907e-02,  8.07940440e-02,  6.65554053e-02,\n",
              "        -7.81796806e-02,  1.34931462e-01,  2.05073663e-02,\n",
              "        -8.44588038e-03, -2.92520758e-02, -5.38830935e-02,\n",
              "        -1.77020859e-02,  3.44251985e-04],\n",
              "       [-2.16375290e-02,  6.55315913e-01,  1.95964985e-02,\n",
              "        -1.44521857e-02, -1.79331409e-02,  5.12600502e-02,\n",
              "        -1.48806751e-02, -2.28630264e-02,  3.36999970e-02,\n",
              "        -8.15895312e-02,  1.64943131e-02, -2.08031265e-02,\n",
              "        -5.80083971e-03,  2.54676775e-02,  5.53527154e-02,\n",
              "        -2.93812480e-02, -1.60865154e-03,  1.54398345e-03,\n",
              "         5.76283979e-01,  6.75406707e-03],\n",
              "       [-3.49435018e-03,  7.59424189e-01, -5.08226227e-02,\n",
              "         6.67106426e-02,  1.57776029e-02, -5.26611122e-02,\n",
              "         9.26390394e-02,  9.07597280e-02,  3.29792181e-02,\n",
              "         1.47787155e-01,  5.43056218e-02,  8.47547762e-02,\n",
              "         2.61492786e-02,  8.43205709e-03, -9.05947755e-02,\n",
              "         1.48707518e-02, -3.03218924e-02, -2.51122709e-02,\n",
              "        -3.51764932e-02, -3.45460963e-02],\n",
              "       [ 1.21509019e-03,  2.87377352e-01,  3.25234509e-02,\n",
              "        -5.59118342e-02,  5.33950263e-03,  4.07183926e-02,\n",
              "        -7.87687720e-02, -2.90562728e-02, -2.90386633e-02,\n",
              "        -5.24737507e-02, -2.92997663e-02,  7.01037448e-01,\n",
              "        -8.67677510e-03, -4.06777304e-02,  5.81500971e-02,\n",
              "         3.16354942e-03,  2.00855731e-02,  3.43530427e-02,\n",
              "        -2.13662326e-02,  8.74505142e-03],\n",
              "       [-9.47716578e-04, -3.12340175e-01, -1.83514861e-02,\n",
              "         5.17829397e-02, -4.68914226e-03,  1.37862700e-03,\n",
              "         1.71033980e-01,  5.23107440e-02,  1.91337157e-02,\n",
              "         3.29302629e-02,  6.44092330e-02,  3.33429590e-02,\n",
              "         3.87734994e-04, -3.07113025e-03,  3.60625984e-03,\n",
              "        -4.72409619e-02,  6.18864799e-01,  3.05930620e-05,\n",
              "         2.27780829e-02, -7.52637975e-03],\n",
              "       [-6.36247005e-03, -1.97116268e-02,  4.46499142e-02,\n",
              "        -1.24221679e-01,  3.00345914e-02,  3.96032424e-02,\n",
              "         7.82832813e-01,  6.97787302e-03, -1.53528053e-02,\n",
              "        -7.07464516e-02, -1.04885122e-01, -7.30258505e-02,\n",
              "         1.46015215e-02, -1.23829544e-02,  1.76741038e-02,\n",
              "         9.47155775e-02,  5.70486985e-02,  1.72632791e-02,\n",
              "        -1.76228252e-02, -1.41526536e-03],\n",
              "       [-2.09791043e-02,  2.20292208e-02,  3.76800865e-02,\n",
              "         8.18110730e-01,  2.35879788e-02,  4.68850118e-02,\n",
              "        -1.59591916e-01,  2.26039579e-03, -7.24420803e-03,\n",
              "        -5.70347835e-02, -8.77704264e-02, -6.15404827e-02,\n",
              "         5.79800247e-03,  6.27101106e-03,  2.08112336e-02,\n",
              "         9.17440159e-02,  5.20888967e-02,  1.58236432e-02,\n",
              "        -1.52980285e-02, -2.00171807e-03],\n",
              "       [-2.78505651e-03, -1.07877718e-02, -6.95865415e-03,\n",
              "         4.30566340e-01,  1.21442438e-02,  9.37127806e-02,\n",
              "         9.06486533e-02, -2.13392757e-02, -4.38302898e-02,\n",
              "         7.24132730e-02,  1.26807729e-01, -2.03246150e-02,\n",
              "        -1.86671352e-02, -1.91739426e-01,  1.38850632e-01,\n",
              "        -1.02216622e-01, -5.02405792e-02,  1.14458346e-01,\n",
              "         1.08865582e-02, -1.02712644e-01],\n",
              "       [-1.32434244e-02, -3.81543627e-02,  3.62041675e-01,\n",
              "        -1.17062656e-01,  5.84173192e-02,  5.77627878e-02,\n",
              "        -1.16307477e-01,  1.46296858e-01,  8.03129773e-02,\n",
              "        -7.11090358e-02, -1.93851043e-02, -3.68781469e-02,\n",
              "         1.21933891e-01, -4.29404731e-02,  5.17436677e-03,\n",
              "         2.90838831e-02,  1.53780188e-02,  2.28930801e-02,\n",
              "        -6.71245142e-02, -1.58039802e-01],\n",
              "       [ 3.52715337e-02,  1.76712336e-02,  2.17469289e-01,\n",
              "        -2.77717441e-01,  5.72162078e-02,  4.60041947e-02,\n",
              "        -1.36996473e-02,  2.86223197e-02, -7.87100335e-02,\n",
              "         5.65534847e-02,  2.56899067e-02, -5.60859463e-02,\n",
              "         3.34557189e-02,  6.02174208e-01,  7.92781378e-02,\n",
              "        -3.77343676e-02, -3.37682807e-03,  1.15185928e-01,\n",
              "         2.54992107e-02, -2.35513064e-02],\n",
              "       [ 4.14859717e-02,  5.73363151e-02,  2.16302929e-02,\n",
              "        -4.24945858e-02,  1.18521641e-02, -2.90636946e-02,\n",
              "        -1.31045174e-02, -2.00917193e-02,  7.65426359e-01,\n",
              "         1.18788332e-02, -3.53405838e-02, -3.13386351e-02,\n",
              "        -3.75042064e-03, -6.54093831e-02,  7.54996732e-03,\n",
              "        -7.10735926e-03,  1.20831543e-02,  2.90421205e-02,\n",
              "         2.76652405e-02,  1.55204720e-02],\n",
              "       [ 8.89358146e-01, -6.79741809e-02,  4.74746775e-03,\n",
              "        -5.91071181e-02,  5.13299672e-02,  8.83995684e-02,\n",
              "        -2.85287065e-02,  9.75738324e-02,  6.16213714e-02,\n",
              "         7.94422336e-02,  6.11756772e-02,  1.36277881e-02,\n",
              "         4.96871654e-02, -7.57162442e-02,  2.28930610e-02,\n",
              "         3.68633011e-02, -1.15436899e-02,  5.15119497e-02,\n",
              "         6.24855018e-03,  3.68195335e-01],\n",
              "       [ 9.57872493e-01,  3.37265282e-02,  1.49659085e-03,\n",
              "         6.14940513e-02, -5.50211764e-02, -5.08406545e-02,\n",
              "         2.50979303e-02, -7.07445164e-02,  7.98758253e-03,\n",
              "        -1.43988250e-01, -3.20653865e-02, -7.78114229e-03,\n",
              "        -2.27568680e-02,  1.19671489e-01, -9.22916851e-03,\n",
              "        -9.87411600e-02,  4.75270567e-04, -6.94676317e-02,\n",
              "        -6.64271931e-02,  1.83166624e-03],\n",
              "       [ 5.54238758e-01,  1.22367879e-02,  9.77605264e-04,\n",
              "        -7.40264226e-02, -3.13975792e-02,  7.24444631e-02,\n",
              "        -3.51335636e-02, -8.66642157e-02, -2.55808006e-02,\n",
              "         8.90428446e-02,  1.33638400e-03, -2.30668994e-03,\n",
              "        -1.08985136e-01,  2.64914867e-03,  5.90802387e-02,\n",
              "         3.80375790e-01,  2.16982463e-02,  2.46461400e-02,\n",
              "         6.39308361e-02, -9.07771429e-02],\n",
              "       [ 2.40347496e-01, -5.56844214e-03, -4.17676439e-03,\n",
              "         1.33749668e-01, -1.53812818e-02, -2.06667695e-02,\n",
              "         1.55992468e-01, -4.68921930e-03,  1.71641023e-03,\n",
              "        -7.06919438e-02,  1.06423130e-01,  5.98029876e-03,\n",
              "         3.42393815e-02, -3.44801621e-02,  4.51642635e-02,\n",
              "         4.53693461e-01, -5.41053703e-02,  1.17476185e-02,\n",
              "        -6.52062156e-02,  2.60689253e-02],\n",
              "       [ 1.39843032e-01,  3.56453434e-02,  1.27584945e-02,\n",
              "        -4.32361364e-02,  2.46987488e-02, -5.12222336e-02,\n",
              "        -1.03044213e-01,  1.52446038e-02, -3.22379074e-02,\n",
              "        -3.58776740e-02,  7.23865464e-01, -3.10013799e-02,\n",
              "         2.28725842e-02,  1.95289439e-02, -5.78053793e-02,\n",
              "         6.85410150e-02,  4.15921161e-02, -2.26483349e-02,\n",
              "         1.08975205e-02,  1.53455465e-02],\n",
              "       [-3.17507191e-02,  1.24227127e-02,  1.57016208e-02,\n",
              "        -9.20629574e-03, -1.55680018e-01,  4.43135699e-02,\n",
              "         1.61904390e-02, -7.61591483e-02,  2.57622634e-02,\n",
              "        -1.07269118e-02,  1.99292695e-02, -6.52527734e-03,\n",
              "         6.64977695e-01,  2.31666474e-02,  8.26116494e-02,\n",
              "        -7.29413170e-03, -7.80042469e-04,  5.70465301e-03,\n",
              "        -4.37271201e-03,  1.23554230e-02],\n",
              "       [-2.91003400e-02,  1.72014474e-02,  1.88523515e-02,\n",
              "        -2.17713047e-02,  6.87267690e-01,  7.29973827e-02,\n",
              "         1.46966709e-02, -8.82286616e-02, -1.74945751e-02,\n",
              "        -2.86311032e-02,  3.46433587e-02, -2.84993271e-02,\n",
              "        -6.80876363e-02, -1.66975289e-02,  1.04455933e-01,\n",
              "        -3.33285517e-02, -3.62631970e-03, -3.59818111e-02,\n",
              "        -1.92970660e-02,  1.26718602e-02],\n",
              "       [-2.66556720e-02,  3.17768879e-02,  4.35594358e-02,\n",
              "        -2.03333942e-02, -2.60466403e-01,  5.35900867e-02,\n",
              "         7.68345634e-03,  7.97094482e-01, -1.89015332e-02,\n",
              "        -5.01553309e-02,  1.07440912e-02, -2.86856652e-02,\n",
              "        -8.24759503e-02,  2.20498239e-02,  9.76582844e-02,\n",
              "        -2.44809331e-02,  4.19362123e-03,  1.20384786e-02,\n",
              "        -2.06570287e-02,  2.81057230e-02],\n",
              "       [ 4.04060335e-02, -9.76128968e-03, -3.28131242e-02,\n",
              "         5.17835888e-02,  1.68219144e-02, -1.08278967e-01,\n",
              "         1.21334012e-02,  7.36685292e-02,  7.49204371e-03,\n",
              "         4.57215248e-02, -4.11064687e-02,  4.56119260e-02,\n",
              "         5.32208741e-02,  4.33965664e-02,  5.86563676e-01,\n",
              "         3.52900991e-02,  1.75776051e-03, -5.52685295e-02,\n",
              "         3.72001079e-02, -2.52344376e-03],\n",
              "       [ 7.83045370e-04, -9.30635527e-03, -2.41043136e-02,\n",
              "         4.38461792e-02,  5.11337889e-01, -5.43308359e-02,\n",
              "         2.20065807e-02,  7.93118256e-03,  3.11246941e-02,\n",
              "        -6.53374230e-03, -1.62806692e-02,  3.88643290e-02,\n",
              "         1.40406942e-03,  9.32180242e-02, -7.59678119e-02,\n",
              "         1.55890618e-02, -2.00235483e-03,  5.66451978e-01,\n",
              "         1.45544115e-03,  1.07126261e-02]])"
            ]
          },
          "metadata": {
            "tags": []
          },
          "execution_count": 21
        }
      ]
    },
    {
      "cell_type": "markdown",
      "metadata": {
        "id": "sZyX5x5Y2wRj"
      },
      "source": [
        "##รัน Factor Analyzer อีกรอบด้วย parameters จำนวน factor เท่ากับ 6"
      ]
    },
    {
      "cell_type": "code",
      "metadata": {
        "id": "zDdTfJK42tem"
      },
      "source": [
        "from factor_analyzer import FactorAnalyzer\n",
        "fa2 = FactorAnalyzer(n_factors=6)\n",
        "data_fa = fa2.fit_transform(BFI_data_dropped)"
      ],
      "execution_count": 22,
      "outputs": []
    },
    {
      "cell_type": "code",
      "metadata": {
        "colab": {
          "base_uri": "https://localhost:8080/"
        },
        "id": "Rzqb2d4l2yNO",
        "outputId": "5a0bde81-17e6-476c-de4e-2d0b3e0518d9"
      },
      "source": [
        "fa2.loadings_.shape"
      ],
      "execution_count": 23,
      "outputs": [
        {
          "output_type": "execute_result",
          "data": {
            "text/plain": [
              "(25, 6)"
            ]
          },
          "metadata": {
            "tags": []
          },
          "execution_count": 23
        }
      ]
    },
    {
      "cell_type": "markdown",
      "metadata": {
        "id": "XegKBNA220c4"
      },
      "source": [
        "##plot factor loadings"
      ]
    },
    {
      "cell_type": "code",
      "metadata": {
        "id": "ON6JNBz32zj2"
      },
      "source": [
        "from matplotlib import pyplot as plt\n",
        "import numpy as np\n",
        "import matplotlib"
      ],
      "execution_count": 24,
      "outputs": []
    },
    {
      "cell_type": "code",
      "metadata": {
        "colab": {
          "base_uri": "https://localhost:8080/",
          "height": 880
        },
        "id": "mMYPyhI6220a",
        "outputId": "64dc2282-3dc2-47dc-ef9a-4d644daa076d"
      },
      "source": [
        "\n",
        "matplotlib.rcParams['figure.figsize']=[15,15]\n",
        "plt.imshow(np.absolute(fa2.loadings_))"
      ],
      "execution_count": 25,
      "outputs": [
        {
          "output_type": "execute_result",
          "data": {
            "text/plain": [
              "<matplotlib.image.AxesImage at 0x7f8108f56990>"
            ]
          },
          "metadata": {
            "tags": []
          },
          "execution_count": 25
        },
        {
          "output_type": "display_data",
          "data": {
            "image/png": "[encoded data removed]",
            "text/plain": [
              "<Figure size 1080x1080 with 1 Axes>"
            ]
          },
          "metadata": {
            "tags": [],
            "needs_background": "light"
          }
        }
      ]
    },
    {
      "cell_type": "code",
      "metadata": {
        "colab": {
          "base_uri": "https://localhost:8080/"
        },
        "id": "wP8ZTeHM237e",
        "outputId": "7d79046b-43c1-4d73-f979-86c6438b0d07"
      },
      "source": [
        "BFI_data_dropped.columns"
      ],
      "execution_count": 26,
      "outputs": [
        {
          "output_type": "execute_result",
          "data": {
            "text/plain": [
              "Index(['A1', 'A2', 'A3', 'A4', 'A5', 'C1', 'C2', 'C3', 'C4', 'C5', 'E1', 'E2',\n",
              "       'E3', 'E4', 'E5', 'N1', 'N2', 'N3', 'N4', 'N5', 'O1', 'O2', 'O3', 'O4',\n",
              "       'O5'],\n",
              "      dtype='object')"
            ]
          },
          "metadata": {
            "tags": []
          },
          "execution_count": 26
        }
      ]
    },
    {
      "cell_type": "code",
      "metadata": {
        "colab": {
          "base_uri": "https://localhost:8080/",
          "height": 642
        },
        "id": "1kVXMVdE25oN",
        "outputId": "a0fb1072-ddca-4e32-a930-174194240081"
      },
      "source": [
        "plt.bar(range(25),np.absolute(fa2.loadings_[:,0]),tick_label=BFI_data_dropped.columns)"
      ],
      "execution_count": 27,
      "outputs": [
        {
          "output_type": "execute_result",
          "data": {
            "text/plain": [
              "<BarContainer object of 25 artists>"
            ]
          },
          "metadata": {
            "tags": []
          },
          "execution_count": 27
        },
        {
          "output_type": "display_data",
          "data": {
            "image/png": "[encoded data removed]",
            "text/plain": [
              "<Figure size 1080x1080 with 1 Axes>"
            ]
          },
          "metadata": {
            "tags": [],
            "needs_background": "light"
          }
        }
      ]
    },
    {
      "cell_type": "markdown",
      "metadata": {
        "id": "SBkQlR4s272_"
      },
      "source": [
        "##Exam 3\n",
        "ทำ Factor Analysis ข้อมูล Fifa 2018"
      ]
    },
    {
      "cell_type": "code",
      "metadata": {
        "colab": {
          "base_uri": "https://localhost:8080/",
          "height": 830
        },
        "id": "xlZtvZZl260H",
        "outputId": "83301341-6ede-4e3d-d4d8-7e1786194bff"
      },
      "source": [
        "exam = pd.read_csv('FIFA 2018 Statistics.csv')\n",
        "exam"
      ],
      "execution_count": 28,
      "outputs": [
        {
          "output_type": "execute_result",
          "data": {
            "text/html": [
              "<div>\n",
              "<style scoped>\n",
              "    .dataframe tbody tr th:only-of-type {\n",
              "        vertical-align: middle;\n",
              "    }\n",
              "\n",
              "    .dataframe tbody tr th {\n",
              "        vertical-align: top;\n",
              "    }\n",
              "\n",
              "    .dataframe thead th {\n",
              "        text-align: right;\n",
              "    }\n",
              "</style>\n",
              "<table border=\"1\" class=\"dataframe\">\n",
              "  <thead>\n",
              "    <tr style=\"text-align: right;\">\n",
              "      <th></th>\n",
              "      <th>Date</th>\n",
              "      <th>Team</th>\n",
              "      <th>Opponent</th>\n",
              "      <th>Goal Scored</th>\n",
              "      <th>Ball Possession %</th>\n",
              "      <th>Attempts</th>\n",
              "      <th>On-Target</th>\n",
              "      <th>Off-Target</th>\n",
              "      <th>Blocked</th>\n",
              "      <th>Corners</th>\n",
              "      <th>Offsides</th>\n",
              "      <th>Free Kicks</th>\n",
              "      <th>Saves</th>\n",
              "      <th>Pass Accuracy %</th>\n",
              "      <th>Passes</th>\n",
              "      <th>Distance Covered (Kms)</th>\n",
              "      <th>Fouls Committed</th>\n",
              "      <th>Yellow Card</th>\n",
              "      <th>Yellow &amp; Red</th>\n",
              "      <th>Red</th>\n",
              "      <th>Man of the Match</th>\n",
              "      <th>1st Goal</th>\n",
              "      <th>Round</th>\n",
              "      <th>PSO</th>\n",
              "      <th>Goals in PSO</th>\n",
              "      <th>Own goals</th>\n",
              "      <th>Own goal Time</th>\n",
              "    </tr>\n",
              "  </thead>\n",
              "  <tbody>\n",
              "    <tr>\n",
              "      <th>0</th>\n",
              "      <td>14-06-2018</td>\n",
              "      <td>Russia</td>\n",
              "      <td>Saudi Arabia</td>\n",
              "      <td>5</td>\n",
              "      <td>40</td>\n",
              "      <td>13</td>\n",
              "      <td>7</td>\n",
              "      <td>3</td>\n",
              "      <td>3</td>\n",
              "      <td>6</td>\n",
              "      <td>3</td>\n",
              "      <td>11</td>\n",
              "      <td>0</td>\n",
              "      <td>78</td>\n",
              "      <td>306</td>\n",
              "      <td>118</td>\n",
              "      <td>22</td>\n",
              "      <td>0</td>\n",
              "      <td>0</td>\n",
              "      <td>0</td>\n",
              "      <td>Yes</td>\n",
              "      <td>12.0</td>\n",
              "      <td>Group Stage</td>\n",
              "      <td>No</td>\n",
              "      <td>0</td>\n",
              "      <td>NaN</td>\n",
              "      <td>NaN</td>\n",
              "    </tr>\n",
              "    <tr>\n",
              "      <th>1</th>\n",
              "      <td>14-06-2018</td>\n",
              "      <td>Saudi Arabia</td>\n",
              "      <td>Russia</td>\n",
              "      <td>0</td>\n",
              "      <td>60</td>\n",
              "      <td>6</td>\n",
              "      <td>0</td>\n",
              "      <td>3</td>\n",
              "      <td>3</td>\n",
              "      <td>2</td>\n",
              "      <td>1</td>\n",
              "      <td>25</td>\n",
              "      <td>2</td>\n",
              "      <td>86</td>\n",
              "      <td>511</td>\n",
              "      <td>105</td>\n",
              "      <td>10</td>\n",
              "      <td>0</td>\n",
              "      <td>0</td>\n",
              "      <td>0</td>\n",
              "      <td>No</td>\n",
              "      <td>NaN</td>\n",
              "      <td>Group Stage</td>\n",
              "      <td>No</td>\n",
              "      <td>0</td>\n",
              "      <td>NaN</td>\n",
              "      <td>NaN</td>\n",
              "    </tr>\n",
              "    <tr>\n",
              "      <th>2</th>\n",
              "      <td>15-06-2018</td>\n",
              "      <td>Egypt</td>\n",
              "      <td>Uruguay</td>\n",
              "      <td>0</td>\n",
              "      <td>43</td>\n",
              "      <td>8</td>\n",
              "      <td>3</td>\n",
              "      <td>3</td>\n",
              "      <td>2</td>\n",
              "      <td>0</td>\n",
              "      <td>1</td>\n",
              "      <td>7</td>\n",
              "      <td>3</td>\n",
              "      <td>78</td>\n",
              "      <td>395</td>\n",
              "      <td>112</td>\n",
              "      <td>12</td>\n",
              "      <td>2</td>\n",
              "      <td>0</td>\n",
              "      <td>0</td>\n",
              "      <td>No</td>\n",
              "      <td>NaN</td>\n",
              "      <td>Group Stage</td>\n",
              "      <td>No</td>\n",
              "      <td>0</td>\n",
              "      <td>NaN</td>\n",
              "      <td>NaN</td>\n",
              "    </tr>\n",
              "    <tr>\n",
              "      <th>3</th>\n",
              "      <td>15-06-2018</td>\n",
              "      <td>Uruguay</td>\n",
              "      <td>Egypt</td>\n",
              "      <td>1</td>\n",
              "      <td>57</td>\n",
              "      <td>14</td>\n",
              "      <td>4</td>\n",
              "      <td>6</td>\n",
              "      <td>4</td>\n",
              "      <td>5</td>\n",
              "      <td>1</td>\n",
              "      <td>13</td>\n",
              "      <td>3</td>\n",
              "      <td>86</td>\n",
              "      <td>589</td>\n",
              "      <td>111</td>\n",
              "      <td>6</td>\n",
              "      <td>0</td>\n",
              "      <td>0</td>\n",
              "      <td>0</td>\n",
              "      <td>Yes</td>\n",
              "      <td>89.0</td>\n",
              "      <td>Group Stage</td>\n",
              "      <td>No</td>\n",
              "      <td>0</td>\n",
              "      <td>NaN</td>\n",
              "      <td>NaN</td>\n",
              "    </tr>\n",
              "    <tr>\n",
              "      <th>4</th>\n",
              "      <td>15-06-2018</td>\n",
              "      <td>Morocco</td>\n",
              "      <td>Iran</td>\n",
              "      <td>0</td>\n",
              "      <td>64</td>\n",
              "      <td>13</td>\n",
              "      <td>3</td>\n",
              "      <td>6</td>\n",
              "      <td>4</td>\n",
              "      <td>5</td>\n",
              "      <td>0</td>\n",
              "      <td>14</td>\n",
              "      <td>2</td>\n",
              "      <td>86</td>\n",
              "      <td>433</td>\n",
              "      <td>101</td>\n",
              "      <td>22</td>\n",
              "      <td>1</td>\n",
              "      <td>0</td>\n",
              "      <td>0</td>\n",
              "      <td>No</td>\n",
              "      <td>NaN</td>\n",
              "      <td>Group Stage</td>\n",
              "      <td>No</td>\n",
              "      <td>0</td>\n",
              "      <td>1.0</td>\n",
              "      <td>90.0</td>\n",
              "    </tr>\n",
              "    <tr>\n",
              "      <th>...</th>\n",
              "      <td>...</td>\n",
              "      <td>...</td>\n",
              "      <td>...</td>\n",
              "      <td>...</td>\n",
              "      <td>...</td>\n",
              "      <td>...</td>\n",
              "      <td>...</td>\n",
              "      <td>...</td>\n",
              "      <td>...</td>\n",
              "      <td>...</td>\n",
              "      <td>...</td>\n",
              "      <td>...</td>\n",
              "      <td>...</td>\n",
              "      <td>...</td>\n",
              "      <td>...</td>\n",
              "      <td>...</td>\n",
              "      <td>...</td>\n",
              "      <td>...</td>\n",
              "      <td>...</td>\n",
              "      <td>...</td>\n",
              "      <td>...</td>\n",
              "      <td>...</td>\n",
              "      <td>...</td>\n",
              "      <td>...</td>\n",
              "      <td>...</td>\n",
              "      <td>...</td>\n",
              "      <td>...</td>\n",
              "    </tr>\n",
              "    <tr>\n",
              "      <th>123</th>\n",
              "      <td>11-07-2018</td>\n",
              "      <td>England</td>\n",
              "      <td>Croatia</td>\n",
              "      <td>1</td>\n",
              "      <td>46</td>\n",
              "      <td>11</td>\n",
              "      <td>1</td>\n",
              "      <td>6</td>\n",
              "      <td>4</td>\n",
              "      <td>4</td>\n",
              "      <td>3</td>\n",
              "      <td>24</td>\n",
              "      <td>5</td>\n",
              "      <td>79</td>\n",
              "      <td>479</td>\n",
              "      <td>148</td>\n",
              "      <td>14</td>\n",
              "      <td>1</td>\n",
              "      <td>0</td>\n",
              "      <td>0</td>\n",
              "      <td>No</td>\n",
              "      <td>5.0</td>\n",
              "      <td>Semi- Finals</td>\n",
              "      <td>No</td>\n",
              "      <td>0</td>\n",
              "      <td>NaN</td>\n",
              "      <td>NaN</td>\n",
              "    </tr>\n",
              "    <tr>\n",
              "      <th>124</th>\n",
              "      <td>14-07-2018</td>\n",
              "      <td>Belgium</td>\n",
              "      <td>England</td>\n",
              "      <td>2</td>\n",
              "      <td>43</td>\n",
              "      <td>12</td>\n",
              "      <td>4</td>\n",
              "      <td>3</td>\n",
              "      <td>5</td>\n",
              "      <td>4</td>\n",
              "      <td>1</td>\n",
              "      <td>5</td>\n",
              "      <td>5</td>\n",
              "      <td>88</td>\n",
              "      <td>510</td>\n",
              "      <td>108</td>\n",
              "      <td>11</td>\n",
              "      <td>1</td>\n",
              "      <td>0</td>\n",
              "      <td>0</td>\n",
              "      <td>Yes</td>\n",
              "      <td>4.0</td>\n",
              "      <td>3rd Place</td>\n",
              "      <td>No</td>\n",
              "      <td>0</td>\n",
              "      <td>NaN</td>\n",
              "      <td>NaN</td>\n",
              "    </tr>\n",
              "    <tr>\n",
              "      <th>125</th>\n",
              "      <td>14-07-2018</td>\n",
              "      <td>England</td>\n",
              "      <td>Belgium</td>\n",
              "      <td>0</td>\n",
              "      <td>57</td>\n",
              "      <td>15</td>\n",
              "      <td>5</td>\n",
              "      <td>7</td>\n",
              "      <td>3</td>\n",
              "      <td>5</td>\n",
              "      <td>0</td>\n",
              "      <td>12</td>\n",
              "      <td>2</td>\n",
              "      <td>92</td>\n",
              "      <td>698</td>\n",
              "      <td>110</td>\n",
              "      <td>5</td>\n",
              "      <td>2</td>\n",
              "      <td>0</td>\n",
              "      <td>0</td>\n",
              "      <td>No</td>\n",
              "      <td>NaN</td>\n",
              "      <td>3rd Place</td>\n",
              "      <td>No</td>\n",
              "      <td>0</td>\n",
              "      <td>NaN</td>\n",
              "      <td>NaN</td>\n",
              "    </tr>\n",
              "    <tr>\n",
              "      <th>126</th>\n",
              "      <td>15-07-2018</td>\n",
              "      <td>France</td>\n",
              "      <td>Croatia</td>\n",
              "      <td>4</td>\n",
              "      <td>39</td>\n",
              "      <td>8</td>\n",
              "      <td>6</td>\n",
              "      <td>1</td>\n",
              "      <td>1</td>\n",
              "      <td>2</td>\n",
              "      <td>1</td>\n",
              "      <td>14</td>\n",
              "      <td>1</td>\n",
              "      <td>75</td>\n",
              "      <td>271</td>\n",
              "      <td>99</td>\n",
              "      <td>14</td>\n",
              "      <td>2</td>\n",
              "      <td>0</td>\n",
              "      <td>0</td>\n",
              "      <td>Yes</td>\n",
              "      <td>18.0</td>\n",
              "      <td>Final</td>\n",
              "      <td>No</td>\n",
              "      <td>0</td>\n",
              "      <td>1.0</td>\n",
              "      <td>18.0</td>\n",
              "    </tr>\n",
              "    <tr>\n",
              "      <th>127</th>\n",
              "      <td>15-07-2018</td>\n",
              "      <td>Croatia</td>\n",
              "      <td>France</td>\n",
              "      <td>2</td>\n",
              "      <td>61</td>\n",
              "      <td>15</td>\n",
              "      <td>3</td>\n",
              "      <td>8</td>\n",
              "      <td>4</td>\n",
              "      <td>6</td>\n",
              "      <td>1</td>\n",
              "      <td>15</td>\n",
              "      <td>3</td>\n",
              "      <td>83</td>\n",
              "      <td>547</td>\n",
              "      <td>100</td>\n",
              "      <td>13</td>\n",
              "      <td>1</td>\n",
              "      <td>0</td>\n",
              "      <td>0</td>\n",
              "      <td>No</td>\n",
              "      <td>28.0</td>\n",
              "      <td>Final</td>\n",
              "      <td>No</td>\n",
              "      <td>0</td>\n",
              "      <td>NaN</td>\n",
              "      <td>NaN</td>\n",
              "    </tr>\n",
              "  </tbody>\n",
              "</table>\n",
              "<p>128 rows × 27 columns</p>\n",
              "</div>"
            ],
            "text/plain": [
              "           Date          Team  ... Own goals  Own goal Time\n",
              "0    14-06-2018        Russia  ...       NaN            NaN\n",
              "1    14-06-2018  Saudi Arabia  ...       NaN            NaN\n",
              "2    15-06-2018         Egypt  ...       NaN            NaN\n",
              "3    15-06-2018       Uruguay  ...       NaN            NaN\n",
              "4    15-06-2018       Morocco  ...       1.0           90.0\n",
              "..          ...           ...  ...       ...            ...\n",
              "123  11-07-2018       England  ...       NaN            NaN\n",
              "124  14-07-2018       Belgium  ...       NaN            NaN\n",
              "125  14-07-2018       England  ...       NaN            NaN\n",
              "126  15-07-2018        France  ...       1.0           18.0\n",
              "127  15-07-2018       Croatia  ...       NaN            NaN\n",
              "\n",
              "[128 rows x 27 columns]"
            ]
          },
          "metadata": {
            "tags": []
          },
          "execution_count": 28
        }
      ]
    },
    {
      "cell_type": "markdown",
      "metadata": {
        "id": "_iScn7sp3tY7"
      },
      "source": [
        "เลือกข้อมูลมาเฉพาะที่ต้องการคือ Goal - scored ถึง red"
      ]
    },
    {
      "cell_type": "code",
      "metadata": {
        "colab": {
          "base_uri": "https://localhost:8080/"
        },
        "id": "UwadY-vf3qcH",
        "outputId": "cc0b1bc9-4fde-44cf-bb2c-022abcc468fb"
      },
      "source": [
        "exam.shape"
      ],
      "execution_count": 29,
      "outputs": [
        {
          "output_type": "execute_result",
          "data": {
            "text/plain": [
              "(128, 27)"
            ]
          },
          "metadata": {
            "tags": []
          },
          "execution_count": 29
        }
      ]
    },
    {
      "cell_type": "code",
      "metadata": {
        "colab": {
          "base_uri": "https://localhost:8080/",
          "height": 473
        },
        "id": "hAM9Nbn83uuW",
        "outputId": "c14d9515-3a11-4543-fba8-09776b124c03"
      },
      "source": [
        "exam_drop = exam.iloc[:,3:20]\n",
        "exam_drop"
      ],
      "execution_count": 30,
      "outputs": [
        {
          "output_type": "execute_result",
          "data": {
            "text/html": [
              "<div>\n",
              "<style scoped>\n",
              "    .dataframe tbody tr th:only-of-type {\n",
              "        vertical-align: middle;\n",
              "    }\n",
              "\n",
              "    .dataframe tbody tr th {\n",
              "        vertical-align: top;\n",
              "    }\n",
              "\n",
              "    .dataframe thead th {\n",
              "        text-align: right;\n",
              "    }\n",
              "</style>\n",
              "<table border=\"1\" class=\"dataframe\">\n",
              "  <thead>\n",
              "    <tr style=\"text-align: right;\">\n",
              "      <th></th>\n",
              "      <th>Goal Scored</th>\n",
              "      <th>Ball Possession %</th>\n",
              "      <th>Attempts</th>\n",
              "      <th>On-Target</th>\n",
              "      <th>Off-Target</th>\n",
              "      <th>Blocked</th>\n",
              "      <th>Corners</th>\n",
              "      <th>Offsides</th>\n",
              "      <th>Free Kicks</th>\n",
              "      <th>Saves</th>\n",
              "      <th>Pass Accuracy %</th>\n",
              "      <th>Passes</th>\n",
              "      <th>Distance Covered (Kms)</th>\n",
              "      <th>Fouls Committed</th>\n",
              "      <th>Yellow Card</th>\n",
              "      <th>Yellow &amp; Red</th>\n",
              "      <th>Red</th>\n",
              "    </tr>\n",
              "  </thead>\n",
              "  <tbody>\n",
              "    <tr>\n",
              "      <th>0</th>\n",
              "      <td>5</td>\n",
              "      <td>40</td>\n",
              "      <td>13</td>\n",
              "      <td>7</td>\n",
              "      <td>3</td>\n",
              "      <td>3</td>\n",
              "      <td>6</td>\n",
              "      <td>3</td>\n",
              "      <td>11</td>\n",
              "      <td>0</td>\n",
              "      <td>78</td>\n",
              "      <td>306</td>\n",
              "      <td>118</td>\n",
              "      <td>22</td>\n",
              "      <td>0</td>\n",
              "      <td>0</td>\n",
              "      <td>0</td>\n",
              "    </tr>\n",
              "    <tr>\n",
              "      <th>1</th>\n",
              "      <td>0</td>\n",
              "      <td>60</td>\n",
              "      <td>6</td>\n",
              "      <td>0</td>\n",
              "      <td>3</td>\n",
              "      <td>3</td>\n",
              "      <td>2</td>\n",
              "      <td>1</td>\n",
              "      <td>25</td>\n",
              "      <td>2</td>\n",
              "      <td>86</td>\n",
              "      <td>511</td>\n",
              "      <td>105</td>\n",
              "      <td>10</td>\n",
              "      <td>0</td>\n",
              "      <td>0</td>\n",
              "      <td>0</td>\n",
              "    </tr>\n",
              "    <tr>\n",
              "      <th>2</th>\n",
              "      <td>0</td>\n",
              "      <td>43</td>\n",
              "      <td>8</td>\n",
              "      <td>3</td>\n",
              "      <td>3</td>\n",
              "      <td>2</td>\n",
              "      <td>0</td>\n",
              "      <td>1</td>\n",
              "      <td>7</td>\n",
              "      <td>3</td>\n",
              "      <td>78</td>\n",
              "      <td>395</td>\n",
              "      <td>112</td>\n",
              "      <td>12</td>\n",
              "      <td>2</td>\n",
              "      <td>0</td>\n",
              "      <td>0</td>\n",
              "    </tr>\n",
              "    <tr>\n",
              "      <th>3</th>\n",
              "      <td>1</td>\n",
              "      <td>57</td>\n",
              "      <td>14</td>\n",
              "      <td>4</td>\n",
              "      <td>6</td>\n",
              "      <td>4</td>\n",
              "      <td>5</td>\n",
              "      <td>1</td>\n",
              "      <td>13</td>\n",
              "      <td>3</td>\n",
              "      <td>86</td>\n",
              "      <td>589</td>\n",
              "      <td>111</td>\n",
              "      <td>6</td>\n",
              "      <td>0</td>\n",
              "      <td>0</td>\n",
              "      <td>0</td>\n",
              "    </tr>\n",
              "    <tr>\n",
              "      <th>4</th>\n",
              "      <td>0</td>\n",
              "      <td>64</td>\n",
              "      <td>13</td>\n",
              "      <td>3</td>\n",
              "      <td>6</td>\n",
              "      <td>4</td>\n",
              "      <td>5</td>\n",
              "      <td>0</td>\n",
              "      <td>14</td>\n",
              "      <td>2</td>\n",
              "      <td>86</td>\n",
              "      <td>433</td>\n",
              "      <td>101</td>\n",
              "      <td>22</td>\n",
              "      <td>1</td>\n",
              "      <td>0</td>\n",
              "      <td>0</td>\n",
              "    </tr>\n",
              "    <tr>\n",
              "      <th>...</th>\n",
              "      <td>...</td>\n",
              "      <td>...</td>\n",
              "      <td>...</td>\n",
              "      <td>...</td>\n",
              "      <td>...</td>\n",
              "      <td>...</td>\n",
              "      <td>...</td>\n",
              "      <td>...</td>\n",
              "      <td>...</td>\n",
              "      <td>...</td>\n",
              "      <td>...</td>\n",
              "      <td>...</td>\n",
              "      <td>...</td>\n",
              "      <td>...</td>\n",
              "      <td>...</td>\n",
              "      <td>...</td>\n",
              "      <td>...</td>\n",
              "    </tr>\n",
              "    <tr>\n",
              "      <th>123</th>\n",
              "      <td>1</td>\n",
              "      <td>46</td>\n",
              "      <td>11</td>\n",
              "      <td>1</td>\n",
              "      <td>6</td>\n",
              "      <td>4</td>\n",
              "      <td>4</td>\n",
              "      <td>3</td>\n",
              "      <td>24</td>\n",
              "      <td>5</td>\n",
              "      <td>79</td>\n",
              "      <td>479</td>\n",
              "      <td>148</td>\n",
              "      <td>14</td>\n",
              "      <td>1</td>\n",
              "      <td>0</td>\n",
              "      <td>0</td>\n",
              "    </tr>\n",
              "    <tr>\n",
              "      <th>124</th>\n",
              "      <td>2</td>\n",
              "      <td>43</td>\n",
              "      <td>12</td>\n",
              "      <td>4</td>\n",
              "      <td>3</td>\n",
              "      <td>5</td>\n",
              "      <td>4</td>\n",
              "      <td>1</td>\n",
              "      <td>5</td>\n",
              "      <td>5</td>\n",
              "      <td>88</td>\n",
              "      <td>510</td>\n",
              "      <td>108</td>\n",
              "      <td>11</td>\n",
              "      <td>1</td>\n",
              "      <td>0</td>\n",
              "      <td>0</td>\n",
              "    </tr>\n",
              "    <tr>\n",
              "      <th>125</th>\n",
              "      <td>0</td>\n",
              "      <td>57</td>\n",
              "      <td>15</td>\n",
              "      <td>5</td>\n",
              "      <td>7</td>\n",
              "      <td>3</td>\n",
              "      <td>5</td>\n",
              "      <td>0</td>\n",
              "      <td>12</td>\n",
              "      <td>2</td>\n",
              "      <td>92</td>\n",
              "      <td>698</td>\n",
              "      <td>110</td>\n",
              "      <td>5</td>\n",
              "      <td>2</td>\n",
              "      <td>0</td>\n",
              "      <td>0</td>\n",
              "    </tr>\n",
              "    <tr>\n",
              "      <th>126</th>\n",
              "      <td>4</td>\n",
              "      <td>39</td>\n",
              "      <td>8</td>\n",
              "      <td>6</td>\n",
              "      <td>1</td>\n",
              "      <td>1</td>\n",
              "      <td>2</td>\n",
              "      <td>1</td>\n",
              "      <td>14</td>\n",
              "      <td>1</td>\n",
              "      <td>75</td>\n",
              "      <td>271</td>\n",
              "      <td>99</td>\n",
              "      <td>14</td>\n",
              "      <td>2</td>\n",
              "      <td>0</td>\n",
              "      <td>0</td>\n",
              "    </tr>\n",
              "    <tr>\n",
              "      <th>127</th>\n",
              "      <td>2</td>\n",
              "      <td>61</td>\n",
              "      <td>15</td>\n",
              "      <td>3</td>\n",
              "      <td>8</td>\n",
              "      <td>4</td>\n",
              "      <td>6</td>\n",
              "      <td>1</td>\n",
              "      <td>15</td>\n",
              "      <td>3</td>\n",
              "      <td>83</td>\n",
              "      <td>547</td>\n",
              "      <td>100</td>\n",
              "      <td>13</td>\n",
              "      <td>1</td>\n",
              "      <td>0</td>\n",
              "      <td>0</td>\n",
              "    </tr>\n",
              "  </tbody>\n",
              "</table>\n",
              "<p>128 rows × 17 columns</p>\n",
              "</div>"
            ],
            "text/plain": [
              "     Goal Scored  Ball Possession %  Attempts  ...  Yellow Card  Yellow & Red  Red\n",
              "0              5                 40        13  ...            0             0    0\n",
              "1              0                 60         6  ...            0             0    0\n",
              "2              0                 43         8  ...            2             0    0\n",
              "3              1                 57        14  ...            0             0    0\n",
              "4              0                 64        13  ...            1             0    0\n",
              "..           ...                ...       ...  ...          ...           ...  ...\n",
              "123            1                 46        11  ...            1             0    0\n",
              "124            2                 43        12  ...            1             0    0\n",
              "125            0                 57        15  ...            2             0    0\n",
              "126            4                 39         8  ...            2             0    0\n",
              "127            2                 61        15  ...            1             0    0\n",
              "\n",
              "[128 rows x 17 columns]"
            ]
          },
          "metadata": {
            "tags": []
          },
          "execution_count": 30
        }
      ]
    },
    {
      "cell_type": "code",
      "metadata": {
        "colab": {
          "base_uri": "https://localhost:8080/"
        },
        "id": "fqhf0vYt3vtO",
        "outputId": "28ba31cd-7b1e-4837-8c54-6fc99fedf6d5"
      },
      "source": [
        "exam_drop.shape"
      ],
      "execution_count": 32,
      "outputs": [
        {
          "output_type": "execute_result",
          "data": {
            "text/plain": [
              "(128, 17)"
            ]
          },
          "metadata": {
            "tags": []
          },
          "execution_count": 32
        }
      ]
    },
    {
      "cell_type": "markdown",
      "metadata": {
        "id": "Wfp7eaDP3y0U"
      },
      "source": [
        "ทำการใช้ Bartlett’s test\n",
        "ถ้าค่า p value เข้าใกล้ 0 ถึงว่าดี"
      ]
    },
    {
      "cell_type": "code",
      "metadata": {
        "colab": {
          "base_uri": "https://localhost:8080/"
        },
        "id": "wA-Joxjl3xm3",
        "outputId": "8946837b-1810-46e4-c3c9-125058dacc1b"
      },
      "source": [
        "from factor_analyzer.factor_analyzer import calculate_bartlett_sphericity\n",
        "\n",
        "chi_square_value,p_value = calculate_bartlett_sphericity(exam_drop)\n",
        "\n",
        "chi_square_value, p_value"
      ],
      "execution_count": 33,
      "outputs": [
        {
          "output_type": "execute_result",
          "data": {
            "text/plain": [
              "(1299.3697851171412, 2.713580160466225e-189)"
            ]
          },
          "metadata": {
            "tags": []
          },
          "execution_count": 33
        }
      ]
    },
    {
      "cell_type": "markdown",
      "metadata": {
        "id": "-UuPkhtH36Ck"
      },
      "source": [
        "\n",
        "แปลผลจาก output ได้ว่า\n",
        "\n",
        "ค่า P-value มีค่า 2.71 x 10^-189 ซึ่งมีค่าเข้าใกล้ 0 มาก\n",
        "\n",
        "ทำการใช้ Kaiser-Meyer-Olkin (KMO) Test\n",
        "\n",
        "ถ้าค่า KMO model มีค่ามากกว่า 0.6 แปลว่าข้อมูลเหมาะสมที่นำไปทำ Factor Analysis"
      ]
    },
    {
      "cell_type": "code",
      "metadata": {
        "colab": {
          "base_uri": "https://localhost:8080/"
        },
        "id": "c0Wh9iHB35A-",
        "outputId": "71d76e9f-0681-4ecc-f136-10a5e6a92dac"
      },
      "source": [
        "from factor_analyzer.factor_analyzer import calculate_kmo\n",
        "\n",
        "kmo_all,kmo_model=calculate_kmo(exam_drop)\n",
        "\n",
        "kmo_model"
      ],
      "execution_count": 34,
      "outputs": [
        {
          "output_type": "execute_result",
          "data": {
            "text/plain": [
              "0.5594556344508279"
            ]
          },
          "metadata": {
            "tags": []
          },
          "execution_count": 34
        }
      ]
    },
    {
      "cell_type": "markdown",
      "metadata": {
        "id": "kWv8mHB54F5N"
      },
      "source": [
        "ผลจาก Output ได้ว่า\n",
        "\n",
        "ค่า KMO จาก model มีค่าประมาณ 0.56 หรือประมาณได้ 0.6 แปลว่าเหมาะสมที่นำไปทำ Factor Analysis"
      ]
    },
    {
      "cell_type": "markdown",
      "metadata": {
        "id": "hTjGOXYY4HUj"
      },
      "source": [
        "**ทำการ Factor Analysis**"
      ]
    },
    {
      "cell_type": "code",
      "metadata": {
        "id": "PdYTjiDh4D7m"
      },
      "source": [
        "from factor_analyzer import FactorAnalyzer # IMPORT"
      ],
      "execution_count": 37,
      "outputs": []
    },
    {
      "cell_type": "code",
      "metadata": {
        "id": "Xy0Pqh3V4KBm"
      },
      "source": [
        "ex_fa = FactorAnalyzer(n_factors=10) ## DEFINE"
      ],
      "execution_count": 38,
      "outputs": []
    },
    {
      "cell_type": "code",
      "metadata": {
        "id": "bttCACSV4LE2"
      },
      "source": [
        "data_ex_fa = ex_fa.fit_transform(exam_drop) # Fit-transform"
      ],
      "execution_count": 39,
      "outputs": []
    },
    {
      "cell_type": "code",
      "metadata": {
        "colab": {
          "base_uri": "https://localhost:8080/"
        },
        "id": "qDaqp0Mb4RRe",
        "outputId": "e9c53bf0-fb0a-47bd-c308-82b62b6ca42b"
      },
      "source": [
        "data_ex_fa.shape # ตรวจสอบ ขนาดข้อมูล"
      ],
      "execution_count": 40,
      "outputs": [
        {
          "output_type": "execute_result",
          "data": {
            "text/plain": [
              "(128, 10)"
            ]
          },
          "metadata": {
            "tags": []
          },
          "execution_count": 40
        }
      ]
    },
    {
      "cell_type": "markdown",
      "metadata": {
        "id": "9Ga-Eg7s4Vm6"
      },
      "source": [
        "**ตัดสินว่าเราจะลดเหลือกี่ dimension โดยการใช้ eigen values**"
      ]
    },
    {
      "cell_type": "code",
      "metadata": {
        "colab": {
          "base_uri": "https://localhost:8080/"
        },
        "id": "BMGeJ9Ex4UO2",
        "outputId": "4c697671-f14d-4bd8-f9aa-ec1356332e99"
      },
      "source": [
        "ev,v = ex_fa.get_eigenvalues()\n",
        "ev"
      ],
      "execution_count": 41,
      "outputs": [
        {
          "output_type": "execute_result",
          "data": {
            "text/plain": [
              "array([4.93533676, 1.66110682, 1.45898601, 1.31857945, 1.27991548,\n",
              "       1.1607222 , 0.89822418, 0.80740568, 0.78874612, 0.65948826,\n",
              "       0.56563441, 0.48116939, 0.38549929, 0.29659929, 0.22859409,\n",
              "       0.06848785, 0.00550471])"
            ]
          },
          "metadata": {
            "tags": []
          },
          "execution_count": 41
        }
      ]
    },
    {
      "cell_type": "markdown",
      "metadata": {
        "id": "_Ib8qg5w4dIk"
      },
      "source": [
        "**ทำการ scree plot**"
      ]
    },
    {
      "cell_type": "code",
      "metadata": {
        "colab": {
          "base_uri": "https://localhost:8080/",
          "height": 644
        },
        "id": "69KIAk0X4b4Y",
        "outputId": "39791233-850e-4f84-c593-c0388d579417"
      },
      "source": [
        "plt.plot(range(1,exam_drop.shape[1]+1),ev,'bo-')\n",
        "plt.plot([0,exam_drop.shape[1]+1],[1,1],'r--')\n",
        "plt.title('Scree Plot Fifa with 17 factors')\n",
        "plt.xlabel('Factors')\n",
        "plt.ylabel('Eigenvalue')\n",
        "plt.grid()\n",
        "plt.show()"
      ],
      "execution_count": 42,
      "outputs": [
        {
          "output_type": "display_data",
          "data": {
            "image/png": "[encoded data removed]",
            "text/plain": [
              "<Figure size 1080x1080 with 1 Axes>"
            ]
          },
          "metadata": {
            "tags": [],
            "needs_background": "light"
          }
        }
      ]
    },
    {
      "cell_type": "markdown",
      "metadata": {
        "id": "_NJKNUoU4ip5"
      },
      "source": [
        "**จากข้อมูลจะเห็นได้ว่าจาก 17 factor มีตัวที่มีค่า factor มากกว่า 1 อยู่ 6 ตัว**"
      ]
    },
    {
      "cell_type": "code",
      "metadata": {
        "colab": {
          "base_uri": "https://localhost:8080/"
        },
        "id": "OzbLV_ke4g-u",
        "outputId": "0406b632-5514-43a3-f5e4-0e3da5401e7c"
      },
      "source": [
        "data_ex_fa[:,:6]"
      ],
      "execution_count": 43,
      "outputs": [
        {
          "output_type": "execute_result",
          "data": {
            "text/plain": [
              "array([[-1.14061137e+00,  1.05033795e+00,  2.79854567e+00,\n",
              "         3.57574560e-01, -5.95152711e-02, -7.48334076e-02],\n",
              "       [ 5.33831171e-01, -1.78150280e-01, -1.10088651e+00,\n",
              "         1.81432000e-02, -8.36944321e-01, -7.31531607e-01],\n",
              "       [-7.29379706e-01,  3.96402498e-01, -7.02153492e-01,\n",
              "        -2.77221903e-01,  1.34345254e-01, -5.61356514e-01],\n",
              "       [ 7.08580342e-01,  3.36178613e-01, -3.31529441e-01,\n",
              "        -2.60518967e-01, -1.38667315e+00,  1.34916077e-01],\n",
              "       [ 3.25530467e-01, -3.71841487e-01, -4.14431700e-01,\n",
              "         3.27492853e-01,  2.50366459e-01,  2.57255932e-01],\n",
              "       [-1.34130209e+00, -5.34562069e-01,  2.52429472e-01,\n",
              "        -5.22235915e-01,  1.05852627e+00, -1.07428697e+00],\n",
              "       [-5.46867894e-01, -4.92844282e-01,  9.46711298e-01,\n",
              "        -3.59877314e-01, -1.85391071e-01, -3.25465436e-01],\n",
              "       [ 1.67488741e+00, -4.32704892e-01,  7.61605381e-01,\n",
              "        -3.70473849e-01, -8.35201718e-01, -5.88310671e-01],\n",
              "       [ 2.62530209e-01, -3.24159295e-01,  6.58987216e-01,\n",
              "        -8.77493871e-02, -1.29974193e-01, -2.53944852e-01],\n",
              "       [-4.24340037e-01,  2.94944349e-01,  4.29409238e-02,\n",
              "        -1.64381947e-02,  1.25250458e+00, -1.11481292e+00],\n",
              "       [ 1.95876399e+00, -4.46975965e-01, -3.61523432e-01,\n",
              "         3.78163388e-02, -1.35874423e+00,  2.54926969e+00],\n",
              "       [-2.08882967e+00, -1.88315017e-02, -9.70957261e-02,\n",
              "        -2.16254041e-01, -6.44227818e-01, -7.44602446e-01],\n",
              "       [-1.13023467e-01, -1.86239106e-01, -2.97895618e-01,\n",
              "        -2.22964741e-01, -5.62470690e-01,  4.57419585e-01],\n",
              "       [-5.79705484e-01,  2.67017734e-01,  1.84093790e-01,\n",
              "         2.16481968e-01,  5.45634263e-01, -4.35644718e-01],\n",
              "       [ 1.91713667e-01, -1.68566869e-01,  2.97003398e-01,\n",
              "         7.05696188e-02,  5.23795988e-01, -5.16332969e-01],\n",
              "       [-2.72239288e-01, -4.89047675e-01, -9.80538749e-01,\n",
              "        -3.10055851e-02, -2.27316336e-02,  1.01966276e+00],\n",
              "       [-1.23346248e-01, -3.64285360e-02, -6.51761097e-01,\n",
              "         1.85936300e-01,  5.65122914e-01,  6.06494933e-02],\n",
              "       [-2.97922468e-01,  1.96200209e-01,  3.88046147e-02,\n",
              "         4.47998161e-03,  3.60714543e-01, -6.48805858e-01],\n",
              "       [ 9.39499385e-01,  2.95628629e-01, -2.39799127e-01,\n",
              "        -1.51633941e-01, -3.37278747e-01,  1.55986629e+00],\n",
              "       [-1.12457695e+00, -3.95892986e-02,  4.07359193e-01,\n",
              "        -4.24913701e-01,  2.84232064e-01, -3.72874610e-01],\n",
              "       [ 5.11996719e-01, -2.72746579e-01, -3.87642085e-01,\n",
              "        -3.10369709e-01, -5.43121239e-01,  1.26838979e+00],\n",
              "       [-2.42001288e-01,  7.95623673e-02, -3.26243458e-02,\n",
              "        -1.49980559e-01,  1.03658919e+00, -1.27621926e+00],\n",
              "       [ 3.09253969e-03, -3.45964922e-01, -6.97980197e-02,\n",
              "         2.32866611e-01,  1.89502372e-01,  7.59341359e-01],\n",
              "       [-5.31938248e-01, -3.40097273e-01, -9.32193283e-01,\n",
              "         4.35478826e-01,  1.00694242e+00, -4.14036551e-01],\n",
              "       [ 9.12307220e-01, -3.62280886e-01,  1.26221663e+00,\n",
              "         8.98399815e-02,  7.65873647e-01, -3.66204217e-01],\n",
              "       [-7.74051832e-01, -6.63482792e-01, -6.54190082e-01,\n",
              "        -2.59606852e-01,  1.99538017e+00, -1.29695998e+00],\n",
              "       [-8.42058865e-01, -3.54054671e-01, -2.02329205e-01,\n",
              "        -2.30382892e-01, -6.26005287e-01, -6.77676309e-01],\n",
              "       [ 6.12123138e-01, -1.09371483e-01,  9.07193812e-01,\n",
              "        -2.16378691e-01, -6.92670363e-01, -8.06428204e-02],\n",
              "       [-5.56953139e-01, -1.25871638e+00, -6.44086390e-01,\n",
              "        -3.87320560e-02,  4.59378691e-01,  7.09651980e-01],\n",
              "       [ 8.61050269e-01, -4.97631493e-01,  4.62562434e-01,\n",
              "        -1.38999280e-01, -7.04281466e-01, -1.57426034e-01],\n",
              "       [ 6.26529608e-01,  2.32296184e-01, -1.25986637e-02,\n",
              "        -2.81543275e-01, -7.01189194e-01, -1.09311691e+00],\n",
              "       [-8.03503780e-01,  1.25630962e-02,  3.69402988e-01,\n",
              "        -1.27813348e-01,  4.16918389e-01, -5.80145626e-01],\n",
              "       [-6.40380429e-01,  7.99243147e-01,  6.77333936e-01,\n",
              "         1.29494354e-01, -2.67289507e-01, -1.32356525e-01],\n",
              "       [-1.42818154e-01,  3.95529062e-01, -6.16044825e-01,\n",
              "        -2.21118615e-01, -4.81295325e-01,  1.54688879e-01],\n",
              "       [-4.67509318e-01, -1.05180767e-01, -3.99644730e-01,\n",
              "         3.17623410e-01,  1.30423140e-01, -2.73318455e-02],\n",
              "       [ 1.75653737e-02,  2.17735238e-01, -5.48974966e-01,\n",
              "         2.06757096e-01,  2.09977718e-02, -3.48556675e-01],\n",
              "       [ 3.15334813e-01, -5.23719722e-01, -1.52798556e-01,\n",
              "        -5.94117926e-01, -1.18169362e+00, -2.39310582e-01],\n",
              "       [ 7.39953249e-01, -7.07803705e-01, -9.24387707e-01,\n",
              "        -1.83811695e-01, -1.04862701e+00, -6.02493141e-01],\n",
              "       [-1.79979304e+00, -1.09617819e-03, -1.12941806e+00,\n",
              "        -2.25645701e-01,  3.52977742e-01, -1.36898273e+00],\n",
              "       [ 2.11628106e+00, -2.04181831e-01, -9.72704032e-01,\n",
              "         1.07305207e-01, -1.10551513e+00,  1.44924200e+00],\n",
              "       [-8.35656394e-02,  3.78366851e-01,  3.44536089e-01,\n",
              "        -5.59532265e-01, -2.58114607e-01, -1.06890930e+00],\n",
              "       [ 1.67554445e-01,  5.65854288e-01, -5.73410801e-02,\n",
              "        -3.29440672e-01, -1.37895603e+00,  2.71911174e-01],\n",
              "       [-4.31196011e-01, -2.63922738e-01, -3.31075560e-01,\n",
              "        -2.31018064e-01, -1.52384039e-02, -4.65153850e-01],\n",
              "       [ 4.26784251e-01, -3.95917274e-01, -1.07862229e+00,\n",
              "        -1.26605892e-01,  6.85655665e-02, -4.84575965e-01],\n",
              "       [ 5.24250313e-01, -5.59806839e-01, -1.05679538e+00,\n",
              "         3.20892875e-01,  7.71395466e-01, -8.51484399e-02],\n",
              "       [-6.00753883e-01, -1.86765428e-01,  1.13551613e+00,\n",
              "        -1.21896544e-01,  1.68593294e+00,  2.50503912e-01],\n",
              "       [ 1.83318956e+00, -1.57671240e-01,  5.19798791e-01,\n",
              "        -9.42187282e-02, -4.68241300e-01,  8.95443947e-01],\n",
              "       [-1.48697240e+00,  1.71561363e-01, -9.57228698e-01,\n",
              "        -2.77523180e-01, -3.58786384e-01, -1.41819697e+00],\n",
              "       [ 3.65377238e-01, -5.24106434e-01,  6.28968446e-02,\n",
              "        -6.97396846e-02, -6.08868149e-01,  1.00749388e+00],\n",
              "       [-1.09152620e+00,  5.61283999e-02, -6.57002482e-01,\n",
              "        -1.59965319e-01, -9.21816620e-01, -7.77388017e-01],\n",
              "       [-1.09542449e+00,  8.74395108e-01,  9.73556213e-02,\n",
              "        -1.62571719e-01,  1.50739351e+00, -4.42463168e-01],\n",
              "       [ 6.35415106e-01,  4.82706116e-01,  3.50489795e-01,\n",
              "        -1.19064003e-02, -5.10100926e-01,  1.27616924e+00],\n",
              "       [ 1.57581188e-01, -6.04215812e-02,  3.07763687e+00,\n",
              "        -2.75020586e-01, -1.14054663e+00,  1.68321217e-01],\n",
              "       [ 2.23136719e-02, -3.96667961e-01,  4.06988694e-01,\n",
              "        -3.27718473e-01, -5.44295664e-01,  2.11199645e-01],\n",
              "       [-6.17446737e-01, -7.65246076e-01, -5.07258978e-02,\n",
              "         2.27645849e-01,  1.87431164e+00,  2.29785384e+00],\n",
              "       [ 5.93535986e-01, -7.64998678e-01,  6.65610498e-01,\n",
              "        -2.81663239e-01, -1.19858606e+00, -6.45894662e-01],\n",
              "       [ 1.39732611e+00,  6.97261955e-01,  8.39941540e-01,\n",
              "         6.86060236e+00, -1.05958904e+00,  1.52461005e+00],\n",
              "       [-1.72862350e+00,  2.01911704e-01,  5.57043095e-01,\n",
              "        -1.70623257e-01,  4.14087979e-01, -9.37271899e-01],\n",
              "       [ 1.06162060e+00, -7.06922165e-01,  2.95283291e+00,\n",
              "        -3.03852935e-01, -3.70829664e-01, -5.72988807e-01],\n",
              "       [-1.50192669e-01, -1.55123241e+00, -3.44923296e-01,\n",
              "        -7.14113642e-01,  6.39170801e-01, -9.87671984e-01],\n",
              "       [ 7.78857235e-02, -2.23185003e-01,  3.06349978e-01,\n",
              "        -1.16703547e-01, -9.67119074e-03, -7.83437821e-01],\n",
              "       [-5.88555311e-01, -3.66730275e-01,  7.84246515e-01,\n",
              "        -6.05473962e-02,  6.68451875e-01, -2.62500889e-01],\n",
              "       [-3.16410702e-01, -5.78722830e-02, -1.13397372e+00,\n",
              "         1.45245631e-01,  3.52999911e-01,  1.66888315e-01],\n",
              "       [ 3.21732327e-01,  1.52672009e-01,  5.10237481e-01,\n",
              "         3.45947646e-03, -9.73890968e-01,  3.79486718e-01],\n",
              "       [ 4.48830971e-01, -3.88736473e-01,  1.45796168e+00,\n",
              "        -1.28695541e-01, -1.39507239e-01,  2.03202577e-01],\n",
              "       [-8.29502147e-01, -3.85982135e-01, -1.07600737e-01,\n",
              "         6.43474038e+00,  1.20387736e-01, -7.96790085e-01],\n",
              "       [ 1.37378390e+00, -3.98659636e-01,  3.74432422e-01,\n",
              "        -4.53974945e-01, -1.55089855e+00,  6.41033725e-01],\n",
              "       [-7.94831176e-01, -9.14604653e-02, -2.25737999e-01,\n",
              "        -4.41660950e-01,  2.83565339e-01, -8.34691403e-01],\n",
              "       [ 1.97973549e+00, -2.41284495e-01,  2.64567506e-02,\n",
              "        -5.21037743e-01, -1.78701068e+00, -8.49313013e-01],\n",
              "       [-1.45197320e+00,  2.38758388e-01,  7.35442027e-01,\n",
              "        -4.61763467e-01,  2.66063158e+00, -8.19300630e-01],\n",
              "       [-1.58854054e+00, -1.05850495e+00, -5.46549301e-01,\n",
              "        -3.10039539e-01,  3.46240540e-01, -8.27116414e-01],\n",
              "       [ 1.52325858e+00, -1.50843663e+00, -5.98411060e-01,\n",
              "        -2.37270317e-01,  7.43290476e-01, -9.22032969e-02],\n",
              "       [-1.18054959e+00, -1.04729691e-01, -1.18777824e+00,\n",
              "         2.86327819e-03, -3.48156640e-01, -6.33798413e-01],\n",
              "       [ 1.22384029e+00, -2.48435272e-01, -7.91731754e-01,\n",
              "        -3.72516111e-01, -1.34427743e+00, -9.21404229e-01],\n",
              "       [ 6.55975463e-01, -2.59964073e-01, -1.33412295e+00,\n",
              "        -1.30906659e-01,  9.45657624e-01,  6.27101751e-01],\n",
              "       [-2.06547806e-01, -6.45976725e-01,  2.73298804e-01,\n",
              "        -9.59877395e-02,  2.18025269e-01, -1.42610096e+00],\n",
              "       [-1.36105338e+00, -6.53452759e-01,  8.07283305e-04,\n",
              "        -2.05052100e-01,  6.80096146e-01, -8.58920121e-01],\n",
              "       [ 9.91007861e-01, -5.16227104e-01,  2.96272313e-01,\n",
              "         3.03517478e-01,  7.26596253e-01, -9.94374602e-01],\n",
              "       [-8.20914259e-01, -2.06848426e-01, -2.82781605e-01,\n",
              "        -6.15477586e-02,  3.92704377e-01,  2.30500537e-01],\n",
              "       [ 6.09760014e-01, -4.34871261e-01,  7.10763005e-02,\n",
              "        -2.92338746e-01, -4.97105567e-02, -4.19572253e-02],\n",
              "       [-1.84295447e+00,  9.75226801e-01,  9.27222165e-01,\n",
              "        -2.78279676e-01,  1.42661526e+00, -5.79832108e-01],\n",
              "       [ 1.63878087e+00,  7.69762606e-01, -9.17873969e-01,\n",
              "        -1.98512713e-02, -1.56930966e+00,  2.13780201e+00],\n",
              "       [ 6.85776817e-01, -9.32938161e-01, -1.29760941e+00,\n",
              "         1.72224325e-01,  5.53126239e-01,  1.83784749e+00],\n",
              "       [-1.68383975e+00, -1.66535905e-01,  9.05808023e-01,\n",
              "        -2.47581914e-01,  1.12644221e-01, -7.27421476e-01],\n",
              "       [-3.08543709e-01,  5.16585812e-01, -1.29671803e+00,\n",
              "        -7.82763160e-02,  5.88839989e-01,  1.72782332e-01],\n",
              "       [ 1.11242937e+00, -3.07010044e-01,  2.34024042e-01,\n",
              "         7.62563610e-03, -1.36027514e+00,  1.32278618e-01],\n",
              "       [ 9.75002126e-01, -4.07626361e-01, -9.28046254e-02,\n",
              "        -1.31839534e-01,  2.81834463e-01,  1.80282790e-01],\n",
              "       [-6.87440127e-01, -2.88109821e-01,  7.37388900e-01,\n",
              "        -3.83698312e-01,  6.81586124e-01, -2.63988762e-01],\n",
              "       [ 8.73916854e-01, -2.11435076e+00, -1.31599245e+00,\n",
              "        -3.58315317e-01, -7.45847140e-01, -7.06247597e-02],\n",
              "       [ 2.94990479e-01, -2.30411743e+00, -1.03671950e+00,\n",
              "        -4.35262424e-01, -1.29960964e+00,  2.37816682e-01],\n",
              "       [-9.22049552e-01, -7.66628038e-01, -5.55659268e-01,\n",
              "        -1.54029503e-01, -1.10392865e-01, -1.05099608e+00],\n",
              "       [ 1.39252794e-01, -6.30430511e-01, -1.97550284e-01,\n",
              "         2.50973243e-01, -7.18479537e-02, -1.16636089e+00],\n",
              "       [-1.17286516e+00, -4.13556107e-01,  1.52264136e-01,\n",
              "        -2.51873781e-01,  9.65462616e-01, -9.80541470e-01],\n",
              "       [ 1.17113964e+00, -3.21611722e-02,  7.48063765e-01,\n",
              "         2.99130715e-01,  8.44339992e-01,  2.17814703e-01],\n",
              "       [ 1.58108060e-01,  1.27557942e-01, -1.02709286e+00,\n",
              "        -2.43467615e-01, -9.99956129e-01,  4.26534245e-01],\n",
              "       [ 5.20518322e-01, -1.56196961e-01, -3.66857809e-01,\n",
              "        -2.68845760e-01,  1.56573099e-01,  1.11125424e+00],\n",
              "       [-6.14869856e-01, -7.69192616e-01,  1.75272972e+00,\n",
              "        -4.05733251e-01,  1.22748188e+00, -9.42610391e-01],\n",
              "       [ 8.61613649e-01, -1.03122898e+00,  5.07555979e-01,\n",
              "         1.14571396e-01,  1.82872685e+00, -2.43353253e-02],\n",
              "       [-1.41231457e+00,  3.31067060e-02,  3.03038995e-01,\n",
              "         9.74932562e-02, -6.10893631e-01, -9.97615378e-01],\n",
              "       [ 7.97572544e-01, -9.68142225e-03, -6.24196479e-01,\n",
              "         4.48854891e-01, -4.79246698e-01,  4.63543562e+00],\n",
              "       [ 3.29394397e+00,  2.34396356e+00, -5.63396140e-01,\n",
              "        -1.51773215e-02, -1.44749132e+00,  2.13423978e+00],\n",
              "       [-2.19323128e+00,  3.21978924e+00,  1.94039349e-01,\n",
              "         1.76432344e-01,  7.92413196e-01, -4.81739315e-01],\n",
              "       [ 4.52895857e-01,  2.17162592e+00, -3.73672458e-02,\n",
              "        -1.25553483e-01, -1.47977207e+00,  1.16593762e+00],\n",
              "       [-3.45399940e-01,  2.47674515e+00,  1.73797147e-01,\n",
              "        -1.75257029e-01, -2.31714813e-01, -2.68446882e-01],\n",
              "       [-3.08215719e-02, -1.16509055e+00,  8.32022714e-01,\n",
              "        -3.95475068e-01, -3.84932029e-01,  4.76903439e-01],\n",
              "       [ 2.02566911e-01, -1.65241863e+00, -1.43983134e+00,\n",
              "         9.89727976e-02,  1.35512330e+00,  1.85813498e+00],\n",
              "       [ 9.37403220e-01,  1.86828572e-01,  1.13120531e+00,\n",
              "        -1.79472936e-01, -1.23199543e+00,  1.33673402e+00],\n",
              "       [-1.97096339e-01,  1.16787588e-01,  3.50022339e-01,\n",
              "        -2.27310411e-01, -5.68574386e-01, -1.80014683e-01],\n",
              "       [-1.33269362e+00, -4.51982253e-02, -3.09578259e-01,\n",
              "        -2.55003796e-01, -3.85366969e-01, -1.32288257e-01],\n",
              "       [ 1.06977547e+00, -3.52114526e-01, -1.62581954e+00,\n",
              "         5.28272293e-01,  1.42892540e-01,  2.68850458e+00],\n",
              "       [-3.37723546e-01,  2.48688737e+00,  1.24489405e-01,\n",
              "         8.99632758e-02,  2.67537399e+00, -1.17521617e-01],\n",
              "       [ 5.76243036e-02,  3.08550560e+00, -1.91385431e-01,\n",
              "         1.27657861e-01,  1.80165882e-01,  3.13071356e-01],\n",
              "       [-1.04449446e+00, -1.51366494e-01, -8.65664172e-01,\n",
              "         1.07613223e-01,  3.51218517e-01, -7.52499062e-01],\n",
              "       [ 4.94945157e-01, -5.63588188e-01, -4.11149556e-02,\n",
              "        -1.33691061e-01,  1.19286621e-01, -5.50170600e-01],\n",
              "       [ 8.04067144e-01, -2.45849407e-01,  1.55475749e-01,\n",
              "        -2.87176633e-02,  1.23819193e-02,  2.58501926e+00],\n",
              "       [-5.87274103e-01, -2.15448624e-01,  6.11195481e-01,\n",
              "        -1.25087462e-01,  4.27715211e-01, -5.12536455e-01],\n",
              "       [-7.47844561e-01,  6.88896229e-03, -9.65814618e-01,\n",
              "        -2.02968717e-01, -1.74775984e-03, -9.34478128e-01],\n",
              "       [ 3.64878596e-01,  2.52253435e-01, -3.76627737e-01,\n",
              "         1.24370002e-01, -6.42372730e-01,  7.79646785e-01],\n",
              "       [-1.37603116e+00,  3.58469424e+00,  1.38343384e+00,\n",
              "         7.03147076e-01,  5.50942136e-01, -5.11665066e-01],\n",
              "       [ 1.15940104e+00,  2.75079228e+00,  1.88286547e-01,\n",
              "         2.83401811e-01,  1.17983014e+00,  1.37748637e-01],\n",
              "       [-6.13844647e-01, -3.70102043e-01, -6.77554436e-02,\n",
              "        -7.16807641e-01, -2.43361137e-01,  9.41210533e-01],\n",
              "       [ 1.12358329e+00, -5.38271194e-01, -7.69228672e-01,\n",
              "        -2.02726741e-01,  5.27644428e-01, -6.97091652e-01],\n",
              "       [ 2.58419141e-01,  3.22776919e+00,  1.04033154e+00,\n",
              "         3.27941148e-01,  5.08832897e-01,  4.31039051e-01],\n",
              "       [-6.42288719e-01,  3.47885322e+00, -9.61382551e-04,\n",
              "         2.50659970e-01, -6.03083583e-02, -2.39830165e-01],\n",
              "       [ 4.79581160e-02, -6.02050869e-02,  3.11324684e-01,\n",
              "        -4.38941726e-01, -5.26768869e-01,  6.03338453e-01],\n",
              "       [ 1.30564472e+00,  1.52376854e-01, -7.85831196e-01,\n",
              "        -6.45437778e-01, -6.58990947e-01, -1.05463445e-01],\n",
              "       [-1.14736335e+00, -6.04957682e-01,  1.72370918e+00,\n",
              "        -6.02569299e-02,  4.43664037e-01, -9.10766961e-01],\n",
              "       [ 7.44178734e-01, -4.71574957e-01, -3.29454853e-02,\n",
              "        -3.39511580e-02, -5.25737045e-01,  2.57221672e-01]])"
            ]
          },
          "metadata": {
            "tags": []
          },
          "execution_count": 43
        }
      ]
    },
    {
      "cell_type": "markdown",
      "metadata": {
        "id": "I3vcN2734nBV"
      },
      "source": [
        "**จากนั้นทำการ Run Factor Analyzer อีกรอบ ด้วย paremeters จำนวน factor เท่ากับ 6**"
      ]
    },
    {
      "cell_type": "code",
      "metadata": {
        "id": "EomtGtN64lS-"
      },
      "source": [
        "from factor_analyzer import FactorAnalyzer\n",
        "ex_fa2 = FactorAnalyzer(n_factors=6)\n",
        "data_ex_fa2 = ex_fa2.fit_transform(exam_drop)"
      ],
      "execution_count": 44,
      "outputs": []
    },
    {
      "cell_type": "code",
      "metadata": {
        "colab": {
          "base_uri": "https://localhost:8080/"
        },
        "id": "cugLHKi94p6e",
        "outputId": "3d59328d-dbdf-4d56-ca5b-f76fc6657d32"
      },
      "source": [
        "ex_fa2.loadings_.shape"
      ],
      "execution_count": 45,
      "outputs": [
        {
          "output_type": "execute_result",
          "data": {
            "text/plain": [
              "(17, 6)"
            ]
          },
          "metadata": {
            "tags": []
          },
          "execution_count": 45
        }
      ]
    },
    {
      "cell_type": "markdown",
      "metadata": {
        "id": "VUgJdRWk4tux"
      },
      "source": [
        "ทำการ Plot factor loadings"
      ]
    },
    {
      "cell_type": "code",
      "metadata": {
        "id": "PgCV_Tnq4rFO"
      },
      "source": [
        "from matplotlib import pyplot as plt\n",
        "import numpy as np\n",
        "import matplotlib"
      ],
      "execution_count": 46,
      "outputs": []
    },
    {
      "cell_type": "markdown",
      "metadata": {
        "id": "UDCg3JkJ4yZI"
      },
      "source": [
        "Matrix plot Confirmatory Factors Analysis\n"
      ]
    },
    {
      "cell_type": "code",
      "metadata": {
        "colab": {
          "base_uri": "https://localhost:8080/",
          "height": 880
        },
        "id": "h-vMYClc4wVe",
        "outputId": "f9df873c-73fa-4953-fb1b-d308aec2857b"
      },
      "source": [
        "matplotlib.rcParams['figure.figsize']=[15,15]\n",
        "plt.imshow(np.absolute(ex_fa2.loadings_)) ## Matrix plot"
      ],
      "execution_count": 47,
      "outputs": [
        {
          "output_type": "execute_result",
          "data": {
            "text/plain": [
              "<matplotlib.image.AxesImage at 0x7f8108dc6f90>"
            ]
          },
          "metadata": {
            "tags": []
          },
          "execution_count": 47
        },
        {
          "output_type": "display_data",
          "data": {
            "image/png": "[encoded data removed]",
            "text/plain": [
              "<Figure size 1080x1080 with 1 Axes>"
            ]
          },
          "metadata": {
            "tags": [],
            "needs_background": "light"
          }
        }
      ]
    },
    {
      "cell_type": "markdown",
      "metadata": {
        "id": "xTjRG0Oz45Id"
      },
      "source": [
        "กราฟนี้มีความชัดเจนสีเหลืองอยู่ 4 จุดคือ [1,0] , [5,1] , [3,2] และ [13,3]\n",
        "\n",
        "จากนั้นทำกราฟแท่ง\n",
        "\n",
        "(Exploratory Factors Analysis หรือ การวิเคราะห์องค์ประกอบเชิงสำรวจ)"
      ]
    },
    {
      "cell_type": "code",
      "metadata": {
        "colab": {
          "base_uri": "https://localhost:8080/"
        },
        "id": "ZAm7yeo043JG",
        "outputId": "20bb943e-e7a8-4038-fd5e-72e9ccc45cbb"
      },
      "source": [
        "exam_drop.columns"
      ],
      "execution_count": 48,
      "outputs": [
        {
          "output_type": "execute_result",
          "data": {
            "text/plain": [
              "Index(['Goal Scored', 'Ball Possession %', 'Attempts', 'On-Target',\n",
              "       'Off-Target', 'Blocked', 'Corners', 'Offsides', 'Free Kicks', 'Saves',\n",
              "       'Pass Accuracy %', 'Passes', 'Distance Covered (Kms)',\n",
              "       'Fouls Committed', 'Yellow Card', 'Yellow & Red', 'Red'],\n",
              "      dtype='object')"
            ]
          },
          "metadata": {
            "tags": []
          },
          "execution_count": 48
        }
      ]
    },
    {
      "cell_type": "code",
      "metadata": {
        "colab": {
          "base_uri": "https://localhost:8080/",
          "height": 642
        },
        "id": "ZY4nzaQe47Fu",
        "outputId": "d07145ea-eea8-47b8-e650-cce547a3116e"
      },
      "source": [
        "plt.bar(range(17),np.absolute(ex_fa2.loadings_[:,0]),tick_label=exam_drop.columns)"
      ],
      "execution_count": 49,
      "outputs": [
        {
          "output_type": "execute_result",
          "data": {
            "text/plain": [
              "<BarContainer object of 17 artists>"
            ]
          },
          "metadata": {
            "tags": []
          },
          "execution_count": 49
        },
        {
          "output_type": "display_data",
          "data": {
            "image/png": "[encoded data removed]",
            "text/plain": [
              "<Figure size 1080x1080 with 1 Axes>"
            ]
          },
          "metadata": {
            "tags": [],
            "needs_background": "light"
          }
        }
      ]
    },
    {
      "cell_type": "markdown",
      "metadata": {
        "id": "-AppkTQJ4_JJ"
      },
      "source": [
        "**สรุป**\n",
        "\n",
        "ในข้อมูล Fifa 2018 Statistics นี้\n",
        "\n",
        "มีตัวแปร Factors จำนวน 6 ตัว ที่สามารถอธิบายข้อมูลทั้งหมดได้และสามารถวิเคราะห์องค์ประกอบเชิงสำรวจ (Exporatory Factors Analysis) และ วิเคราะห์องค์ประกอบเชิงยืนยัน (Confirmatory Factors Analysis) ได้"
      ]
    },
    {
      "cell_type": "code",
      "metadata": {
        "id": "4abazT0j48qP"
      },
      "source": [
        ""
      ],
      "execution_count": null,
      "outputs": []
    }
  ]
}