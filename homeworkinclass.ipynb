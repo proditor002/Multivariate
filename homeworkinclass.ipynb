{
  "nbformat": 4,
  "nbformat_minor": 0,
  "metadata": {
    "colab": {
      "name": "homeworkinclass.ipynb",
      "provenance": [],
      "authorship_tag": "ABX9TyOmirVdC0/R7J9ejJuo548e",
      "include_colab_link": true
    },
    "kernelspec": {
      "name": "python3",
      "display_name": "Python 3"
    }
  },
  "cells": [
    {
      "cell_type": "markdown",
      "metadata": {
        "id": "view-in-github",
        "colab_type": "text"
      },
      "source": [
        "<a href=\"https://colab.research.google.com/github/proditor002/Multivariate/blob/main/homeworkinclass.ipynb\" target=\"_parent\"><img src=\"https://colab.research.google.com/assets/colab-badge.svg\" alt=\"Open In Colab\"/></a>"
      ]
    },
    {
      "cell_type": "code",
      "metadata": {
        "id": "_gXMgbSK3t9V"
      },
      "source": [
        "import numpy as np\r\n",
        "\r\n"
      ],
      "execution_count": 7,
      "outputs": []
    },
    {
      "cell_type": "code",
      "metadata": {
        "colab": {
          "base_uri": "https://localhost:8080/"
        },
        "id": "1ho8Y1Tz51uh",
        "outputId": "798b78a2-aaf4-4f8d-d75b-22584bb10ae9"
      },
      "source": [
        "M1 = np.array([[3, 1, 6], [7, 4, 5], [2, -7, 1]])\r\n",
        "print(M1)"
      ],
      "execution_count": 8,
      "outputs": [
        {
          "output_type": "stream",
          "text": [
            "[[ 3  1  6]\n",
            " [ 7  4  5]\n",
            " [ 2 -7  1]]\n"
          ],
          "name": "stdout"
        }
      ]
    },
    {
      "cell_type": "code",
      "metadata": {
        "id": "J74Hm5u46cKe"
      },
      "source": [
        ""
      ],
      "execution_count": null,
      "outputs": []
    }
  ]
}